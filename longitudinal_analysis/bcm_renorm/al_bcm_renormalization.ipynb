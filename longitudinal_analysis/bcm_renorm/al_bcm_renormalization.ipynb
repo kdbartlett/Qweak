{
 "cells": [
  {
   "cell_type": "code",
   "execution_count": 1,
   "metadata": {},
   "outputs": [],
   "source": [
    "import uproot\n",
    "import numpy as np\n",
    "import pandas as pd\n",
    "import matplotlib.pyplot as pp\n",
    "import seaborn as sns\n",
    "from scipy.special import gamma\n",
    "from scipy.integrate import quad"
   ]
  },
  {
   "cell_type": "code",
   "execution_count": 2,
   "metadata": {},
   "outputs": [],
   "source": [
    "%matplotlib inline\n",
    "pp.style.use('seaborn-ticks')"
   ]
  },
  {
   "cell_type": "code",
   "execution_count": 3,
   "metadata": {},
   "outputs": [],
   "source": [
    "tfile = uproot.open('/home/kbartlett/Documents/Qweak/al_measured_asymmetry/dbrootfiles/aluminum_run2/DS-4%-Aluminum_offoff_tree.root')"
   ]
  },
  {
   "cell_type": "code",
   "execution_count": 4,
   "metadata": {},
   "outputs": [],
   "source": [
    "ttree = tfile.get('tree')"
   ]
  },
  {
   "cell_type": "code",
   "execution_count": 5,
   "metadata": {},
   "outputs": [],
   "source": [
    "run_data = ttree.array('run_number')\n",
    "slug_data = ttree.array('slug')\n",
    "wien_data = ttree.array('wien_slug')\n",
    "sc_data = ttree.array('sign_correction')\n",
    "quality_id_data = ttree.array('runlet_quality_id')\n",
    "mdall_data = ttree.array('asym_mdallpmtavg')\n",
    "bcm5_data = ttree.array('asym_qwk_bcm5')\n",
    "bcm6_data = ttree.array('asym_qwk_bcm6')\n",
    "bcm7_data = ttree.array('asym_qwk_bcm7')\n",
    "bcm8_data = ttree.array('asym_qwk_bcm8')\n",
    "bcmdd56_data = ttree.array('asym_bcmdd56')\n",
    "bcmdd57_data = ttree.array('asym_bcmdd57')\n",
    "bcmdd58_data = ttree.array('asym_bcmdd58')\n",
    "bcmdd67_data = ttree.array('asym_bcmdd67')\n",
    "bcmdd68_data = ttree.array('asym_bcmdd68')\n",
    "bcmdd78_data = ttree.array('asym_bcmdd78')"
   ]
  },
  {
   "cell_type": "code",
   "execution_count": null,
   "metadata": {},
   "outputs": [],
   "source": []
  },
  {
   "cell_type": "code",
   "execution_count": 6,
   "metadata": {},
   "outputs": [],
   "source": [
    "#ttree.fBranches"
   ]
  },
  {
   "cell_type": "code",
   "execution_count": 7,
   "metadata": {},
   "outputs": [],
   "source": [
    "df = pd.DataFrame({'run':run_data, 'slug':slug_data, 'wien':wien_data, 'sc':sc_data, 'quality_id':quality_id_data})"
   ]
  },
  {
   "cell_type": "code",
   "execution_count": 8,
   "metadata": {},
   "outputs": [],
   "source": [
    "mdall_df = pd.DataFrame(mdall_data)"
   ]
  },
  {
   "cell_type": "code",
   "execution_count": 9,
   "metadata": {},
   "outputs": [],
   "source": [
    "bcm5_df = pd.DataFrame(bcm5_data)\n",
    "bcm6_df = pd.DataFrame(bcm6_data)\n",
    "bcm7_df = pd.DataFrame(bcm7_data)\n",
    "bcm8_df = pd.DataFrame(bcm8_data)"
   ]
  },
  {
   "cell_type": "code",
   "execution_count": 10,
   "metadata": {},
   "outputs": [],
   "source": [
    "bcmdd56_df = pd.DataFrame(bcmdd56_data)\n",
    "bcmdd57_df = pd.DataFrame(bcmdd57_data)\n",
    "bcmdd58_df = pd.DataFrame(bcmdd58_data)\n",
    "bcmdd67_df = pd.DataFrame(bcmdd67_data)\n",
    "bcmdd68_df = pd.DataFrame(bcmdd68_data)\n",
    "bcmdd78_df = pd.DataFrame(bcmdd78_data)"
   ]
  },
  {
   "cell_type": "code",
   "execution_count": 11,
   "metadata": {},
   "outputs": [],
   "source": [
    "def add_prefix(df, tag):\n",
    "    df.columns = [tag + '_' + i for i in df.columns]"
   ]
  },
  {
   "cell_type": "code",
   "execution_count": 12,
   "metadata": {},
   "outputs": [],
   "source": [
    "add_prefix(mdall_df, 'mdall')"
   ]
  },
  {
   "cell_type": "code",
   "execution_count": 13,
   "metadata": {},
   "outputs": [],
   "source": [
    "add_prefix(bcm5_df, 'bcm5')\n",
    "add_prefix(bcm6_df, 'bcm6')\n",
    "add_prefix(bcm7_df, 'bcm7')\n",
    "add_prefix(bcm8_df, 'bcm8')"
   ]
  },
  {
   "cell_type": "code",
   "execution_count": 14,
   "metadata": {},
   "outputs": [],
   "source": [
    "add_prefix(bcmdd56_df, 'bcmdd56')\n",
    "add_prefix(bcmdd57_df, 'bcmdd57')\n",
    "add_prefix(bcmdd58_df, 'bcmdd58')\n",
    "add_prefix(bcmdd67_df, 'bcmdd67')\n",
    "add_prefix(bcmdd68_df, 'bcmdd68')\n",
    "add_prefix(bcmdd78_df, 'bcmdd78')"
   ]
  },
  {
   "cell_type": "code",
   "execution_count": 15,
   "metadata": {},
   "outputs": [],
   "source": [
    "df = pd.concat([df, mdall_df, bcm5_df, bcm6_df, bcm7_df, bcm8_df, bcmdd56_df, bcmdd57_df, bcmdd58_df, bcmdd67_df, bcmdd68_df, bcmdd78_df], axis=1)"
   ]
  },
  {
   "cell_type": "code",
   "execution_count": 16,
   "metadata": {},
   "outputs": [
    {
     "data": {
      "text/html": [
       "<div>\n",
       "<style scoped>\n",
       "    .dataframe tbody tr th:only-of-type {\n",
       "        vertical-align: middle;\n",
       "    }\n",
       "\n",
       "    .dataframe tbody tr th {\n",
       "        vertical-align: top;\n",
       "    }\n",
       "\n",
       "    .dataframe thead th {\n",
       "        text-align: right;\n",
       "    }\n",
       "</style>\n",
       "<table border=\"1\" class=\"dataframe\">\n",
       "  <thead>\n",
       "    <tr style=\"text-align: right;\">\n",
       "      <th></th>\n",
       "      <th>quality_id</th>\n",
       "      <th>run</th>\n",
       "      <th>sc</th>\n",
       "      <th>slug</th>\n",
       "      <th>wien</th>\n",
       "      <th>mdall_value</th>\n",
       "      <th>mdall_err</th>\n",
       "      <th>mdall_rms</th>\n",
       "      <th>mdall_n</th>\n",
       "      <th>bcm5_value</th>\n",
       "      <th>...</th>\n",
       "      <th>bcmdd67_rms</th>\n",
       "      <th>bcmdd67_n</th>\n",
       "      <th>bcmdd68_value</th>\n",
       "      <th>bcmdd68_err</th>\n",
       "      <th>bcmdd68_rms</th>\n",
       "      <th>bcmdd68_n</th>\n",
       "      <th>bcmdd78_value</th>\n",
       "      <th>bcmdd78_err</th>\n",
       "      <th>bcmdd78_rms</th>\n",
       "      <th>bcmdd78_n</th>\n",
       "    </tr>\n",
       "  </thead>\n",
       "  <tbody>\n",
       "    <tr>\n",
       "      <th>0</th>\n",
       "      <td>2</td>\n",
       "      <td>14153</td>\n",
       "      <td>-1</td>\n",
       "      <td>1028</td>\n",
       "      <td>6</td>\n",
       "      <td>-105.283740</td>\n",
       "      <td>42.749554</td>\n",
       "      <td>579.883167</td>\n",
       "      <td>184</td>\n",
       "      <td>-4.735933</td>\n",
       "      <td>...</td>\n",
       "      <td>74.748955</td>\n",
       "      <td>184</td>\n",
       "      <td>-4.583193</td>\n",
       "      <td>4.838478</td>\n",
       "      <td>65.632311</td>\n",
       "      <td>184</td>\n",
       "      <td>-7.702616</td>\n",
       "      <td>5.148243</td>\n",
       "      <td>69.834171</td>\n",
       "      <td>184</td>\n",
       "    </tr>\n",
       "    <tr>\n",
       "      <th>1</th>\n",
       "      <td>1</td>\n",
       "      <td>14153</td>\n",
       "      <td>-1</td>\n",
       "      <td>1028</td>\n",
       "      <td>6</td>\n",
       "      <td>3.795485</td>\n",
       "      <td>2.524236</td>\n",
       "      <td>629.562917</td>\n",
       "      <td>62204</td>\n",
       "      <td>-0.866824</td>\n",
       "      <td>...</td>\n",
       "      <td>79.643723</td>\n",
       "      <td>62194</td>\n",
       "      <td>0.270440</td>\n",
       "      <td>0.283883</td>\n",
       "      <td>70.802371</td>\n",
       "      <td>62204</td>\n",
       "      <td>0.331842</td>\n",
       "      <td>0.248201</td>\n",
       "      <td>61.898077</td>\n",
       "      <td>62194</td>\n",
       "    </tr>\n",
       "    <tr>\n",
       "      <th>2</th>\n",
       "      <td>1</td>\n",
       "      <td>14153</td>\n",
       "      <td>-1</td>\n",
       "      <td>1028</td>\n",
       "      <td>6</td>\n",
       "      <td>-3.396661</td>\n",
       "      <td>2.522684</td>\n",
       "      <td>628.259718</td>\n",
       "      <td>62023</td>\n",
       "      <td>-0.540828</td>\n",
       "      <td>...</td>\n",
       "      <td>79.749494</td>\n",
       "      <td>62017</td>\n",
       "      <td>0.792501</td>\n",
       "      <td>0.284275</td>\n",
       "      <td>70.797065</td>\n",
       "      <td>62023</td>\n",
       "      <td>0.390035</td>\n",
       "      <td>0.248560</td>\n",
       "      <td>61.899407</td>\n",
       "      <td>62017</td>\n",
       "    </tr>\n",
       "    <tr>\n",
       "      <th>3</th>\n",
       "      <td>1</td>\n",
       "      <td>14153</td>\n",
       "      <td>-1</td>\n",
       "      <td>1028</td>\n",
       "      <td>6</td>\n",
       "      <td>-3.498164</td>\n",
       "      <td>2.543538</td>\n",
       "      <td>634.621740</td>\n",
       "      <td>62252</td>\n",
       "      <td>-0.351597</td>\n",
       "      <td>...</td>\n",
       "      <td>82.829357</td>\n",
       "      <td>62236</td>\n",
       "      <td>-0.188329</td>\n",
       "      <td>0.298347</td>\n",
       "      <td>74.438631</td>\n",
       "      <td>62252</td>\n",
       "      <td>-0.115097</td>\n",
       "      <td>0.247723</td>\n",
       "      <td>61.799912</td>\n",
       "      <td>62236</td>\n",
       "    </tr>\n",
       "    <tr>\n",
       "      <th>4</th>\n",
       "      <td>1</td>\n",
       "      <td>14153</td>\n",
       "      <td>-1</td>\n",
       "      <td>1028</td>\n",
       "      <td>6</td>\n",
       "      <td>-4.673153</td>\n",
       "      <td>2.507497</td>\n",
       "      <td>625.141658</td>\n",
       "      <td>62155</td>\n",
       "      <td>0.042250</td>\n",
       "      <td>...</td>\n",
       "      <td>81.622623</td>\n",
       "      <td>62149</td>\n",
       "      <td>0.219309</td>\n",
       "      <td>0.292150</td>\n",
       "      <td>72.835642</td>\n",
       "      <td>62155</td>\n",
       "      <td>0.012722</td>\n",
       "      <td>0.246534</td>\n",
       "      <td>61.460175</td>\n",
       "      <td>62149</td>\n",
       "    </tr>\n",
       "  </tbody>\n",
       "</table>\n",
       "<p>5 rows × 49 columns</p>\n",
       "</div>"
      ],
      "text/plain": [
       "   quality_id    run  sc  slug  wien  mdall_value  mdall_err   mdall_rms  \\\n",
       "0           2  14153  -1  1028     6  -105.283740  42.749554  579.883167   \n",
       "1           1  14153  -1  1028     6     3.795485   2.524236  629.562917   \n",
       "2           1  14153  -1  1028     6    -3.396661   2.522684  628.259718   \n",
       "3           1  14153  -1  1028     6    -3.498164   2.543538  634.621740   \n",
       "4           1  14153  -1  1028     6    -4.673153   2.507497  625.141658   \n",
       "\n",
       "   mdall_n  bcm5_value    ...      bcmdd67_rms  bcmdd67_n  bcmdd68_value  \\\n",
       "0      184   -4.735933    ...        74.748955        184      -4.583193   \n",
       "1    62204   -0.866824    ...        79.643723      62194       0.270440   \n",
       "2    62023   -0.540828    ...        79.749494      62017       0.792501   \n",
       "3    62252   -0.351597    ...        82.829357      62236      -0.188329   \n",
       "4    62155    0.042250    ...        81.622623      62149       0.219309   \n",
       "\n",
       "   bcmdd68_err  bcmdd68_rms  bcmdd68_n  bcmdd78_value  bcmdd78_err  \\\n",
       "0     4.838478    65.632311        184      -7.702616     5.148243   \n",
       "1     0.283883    70.802371      62204       0.331842     0.248201   \n",
       "2     0.284275    70.797065      62023       0.390035     0.248560   \n",
       "3     0.298347    74.438631      62252      -0.115097     0.247723   \n",
       "4     0.292150    72.835642      62155       0.012722     0.246534   \n",
       "\n",
       "   bcmdd78_rms  bcmdd78_n  \n",
       "0    69.834171        184  \n",
       "1    61.898077      62194  \n",
       "2    61.899407      62017  \n",
       "3    61.799912      62236  \n",
       "4    61.460175      62149  \n",
       "\n",
       "[5 rows x 49 columns]"
      ]
     },
     "execution_count": 16,
     "metadata": {},
     "output_type": "execute_result"
    }
   ],
   "source": [
    "df.head()"
   ]
  },
  {
   "cell_type": "code",
   "execution_count": 17,
   "metadata": {},
   "outputs": [],
   "source": [
    "def slug_avg(df, bcm, slug):\n",
    "    avg, sow = np.average(df.query('quality_id == 1 & slug == {0}'.format(slug))['bcm{0}_value'.format(bcm)]*df.query('quality_id == 1 & slug == {0}'.format(slug))['sc'],\n",
    "                      weights=1/np.square(df.query('quality_id == 1 & slug == {0}'.format(slug))['bcm{0}_err'.format(bcm)]),\n",
    "                      returned = True)\n",
    "    err = 1/np.sqrt(sow)\n",
    "    return avg, err\n",
    "\n",
    "def dd_slug_avg(df, bcm, slug):\n",
    "    avg, sow = np.average(df.query('quality_id == 1 & slug == {0}'.format(slug))['bcmdd{0}_value'.format(bcm)],\n",
    "                      weights=1/np.square(df.query('quality_id == 1 & slug == {0}'.format(slug))['bcmdd{0}_err'.format(bcm)]),\n",
    "                      returned = True)\n",
    "    err = 1/np.sqrt(sow)\n",
    "    return avg, err"
   ]
  },
  {
   "cell_type": "code",
   "execution_count": 18,
   "metadata": {},
   "outputs": [],
   "source": [
    "def wien_avg(df, bcm, wien):\n",
    "    avg, sow = np.average(df.query('quality_id == 1 & wien == {0}'.format(wien))['bcm{0}_value'.format(bcm)]*df.query('quality_id == 1 & wien == {0}'.format(wien))['sc'],\n",
    "                      weights=1/np.square(df.query('quality_id == 1 & wien == {0}'.format(wien))['bcm{0}_err'.format(bcm)]),\n",
    "                      returned = True)\n",
    "    err = 1/np.sqrt(sow)\n",
    "    return avg, err \n",
    "\n",
    "def dd_wien_avg(df, bcm, wien):\n",
    "    avg, sow = np.average(df.query('quality_id == 1 & wien == {0}'.format(wien))['bcmdd{0}_value'.format(bcm)],\n",
    "                      weights=1/np.square(df.query('quality_id == 1 & wien == {0}'.format(wien))['bcmdd{0}_err'.format(bcm)]),\n",
    "                      returned = True)\n",
    "    err = 1/np.sqrt(sow)\n",
    "    return avg, err "
   ]
  },
  {
   "cell_type": "code",
   "execution_count": 19,
   "metadata": {},
   "outputs": [],
   "source": [
    "slug_num = np.unique(df.query('slug >= 1028 & slug <=1058 & quality_id == 1')['slug'])\n",
    "wien_num = [6,8,9]"
   ]
  },
  {
   "cell_type": "code",
   "execution_count": 20,
   "metadata": {},
   "outputs": [],
   "source": [
    "def calc_slug_avg(df, bcm):\n",
    "    avg = np.array([slug_avg(df, bcm, slug)[0] for slug in slug_num])\n",
    "    err = np.array([slug_avg(df, bcm, slug)[1] for slug in slug_num])\n",
    "    return avg, err\n",
    "\n",
    "def calc_dd_slug_avg(df, bcm):\n",
    "    avg = np.array([dd_slug_avg(df, bcm, slug)[0] for slug in slug_num])\n",
    "    err = np.array([dd_slug_avg(df, bcm, slug)[1] for slug in slug_num])\n",
    "    return avg, err"
   ]
  },
  {
   "cell_type": "code",
   "execution_count": 21,
   "metadata": {},
   "outputs": [],
   "source": [
    "def calc_wien_avg(df, bcm):\n",
    "    avg = np.array([wien_avg(df, bcm, wien)[0] for wien in wien_num])\n",
    "    err = np.array([wien_avg(df, bcm, wien)[1] for wien in wien_num])\n",
    "    return avg, err\n",
    "\n",
    "def calc_dd_wien_avg(df, bcm):\n",
    "    avg = np.array([dd_wien_avg(df, bcm, wien)[0] for wien in wien_num])\n",
    "    err = np.array([dd_wien_avg(df, bcm, wien)[1] for wien in wien_num])\n",
    "    return avg, err"
   ]
  },
  {
   "cell_type": "code",
   "execution_count": 22,
   "metadata": {},
   "outputs": [],
   "source": [
    "slug_bcm5_avg, slug_bcm5_err = calc_slug_avg(df, 5)\n",
    "slug_bcm6_avg, slug_bcm6_err = calc_slug_avg(df, 6)\n",
    "slug_bcm7_avg, slug_bcm7_err = calc_slug_avg(df, 7)\n",
    "slug_bcm8_avg, slug_bcm8_err = calc_slug_avg(df, 8)"
   ]
  },
  {
   "cell_type": "code",
   "execution_count": 23,
   "metadata": {},
   "outputs": [],
   "source": [
    "wien_bcm5_avg, wien_bcm5_err = calc_wien_avg(df, 5)\n",
    "wien_bcm6_avg, wien_bcm6_err = calc_wien_avg(df, 6)\n",
    "wien_bcm7_avg, wien_bcm7_err = calc_wien_avg(df, 7)\n",
    "wien_bcm8_avg, wien_bcm8_err = calc_wien_avg(df, 8)\n",
    "\n",
    "wien_bcmdd56_avg, wien_bcmdd56_err = calc_dd_wien_avg(df, 56)\n",
    "wien_bcmdd57_avg, wien_bcmdd57_err = calc_dd_wien_avg(df, 57)\n",
    "wien_bcmdd58_avg, wien_bcmdd58_err = calc_dd_wien_avg(df, 58)\n",
    "wien_bcmdd67_avg, wien_bcmdd67_err = calc_dd_wien_avg(df, 67)\n",
    "wien_bcmdd68_avg, wien_bcmdd68_err = calc_dd_wien_avg(df, 68)\n",
    "wien_bcmdd78_avg, wien_bcmdd78_err = calc_dd_wien_avg(df, 78)"
   ]
  },
  {
   "cell_type": "code",
   "execution_count": null,
   "metadata": {},
   "outputs": [],
   "source": []
  },
  {
   "cell_type": "code",
   "execution_count": 24,
   "metadata": {},
   "outputs": [],
   "source": [
    "def const_fit(data, data_err):\n",
    "    \"Function to calculate the error-weighted average, return fit chi2 stats\"\n",
    "    \n",
    "    # Error weighted average\n",
    "    avg, sow = np.average(data,\n",
    "                          weights=1/np.square(data_err),\n",
    "                          returned=True)\n",
    "    avg_err = 1/np.sqrt(sow)\n",
    "    dof = len(data) - 1\n",
    "    chi2 = calc_chi2(data, data_err, avg)\n",
    "    prob = calc_chi2prob(chi2, dof)\n",
    "    return avg, avg_err, chi2/dof, prob[0]\n",
    "\n",
    "\n",
    "def calc_chi2(data, data_err, fit):\n",
    "    chi2 = np.sum(np.square(data-fit)/np.square(data_err))\n",
    "    return chi2\n",
    "\n",
    "\n",
    "def chi2probdistribution(chi2, dof):\n",
    "    if chi2 > 0:\n",
    "        num = np.power(chi2, (dof-2.0)/2.0)*np.exp(-chi2/2.0)\n",
    "        dem = np.power(2.0, (dof/2.0))*gamma(dof/2.0)\n",
    "        return num/dem\n",
    "    elif chi2 == 0:\n",
    "        return 0\n",
    "    else:\n",
    "        print('Chi^2 value < 0 not valid!')\n",
    "\n",
    "\n",
    "def calc_chi2prob(chi2, dof):\n",
    "    return quad(chi2probdistribution, chi2, np.inf, dof)\n",
    "\n",
    "\n",
    "def print_fit_info(label, avg, avg_err, rchi2, prob):\n",
    "    print(label)\n",
    "    print('  Avg: {0:.6} [ppm]'.format(avg))\n",
    "    print('  Err: {0:.6} [ppm]'.format(avg_err))\n",
    "    print('RChi2: {0:.4}'.format(rchi2))\n",
    "    print(' Prob: {0:.4}\\n'.format(prob))"
   ]
  },
  {
   "cell_type": "code",
   "execution_count": 25,
   "metadata": {},
   "outputs": [
    {
     "name": "stdout",
     "output_type": "stream",
     "text": [
      "BCM6\n",
      "  Avg: -0.028715 [ppm]\n",
      "  Err: 0.0401954 [ppm]\n",
      "RChi2: 0.2764\n",
      " Prob: 0.9999\n",
      "\n"
     ]
    }
   ],
   "source": [
    "print_fit_info('BCM6',*const_fit(slug_bcm6_avg, slug_bcm6_err))"
   ]
  },
  {
   "cell_type": "code",
   "execution_count": 26,
   "metadata": {},
   "outputs": [
    {
     "data": {
      "image/png": "[encoded data removed]",
      "text/plain": [
       "<matplotlib.figure.Figure at 0x7f7b25049400>"
      ]
     },
     "metadata": {},
     "output_type": "display_data"
    }
   ],
   "source": [
    "pp.figure()\n",
    "pp.errorbar(df.query('wien == 9 & slug >= 1028 & slug <=1058 & quality_id == 1').index,\n",
    "            df.query('wien == 9 & slug >= 1028 & slug <=1058 & quality_id == 1').bcm8_value,\n",
    "            yerr=df.query('wien == 9 & slug >= 1028 & slug <=1058 & quality_id == 1').bcm8_err,\n",
    "            ls='None',\n",
    "            marker='d')\n",
    "pp.show()"
   ]
  },
  {
   "cell_type": "code",
   "execution_count": 27,
   "metadata": {},
   "outputs": [
    {
     "data": {
      "image/png": "[encoded data removed]",
      "text/plain": [
       "<matplotlib.figure.Figure at 0x7f7b244b5940>"
      ]
     },
     "metadata": {},
     "output_type": "display_data"
    }
   ],
   "source": [
    "pp.figure()\n",
    "pp.errorbar(slug_num, slug_bcm5_avg, yerr=slug_bcm5_err, ls='None', marker='o', color=sns.xkcd_rgb['dull blue'], label='BCM 5')\n",
    "pp.errorbar(slug_num, slug_bcm6_avg, yerr=slug_bcm6_err, ls='None', marker='d', color=sns.xkcd_rgb['dull orange'], label='BCM 6')\n",
    "pp.errorbar(slug_num, slug_bcm7_avg, yerr=slug_bcm7_err, ls='None', marker='p', color=sns.xkcd_rgb['dull red'], label='BCM 7')\n",
    "pp.errorbar(slug_num, slug_bcm8_avg, yerr=slug_bcm8_err, ls='None', marker='s', color=sns.xkcd_rgb['dull green'], label='BCM 8')\n",
    "pp.xlabel('Time(Slug)')\n",
    "pp.ylabel('Asymmetry [ppm]')\n",
    "pp.legend(bbox_to_anchor=(1.2,1))\n",
    "pp.tick_params(top=False)\n",
    "pp.show()"
   ]
  },
  {
   "cell_type": "code",
   "execution_count": 28,
   "metadata": {},
   "outputs": [
    {
     "name": "stdout",
     "output_type": "stream",
     "text": [
      "BCM8\n",
      "  Avg: -0.0301666 [ppm]\n",
      "  Err: 0.0393266 [ppm]\n",
      "RChi2: 0.4066\n",
      " Prob: 0.6659\n",
      "\n"
     ]
    }
   ],
   "source": [
    "print_fit_info('BCM8', *const_fit(wien_bcm8_avg, wien_bcm8_err))"
   ]
  },
  {
   "cell_type": "code",
   "execution_count": 29,
   "metadata": {},
   "outputs": [
    {
     "data": {
      "image/png": "[encoded data removed]",
      "text/plain": [
       "<matplotlib.figure.Figure at 0x7f7b20ba3278>"
      ]
     },
     "metadata": {},
     "output_type": "display_data"
    }
   ],
   "source": [
    "pp.figure()\n",
    "pp.errorbar(wien_num-np.array(0.075), wien_bcm5_avg, yerr=wien_bcm5_err, ls='None', marker='o', color=sns.xkcd_rgb['dull blue'], label='BCM 5')\n",
    "pp.errorbar(wien_num-np.array(0.025), wien_bcm6_avg, yerr=wien_bcm6_err, ls='None', marker='d', color=sns.xkcd_rgb['dull orange'], label='BCM 6')\n",
    "pp.errorbar(wien_num+np.array(0.025), wien_bcm7_avg, yerr=wien_bcm7_err, ls='None', marker='p', color=sns.xkcd_rgb['dull red'], label='BCM 7')\n",
    "pp.errorbar(wien_num+np.array(0.075), wien_bcm8_avg, yerr=wien_bcm8_err, ls='None', marker='s', color=sns.xkcd_rgb['dull green'], label='BCM 8')\n",
    "pp.xlim(5,10)\n",
    "pp.xlabel('Time(Wien)')\n",
    "pp.ylabel('Asymmetry [ppm]')\n",
    "pp.legend(bbox_to_anchor=(1.25,1))\n",
    "pp.tick_params(top=False)\n",
    "pp.show()"
   ]
  },
  {
   "cell_type": "code",
   "execution_count": 30,
   "metadata": {},
   "outputs": [
    {
     "data": {
      "image/png": "[encoded data removed]",
      "text/plain": [
       "<matplotlib.figure.Figure at 0x7f7b20adbb00>"
      ]
     },
     "metadata": {},
     "output_type": "display_data"
    }
   ],
   "source": [
    "pp.figure()\n",
    "pp.errorbar(wien_num-np.array(0.125), wien_bcmdd56_avg, yerr=wien_bcmdd56_err, ls='None', marker='<', color=sns.xkcd_rgb['dull blue'], label='BCMDD 56')\n",
    "pp.errorbar(wien_num-np.array(0.075), wien_bcmdd57_avg, yerr=wien_bcmdd57_err, ls='None', marker='o', color=sns.xkcd_rgb['dull red'], label='BCMDD 57')\n",
    "pp.errorbar(wien_num-np.array(0.025), wien_bcmdd58_avg, yerr=wien_bcmdd58_err, ls='None', marker='s', color=sns.xkcd_rgb['dull green'], label='BCMDD 58')\n",
    "pp.errorbar(wien_num+np.array(0.025), wien_bcmdd67_avg, yerr=wien_bcmdd67_err, ls='None', marker='v', color=sns.xkcd_rgb['dull orange'], label='BCMDD 67')\n",
    "pp.errorbar(wien_num+np.array(0.075), wien_bcmdd68_avg, yerr=wien_bcmdd68_err, ls='None', marker='d', color=sns.xkcd_rgb['dull purple'], label='BCMDD 68')\n",
    "pp.errorbar(wien_num+np.array(0.125), wien_bcmdd78_avg, yerr=wien_bcmdd78_err, ls='None', marker='>', color=sns.xkcd_rgb['dull teal'], label='BCMDD 78')\n",
    "pp.xlim(5,11)\n",
    "pp.xlabel('Time(Wien)')\n",
    "pp.ylabel('Asymmetry [ppm]')\n",
    "#pp.legend(bbox_to_anchor=(1.3,1))\n",
    "pp.legend(loc='upper right')\n",
    "pp.tick_params(top=False)\n",
    "pp.show()"
   ]
  },
  {
   "cell_type": "code",
   "execution_count": 31,
   "metadata": {},
   "outputs": [
    {
     "name": "stdout",
     "output_type": "stream",
     "text": [
      "BCMDD56\n",
      "  Avg: -0.00170788 [ppm]\n",
      "  Err: 0.0096235 [ppm]\n",
      "RChi2: 1.481\n",
      " Prob: 0.2275\n",
      "\n",
      "BCMDD57\n",
      "  Avg: 0.00284228 [ppm]\n",
      "  Err: 0.00757875 [ppm]\n",
      "RChi2: 0.05137\n",
      " Prob: 0.9499\n",
      "\n",
      "BCMDD58\n",
      "  Avg: -0.0003844 [ppm]\n",
      "  Err: 0.00628346 [ppm]\n",
      "RChi2: 0.05018\n",
      " Prob: 0.9511\n",
      "\n",
      "BCMDD67\n",
      "  Avg: 0.00395586 [ppm]\n",
      "  Err: 0.0102331 [ppm]\n",
      "RChi2: 1.177\n",
      " Prob: 0.3081\n",
      "\n",
      "BCMDD68\n",
      "  Avg: 0.00148094 [ppm]\n",
      "  Err: 0.0092799 [ppm]\n",
      "RChi2: 1.746\n",
      " Prob: 0.1744\n",
      "\n",
      "BCMDD78\n",
      "  Avg: -0.00368537 [ppm]\n",
      "  Err: 0.00711879 [ppm]\n",
      "RChi2: 0.1124\n",
      " Prob: 0.8937\n",
      "\n"
     ]
    }
   ],
   "source": [
    "print_fit_info('BCMDD56', *const_fit(wien_bcmdd56_avg, wien_bcmdd56_err))\n",
    "print_fit_info('BCMDD57', *const_fit(wien_bcmdd57_avg, wien_bcmdd57_err))\n",
    "print_fit_info('BCMDD58', *const_fit(wien_bcmdd58_avg, wien_bcmdd58_err))\n",
    "print_fit_info('BCMDD67', *const_fit(wien_bcmdd67_avg, wien_bcmdd67_err))\n",
    "print_fit_info('BCMDD68', *const_fit(wien_bcmdd68_avg, wien_bcmdd68_err))\n",
    "print_fit_info('BCMDD78', *const_fit(wien_bcmdd78_avg, wien_bcmdd78_err))"
   ]
  },
  {
   "cell_type": "code",
   "execution_count": 37,
   "metadata": {},
   "outputs": [
    {
     "data": {
      "text/plain": [
       "[-0.005166314381262094,\n",
       " -0.007641235928532559,\n",
       " -0.0033009712597843405,\n",
       " -0.00652765561973076,\n",
       " -0.00197748926608047]"
      ]
     },
     "execution_count": 37,
     "metadata": {},
     "output_type": "execute_result"
    }
   ],
   "source": [
    "[const_fit(wien_bcmdd78_avg, wien_bcmdd78_err)[0] - const_fit(wien_bcmdd68_avg, wien_bcmdd68_err)[0],\n",
    "const_fit(wien_bcmdd78_avg, wien_bcmdd78_err)[0] - const_fit(wien_bcmdd67_avg, wien_bcmdd67_err)[0],\n",
    "const_fit(wien_bcmdd78_avg, wien_bcmdd78_err)[0] - const_fit(wien_bcmdd58_avg, wien_bcmdd58_err)[0],\n",
    "const_fit(wien_bcmdd78_avg, wien_bcmdd78_err)[0] - const_fit(wien_bcmdd57_avg, wien_bcmdd57_err)[0],\n",
    "const_fit(wien_bcmdd78_avg, wien_bcmdd78_err)[0] - const_fit(wien_bcmdd56_avg, wien_bcmdd56_err)[0]]"
   ]
  },
  {
   "cell_type": "code",
   "execution_count": 30,
   "metadata": {},
   "outputs": [],
   "source": [
    "bcm5_mean = const_fit(wien_bcm5_avg, wien_bcm5_err)[:2]\n",
    "bcm6_mean = const_fit(wien_bcm6_avg, wien_bcm6_err)[:2]\n",
    "bcm8_mean = const_fit(wien_bcm8_avg, wien_bcm8_err)[:2]"
   ]
  },
  {
   "cell_type": "code",
   "execution_count": 31,
   "metadata": {
    "collapsed": true
   },
   "outputs": [],
   "source": [
    "md_asym = (1.4410, 0.0678)"
   ]
  },
  {
   "cell_type": "code",
   "execution_count": 32,
   "metadata": {},
   "outputs": [],
   "source": [
    "def bcm_avg(bcm5, bcm6, bcm8):\n",
    "    return np.average([bcm5[0], bcm6[0], bcm8[0]])"
   ]
  },
  {
   "cell_type": "code",
   "execution_count": 33,
   "metadata": {},
   "outputs": [
    {
     "data": {
      "text/plain": [
       "-0.025163348110822714"
      ]
     },
     "execution_count": 33,
     "metadata": {},
     "output_type": "execute_result"
    }
   ],
   "source": [
    "bcm_avg(bcm5_mean, bcm6_mean, bcm8_mean)"
   ]
  },
  {
   "cell_type": "code",
   "execution_count": 34,
   "metadata": {},
   "outputs": [
    {
     "data": {
      "text/plain": [
       "-0.030166565202891286"
      ]
     },
     "execution_count": 34,
     "metadata": {},
     "output_type": "execute_result"
    }
   ],
   "source": [
    "bcm8_mean[0]"
   ]
  },
  {
   "cell_type": "code",
   "execution_count": 35,
   "metadata": {},
   "outputs": [],
   "source": [
    "md_asym_renorm = md_asym[0]+bcm8_mean[0]-bcm_avg(bcm5_mean, bcm6_mean, bcm8_mean)"
   ]
  },
  {
   "cell_type": "code",
   "execution_count": 36,
   "metadata": {},
   "outputs": [
    {
     "data": {
      "text/plain": [
       "0.34720451714563738"
      ]
     },
     "execution_count": 36,
     "metadata": {},
     "output_type": "execute_result"
    }
   ],
   "source": [
    "100*(md_asym[0]-md_asym_renorm)/md_asym[0]"
   ]
  },
  {
   "cell_type": "code",
   "execution_count": null,
   "metadata": {
    "collapsed": true
   },
   "outputs": [],
   "source": []
  }
 ],
 "metadata": {
  "kernelspec": {
   "display_name": "Python 3",
   "language": "python",
   "name": "python3"
  },
  "language_info": {
   "codemirror_mode": {
    "name": "ipython",
    "version": 3
   },
   "file_extension": ".py",
   "mimetype": "text/x-python",
   "name": "python",
   "nbconvert_exporter": "python",
   "pygments_lexer": "ipython3",
   "version": "3.6.5"
  }
 },
 "nbformat": 4,
 "nbformat_minor": 1
}
