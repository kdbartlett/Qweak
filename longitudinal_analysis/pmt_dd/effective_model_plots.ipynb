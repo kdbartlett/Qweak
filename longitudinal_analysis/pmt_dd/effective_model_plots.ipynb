{
 "cells": [
  {
   "cell_type": "code",
   "execution_count": 1,
   "metadata": {},
   "outputs": [],
   "source": [
    "import numpy as np\n",
    "#This following is so that this will work with Latex, see\n",
    "#http://bkanuka.com/articles/native-latex-plots/\n",
    "import matplotlib as mpl\n",
    "mpl.use('pgf')"
   ]
  },
  {
   "cell_type": "code",
   "execution_count": 2,
   "metadata": {},
   "outputs": [],
   "source": [
    "def figsize(scale):                                 # I think scale is the size you want it on the page\n",
    "    fig_width_pt = 433.62001                        # Get this from LaTeX using \\the\\textwidth\n",
    "    inches_per_pt = 1.0/72.0                        # Convert pt to inch\n",
    "    golden_mean = (np.sqrt(5.0)-1.0)/2.0            # Aesthetic ratio (you could change this)\n",
    "    fig_width = fig_width_pt*inches_per_pt*scale    # width in inches\n",
    "    fig_height = fig_width*golden_mean              # height in inches\n",
    "    fig_size = [fig_width,fig_height]\n",
    "    return fig_size\n",
    "\n",
    "pgf_with_lualatex = {                      # Setup matplotlib to use latex for output\n",
    "    \"pgf.texsystem\": \"lualatex\",           # Change this if using xetex or luatex\n",
    "    \"text.usetex\": True,                   # Use LaTeX to write all text\n",
    "    \"pgf.rcfonts\": False,\n",
    "    #Fonts\n",
    "    \"font.family\": \"serif\",                # Get from the pdf font function on the doc\n",
    "    \"font.serif\": \"Computer Modern Roman\",      \n",
    "    #\"font.sans-serif\": \"Computer Modern Sans serif\",\n",
    "    #\"font.serif\": [],      \n",
    "    \"font.sans-serif\": [],\n",
    "    \"font.monospace\": [], # Blank entries should cause plots to inherit fonts from the document\n",
    "    #Text size\n",
    "    \"font.size\": 11,# Document default is 11pt font.\n",
    "    #\"text.fontsize\": 11,\n",
    "    \"axes.labelsize\": 11,\n",
    "    \"legend.fontsize\": 8,               # Make the legend/label fonts a little smaller\n",
    "    \"xtick.labelsize\": 8,\n",
    "    \"ytick.labelsize\": 8,\n",
    "    ##Axis\n",
    "    #\"axes.labelpad\": 2,     # space between label and axis \n",
    "    \"figure.figsize\": figsize(1.0),     # default fig size of 1.0 textwidth\n",
    "    #Packages\n",
    "    \"pgf.preamble\": [\n",
    "        r\"\\usepackage[utf8x]{inputenc}\",    # use utf8 fonts becasue your computer can handle it :)\n",
    "        r\"\\usepackage[T1]{fontenc}\",        # plots will be generated using this preamble\n",
    "        r\"\\usepackage{amsmath}\",  #need to add math or the ^ won't work\n",
    "        r\"\\usepackage{amssymb}\"]\n",
    "    }\n",
    "\n",
    "mpl.rcParams.update(pgf_with_lualatex)"
   ]
  },
  {
   "cell_type": "code",
   "execution_count": 3,
   "metadata": {},
   "outputs": [],
   "source": [
    "import pandas as pd\n",
    "import matplotlib.pyplot as plt\n",
    "import seaborn as sns\n",
    "from matplotlib.ticker import AutoMinorLocator\n",
    "from scipy.integrate import quad\n",
    "from scipy.special import gamma"
   ]
  },
  {
   "cell_type": "code",
   "execution_count": 5,
   "metadata": {},
   "outputs": [],
   "source": [
    "%matplotlib inline\n",
    "plt.style.use('seaborn-ticks')\n",
    "sns.set_palette(\"muted\")"
   ]
  },
  {
   "cell_type": "code",
   "execution_count": 10,
   "metadata": {},
   "outputs": [],
   "source": [
    "df = pd.read_csv('data/al_a_bias_victoria.csv')"
   ]
  },
  {
   "cell_type": "code",
   "execution_count": 11,
   "metadata": {},
   "outputs": [
    {
     "data": {
      "text/html": [
       "<div>\n",
       "<style scoped>\n",
       "    .dataframe tbody tr th:only-of-type {\n",
       "        vertical-align: middle;\n",
       "    }\n",
       "\n",
       "    .dataframe tbody tr th {\n",
       "        vertical-align: top;\n",
       "    }\n",
       "\n",
       "    .dataframe thead th {\n",
       "        text-align: right;\n",
       "    }\n",
       "</style>\n",
       "<table border=\"1\" class=\"dataframe\">\n",
       "  <thead>\n",
       "    <tr style=\"text-align: right;\">\n",
       "      <th></th>\n",
       "      <th>Octant</th>\n",
       "      <th>DD</th>\n",
       "      <th>dDD</th>\n",
       "      <th>Abias</th>\n",
       "      <th>dAbias</th>\n",
       "    </tr>\n",
       "  </thead>\n",
       "  <tbody>\n",
       "    <tr>\n",
       "      <th>0</th>\n",
       "      <td>1</td>\n",
       "      <td>246.313</td>\n",
       "      <td>4.03970</td>\n",
       "      <td>-4.17541</td>\n",
       "      <td>2.01985</td>\n",
       "    </tr>\n",
       "    <tr>\n",
       "      <th>1</th>\n",
       "      <td>2</td>\n",
       "      <td>246.678</td>\n",
       "      <td>3.33042</td>\n",
       "      <td>2.21375</td>\n",
       "      <td>1.66521</td>\n",
       "    </tr>\n",
       "    <tr>\n",
       "      <th>2</th>\n",
       "      <td>3</td>\n",
       "      <td>291.885</td>\n",
       "      <td>2.89588</td>\n",
       "      <td>-2.69992</td>\n",
       "      <td>1.44794</td>\n",
       "    </tr>\n",
       "    <tr>\n",
       "      <th>3</th>\n",
       "      <td>4</td>\n",
       "      <td>305.905</td>\n",
       "      <td>3.09000</td>\n",
       "      <td>-7.56016</td>\n",
       "      <td>1.54500</td>\n",
       "    </tr>\n",
       "    <tr>\n",
       "      <th>4</th>\n",
       "      <td>5</td>\n",
       "      <td>300.732</td>\n",
       "      <td>3.56539</td>\n",
       "      <td>-3.66098</td>\n",
       "      <td>1.78269</td>\n",
       "    </tr>\n",
       "  </tbody>\n",
       "</table>\n",
       "</div>"
      ],
      "text/plain": [
       "   Octant       DD      dDD    Abias   dAbias\n",
       "0       1  246.313  4.03970 -4.17541  2.01985\n",
       "1       2  246.678  3.33042  2.21375  1.66521\n",
       "2       3  291.885  2.89588 -2.69992  1.44794\n",
       "3       4  305.905  3.09000 -7.56016  1.54500\n",
       "4       5  300.732  3.56539 -3.66098  1.78269"
      ]
     },
     "execution_count": 11,
     "metadata": {},
     "output_type": "execute_result"
    }
   ],
   "source": [
    "df.head()"
   ]
  },
  {
   "cell_type": "code",
   "execution_count": 20,
   "metadata": {},
   "outputs": [],
   "source": [
    "def ewavg(value, error):\n",
    "    avg, sow = np.average(value, weights=1/np.square(error), returned=True)\n",
    "    err = 1.0/np.sqrt(sow)\n",
    "    return avg, err\n",
    "\n",
    "def calc_chi2(fit, data, err, dof):\n",
    "    chi2 = np.sum(np.square(data-fit)/np.square(err))\n",
    "    return chi2, chi2/dof\n",
    "\n",
    "def chi2probdistribution(chi2, dof):\n",
    "    if chi2 > 0:\n",
    "        num = np.power(chi2,(dof-2.0)/2.0)*np.exp(-chi2/2.0)\n",
    "        dem = np.power(2.0,(dof/2.0))*gamma(dof/2.0)\n",
    "        return num/dem\n",
    "    elif chi2 == 0:\n",
    "        return 0\n",
    "    else:\n",
    "        print('Chi^2 values < 0 not valid!')\n",
    "        \n",
    "def calc_chi2prob(chi2, dof):\n",
    "    return quad(chi2probdistribution, chi2, np.inf, (dof))"
   ]
  },
  {
   "cell_type": "code",
   "execution_count": 25,
   "metadata": {},
   "outputs": [],
   "source": [
    "dd_avg = ewavg(df.DD, df.dDD)\n",
    "dd_chi2, dd_rchi2 = calc_chi2(dd_avg[0]*np.ones(8), df.DD, df.dDD, 7)\n",
    "dd_prob = calc_chi2prob(dd_chi2, 7)"
   ]
  },
  {
   "cell_type": "code",
   "execution_count": 26,
   "metadata": {},
   "outputs": [
    {
     "data": {
      "text/plain": [
       "((290.5340741541619, 1.17256635095062),\n",
       " 57.31066633686562,\n",
       " (1.3354497226324013e-82, 1.2704676970573683e-83))"
      ]
     },
     "execution_count": 26,
     "metadata": {},
     "output_type": "execute_result"
    }
   ],
   "source": [
    "dd_avg, dd_rchi2, dd_prob"
   ]
  },
  {
   "cell_type": "code",
   "execution_count": 36,
   "metadata": {},
   "outputs": [
    {
     "data": {
      "image/png": "[encoded data removed]",
      "text/plain": [
       "<matplotlib.figure.Figure at 0x7f28542629b0>"
      ]
     },
     "metadata": {},
     "output_type": "display_data"
    }
   ],
   "source": [
    "fig, ax = plt.subplots(figsize=figsize(0.9))\n",
    "ax.errorbar(df.Octant,\n",
    "            df.DD,\n",
    "            yerr=df.dDD,\n",
    "            ls='None',\n",
    "            marker='d',\n",
    "            capsize=2,\n",
    "            capthick=1, \n",
    "            barsabove=True,\n",
    "            color=sns.xkcd_rgb['dull blue'])\n",
    "ax.plot(np.array([0.5, 8.5]), \n",
    "        dd_avg[0]*np.ones(2), \n",
    "        ls='-', \n",
    "        color=sns.xkcd_rgb['dull red'], zorder=1)\n",
    "ax.set_xlabel('Main Detector')\n",
    "ax.set_ylabel('Effective Model $A_{DD}$ [ppb]')\n",
    "ax.set_xlim(0.5, 8.5)\n",
    "ax.yaxis.set_minor_locator(AutoMinorLocator(4))\n",
    "plt.savefig('plots/al_pmt_dd_model.pdf', bbox_inches='tight')\n",
    "plt.savefig('plots/al_pmt_dd_model.pgf', bbox_inches='tight')\n",
    "plt.savefig('plots/al_pmt_dd_model.png', bbox_inches='tight')\n",
    "plt.show()"
   ]
  },
  {
   "cell_type": "code",
   "execution_count": 28,
   "metadata": {},
   "outputs": [],
   "source": [
    "Ab_avg = ewavg(df.Abias, df.dAbias)\n",
    "Ab_chi2, Ab_rchi2 = calc_chi2(Ab_avg[0]*np.ones(8), df.Abias, df.dAbias, 7)\n",
    "Ab_prob = calc_chi2prob(Ab_chi2, 7)"
   ]
  },
  {
   "cell_type": "code",
   "execution_count": 29,
   "metadata": {},
   "outputs": [
    {
     "data": {
      "text/plain": [
       "((-4.166404238583238, 0.5862833563580863),\n",
       " 5.061887708647747,\n",
       " (9.270971960201095e-06, 1.384294033700317e-08))"
      ]
     },
     "execution_count": 29,
     "metadata": {},
     "output_type": "execute_result"
    }
   ],
   "source": [
    "Ab_avg, Ab_rchi2, Ab_prob"
   ]
  },
  {
   "cell_type": "code",
   "execution_count": 35,
   "metadata": {},
   "outputs": [
    {
     "data": {
      "image/png": "[encoded data removed]",
      "text/plain": [
       "<matplotlib.figure.Figure at 0x7f2853af0cf8>"
      ]
     },
     "metadata": {},
     "output_type": "display_data"
    }
   ],
   "source": [
    "fig, ax = plt.subplots(figsize=figsize(0.9))\n",
    "ax.errorbar(df.Octant,\n",
    "            df.Abias,\n",
    "            yerr=df.dAbias,\n",
    "            ls='None',\n",
    "            marker='d',\n",
    "            capsize=2,\n",
    "            capthick=1,\n",
    "            barsabove=True,\n",
    "            color=sns.xkcd_rgb['dull blue'])\n",
    "ax.plot(np.array([0.5, 8.5]), \n",
    "        Ab_avg[0]*np.ones(2), \n",
    "        ls='-', \n",
    "        color=sns.xkcd_rgb['dull red'], zorder=1)\n",
    "ax.set_xlabel('Main Detector')\n",
    "ax.set_ylabel('Effective Model $A_{bias}$ [ppb]')\n",
    "ax.set_xlim(0.5, 8.5)\n",
    "ax.yaxis.set_minor_locator(AutoMinorLocator(4))\n",
    "plt.savefig('plots/al_abias_model.pdf', bbox_inches='tight')\n",
    "plt.savefig('plots/al_abias_model.pgf', bbox_inches='tight')\n",
    "plt.savefig('plots/al_abias_model.png', bbox_inches='tight')\n",
    "plt.show()"
   ]
  },
  {
   "cell_type": "code",
   "execution_count": null,
   "metadata": {},
   "outputs": [],
   "source": []
  }
 ],
 "metadata": {
  "kernelspec": {
   "display_name": "Python 3",
   "language": "python",
   "name": "python3"
  },
  "language_info": {
   "codemirror_mode": {
    "name": "ipython",
    "version": 3
   },
   "file_extension": ".py",
   "mimetype": "text/x-python",
   "name": "python",
   "nbconvert_exporter": "python",
   "pygments_lexer": "ipython3",
   "version": "3.6.5"
  }
 },
 "nbformat": 4,
 "nbformat_minor": 2
}
