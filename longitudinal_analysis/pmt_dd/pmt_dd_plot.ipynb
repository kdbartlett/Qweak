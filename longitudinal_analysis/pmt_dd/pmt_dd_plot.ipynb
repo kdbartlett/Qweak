{
 "cells": [
  {
   "cell_type": "code",
   "execution_count": 1,
   "metadata": {},
   "outputs": [],
   "source": [
    "import numpy as np\n",
    "#This following is so that this will work with Latex, see\n",
    "#http://bkanuka.com/articles/native-latex-plots/\n",
    "import matplotlib as mpl\n",
    "mpl.use('pgf')"
   ]
  },
  {
   "cell_type": "code",
   "execution_count": 2,
   "metadata": {},
   "outputs": [],
   "source": [
    "def figsize(scale):                                 # I think scale is the size you want it on the page\n",
    "    fig_width_pt = 433.62001                        # Get this from LaTeX using \\the\\textwidth\n",
    "    inches_per_pt = 1.0/72.0                        # Convert pt to inch\n",
    "    golden_mean = (np.sqrt(5.0)-1.0)/2.0            # Aesthetic ratio (you could change this)\n",
    "    fig_width = fig_width_pt*inches_per_pt*scale    # width in inches\n",
    "    fig_height = fig_width*golden_mean              # height in inches\n",
    "    fig_size = [fig_width,fig_height]\n",
    "    return fig_size\n",
    "\n",
    "pgf_with_lualatex = {                      # Setup matplotlib to use latex for output\n",
    "    \"pgf.texsystem\": \"lualatex\",           # Change this if using xetex or luatex\n",
    "    \"text.usetex\": True,                   # Use LaTeX to write all text\n",
    "    \"pgf.rcfonts\": False,\n",
    "    #Fonts\n",
    "    \"font.family\": \"serif\",                # Get from the pdf font function on the doc\n",
    "    \"font.serif\": \"Computer Modern Roman\",      \n",
    "    #\"font.sans-serif\": \"Computer Modern Sans serif\",\n",
    "    #\"font.serif\": [],      \n",
    "    \"font.sans-serif\": [],\n",
    "    \"font.monospace\": [], # Blank entries should cause plots to inherit fonts from the document\n",
    "    #Text size\n",
    "    \"font.size\": 11,# Document default is 11pt font.\n",
    "    #\"text.fontsize\": 11,\n",
    "    \"axes.labelsize\": 11,\n",
    "    \"legend.fontsize\": 8,               # Make the legend/label fonts a little smaller\n",
    "    \"xtick.labelsize\": 8,\n",
    "    \"ytick.labelsize\": 8,\n",
    "    ##Axis\n",
    "    #\"axes.labelpad\": 2,     # space between label and axis \n",
    "    \"figure.figsize\": figsize(1.0),     # default fig size of 1.0 textwidth\n",
    "    #Packages\n",
    "    \"pgf.preamble\": [\n",
    "        r\"\\usepackage[utf8x]{inputenc}\",    # use utf8 fonts becasue your computer can handle it :)\n",
    "        r\"\\usepackage[T1]{fontenc}\",        # plots will be generated using this preamble\n",
    "        r\"\\usepackage{amsmath}\",  #need to add math or the ^ won't work\n",
    "        r\"\\usepackage{amssymb}\"]\n",
    "    }\n",
    "\n",
    "mpl.rcParams.update(pgf_with_lualatex)"
   ]
  },
  {
   "cell_type": "code",
   "execution_count": 33,
   "metadata": {},
   "outputs": [],
   "source": [
    "import pandas as pd\n",
    "import matplotlib.pyplot as plt\n",
    "import seaborn as sns\n",
    "from matplotlib.ticker import AutoMinorLocator\n",
    "from scipy.integrate import quad\n",
    "from scipy.special import gamma"
   ]
  },
  {
   "cell_type": "code",
   "execution_count": 91,
   "metadata": {},
   "outputs": [],
   "source": [
    "%matplotlib inline\n",
    "plt.style.use('seaborn-ticks')\n",
    "sns.set_palette(\"muted\")"
   ]
  },
  {
   "cell_type": "code",
   "execution_count": 5,
   "metadata": {},
   "outputs": [],
   "source": [
    "col_names = ['slug', 'wien', 'asym', 'asym_err', 'asym_n', 'precession', 'wien_state', 'ihwp']"
   ]
  },
  {
   "cell_type": "code",
   "execution_count": 23,
   "metadata": {},
   "outputs": [],
   "source": [
    "md1pos = pd.read_csv('../database_extraction/data/al_md1pos.csv', header=None, names=col_names)\n",
    "md1neg = pd.read_csv('../database_extraction/data/al_md1neg.csv', header=None, names=col_names)\n",
    "md2pos = pd.read_csv('../database_extraction/data/al_md2pos.csv', header=None, names=col_names)\n",
    "md2neg = pd.read_csv('../database_extraction/data/al_md2neg.csv', header=None, names=col_names)\n",
    "md3pos = pd.read_csv('../database_extraction/data/al_md3pos.csv', header=None, names=col_names)\n",
    "md3neg = pd.read_csv('../database_extraction/data/al_md3neg.csv', header=None, names=col_names)\n",
    "md4pos = pd.read_csv('../database_extraction/data/al_md4pos.csv', header=None, names=col_names)\n",
    "md4neg = pd.read_csv('../database_extraction/data/al_md4neg.csv', header=None, names=col_names)\n",
    "md5pos = pd.read_csv('../database_extraction/data/al_md5pos.csv', header=None, names=col_names)\n",
    "md5neg = pd.read_csv('../database_extraction/data/al_md5neg.csv', header=None, names=col_names)\n",
    "md6pos = pd.read_csv('../database_extraction/data/al_md6pos.csv', header=None, names=col_names)\n",
    "md6neg = pd.read_csv('../database_extraction/data/al_md6neg.csv', header=None, names=col_names)\n",
    "md7pos = pd.read_csv('../database_extraction/data/al_md7pos.csv', header=None, names=col_names)\n",
    "md7neg = pd.read_csv('../database_extraction/data/al_md7neg.csv', header=None, names=col_names)\n",
    "md8pos = pd.read_csv('../database_extraction/data/al_md8pos.csv', header=None, names=col_names)\n",
    "md8neg = pd.read_csv('../database_extraction/data/al_md8neg.csv', header=None, names=col_names)"
   ]
  },
  {
   "cell_type": "code",
   "execution_count": 51,
   "metadata": {},
   "outputs": [],
   "source": [
    "sc = pd.read_csv('../beamline_background/data/al_md_uslumi_asymmetries.csv', usecols=[9],names=['sc'])"
   ]
  },
  {
   "cell_type": "code",
   "execution_count": null,
   "metadata": {},
   "outputs": [],
   "source": []
  },
  {
   "cell_type": "code",
   "execution_count": 18,
   "metadata": {},
   "outputs": [],
   "source": [
    "def pmtdd(pos, neg):\n",
    "    return pos-neg\n",
    "def pmtdderr(pos_err, neg_err):\n",
    "    return np.sqrt(np.square(pos_err) + np.square(neg_err))"
   ]
  },
  {
   "cell_type": "code",
   "execution_count": 40,
   "metadata": {},
   "outputs": [],
   "source": [
    "def ewavg(value, error):\n",
    "    avg, sow = np.average(value, weights=1/np.square(error), returned=True)\n",
    "    err = 1.0/np.sqrt(sow)\n",
    "    return avg, err"
   ]
  },
  {
   "cell_type": "code",
   "execution_count": 85,
   "metadata": {},
   "outputs": [],
   "source": [
    "def calc_chi2(fit, data, err, dof):\n",
    "    chi2 = np.sum(np.square(data-fit)/np.square(err))\n",
    "    return chi2, chi2/dof\n",
    "\n",
    "def chi2probdistribution(chi2, dof):\n",
    "    if chi2 > 0:\n",
    "        num = np.power(chi2,(dof-2.0)/2.0)*np.exp(-chi2/2.0)\n",
    "        dem = np.power(2.0,(dof/2.0))*gamma(dof/2.0)\n",
    "        return num/dem\n",
    "    elif chi2 == 0:\n",
    "        return 0\n",
    "    else:\n",
    "        print('Chi^2 values < 0 not valid!')\n",
    "        \n",
    "def calc_chi2prob(chi2, dof):\n",
    "    return quad(chi2probdistribution, chi2, np.inf, (dof))"
   ]
  },
  {
   "cell_type": "code",
   "execution_count": 69,
   "metadata": {},
   "outputs": [],
   "source": [
    "md1_pmtdd = pmtdd(sc.sc*md1pos.asym, sc.sc*md1neg.asym)\n",
    "md1_pmtdd_err = pmtdderr(md1pos.asym_err, md1neg.asym_err)\n",
    "md2_pmtdd = pmtdd(sc.sc*md2pos.asym, sc.sc*md2neg.asym)\n",
    "md2_pmtdd_err = pmtdderr(md2pos.asym_err, md2neg.asym_err)\n",
    "md3_pmtdd = pmtdd(sc.sc*md3pos.asym, sc.sc*md3neg.asym)\n",
    "md3_pmtdd_err = pmtdderr(md3pos.asym_err, md3neg.asym_err)\n",
    "md4_pmtdd = pmtdd(sc.sc*md4pos.asym, sc.sc*md4neg.asym)\n",
    "md4_pmtdd_err = pmtdderr(md4pos.asym_err, md4neg.asym_err)\n",
    "md5_pmtdd = pmtdd(sc.sc*md5pos.asym, sc.sc*md5neg.asym)\n",
    "md5_pmtdd_err = pmtdderr(md5pos.asym_err, md5neg.asym_err)\n",
    "md6_pmtdd = pmtdd(sc.sc*md6pos.asym, sc.sc*md6neg.asym)\n",
    "md6_pmtdd_err = pmtdderr(md6pos.asym_err, md6neg.asym_err)\n",
    "md7_pmtdd = pmtdd(sc.sc*md7pos.asym, sc.sc*md7neg.asym)\n",
    "md7_pmtdd_err = pmtdderr(md7pos.asym_err, md7neg.asym_err)\n",
    "md8_pmtdd = pmtdd(sc.sc*md8pos.asym, sc.sc*md8neg.asym)\n",
    "md8_pmtdd_err = pmtdderr(md8pos.asym_err, md8neg.asym_err)"
   ]
  },
  {
   "cell_type": "code",
   "execution_count": 70,
   "metadata": {},
   "outputs": [],
   "source": [
    "avg_pmtdd = np.array([ewavg(md1_pmtdd, md1_pmtdd_err),\n",
    "                      ewavg(md2_pmtdd, md2_pmtdd_err),\n",
    "                      ewavg(md3_pmtdd, md3_pmtdd_err),\n",
    "                      ewavg(md4_pmtdd, md4_pmtdd_err),\n",
    "                      ewavg(md5_pmtdd, md5_pmtdd_err),\n",
    "                      ewavg(md6_pmtdd, md6_pmtdd_err),\n",
    "                      ewavg(md7_pmtdd, md7_pmtdd_err),\n",
    "                      ewavg(md8_pmtdd, md8_pmtdd_err)])"
   ]
  },
  {
   "cell_type": "code",
   "execution_count": 71,
   "metadata": {},
   "outputs": [
    {
     "data": {
      "text/plain": [
       "array([ 0.50702315,  0.49240404, -0.10237778,  0.1768599 ,  0.32778455,\n",
       "        0.38933174,  0.64965263,  0.55138653])"
      ]
     },
     "execution_count": 71,
     "metadata": {},
     "output_type": "execute_result"
    }
   ],
   "source": [
    "avg_pmtdd[:,0]"
   ]
  },
  {
   "cell_type": "code",
   "execution_count": 75,
   "metadata": {},
   "outputs": [],
   "source": [
    "tot_avg = ewavg(avg_pmtdd[:,0], avg_pmtdd[:,1])"
   ]
  },
  {
   "cell_type": "code",
   "execution_count": 101,
   "metadata": {},
   "outputs": [
    {
     "data": {
      "text/plain": [
       "(0.37442861817378675, 0.10635516353690645)"
      ]
     },
     "execution_count": 101,
     "metadata": {},
     "output_type": "execute_result"
    }
   ],
   "source": [
    "tot_avg"
   ]
  },
  {
   "cell_type": "code",
   "execution_count": 87,
   "metadata": {},
   "outputs": [],
   "source": [
    "tot_chi2, tot_rchi2 = calc_chi2(tot_avg[0]*np.ones(8), avg_pmtdd[:,0], avg_pmtdd[:,1], 7)\n",
    "tot_prob = calc_chi2prob(tot_chi2, 7)"
   ]
  },
  {
   "cell_type": "code",
   "execution_count": 89,
   "metadata": {},
   "outputs": [
    {
     "data": {
      "text/plain": [
       "(0.6571527318217789, 0.7086361663142039)"
      ]
     },
     "execution_count": 89,
     "metadata": {},
     "output_type": "execute_result"
    }
   ],
   "source": [
    "tot_rchi2, tot_prob[0]"
   ]
  },
  {
   "cell_type": "code",
   "execution_count": 73,
   "metadata": {},
   "outputs": [],
   "source": [
    "md_number = np.arange(1,9,1)"
   ]
  },
  {
   "cell_type": "code",
   "execution_count": 100,
   "metadata": {},
   "outputs": [
    {
     "data": {
      "image/png": "[encoded data removed]",
      "text/plain": [
       "<matplotlib.figure.Figure at 0x7f4fa4407c50>"
      ]
     },
     "metadata": {},
     "output_type": "display_data"
    }
   ],
   "source": [
    "fig, ax = plt.subplots(figsize=figsize(0.9))\n",
    "ax.errorbar(md_number,\n",
    "            avg_pmtdd[:,0]*1000.0,\n",
    "            yerr=avg_pmtdd[:,1]*1000.0,\n",
    "            ls='None',\n",
    "            marker='d',\n",
    "            capsize=2,\n",
    "            capthick=1,\n",
    "            barsabove=True,\n",
    "            color=sns.xkcd_rgb['dull blue'])\n",
    "ax.plot(np.array([0.5, 8.5]), \n",
    "        1000.0*tot_avg[0]*np.ones(2), \n",
    "        ls='-', \n",
    "        color=sns.xkcd_rgb['dull red'], zorder=1)\n",
    "ax.set_xlabel('Main Detector')\n",
    "ax.set_ylabel('Measured $A_{DD}$ [ppb]')\n",
    "ax.set_xlim(0.5, 8.5)\n",
    "ax.yaxis.set_minor_locator(AutoMinorLocator(4))\n",
    "plt.savefig('plots/al_pmt_dd.pdf', bbox_inches='tight')\n",
    "plt.savefig('plots/al_pmt_dd.pgf', bbox_inches='tight')\n",
    "plt.savefig('plots/al_pmt_dd.png', bbox_inches='tight')\n",
    "plt.show()"
   ]
  },
  {
   "cell_type": "code",
   "execution_count": null,
   "metadata": {},
   "outputs": [],
   "source": []
  }
 ],
 "metadata": {
  "kernelspec": {
   "display_name": "Python 3",
   "language": "python",
   "name": "python3"
  },
  "language_info": {
   "codemirror_mode": {
    "name": "ipython",
    "version": 3
   },
   "file_extension": ".py",
   "mimetype": "text/x-python",
   "name": "python",
   "nbconvert_exporter": "python",
   "pygments_lexer": "ipython3",
   "version": "3.6.5"
  }
 },
 "nbformat": 4,
 "nbformat_minor": 2
}
