{
 "cells": [
  {
   "cell_type": "markdown",
   "metadata": {},
   "source": [
    "# Elastic Cross-section Data Comparison\n",
    "\n",
    "Kurtis Bartlett\n",
    "\n",
    "2017/3/12\n",
    "\n",
    "Ipython notebook for generating plot of elastic Aluminum cross-section measurements compared with model."
   ]
  },
  {
   "cell_type": "code",
   "execution_count": 1,
   "metadata": {
    "collapsed": false
   },
   "outputs": [
    {
     "name": "stderr",
     "output_type": "stream",
     "text": [
      ":0: FutureWarning: IPython widgets are experimental and may change in the future.\n"
     ]
    }
   ],
   "source": [
    "# Import necessary packages and modules\n",
    "import numpy as np\n",
    "import pandas as pd\n",
    "import matplotlib.pyplot as pp\n",
    "import seaborn as sns"
   ]
  },
  {
   "cell_type": "code",
   "execution_count": 2,
   "metadata": {
    "collapsed": true
   },
   "outputs": [],
   "source": [
    "# Use text and computer modern for text formating\n",
    "pp.rcParams[\"text.usetex\"] = \"True\"\n",
    "pp.rcParams[\"font.family\"] = \"serif\"\n",
    "pp.rcParams[\"font.serif\"] = \"Computer Modern Roman\"\n",
    "pp.rcParams[\"font.sans-serif\"] = \"Computer Modern Sans serif\""
   ]
  },
  {
   "cell_type": "code",
   "execution_count": 3,
   "metadata": {
    "collapsed": true
   },
   "outputs": [],
   "source": [
    "# Keep matplotlib plots inline\n",
    "%matplotlib inline"
   ]
  },
  {
   "cell_type": "code",
   "execution_count": 4,
   "metadata": {
    "collapsed": false
   },
   "outputs": [],
   "source": [
    "pp.style.use('seaborn-ticks')\n",
    "sns.set_palette(\"muted\")\n",
    "plot_size = 6*np.array([1.0,(2.0/(1.0+np.sqrt(5.0)))]) #Use Golden ratio as aspect ratio for plots"
   ]
  },
  {
   "cell_type": "code",
   "execution_count": 5,
   "metadata": {
    "collapsed": false
   },
   "outputs": [],
   "source": [
    "# Define contants (2014 PDG)\n",
    "alpha = 1/137.035999074\n",
    "cc = 197.3269718 # MeV fm\n",
    "cc_sq = 0.389379338 # GeV^2 mbarn\n",
    "m_p = 0.938272046 # Gev/c^2\n",
    "J = 5.0/2.0 # Aluminum-27 nuclear spin\n",
    "Z = 13 # Aluminum # of protons\n",
    "N = 14 # Aluminum # of neutrons\n",
    "A = 27 # Aluminum atomic mass\n",
    "# T. Stovall et. al values\n",
    "r = 2.98*(1000.0/cc) # [fm]->[1/GeV] RMS radius\n",
    "a_p_sq = 0.427*(1000.0/cc)*(1000.0/cc) # [fm^2]->[1/GeV^2]\n",
    "Q = 14.6*(1000.0/cc)*(1000.0/cc) # [fm^2]->[1/GeV^2] Electric quadrupole moment\n",
    "gamma = 2.792847356 # [n.m.] Proton magnetic moment\n",
    "mu = 4.79 # [n.m.] Aluminum Nuclear magnetic moment (theortical) or 3.69 [n.m.] (measured)\n",
    "\n",
    "# Fourier Bessel Xsection values\n",
    "R_max = 7.0 # *(1000.0/cc) # [fm]->[1/GeV] Aluminum"
   ]
  },
  {
   "cell_type": "code",
   "execution_count": 6,
   "metadata": {
    "collapsed": false
   },
   "outputs": [],
   "source": [
    "# Define functions\n",
    "def q_squared(energy, theta):\n",
    "    'Energy[GeV], Theta[Degrees]'\n",
    "    one_vec = np.ones(len(theta))\n",
    "    numerator = one_vec-np.cos(np.deg2rad(theta))\n",
    "    denominator = one_vec+(energy/(m_p*one_vec))*numerator\n",
    "    qq = (2.0*one_vec)*energy*energy*(numerator/denominator)\n",
    "    return qq\n",
    "\n",
    "def percent_diff(data, model):\n",
    "    pdiff = 100*((data-model)/data)\n",
    "    return pdiff\n",
    "\n",
    "def percent_diff_err(data, model, data_err, model_err):\n",
    "    one_vec = np.ones(len(data))\n",
    "    pdiff_err_sq = np.square(data_err)*np.square((100.0*one_vec*model)/np.square(data)) + np.square(model_err)*np.square((-100.0*one_vec)/data)\n",
    "    return np.sqrt(pdiff_err_sq)\n",
    "\n",
    "def mott_xsection(energy, theta):\n",
    "    'Energy[GeV], Theta[Degrees]'\n",
    "    one_vec = np.ones(len(theta))\n",
    "    numerator = alpha*alpha*one_vec*np.cos(np.deg2rad(theta)/(2.0*one_vec))*np.cos(np.deg2rad(theta)/(2.0*one_vec))\n",
    "    denominator = 4*one_vec*energy*energy*np.power(np.sin(np.deg2rad(theta)/(2.0*one_vec)),4)\n",
    "    xsection = (1000*cc_sq*one_vec)*(numerator/denominator) #Convert to mubarns/sr\n",
    "    return xsection\n",
    "\n",
    "def stovall_electric_xsection(energy, theta):\n",
    "    'Energy[GeV], Theta[Degrees]'\n",
    "    one_vec = np.ones(len(theta))\n",
    "    \n",
    "    qq = q_squared(energy, theta) # [GeV^2]\n",
    "    \n",
    "    kk = qq*np.square(one_vec+((((3.0*Z*alpha)/(2.0*r))*one_vec)/energy)) # [GeV^2]\n",
    "    \n",
    "    a_0_sq = (r*r - 1.5*a_p_sq)/(3.5-(10.0/Z)-(3.0/(2.0*A))) # [1/GeV^2]\n",
    "    \n",
    "    x = 0.25*one_vec*kk*a_0_sq # Simple Harmonic Oscillator term [unitless]\n",
    "    \n",
    "    F_E0 = ((1.0*one_vec)/(Z*one_vec))*np.exp(-1.0*one_vec*x)*(Z*one_vec-(4.0/3.0)*(Z-5.0)*one_vec*x+(4.0/15.0)*(Z-8.0)*one_vec*x*x)\n",
    "    F_E2 = (one_vec-(2.0/7.0)*one_vec*x)*np.exp(-1.0*one_vec*x)\n",
    "    \n",
    "    C_fp = np.exp(-0.25*a_p_sq*one_vec*kk) # Fine proton size correction\n",
    "    C_nt = np.exp(x/(A*one_vec)) # Non-translational invariance correction\n",
    "\n",
    "    F_E0_corr = F_E0*C_fp*C_nt # Corrected F_0 form factor\n",
    "    F_E2_corr = F_E2*C_fp*C_nt # Corrected F_2 form factor\n",
    "    \n",
    "    F_E_sq = F_E0_corr*F_E0_corr + (7.0/450.0)*((Q*Q)/(Z*Z))*one_vec*kk*kk*F_E2_corr*F_E2_corr # Electric Form factor\n",
    "    \n",
    "    xsection = Z*Z*one_vec*mott_xsection(energy, theta)*F_E_sq\n",
    "    return xsection\n",
    "\n",
    "def stovall_xsection(energy, theta):\n",
    "    'Energy[GeV], Theta[Degrees]'\n",
    "    one_vec = np.ones(len(theta))\n",
    "    \n",
    "    qq = q_squared(energy, theta) # [GeV^2]\n",
    "    \n",
    "    kk = qq*np.square(one_vec+((((3.0*Z*alpha)/(2.0*r))*one_vec)/energy)) # [GeV^2]\n",
    "    \n",
    "    a_0_sq = (r*r - 1.5*a_p_sq)/(3.5-(10.0/Z)-(3.0/(2.0*A))) # [1/GeV^2]\n",
    "    \n",
    "    x = 0.25*one_vec*kk*a_0_sq # Simple Harmonic Oscillator term [unitless]\n",
    "    \n",
    "    Omega = (-3.0/2.0)*(1.0+2.0*gamma)*a_0_sq\n",
    "    Gamma = (15.0/4.0)*gamma*a_0_sq*a_0_sq\n",
    "    \n",
    "    # Electric Form Factors\n",
    "    F_E0 = ((1.0*one_vec)/(Z*one_vec))*np.exp(-1.0*one_vec*x)*(Z*one_vec-(4.0/3.0)*(Z-5.0)*one_vec*x+(4.0/15.0)*(Z-8.0)*one_vec*x*x)\n",
    "    F_E2 = (one_vec-(2.0/7.0)*one_vec*x)*np.exp(-1.0*one_vec*x)\n",
    "    \n",
    "    # Magnetic Form Factors\n",
    "    F_M1 = (one_vec - ((2.0*(1.0+2.0*gamma))/(5.0*(1.0+0.5*gamma)))*one_vec*x + ((6.0*gamma)/(35*(1.0+0.5*gamma)))*one_vec*x*x)*np.exp(-1.0*one_vec*x)\n",
    "    F_M3 = (one_vec - ((2.0*gamma)/(3.0*(1.0+2.0*gamma)))*one_vec*x)*np.exp(-1.0*one_vec*x)\n",
    "    F_M5 = np.exp(-1.0*one_vec*x)\n",
    "    \n",
    "    C_fp = np.exp(-0.25*a_p_sq*one_vec*kk) # Fine proton size correction\n",
    "    C_nt = np.exp(x/(A*one_vec)) # Non-translational invariance correction\n",
    "\n",
    "    F_E0_corr = F_E0*C_fp*C_nt # Corrected F_0 form factor\n",
    "    F_E2_corr = F_E2*C_fp*C_nt # Corrected F_2 form factor\n",
    "    F_M1_corr = F_M1*C_fp*C_nt # Corrected F_M1 form factor\n",
    "    F_M3_corr = F_M3*C_fp*C_nt # Corrected F_M3 form factor\n",
    "    F_M5_corr = F_M5*C_fp*C_nt # Corrected F_M5 form factor\n",
    "    \n",
    "    F_E_sq = F_E0_corr*F_E0_corr + (7.0/450.0)*((Q*Q)/(Z*Z))*one_vec*kk*kk*F_E2_corr*F_E2_corr # Electric Form factor\n",
    "    F_M_sq = F_M1_corr*F_M1_corr + (4.0/525.0)*((Omega*Omega)/(mu*mu))*one_vec*kk*kk*F_M3_corr*F_M3_corr + (2.0/33075.0)*((Gamma*Gamma)/(mu*mu))*kk*kk*kk*kk*F_M5_corr*F_M5_corr\n",
    "    \n",
    "    C_mag = ((7.0/5.0)*((mu*mu)/(12.0*m_p*m_p))*one_vec)*(one_vec + 2.0*one_vec*np.tan(np.deg2rad(theta)/(2.0*one_vec))*np.tan(np.deg2rad(theta)/(2.0*one_vec)))*kk\n",
    "    \n",
    "    xsection = mott_xsection(energy, theta)*(Z*Z*one_vec*F_E_sq + C_mag*F_M_sq)\n",
    "    return xsection\n",
    "\n",
    "def fourier_bessel_xsection(energy, theta, v, a):\n",
    "    'Energy[GeV], Theta[Degrees], Fourier Bessel coefficients[unitless]'\n",
    "    one_vec = np.ones(len(theta))\n",
    "    \n",
    "    qq = q_squared(energy, theta) # [GeV^2]\n",
    "    q = (1000.0/cc)*np.sqrt(qq) #[GeV]->[1/fm]\n",
    "    fb_sum = 0.0\n",
    "    for i in range(len(v)):\n",
    "        numerator = np.power(-1.0,v[i]+1)*np.sin(R_max*one_vec*q)\n",
    "        denominator = (((v[i]*np.pi)/R_max)*one_vec - q)*(((v[i]*np.pi)/R_max)*one_vec + q)\n",
    "        fb_sum = fb_sum + a[i]*(numerator/denominator)\n",
    "    F_bessel = ((4.0*np.pi)/Z)*one_vec*(1/q)*fb_sum\n",
    "    \n",
    "    xsection = Z*Z*one_vec*mott_xsection(energy, theta)*F_bessel*F_bessel\n",
    "\n",
    "    return xsection"
   ]
  },
  {
   "cell_type": "code",
   "execution_count": 7,
   "metadata": {
    "collapsed": true
   },
   "outputs": [],
   "source": [
    "lombard_data = pd.read_csv('lombard_al_elastic_data.csv')\n",
    "li_data = pd.read_csv('li_yearian_sick_al_elastic_data.csv')\n",
    "fourier_bessel_coeff = pd.read_csv('aluminum_fourier_bessel_coefficients.csv')"
   ]
  },
  {
   "cell_type": "code",
   "execution_count": 34,
   "metadata": {
    "collapsed": false
   },
   "outputs": [],
   "source": [
    "#lombard_data[:]\n",
    "#li_data[:]"
   ]
  },
  {
   "cell_type": "code",
   "execution_count": 8,
   "metadata": {
    "collapsed": false
   },
   "outputs": [],
   "source": [
    "lombard_calc_qq = q_squared(lombard_data.energy/1000.0, lombard_data.theta)\n",
    "li_calc_qq = q_squared(li_data.energy/1000.0, li_data.theta)\n",
    "\n",
    "li_stovall_electric_xsection = stovall_electric_xsection(li_data.energy/1000.0, \n",
    "                                                         li_data.theta)\n",
    "lombard_stovall_electric_xsection = stovall_electric_xsection(lombard_data.energy/1000.0, \n",
    "                                                              lombard_data.theta)\n",
    "li_stovall_xsection = stovall_xsection(li_data.energy/1000.0, \n",
    "                                                         li_data.theta)\n",
    "lombard_stovall_xsection = stovall_xsection(lombard_data.energy/1000.0, \n",
    "                                                              lombard_data.theta)\n",
    "li_fb_xsection = fourier_bessel_xsection(li_data.energy/1000.0,\n",
    "                                         li_data.theta,\n",
    "                                         fourier_bessel_coeff.v,\n",
    "                                         fourier_bessel_coeff.a)\n",
    "lombard_fb_xsection = fourier_bessel_xsection(lombard_data.energy/1000.0,\n",
    "                                              lombard_data.theta,\n",
    "                                              fourier_bessel_coeff.v,\n",
    "                                              fourier_bessel_coeff.a)\n",
    "\n",
    "li_stovall_electric_pdiff = percent_diff(li_data.xsection*1000.0,\n",
    "                                         li_stovall_electric_xsection)\n",
    "lombard_stovall_electric_pdiff = percent_diff(lombard_data.xsection,\n",
    "                                              lombard_stovall_electric_xsection)\n",
    "li_fb_pdiff = percent_diff(li_data.xsection*1000.0,\n",
    "                           li_fb_xsection)\n",
    "lombard_fb_pdiff = percent_diff(lombard_data.xsection,\n",
    "                                lombard_fb_xsection)\n",
    "\n",
    "li_stovall_electric_pdiff_err = percent_diff_err(li_data.xsection*1000.0,\n",
    "                                                 li_stovall_electric_xsection,\n",
    "                                                 li_data.xsection_err*1000.0,\n",
    "                                                 np.zeros(len(li_stovall_electric_xsection)))\n",
    "lombard_stovall_electric_pdiff_err = percent_diff_err(lombard_data.xsection,\n",
    "                                                      lombard_stovall_electric_xsection,\n",
    "                                                      lombard_data.xsection_err,\n",
    "                                                      np.zeros(len(lombard_stovall_electric_xsection)))\n",
    "li_fb_pdiff_err = percent_diff_err(li_data.xsection*1000.0,\n",
    "                                   li_fb_xsection,\n",
    "                                   li_data.xsection_err*1000.0,\n",
    "                                   np.zeros(len(li_fb_xsection)))\n",
    "lombard_fb_pdiff_err = percent_diff_err(lombard_data.xsection,\n",
    "                                        lombard_fb_xsection,\n",
    "                                        lombard_data.xsection_err,\n",
    "                                        np.zeros(len(lombard_fb_xsection)))"
   ]
  },
  {
   "cell_type": "code",
   "execution_count": 9,
   "metadata": {
    "collapsed": false
   },
   "outputs": [],
   "source": [
    "qweak_theta = [5.8, 11.6]\n",
    "qweak_energy = [1.16, 1.16]\n",
    "qweak_calc_qq = q_squared(qweak_energy,qweak_theta)"
   ]
  },
  {
   "cell_type": "code",
   "execution_count": 37,
   "metadata": {
    "collapsed": false
   },
   "outputs": [],
   "source": [
    "#qweak_calc_qq[:]"
   ]
  },
  {
   "cell_type": "code",
   "execution_count": 10,
   "metadata": {
    "collapsed": false
   },
   "outputs": [
    {
     "data": {
      "image/png": "[encoded data removed]",
      "text/plain": [
       "<matplotlib.figure.Figure at 0x7fe131e468d0>"
      ]
     },
     "metadata": {},
     "output_type": "display_data"
    }
   ],
   "source": [
    "pp.figure(figsize=plot_size)\n",
    "pp.errorbar(li_calc_qq, \n",
    "    li_data.xsection*1000, #Convert to mu barns/sr \n",
    "    yerr=li_data.xsection_err, \n",
    "    ls='None', \n",
    "    marker='s',\n",
    "    label='Li et. al Data', \n",
    "    color=sns.xkcd_rgb['denim blue'])\n",
    "pp.plot(li_calc_qq, \n",
    "    li_stovall_electric_xsection, \n",
    "    ls='None',\n",
    "    marker='o',\n",
    "    color=sns.xkcd_rgb['medium green'], \n",
    "    label='Stovall et. al Model')\n",
    "pp.plot(li_calc_qq, \n",
    "    li_fb_xsection, \n",
    "    ls='None',\n",
    "    marker='v',\n",
    "    color=sns.xkcd_rgb['pale red'], \n",
    "    label='Fourier Bessel Model')\n",
    "pp.yscale('log')\n",
    "pp.xlim(0.00, 0.1)\n",
    "[y_low,y_high] = pp.ylim()\n",
    "pp.fill_between(qweak_calc_qq, \n",
    "    y_low, \n",
    "    y_high,\n",
    "    label='Q$_{weak}$ Acceptance',\n",
    "    color=sns.xkcd_rgb['steel grey'],\n",
    "    alpha=0.2)\n",
    "pp.legend(loc='upper right', fontsize=11)\n",
    "pp.xlabel('Q$^{2}$ [$(\\\\frac{GeV}{c})^{2}$]',fontsize=14)\n",
    "pp.ylabel('$\\\\frac{d\\\\sigma}{d\\\\Omega}$ [$\\\\frac{\\\\mu b}{sr}$]', fontsize=14)\n",
    "pp.xticks(fontsize=12)\n",
    "pp.yticks(fontsize=12)\n",
    "pp.savefig('li_cross_section_compare_plot.png', bbox_inches='tight')\n",
    "pp.savefig('li_cross_section_compare_plot.pdf', bbox_inches='tight')\n",
    "pp.show()"
   ]
  },
  {
   "cell_type": "code",
   "execution_count": 13,
   "metadata": {
    "collapsed": false
   },
   "outputs": [
    {
     "data": {
      "image/png": "[encoded data removed]",
      "text/plain": [
       "<matplotlib.figure.Figure at 0x7fe13165c7f0>"
      ]
     },
     "metadata": {},
     "output_type": "display_data"
    }
   ],
   "source": [
    "pp.figure(figsize=plot_size)\n",
    "pp.errorbar(lombard_calc_qq, \n",
    "    lombard_data.xsection, \n",
    "    yerr=lombard_data.xsection_err, \n",
    "    ls='None', marker='s', \n",
    "    label='Lombard et. al Data', \n",
    "    color=sns.xkcd_rgb['denim blue'])\n",
    "pp.plot(lombard_calc_qq, \n",
    "    lombard_stovall_electric_xsection, \n",
    "    ls='None', \n",
    "    marker='o', \n",
    "    color=sns.xkcd_rgb['medium green'], \n",
    "    label='Stovall et. al Model')\n",
    "pp.plot(lombard_calc_qq, \n",
    "    lombard_fb_xsection, \n",
    "    ls='None', \n",
    "    marker='v', \n",
    "    color=sns.xkcd_rgb['pale red'], \n",
    "    label='Fourier Bessel Model')\n",
    "pp.yscale('log')\n",
    "#pp.xlim(0.00, 0.205)\n",
    "[y_low,y_high] = pp.ylim()\n",
    "pp.fill_between(qweak_calc_qq, \n",
    "    y_low, \n",
    "    y_high,\n",
    "    label='Q$_{weak}$ Acceptance',\n",
    "    color=sns.xkcd_rgb['steel grey'],\n",
    "    alpha=0.2)\n",
    "pp.legend(loc='upper right', fontsize=11)\n",
    "pp.xlabel('Q$^{2}$ [$(\\\\frac{GeV}{c})^{2}$]',fontsize=14)\n",
    "pp.ylabel('$\\\\frac{d\\\\sigma}{d\\\\Omega}$ [$\\\\frac{\\\\mu b}{sr}$]', fontsize=14)\n",
    "pp.xticks(fontsize=12)\n",
    "pp.yticks(fontsize=12)\n",
    "pp.savefig('lombard_cross_section_compare_plot.png', bbox_inches='tight')\n",
    "pp.savefig('lombard_cross_section_compare_plot.pdf', bbox_inches='tight')\n",
    "pp.show()"
   ]
  },
  {
   "cell_type": "code",
   "execution_count": 11,
   "metadata": {
    "collapsed": false
   },
   "outputs": [
    {
     "data": {
      "image/png": "[encoded data removed]",
      "text/plain": [
       "<matplotlib.figure.Figure at 0x7fe131e466d8>"
      ]
     },
     "metadata": {},
     "output_type": "display_data"
    }
   ],
   "source": [
    "pp.figure(figsize=plot_size)\n",
    "pp.errorbar(li_calc_qq, \n",
    "        li_stovall_electric_pdiff, \n",
    "        yerr=li_stovall_electric_pdiff_err,\n",
    "        ls='None', \n",
    "        marker = 'o', \n",
    "        color=sns.xkcd_rgb['medium green'], \n",
    "        label='Stovall et. al Model')\n",
    "pp.errorbar(li_calc_qq, \n",
    "        li_fb_pdiff, \n",
    "        yerr=li_fb_pdiff_err,\n",
    "        ls='None', \n",
    "        marker = 'v', \n",
    "        color=sns.xkcd_rgb['pale red'], \n",
    "        label='Fourier Bessel Model')\n",
    "pp.xlim(0.00, 0.1)\n",
    "[y_low,y_high] = pp.ylim()\n",
    "pp.fill_between(qweak_calc_qq, \n",
    "                y_low, \n",
    "                y_high,\n",
    "                label='Q$_{weak}$ Acceptance',\n",
    "                color=sns.xkcd_rgb['steel grey'],\n",
    "                alpha=0.2)\n",
    "pp.legend(loc='upper left', fontsize=11)\n",
    "pp.xlabel('Q$^{2}$ [$(\\\\frac{GeV}{c})^{2}$]',fontsize=14)\n",
    "pp.ylabel('$\\\\frac{Data-Model}{Data}$ [\\%]', fontsize=14)\n",
    "pp.xticks(fontsize=12)\n",
    "pp.yticks(fontsize=12)\n",
    "pp.savefig('li_cross_section_pdiff_plot.png', bbox_inches='tight')\n",
    "pp.savefig('li_cross_section_pdiff_plot.pdf', bbox_inches='tight')\n",
    "pp.show()"
   ]
  },
  {
   "cell_type": "code",
   "execution_count": 12,
   "metadata": {
    "collapsed": false,
    "scrolled": true
   },
   "outputs": [
    {
     "data": {
      "image/png": "[encoded data removed]",
      "text/plain": [
       "<matplotlib.figure.Figure at 0x7fe131e46320>"
      ]
     },
     "metadata": {},
     "output_type": "display_data"
    }
   ],
   "source": [
    "pp.figure(figsize=plot_size)\n",
    "pp.errorbar(lombard_calc_qq, \n",
    "        lombard_stovall_electric_pdiff,\n",
    "        yerr=lombard_stovall_electric_pdiff_err,\n",
    "        ls='None', \n",
    "        marker='o', \n",
    "        color=sns.xkcd_rgb['medium green'], \n",
    "        label='Stovall et. al Model')\n",
    "pp.errorbar(lombard_calc_qq, \n",
    "        lombard_fb_pdiff,\n",
    "        yerr=lombard_fb_pdiff_err,\n",
    "        ls='None', \n",
    "        marker='v', \n",
    "        color=sns.xkcd_rgb['pale red'], \n",
    "        label='Fourier Bessel Model')\n",
    "#pp.xlim(0.00, 0.205)\n",
    "[y_low,y_high] = pp.ylim()\n",
    "pp.fill_between(qweak_calc_qq, \n",
    "                y_low, \n",
    "                y_high,\n",
    "                label='Q$_{weak}$ Acceptance',\n",
    "                color=sns.xkcd_rgb['steel grey'],\n",
    "                alpha=0.2)\n",
    "pp.legend(loc='lower right', fontsize=11)\n",
    "pp.xlabel('Q$^{2}$ [$(\\\\frac{GeV}{c})^{2}$]',fontsize=14)\n",
    "pp.ylabel('$\\\\frac{Data-Model}{Data}$ [\\%]', fontsize=14)\n",
    "pp.xticks(fontsize=12)\n",
    "pp.yticks(fontsize=12)\n",
    "pp.savefig('lombard_cross_section_pdiff_plot.png', bbox_inches='tight')\n",
    "pp.savefig('lombard_cross_section_pdiff_plot.pdf', bbox_inches='tight')\n",
    "pp.show()"
   ]
  },
  {
   "cell_type": "code",
   "execution_count": null,
   "metadata": {
    "collapsed": true
   },
   "outputs": [],
   "source": []
  }
 ],
 "metadata": {
  "kernelspec": {
   "display_name": "Python 3",
   "language": "python",
   "name": "python3"
  },
  "language_info": {
   "codemirror_mode": {
    "name": "ipython",
    "version": 3
   },
   "file_extension": ".py",
   "mimetype": "text/x-python",
   "name": "python",
   "nbconvert_exporter": "python",
   "pygments_lexer": "ipython3",
   "version": "3.5.3"
  }
 },
 "nbformat": 4,
 "nbformat_minor": 0
}
