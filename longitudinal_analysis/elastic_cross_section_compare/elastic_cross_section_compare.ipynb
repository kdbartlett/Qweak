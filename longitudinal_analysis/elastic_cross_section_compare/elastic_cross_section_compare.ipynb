{
 "cells": [
  {
   "cell_type": "markdown",
   "metadata": {},
   "source": [
    "# Elastic Cross-section Data Comparison\n",
    "\n",
    "Kurtis Bartlett\n",
    "\n",
    "2017/3/12\n",
    "\n",
    "Ipython notebook for generating plot of elastic Aluminum cross-section measurements compared with model."
   ]
  },
  {
   "cell_type": "code",
   "execution_count": 1,
   "metadata": {
    "collapsed": false
   },
   "outputs": [
    {
     "name": "stderr",
     "output_type": "stream",
     "text": [
      ":0: FutureWarning: IPython widgets are experimental and may change in the future.\n"
     ]
    }
   ],
   "source": [
    "# Import necessary packages and modules\n",
    "import numpy as np\n",
    "import pandas as pd\n",
    "import matplotlib.pyplot as pp\n",
    "import seaborn as sns"
   ]
  },
  {
   "cell_type": "code",
   "execution_count": 2,
   "metadata": {
    "collapsed": true
   },
   "outputs": [],
   "source": [
    "# Use text and computer modern for text formating\n",
    "pp.rcParams[\"text.usetex\"] = \"True\"\n",
    "pp.rcParams[\"font.family\"] = \"serif\"\n",
    "pp.rcParams[\"font.serif\"] = \"Computer Modern Roman\"\n",
    "pp.rcParams[\"font.sans-serif\"] = \"Computer Modern Sans serif\""
   ]
  },
  {
   "cell_type": "code",
   "execution_count": 3,
   "metadata": {
    "collapsed": true
   },
   "outputs": [],
   "source": [
    "# Keep matplotlib plots inline\n",
    "%matplotlib inline"
   ]
  },
  {
   "cell_type": "code",
   "execution_count": 4,
   "metadata": {
    "collapsed": false
   },
   "outputs": [],
   "source": [
    "pp.style.use('seaborn-white')\n",
    "sns.set_palette(\"muted\")\n",
    "plot_size = 6*np.array([1.0,(2.0/(1.0+np.sqrt(5.0)))]) #Use Golden ratio as aspect ratio for plots"
   ]
  },
  {
   "cell_type": "code",
   "execution_count": 70,
   "metadata": {
    "collapsed": true
   },
   "outputs": [],
   "source": [
    "# Define contants (2014 PDG)\n",
    "alpha = 1/137.035999074\n",
    "cc = 197.3269718 # MeV fm\n",
    "cc_sq = 0.389379338 # GeV^2 mbarn\n",
    "m_p = 938.272046 # Mev/c^2\n",
    "J = 5.0/2.0 # Aluminum-27 nuclear spin\n",
    "Z = 13 # Aluminum # of protons\n",
    "N = 14 # Aluminum # of neutrons\n",
    "A = 27 # Aluminum atomic mass\n",
    "r = 2.98*(1000.0/cc) # [fm]->[1/GeV] RMS radius\n",
    "a_p_sq = 0.427*(1000.0/cc)*(1000.0/cc) # [fm^2]->[1/GeV^2]\n",
    "Q = 14.6*(1000.0/cc)*(1000.0/cc) # [fm^2]->[1/GeV^2] Electric quadrupole moment"
   ]
  },
  {
   "cell_type": "code",
   "execution_count": 73,
   "metadata": {
    "collapsed": false
   },
   "outputs": [],
   "source": [
    "# Define functions\n",
    "def q_squared(energy, theta):\n",
    "    'Energy[GeV], Theta[Degrees]'\n",
    "    one_vec = np.ones(len(theta))\n",
    "    numerator = one_vec-np.cos(np.deg2rad(theta))\n",
    "    denominator = one_vec+(energy/(m_p*one_vec))*numerator\n",
    "    qq = (2.0*one_vec)*energy*energy*(numerator/denominator)\n",
    "    return qq\n",
    "\n",
    "def percent_diff(data, model):\n",
    "    pdiff = 100*((data-model)/data)\n",
    "    return pdiff\n",
    "\n",
    "def mott_xsection(energy, theta):\n",
    "    'Energy[GeV], Theta[Degrees]'\n",
    "    one_vec = np.ones(len(theta))\n",
    "    numerator = alpha*alpha*one_vec*np.cos(np.deg2rad(theta)/(2.0*one_vec))*np.cos(np.deg2rad(theta)/(2.0*one_vec))\n",
    "    denominator = 4*one_vec*energy*energy*np.power(np.sin(np.deg2rad(theta)/(2.0*one_vec)),4)\n",
    "    xsection = (1000*cc_sq*one_vec)*(numerator/denominator) #Convert to mubarns/sr\n",
    "    return xsection\n",
    "\n",
    "def stovall_xsection(energy, theta):\n",
    "    'Energy[GeV], Theta[Degrees]'\n",
    "    one_vec = np.ones(len(theta))\n",
    "    \n",
    "    qq = q_squared(energy, theta) # [GeV^2]\n",
    "    \n",
    "    kk = qq*np.square(one_vec+((((3.0*Z*alpha)/(2.0*r))*one_vec)/energy)) # [GeV^2]\n",
    "    \n",
    "    a_0_sq = (r*r - 1.5*a_p_sq)/(3.5-(10.0/Z)-(3.0/(2.0*A))) # [1/GeV^2]\n",
    "    \n",
    "    x = 0.25*one_vec*kk*a_0_sq # Simple Harmonic Oscillator term [unitless]\n",
    "    \n",
    "    F_0 = ((1.0*one_vec)/(Z*one_vec))*np.exp(-1.0*one_vec*x)*(Z*one_vec-(4.0/3.0)*(Z-5.0)*one_vec*x+(4.0/15.0)*(Z-8.0)*one_vec*x*x)\n",
    "    F_2 = (one_vec-(2.0/7.0)*one_vec*x)*np.exp(-1.0*one_vec*x)\n",
    "    \n",
    "    C_fp = np.exp(-0.25*a_p_sq*one_vec*kk) # Fine proton size correction\n",
    "    C_nt = np.exp(x/(A*one_vec)) # Non-translational invariance correction\n",
    "\n",
    "    F_0_corr = F_0*C_fp*C_nt # Corrected F_0 form factor\n",
    "    F_2_corr = F_2*C_fp*C_nt # Corrected F_2 form factor\n",
    "    \n",
    "    F_E_sq = F_0_corr*F_0_corr + ((1.0/180.0)*(((J+1.0)*(2.0*J+3.0))/(J*(2.0*J-1.0)))*((Q*Q)/(Z*Z)))*one_vec*kk*kk*F_2_corr*F_2_corr # Electric Form factor\n",
    "    \n",
    "    xsection = Z*Z*one_vec*mott_xsection(energy, theta)*F_E_sq\n",
    "    return xsection"
   ]
  },
  {
   "cell_type": "code",
   "execution_count": 63,
   "metadata": {
    "collapsed": true
   },
   "outputs": [],
   "source": [
    "lombard_data = pd.read_csv('lombard_al_elastic_data.csv')\n",
    "li_data = pd.read_csv('li_yearian_sick_al_elastic_data.csv')"
   ]
  },
  {
   "cell_type": "code",
   "execution_count": null,
   "metadata": {
    "collapsed": false
   },
   "outputs": [],
   "source": [
    "lombard_data[:]"
   ]
  },
  {
   "cell_type": "code",
   "execution_count": null,
   "metadata": {
    "collapsed": false
   },
   "outputs": [],
   "source": [
    "li_data[:]"
   ]
  },
  {
   "cell_type": "code",
   "execution_count": 91,
   "metadata": {
    "collapsed": false
   },
   "outputs": [],
   "source": [
    "lombard_calc_qq = q_squared(lombard_data.energy/1000.0, lombard_data.theta)\n",
    "li_calc_qq = q_squared(li_data.energy/1000.0, li_data.theta)\n",
    "\n",
    "li_stovall_xsection = stovall_xsection(li_data.energy/1000.0, li_data.theta)\n",
    "lombard_stovall_xsection = stovall_xsection(lombard_data.energy/1000.0, lombard_data.theta)\n",
    "\n",
    "li_stovall_pdiff = percent_diff(li_data.xsection*1000.0, li_stovall_xsection)\n",
    "lombard_stovall_pdiff = percent_diff(lombard_data.xsection, lombard_stovall_xsection)"
   ]
  },
  {
   "cell_type": "code",
   "execution_count": 65,
   "metadata": {
    "collapsed": false
   },
   "outputs": [],
   "source": [
    "qweak_theta = [5.8, 11.6]\n",
    "qweak_energy = [1.16, 1.16]\n",
    "qweak_calc_qq = q_squared(qweak_energy,qweak_theta)"
   ]
  },
  {
   "cell_type": "code",
   "execution_count": null,
   "metadata": {
    "collapsed": false
   },
   "outputs": [],
   "source": [
    "qweak_calc_qq[:]"
   ]
  },
  {
   "cell_type": "code",
   "execution_count": 92,
   "metadata": {
    "collapsed": false
   },
   "outputs": [
    {
     "data": {
      "image/png": "[encoded data removed]",
      "text/plain": [
       "<matplotlib.figure.Figure at 0x7f332f6eadd8>"
      ]
     },
     "metadata": {},
     "output_type": "display_data"
    }
   ],
   "source": [
    "pp.figure(figsize=plot_size)\n",
    "pp.errorbar(li_calc_qq, \n",
    "            li_data.xsection*1000, #Convert to mu barns/sr \n",
    "            yerr=li_data.xsection_err, \n",
    "            ls='None', \n",
    "            marker='o',\n",
    "            label='Li et. al Data', \n",
    "            color=sns.xkcd_rgb['denim blue'])\n",
    "pp.errorbar(lombard_calc_qq, \n",
    "            lombard_data.xsection, \n",
    "            yerr=lombard_data.xsection_err, \n",
    "            ls='None', marker='D', \n",
    "            label='Lombard et. al Data', \n",
    "            color=sns.xkcd_rgb['pale red'])\n",
    "pp.plot(li_calc_qq, \n",
    "        li_stovall_xsection, \n",
    "        ls='-', \n",
    "        color=sns.xkcd_rgb['medium green'], \n",
    "        label='Stovall et. al Model')\n",
    "pp.plot(lombard_calc_qq, \n",
    "        lombard_stovall_xsection, \n",
    "        ls='None', \n",
    "        marker='*', \n",
    "        color=sns.xkcd_rgb['black'], \n",
    "        label='Stovall et. al Model')\n",
    "pp.yscale('log')\n",
    "pp.xlim(0.00, 0.205)\n",
    "[y_low,y_high] = pp.ylim()\n",
    "pp.fill_between(qweak_calc_qq, \n",
    "                y_low, \n",
    "                y_high, \n",
    "                color=sns.xkcd_rgb['steel grey'],\n",
    "                alpha=0.2)\n",
    "pp.legend(loc='upper right', fontsize=11)\n",
    "pp.xlabel('Q$^{2}$ [$(\\\\frac{GeV}{c})^{2}$]',fontsize=14)\n",
    "pp.ylabel('$\\\\frac{d\\\\sigma}{d\\\\Omega}$ [$\\\\frac{\\\\mu b}{sr}$]', fontsize=14)\n",
    "pp.xticks(fontsize=12)\n",
    "pp.yticks(fontsize=12)\n",
    "pp.savefig('elastic_cross_section_compare_plot.png', bbox_inches='tight')\n",
    "pp.savefig('elastic_cross_section_compare_plot.pdf', bbox_inches='tight')\n",
    "pp.show()"
   ]
  },
  {
   "cell_type": "code",
   "execution_count": 94,
   "metadata": {
    "collapsed": false
   },
   "outputs": [
    {
     "data": {
      "image/png": "[encoded data removed]",
      "text/plain": [
       "<matplotlib.figure.Figure at 0x7f333014e240>"
      ]
     },
     "metadata": {},
     "output_type": "display_data"
    }
   ],
   "source": [
    "pp.figure(figsize=plot_size)\n",
    "pp.plot(li_calc_qq, \n",
    "        li_stovall_pdiff, \n",
    "        ls='None', \n",
    "        marker = 's', \n",
    "        color=sns.xkcd_rgb['denim blue'], \n",
    "        label='Li Stovall')\n",
    "pp.plot(lombard_calc_qq, \n",
    "        lombard_stovall_pdiff, \n",
    "        ls='None', \n",
    "        marker='D', \n",
    "        color=sns.xkcd_rgb['pale red'], \n",
    "        label='Lombard Stovall')\n",
    "#pp.yscale('log')\n",
    "pp.xlim(0.00, 0.205)\n",
    "[y_low,y_high] = pp.ylim()\n",
    "pp.fill_between(qweak_calc_qq, \n",
    "                y_low, \n",
    "                y_high, \n",
    "                color=sns.xkcd_rgb['steel grey'],\n",
    "                alpha=0.2)\n",
    "pp.legend(loc='upper right', fontsize=11)\n",
    "pp.xlabel('Q$^{2}$ [$(\\\\frac{GeV}{c})^{2}$]',fontsize=14)\n",
    "pp.ylabel('$\\\\frac{Data-Model}{Data}$ [\\%]', fontsize=14)\n",
    "pp.xticks(fontsize=12)\n",
    "pp.yticks(fontsize=12)\n",
    "pp.savefig('elastic_cross_section_pdiff_plot.png', bbox_inches='tight')\n",
    "pp.savefig('elastic_cross_section_pdiff_plot.pdf', bbox_inches='tight')\n",
    "pp.show()"
   ]
  },
  {
   "cell_type": "code",
   "execution_count": null,
   "metadata": {
    "collapsed": true
   },
   "outputs": [],
   "source": []
  }
 ],
 "metadata": {
  "kernelspec": {
   "display_name": "Python 3",
   "language": "python",
   "name": "python3"
  },
  "language_info": {
   "codemirror_mode": {
    "name": "ipython",
    "version": 3
   },
   "file_extension": ".py",
   "mimetype": "text/x-python",
   "name": "python",
   "nbconvert_exporter": "python",
   "pygments_lexer": "ipython3",
   "version": "3.5.2"
  }
 },
 "nbformat": 4,
 "nbformat_minor": 0
}
