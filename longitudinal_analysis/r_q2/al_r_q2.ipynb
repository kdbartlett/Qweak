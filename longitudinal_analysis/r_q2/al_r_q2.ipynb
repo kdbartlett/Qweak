{
 "cells": [
  {
   "cell_type": "code",
   "execution_count": 1,
   "metadata": {},
   "outputs": [],
   "source": [
    "import numpy as np\n",
    "#This following is so that this will work with Latex, see\n",
    "#http://bkanuka.com/articles/native-latex-plots/\n",
    "import matplotlib as mpl\n",
    "mpl.use('pgf')"
   ]
  },
  {
   "cell_type": "code",
   "execution_count": 2,
   "metadata": {},
   "outputs": [],
   "source": [
    "def figsize(scale):                                 # I think scale is the size you want it on the page\n",
    "    fig_width_pt = 433.62001                        # Get this from LaTeX using \\the\\textwidth\n",
    "    inches_per_pt = 1.0/72.0                        # Convert pt to inch\n",
    "    golden_mean = (np.sqrt(5.0)-1.0)/2.0            # Aesthetic ratio (you could change this)\n",
    "    fig_width = fig_width_pt*inches_per_pt*scale    # width in inches\n",
    "    fig_height = fig_width*golden_mean              # height in inches\n",
    "    fig_size = [fig_width,fig_height]\n",
    "    return fig_size\n",
    "\n",
    "pgf_with_lualatex = {                      # Setup matplotlib to use latex for output\n",
    "    \"pgf.texsystem\": \"lualatex\",           # Change this if using xetex or luatex\n",
    "    \"text.usetex\": True,                   # Use LaTeX to write all text\n",
    "    #Fonts\n",
    "    \"font.family\": \"serif\",                # Get from the pdf font function on the doc\n",
    "    \"font.serif\": \"Computer Modern Roman\",      \n",
    "    \"font.sans-serif\": \"Computer Modern Sans serif\",\n",
    "    \"font.monospace\": [], # Blank entries should cause plots to inherit fonts from the document\n",
    "    #Text size\n",
    "    \"font.size\": 11,# Document default is 11pt font.\n",
    "    #\"text.fontsize\": 11,\n",
    "    \"axes.labelsize\": 11,\n",
    "    \"legend.fontsize\": 8,               # Make the legend/label fonts a little smaller\n",
    "    \"xtick.labelsize\": 8,\n",
    "    \"ytick.labelsize\": 8,\n",
    "    ##Axis\n",
    "    #\"axes.labelpad\": 2,     # space between label and axis \n",
    "    \"figure.figsize\": figsize(1.0),     # default fig size of 1.0 textwidth\n",
    "    #Packages\n",
    "    \"pgf.preamble\": [\n",
    "        r\"\\usepackage[utf8x]{inputenc}\",    # use utf8 fonts becasue your computer can handle it :)\n",
    "        r\"\\usepackage[T1]{fontenc}\",        # plots will be generated using this preamble\n",
    "        r\"\\usepackage{amsmath}\",  #need to add math or the ^ won't work\n",
    "        r\"\\usepackage{amssymb}\"]\n",
    "    }\n",
    "\n",
    "mpl.rcParams.update(pgf_with_lualatex)"
   ]
  },
  {
   "cell_type": "code",
   "execution_count": 3,
   "metadata": {},
   "outputs": [],
   "source": [
    "import pandas as pd\n",
    "import matplotlib.pyplot as plt\n",
    "import seaborn as sns\n",
    "from matplotlib.ticker import AutoMinorLocator\n",
    "from scipy import interpolate"
   ]
  },
  {
   "cell_type": "code",
   "execution_count": 4,
   "metadata": {},
   "outputs": [],
   "source": [
    "%matplotlib inline\n",
    "plt.style.use('seaborn-ticks')\n",
    "sns.set_palette(\"muted\")"
   ]
  },
  {
   "cell_type": "code",
   "execution_count": 5,
   "metadata": {},
   "outputs": [],
   "source": [
    "data = pd.read_csv('data/Horowitz_Al_Calculation.csv')"
   ]
  },
  {
   "cell_type": "code",
   "execution_count": 6,
   "metadata": {},
   "outputs": [
    {
     "data": {
      "text/html": [
       "<div>\n",
       "<style scoped>\n",
       "    .dataframe tbody tr th:only-of-type {\n",
       "        vertical-align: middle;\n",
       "    }\n",
       "\n",
       "    .dataframe tbody tr th {\n",
       "        vertical-align: top;\n",
       "    }\n",
       "\n",
       "    .dataframe thead th {\n",
       "        text-align: right;\n",
       "    }\n",
       "</style>\n",
       "<table border=\"1\" class=\"dataframe\">\n",
       "  <thead>\n",
       "    <tr style=\"text-align: right;\">\n",
       "      <th></th>\n",
       "      <th>theta</th>\n",
       "      <th>q</th>\n",
       "      <th>sigDWsig2</th>\n",
       "      <th>apv</th>\n",
       "      <th>apv_xi05</th>\n",
       "      <th>apv_xi15</th>\n",
       "    </tr>\n",
       "  </thead>\n",
       "  <tbody>\n",
       "    <tr>\n",
       "      <th>0</th>\n",
       "      <td>4.0</td>\n",
       "      <td>0.410312</td>\n",
       "      <td>264.05032</td>\n",
       "      <td>5.839673e-07</td>\n",
       "      <td>5.840293e-07</td>\n",
       "      <td>5.838640e-07</td>\n",
       "    </tr>\n",
       "    <tr>\n",
       "      <th>1</th>\n",
       "      <td>4.1</td>\n",
       "      <td>0.420565</td>\n",
       "      <td>232.93959</td>\n",
       "      <td>6.134834e-07</td>\n",
       "      <td>6.135558e-07</td>\n",
       "      <td>6.133625e-07</td>\n",
       "    </tr>\n",
       "    <tr>\n",
       "      <th>2</th>\n",
       "      <td>4.2</td>\n",
       "      <td>0.430818</td>\n",
       "      <td>205.83888</td>\n",
       "      <td>6.437072e-07</td>\n",
       "      <td>6.437918e-07</td>\n",
       "      <td>6.435664e-07</td>\n",
       "    </tr>\n",
       "    <tr>\n",
       "      <th>3</th>\n",
       "      <td>4.3</td>\n",
       "      <td>0.441071</td>\n",
       "      <td>182.17815</td>\n",
       "      <td>6.746490e-07</td>\n",
       "      <td>6.747472e-07</td>\n",
       "      <td>6.744853e-07</td>\n",
       "    </tr>\n",
       "    <tr>\n",
       "      <th>4</th>\n",
       "      <td>4.4</td>\n",
       "      <td>0.451324</td>\n",
       "      <td>161.46741</td>\n",
       "      <td>7.062982e-07</td>\n",
       "      <td>7.064121e-07</td>\n",
       "      <td>7.061085e-07</td>\n",
       "    </tr>\n",
       "  </tbody>\n",
       "</table>\n",
       "</div>"
      ],
      "text/plain": [
       "   theta         q  sigDWsig2           apv      apv_xi05      apv_xi15\n",
       "0    4.0  0.410312  264.05032  5.839673e-07  5.840293e-07  5.838640e-07\n",
       "1    4.1  0.420565  232.93959  6.134834e-07  6.135558e-07  6.133625e-07\n",
       "2    4.2  0.430818  205.83888  6.437072e-07  6.437918e-07  6.435664e-07\n",
       "3    4.3  0.441071  182.17815  6.746490e-07  6.747472e-07  6.744853e-07\n",
       "4    4.4  0.451324  161.46741  7.062982e-07  7.064121e-07  7.061085e-07"
      ]
     },
     "execution_count": 6,
     "metadata": {},
     "output_type": "execute_result"
    }
   ],
   "source": [
    "data.head()"
   ]
  },
  {
   "cell_type": "code",
   "execution_count": 7,
   "metadata": {},
   "outputs": [],
   "source": [
    "# Define constants\n",
    "hbar_c = 0.1973269788 # [GeV fm] PDG 2016"
   ]
  },
  {
   "cell_type": "code",
   "execution_count": 8,
   "metadata": {},
   "outputs": [],
   "source": [
    "data['q2'] = np.square(data.q*hbar_c)\n",
    "data['dapv'] = np.gradient(data.apv)/np.gradient(data.q2)"
   ]
  },
  {
   "cell_type": "code",
   "execution_count": 9,
   "metadata": {},
   "outputs": [
    {
     "data": {
      "text/html": [
       "<div>\n",
       "<style scoped>\n",
       "    .dataframe tbody tr th:only-of-type {\n",
       "        vertical-align: middle;\n",
       "    }\n",
       "\n",
       "    .dataframe tbody tr th {\n",
       "        vertical-align: top;\n",
       "    }\n",
       "\n",
       "    .dataframe thead th {\n",
       "        text-align: right;\n",
       "    }\n",
       "</style>\n",
       "<table border=\"1\" class=\"dataframe\">\n",
       "  <thead>\n",
       "    <tr style=\"text-align: right;\">\n",
       "      <th></th>\n",
       "      <th>theta</th>\n",
       "      <th>q</th>\n",
       "      <th>sigDWsig2</th>\n",
       "      <th>apv</th>\n",
       "      <th>apv_xi05</th>\n",
       "      <th>apv_xi15</th>\n",
       "      <th>q2</th>\n",
       "      <th>dapv</th>\n",
       "    </tr>\n",
       "  </thead>\n",
       "  <tbody>\n",
       "    <tr>\n",
       "      <th>115</th>\n",
       "      <td>15.500025</td>\n",
       "      <td>1.585439</td>\n",
       "      <td>0.002150</td>\n",
       "      <td>0.000008</td>\n",
       "      <td>0.000008</td>\n",
       "      <td>0.000007</td>\n",
       "      <td>0.097875</td>\n",
       "      <td>0.000142</td>\n",
       "    </tr>\n",
       "    <tr>\n",
       "      <th>116</th>\n",
       "      <td>15.600025</td>\n",
       "      <td>1.595604</td>\n",
       "      <td>0.002134</td>\n",
       "      <td>0.000008</td>\n",
       "      <td>0.000008</td>\n",
       "      <td>0.000007</td>\n",
       "      <td>0.099134</td>\n",
       "      <td>0.000137</td>\n",
       "    </tr>\n",
       "    <tr>\n",
       "      <th>117</th>\n",
       "      <td>15.700026</td>\n",
       "      <td>1.605769</td>\n",
       "      <td>0.002112</td>\n",
       "      <td>0.000008</td>\n",
       "      <td>0.000009</td>\n",
       "      <td>0.000007</td>\n",
       "      <td>0.100401</td>\n",
       "      <td>0.000133</td>\n",
       "    </tr>\n",
       "    <tr>\n",
       "      <th>118</th>\n",
       "      <td>15.800026</td>\n",
       "      <td>1.615932</td>\n",
       "      <td>0.002085</td>\n",
       "      <td>0.000008</td>\n",
       "      <td>0.000009</td>\n",
       "      <td>0.000008</td>\n",
       "      <td>0.101676</td>\n",
       "      <td>0.000128</td>\n",
       "    </tr>\n",
       "    <tr>\n",
       "      <th>119</th>\n",
       "      <td>15.900026</td>\n",
       "      <td>1.626094</td>\n",
       "      <td>0.002054</td>\n",
       "      <td>0.000008</td>\n",
       "      <td>0.000009</td>\n",
       "      <td>0.000008</td>\n",
       "      <td>0.102959</td>\n",
       "      <td>0.000127</td>\n",
       "    </tr>\n",
       "  </tbody>\n",
       "</table>\n",
       "</div>"
      ],
      "text/plain": [
       "         theta         q  sigDWsig2       apv  apv_xi05  apv_xi15        q2  \\\n",
       "115  15.500025  1.585439   0.002150  0.000008  0.000008  0.000007  0.097875   \n",
       "116  15.600025  1.595604   0.002134  0.000008  0.000008  0.000007  0.099134   \n",
       "117  15.700026  1.605769   0.002112  0.000008  0.000009  0.000007  0.100401   \n",
       "118  15.800026  1.615932   0.002085  0.000008  0.000009  0.000008  0.101676   \n",
       "119  15.900026  1.626094   0.002054  0.000008  0.000009  0.000008  0.102959   \n",
       "\n",
       "         dapv  \n",
       "115  0.000142  \n",
       "116  0.000137  \n",
       "117  0.000133  \n",
       "118  0.000128  \n",
       "119  0.000127  "
      ]
     },
     "execution_count": 9,
     "metadata": {},
     "output_type": "execute_result"
    }
   ],
   "source": [
    "data.tail()"
   ]
  },
  {
   "cell_type": "code",
   "execution_count": 30,
   "metadata": {},
   "outputs": [
    {
     "data": {
      "image/png": "[encoded data removed]",
      "text/plain": [
       "<matplotlib.figure.Figure at 0x7fde861541d0>"
      ]
     },
     "metadata": {},
     "output_type": "display_data"
    }
   ],
   "source": [
    "fig, ax1 = plt.subplots(figsize=figsize(0.9))\n",
    "ax2 = ax1.twinx()\n",
    "line1,  = ax1.plot(data.q2,\n",
    "                   data.apv*1e6,\n",
    "                   ls='-',\n",
    "                   color=sns.xkcd_rgb['dull blue'])#, label='$A_{PV}(Q^{2})$')\n",
    "line2,  = ax2.plot(data.q2,\n",
    "                   data.dapv*(data.q2/data.apv),\n",
    "                   ls='--',\n",
    "                   color=sns.xkcd_rgb['dull red'])#, label='Slope')\n",
    "ax1.set_xlabel('$Q^{2}$ [GeV$^{2}$]')\n",
    "ax1.set_xlim(0.006555, 0.097875)\n",
    "ax1.xaxis.set_minor_locator(AutoMinorLocator(4))\n",
    "ax1.yaxis.set_minor_locator(AutoMinorLocator(4))\n",
    "ax2.yaxis.set_minor_locator(AutoMinorLocator(4))\n",
    "ax1.set_ylabel('$A_{PV}$ [ppm]', color=sns.xkcd_rgb['dull blue'])\n",
    "ax2.set_ylabel('$\\\\frac{\\partial A}{A}/\\\\frac{\\partial Q^{2}}{Q^{2}} $', color=sns.xkcd_rgb['dull red'])\n",
    "ax1.legend([line1, line2], ['$A_{PV}(Q^{2})$', 'Slope'], loc='upper left')\n",
    "#ax2.legend(loc='upper left')\n",
    "plt.savefig('plots/al_r_q2_slope.png', bbox_inches='tight')\n",
    "plt.savefig('plots/al_r_q2_slope.pdf', bbox_inches='tight')\n",
    "plt.savefig('plots/al_r_q2_slope.pgf', bbox_inches='tight')\n",
    "plt.show()"
   ]
  },
  {
   "cell_type": "code",
   "execution_count": 9,
   "metadata": {},
   "outputs": [],
   "source": [
    "apv_fun = interpolate.interp1d(data.q2, data.apv)\n",
    "dapv_fun = interpolate.interp1d(data.q2, data.dapv)\n",
    "slope = interpolate.interp1d(data.q2, data.dapv*(data.q2/data.apv))\n",
    "apv_theta = interpolate.interp1d(data.theta, data.apv)\n",
    "theta_fun = interpolate.interp1d(data.q2, data.theta)"
   ]
  },
  {
   "cell_type": "code",
   "execution_count": 15,
   "metadata": {},
   "outputs": [
    {
     "data": {
      "text/plain": [
       "array(0.97059524)"
      ]
     },
     "execution_count": 15,
     "metadata": {},
     "output_type": "execute_result"
    }
   ],
   "source": [
    "slope(0.02357)"
   ]
  },
  {
   "cell_type": "code",
   "execution_count": 10,
   "metadata": {},
   "outputs": [
    {
     "data": {
      "text/plain": [
       "array(2.05543565e-06)"
      ]
     },
     "execution_count": 10,
     "metadata": {},
     "output_type": "execute_result"
    }
   ],
   "source": [
    "apv_theta(7.5558)"
   ]
  },
  {
   "cell_type": "code",
   "execution_count": 17,
   "metadata": {},
   "outputs": [
    {
     "data": {
      "text/plain": [
       "array(2.07277802e-06)"
      ]
     },
     "execution_count": 17,
     "metadata": {},
     "output_type": "execute_result"
    }
   ],
   "source": [
    "apv_fun(0.02357)"
   ]
  },
  {
   "cell_type": "code",
   "execution_count": 18,
   "metadata": {},
   "outputs": [
    {
     "data": {
      "text/plain": [
       "array(8.53556499e-05)"
      ]
     },
     "execution_count": 18,
     "metadata": {},
     "output_type": "execute_result"
    }
   ],
   "source": [
    "dapv_fun(0.02357)"
   ]
  },
  {
   "cell_type": "code",
   "execution_count": 19,
   "metadata": {},
   "outputs": [
    {
     "data": {
      "text/plain": [
       "0.9705972609195542"
      ]
     },
     "execution_count": 19,
     "metadata": {},
     "output_type": "execute_result"
    }
   ],
   "source": [
    "dapv_fun(0.02357)*(0.02357/2.07277802e-06)"
   ]
  },
  {
   "cell_type": "code",
   "execution_count": 20,
   "metadata": {},
   "outputs": [
    {
     "data": {
      "text/plain": [
       "0.9706"
      ]
     },
     "execution_count": 20,
     "metadata": {},
     "output_type": "execute_result"
    }
   ],
   "source": [
    "np.round(0.97059524, 5)"
   ]
  },
  {
   "cell_type": "code",
   "execution_count": 22,
   "metadata": {},
   "outputs": [
    {
     "data": {
      "text/plain": [
       "array(7.58865454)"
      ]
     },
     "execution_count": 22,
     "metadata": {},
     "output_type": "execute_result"
    }
   ],
   "source": [
    "theta_fun(0.02357)"
   ]
  },
  {
   "cell_type": "code",
   "execution_count": null,
   "metadata": {},
   "outputs": [],
   "source": []
  }
 ],
 "metadata": {
  "kernelspec": {
   "display_name": "Python 3",
   "language": "python",
   "name": "python3"
  },
  "language_info": {
   "codemirror_mode": {
    "name": "ipython",
    "version": 3
   },
   "file_extension": ".py",
   "mimetype": "text/x-python",
   "name": "python",
   "nbconvert_exporter": "python",
   "pygments_lexer": "ipython3",
   "version": "3.6.5"
  }
 },
 "nbformat": 4,
 "nbformat_minor": 1
}
