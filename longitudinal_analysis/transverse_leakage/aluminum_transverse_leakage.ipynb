{
 "cells": [
  {
   "cell_type": "code",
   "execution_count": 1,
   "metadata": {
    "collapsed": true
   },
   "outputs": [],
   "source": [
    "import numpy as np"
   ]
  },
  {
   "cell_type": "code",
   "execution_count": 2,
   "metadata": {
    "collapsed": true
   },
   "outputs": [],
   "source": [
    "#This following is so that this will work with Latex, see\n",
    "#http://bkanuka.com/articles/native-latex-plots/\n",
    "import matplotlib as mpl\n",
    "mpl.use('pgf')"
   ]
  },
  {
   "cell_type": "code",
   "execution_count": 3,
   "metadata": {
    "collapsed": true
   },
   "outputs": [],
   "source": [
    "def figsize(scale):                                 # I think scale is the size you want it on the page\n",
    "    fig_width_pt = 433.62001                        # Get this from LaTeX using \\the\\textwidth\n",
    "    inches_per_pt = 1.0/72.0                        # Convert pt to inch\n",
    "    golden_mean = (np.sqrt(5.0)-1.0)/2.0            # Aesthetic ratio (you could change this)\n",
    "    fig_width = fig_width_pt*inches_per_pt*scale    # width in inches\n",
    "    fig_height = fig_width*golden_mean              # height in inches\n",
    "    fig_size = [fig_width,fig_height]\n",
    "    return fig_size\n",
    "\n",
    "pgf_with_lualatex = {                      # Setup matplotlib to use latex for output\n",
    "    \"pgf.texsystem\": \"lualatex\",           # Change this if using xetex or luatex\n",
    "    \"text.usetex\": True,                   # Use LaTeX to write all text\n",
    "    #Fonts\n",
    "    \"font.family\": \"serif\",                # Get from the pdf font function on the doc\n",
    "    \"font.serif\": \"Computer Modern Roman\",      \n",
    "    \"font.sans-serif\": \"Computer Modern Sans serif\",\n",
    "    \"font.monospace\": [], # Blank entries should cause plots to inherit fonts from the document\n",
    "    #Text size\n",
    "    \"font.size\": 11,# Document default is 11pt font.\n",
    "    #\"text.fontsize\": 11,\n",
    "    \"axes.labelsize\": 11,\n",
    "    \"legend.fontsize\": 8,               # Make the legend/label fonts a little smaller\n",
    "    \"xtick.labelsize\": 8,\n",
    "    \"ytick.labelsize\": 8,\n",
    "    ##Axis\n",
    "    #\"axes.labelpad\": 2,     # space between label and axis \n",
    "    \"figure.figsize\": figsize(1.0),     # default fig size of 1.0 textwidth\n",
    "    #Packages\n",
    "    \"pgf.preamble\": [\n",
    "        r\"\\usepackage[utf8x]{inputenc}\",    # use utf8 fonts becasue your computer can handle it :)\n",
    "        r\"\\usepackage[T1]{fontenc}\",        # plots will be generated using this preamble\n",
    "        r\"\\usepackage{amsmath}\",  #need to add math or the ^ won't work\n",
    "        r\"\\usepackage{amssymb}\"]\n",
    "    }\n",
    "\n",
    "mpl.rcParams.update(pgf_with_lualatex)"
   ]
  },
  {
   "cell_type": "code",
   "execution_count": 4,
   "metadata": {
    "collapsed": false
   },
   "outputs": [
    {
     "name": "stderr",
     "output_type": "stream",
     "text": [
      ":0: FutureWarning: IPython widgets are experimental and may change in the future.\n"
     ]
    }
   ],
   "source": [
    "import matplotlib.pyplot as pp\n",
    "import pandas as pd\n",
    "import seaborn as sns\n",
    "from scipy.optimize import curve_fit\n",
    "from scipy.stats import chisquare"
   ]
  },
  {
   "cell_type": "code",
   "execution_count": 5,
   "metadata": {
    "collapsed": true
   },
   "outputs": [],
   "source": [
    "%matplotlib inline\n",
    "pp.style.use('seaborn-ticks')\n",
    "sns.set_palette(\"muted\")"
   ]
  },
  {
   "cell_type": "code",
   "execution_count": 6,
   "metadata": {
    "collapsed": true
   },
   "outputs": [],
   "source": [
    "data = pd.read_csv('data/al_mdbars_wien_avg_nowien10_regon.csv')"
   ]
  },
  {
   "cell_type": "code",
   "execution_count": 7,
   "metadata": {
    "collapsed": false
   },
   "outputs": [
    {
     "data": {
      "text/html": [
       "<div>\n",
       "<table border=\"1\" class=\"dataframe\">\n",
       "  <thead>\n",
       "    <tr style=\"text-align: right;\">\n",
       "      <th></th>\n",
       "      <th>det</th>\n",
       "      <th>w6_asym</th>\n",
       "      <th>w6_err</th>\n",
       "      <th>w8_asym</th>\n",
       "      <th>w8_err</th>\n",
       "      <th>w9_asym</th>\n",
       "      <th>w9_err</th>\n",
       "    </tr>\n",
       "  </thead>\n",
       "  <tbody>\n",
       "    <tr>\n",
       "      <th>0</th>\n",
       "      <td>1</td>\n",
       "      <td>1.384881</td>\n",
       "      <td>0.439519</td>\n",
       "      <td>1.390440</td>\n",
       "      <td>0.342442</td>\n",
       "      <td>1.957090</td>\n",
       "      <td>0.265007</td>\n",
       "    </tr>\n",
       "    <tr>\n",
       "      <th>1</th>\n",
       "      <td>2</td>\n",
       "      <td>1.214952</td>\n",
       "      <td>0.445001</td>\n",
       "      <td>1.504538</td>\n",
       "      <td>0.346366</td>\n",
       "      <td>1.470426</td>\n",
       "      <td>0.268301</td>\n",
       "    </tr>\n",
       "    <tr>\n",
       "      <th>2</th>\n",
       "      <td>3</td>\n",
       "      <td>1.807342</td>\n",
       "      <td>0.448749</td>\n",
       "      <td>1.373120</td>\n",
       "      <td>0.348265</td>\n",
       "      <td>1.395767</td>\n",
       "      <td>0.269671</td>\n",
       "    </tr>\n",
       "    <tr>\n",
       "      <th>3</th>\n",
       "      <td>4</td>\n",
       "      <td>0.698239</td>\n",
       "      <td>0.451362</td>\n",
       "      <td>0.812157</td>\n",
       "      <td>0.349520</td>\n",
       "      <td>1.486076</td>\n",
       "      <td>0.270897</td>\n",
       "    </tr>\n",
       "    <tr>\n",
       "      <th>4</th>\n",
       "      <td>5</td>\n",
       "      <td>1.619660</td>\n",
       "      <td>0.451806</td>\n",
       "      <td>1.152285</td>\n",
       "      <td>0.349733</td>\n",
       "      <td>1.330205</td>\n",
       "      <td>0.270611</td>\n",
       "    </tr>\n",
       "    <tr>\n",
       "      <th>5</th>\n",
       "      <td>6</td>\n",
       "      <td>2.455811</td>\n",
       "      <td>0.447851</td>\n",
       "      <td>1.197790</td>\n",
       "      <td>0.346018</td>\n",
       "      <td>1.235830</td>\n",
       "      <td>0.267895</td>\n",
       "    </tr>\n",
       "    <tr>\n",
       "      <th>6</th>\n",
       "      <td>7</td>\n",
       "      <td>1.918384</td>\n",
       "      <td>0.442260</td>\n",
       "      <td>1.200151</td>\n",
       "      <td>0.343080</td>\n",
       "      <td>1.621067</td>\n",
       "      <td>0.265467</td>\n",
       "    </tr>\n",
       "    <tr>\n",
       "      <th>7</th>\n",
       "      <td>8</td>\n",
       "      <td>1.347194</td>\n",
       "      <td>0.439507</td>\n",
       "      <td>1.804172</td>\n",
       "      <td>0.341672</td>\n",
       "      <td>1.358330</td>\n",
       "      <td>0.264671</td>\n",
       "    </tr>\n",
       "  </tbody>\n",
       "</table>\n",
       "</div>"
      ],
      "text/plain": [
       "   det   w6_asym    w6_err   w8_asym    w8_err   w9_asym    w9_err\n",
       "0    1  1.384881  0.439519  1.390440  0.342442  1.957090  0.265007\n",
       "1    2  1.214952  0.445001  1.504538  0.346366  1.470426  0.268301\n",
       "2    3  1.807342  0.448749  1.373120  0.348265  1.395767  0.269671\n",
       "3    4  0.698239  0.451362  0.812157  0.349520  1.486076  0.270897\n",
       "4    5  1.619660  0.451806  1.152285  0.349733  1.330205  0.270611\n",
       "5    6  2.455811  0.447851  1.197790  0.346018  1.235830  0.267895\n",
       "6    7  1.918384  0.442260  1.200151  0.343080  1.621067  0.265467\n",
       "7    8  1.347194  0.439507  1.804172  0.341672  1.358330  0.264671"
      ]
     },
     "execution_count": 7,
     "metadata": {},
     "output_type": "execute_result"
    }
   ],
   "source": [
    "data[:]"
   ]
  },
  {
   "cell_type": "code",
   "execution_count": 8,
   "metadata": {
    "collapsed": true
   },
   "outputs": [],
   "source": [
    "# Transverse Aluminum (Vertical and Horizontal) asymmetry amplitudes, see Buddhini's thesis pg. 158\n",
    "tasym = [-8.619, -8.486] # [ppm]\n",
    "tasym_err = [0.727, 0.499] # [ppm]\n",
    "c_v = 0.2033 # [ppm]\n",
    "c_v_err = 0.5139 # [ppm]\n",
    "c_h = -0.1057 # [ppm]\n",
    "c_h_err = 0.353 # [ppm]"
   ]
  },
  {
   "cell_type": "code",
   "execution_count": 9,
   "metadata": {
    "collapsed": false
   },
   "outputs": [],
   "source": [
    "tasym_avg, tasym_sw = np.average(tasym, weights=1/np.square(tasym_err), returned=True)\n",
    "tasym_avg_err = 1/np.sqrt(tasym_sw)"
   ]
  },
  {
   "cell_type": "code",
   "execution_count": 10,
   "metadata": {
    "collapsed": false
   },
   "outputs": [
    {
     "data": {
      "text/plain": [
       "(-8.5285927398299748, 0.41141145448830724)"
      ]
     },
     "execution_count": 10,
     "metadata": {},
     "output_type": "execute_result"
    }
   ],
   "source": [
    "tasym_avg, tasym_avg_err"
   ]
  },
  {
   "cell_type": "code",
   "execution_count": 11,
   "metadata": {
    "collapsed": false
   },
   "outputs": [],
   "source": [
    "def fit_function(x, pv, ph, c):\n",
    "    return tasym_avg*(pv*np.cos(x) - ph*np.sin(x)) + c\n",
    "\n",
    "\n",
    "def fit_func_err(x, pcov, pv, ph, c):\n",
    "    #partials\n",
    "    df_dA = (pv*np.cos(x) - ph*np.sin(x))\n",
    "    df_dpv = tasym_avg*np.cos(x)\n",
    "    df_dph = tasym_avg*np.sin(x)\n",
    "    df_dc = 1.0\n",
    "    \n",
    "    term_pv = pcov[0][0]*np.square(df_dpv)\n",
    "    term_ph = pcov[1][1]*np.square(df_dph)\n",
    "    term_c = pcov[2][2]*np.square(df_dc)\n",
    "    term_pvph = 2.0*pcov[0][1]*df_dpv*df_dph\n",
    "    term_pvc = 2.0*pcov[0][2]*df_dpv*df_dc\n",
    "    term_phc = 2.0*pcov[1][2]*df_dph*df_dc\n",
    "    term_A = np.square(tasym_avg_err)*np.square(df_dA)\n",
    "    return np.sqrt(term_pv + term_ph + term_c + term_pvph + term_pvc + term_phc + term_A)"
   ]
  },
  {
   "cell_type": "code",
   "execution_count": 12,
   "metadata": {
    "collapsed": false
   },
   "outputs": [
    {
     "data": {
      "image/png": "[encoded data removed]",
      "text/plain": [
       "<matplotlib.figure.Figure at 0x7f0153654470>"
      ]
     },
     "metadata": {},
     "output_type": "display_data"
    }
   ],
   "source": [
    "pp.figure(figsize=figsize(1.0))\n",
    "pp.errorbar(data.det, data.w6_asym, yerr = data.w6_err, ls='None', marker='d', label='Wien 6')\n",
    "pp.errorbar(data.det, data.w8_asym, yerr = data.w8_err, ls='None', marker='d', label='Wien 8')\n",
    "pp.errorbar(data.det, data.w9_asym, yerr = data.w9_err, ls='None', marker='d', label='Wien 9')\n",
    "pp.xlim(0.5,8.5)\n",
    "pp.legend(loc='upper left')\n",
    "pp.tick_params(top='off')\n",
    "pp.xlabel('Main Detector')\n",
    "pp.ylabel('Asymmetry [ppm]')\n",
    "pp.show()"
   ]
  },
  {
   "cell_type": "code",
   "execution_count": 13,
   "metadata": {
    "collapsed": false
   },
   "outputs": [],
   "source": [
    "fit_x = np.linspace(0.5,8.5,100)\n",
    "# Perform fit\n",
    "w6_popt, w6_pcov = curve_fit(fit_function, data.det, data.w6_asym, sigma=data.w6_err)\n",
    "w6_perr = np.sqrt(np.diag(w6_pcov))\n",
    "\n",
    "w8_popt, w8_pcov = curve_fit(fit_function, data.det, data.w8_asym, sigma=data.w8_err)\n",
    "w8_perr = np.sqrt(np.diag(w8_pcov))\n",
    "\n",
    "w9_popt, w9_pcov = curve_fit(fit_function, data.det, data.w9_asym, sigma=data.w9_err)\n",
    "w9_perr = np.sqrt(np.diag(w9_pcov))"
   ]
  },
  {
   "cell_type": "code",
   "execution_count": 14,
   "metadata": {
    "collapsed": false
   },
   "outputs": [],
   "source": [
    "# Calculation Chi^2 and probability of fit versus data\n",
    "w6_rchi2, w6_prob = chisquare(data.w6_asym, fit_function(data.det, *w6_popt))\n",
    "w8_rchi2, w8_prob = chisquare(data.w8_asym, fit_function(data.det, *w8_popt))\n",
    "w9_rchi2, w9_prob = chisquare(data.w9_asym, fit_function(data.det, *w9_popt))"
   ]
  },
  {
   "cell_type": "code",
   "execution_count": 15,
   "metadata": {
    "collapsed": false
   },
   "outputs": [
    {
     "data": {
      "text/plain": [
       "(0.9392020294990322,\n",
       " 0.99575058850011511,\n",
       " 0.18149208782258092,\n",
       " 0.99998196332126243,\n",
       " 0.17660420920781444,\n",
       " 0.99998357592860965)"
      ]
     },
     "execution_count": 15,
     "metadata": {},
     "output_type": "execute_result"
    }
   ],
   "source": [
    "w6_rchi2, w6_prob, w8_rchi2, w8_prob, w9_rchi2, w9_prob"
   ]
  },
  {
   "cell_type": "code",
   "execution_count": 16,
   "metadata": {
    "collapsed": false
   },
   "outputs": [
    {
     "data": {
      "image/png": "[encoded data removed]",
      "text/plain": [
       "<matplotlib.figure.Figure at 0x7f015359d668>"
      ]
     },
     "metadata": {},
     "output_type": "display_data"
    }
   ],
   "source": [
    "pp.figure(figsize=figsize(1.0))\n",
    "pp.errorbar(data.det, data.w6_asym, yerr = data.w6_err, ls='None', marker='d', label='Wien 6', color=sns.xkcd_rgb['denim blue'])\n",
    "pp.plot(fit_x,fit_function(fit_x, *w6_popt), 'r-', label='Fit', color=sns.xkcd_rgb['pale red'])\n",
    "pp.fill_between(fit_x, \n",
    "                fit_function(fit_x, *w6_popt) + fit_func_err(fit_x, w6_pcov, *w6_popt), \n",
    "                fit_function(fit_x, *w6_popt) - fit_func_err(fit_x, w6_pcov, *w6_popt), color=sns.xkcd_rgb['pale red'], alpha=0.2)\n",
    "pp.xlim(0.5,8.5)\n",
    "pp.legend(loc='upper left')\n",
    "pp.tick_params(top='off')\n",
    "pp.xlabel('Main Detector')\n",
    "pp.ylabel('Asymmetry [ppm]')\n",
    "pp.savefig('plots/al_trans_leakage_wien6_md_phys_asym.png', bbox_inches='tight')\n",
    "pp.savefig('plots/al_trans_leakage_wien6_md_phys_asym.pdf', bbox_inches='tight')\n",
    "pp.savefig('plots/al_trans_leakage_wien6_md_phys_asym.pgf', bbox_inches='tight')\n",
    "pp.show()"
   ]
  },
  {
   "cell_type": "code",
   "execution_count": 17,
   "metadata": {
    "collapsed": false
   },
   "outputs": [
    {
     "data": {
      "image/png": "[encoded data removed]",
      "text/plain": [
       "<matplotlib.figure.Figure at 0x7f01535aac88>"
      ]
     },
     "metadata": {},
     "output_type": "display_data"
    }
   ],
   "source": [
    "pp.figure(figsize=figsize(1.0))\n",
    "pp.errorbar(data.det, data.w8_asym, yerr = data.w8_err, ls='None', marker='d', label='Wien 8', color=sns.xkcd_rgb['denim blue'])\n",
    "pp.plot(fit_x,fit_function(fit_x, *w8_popt), 'r-', label='Fit', color=sns.xkcd_rgb['pale red'])\n",
    "pp.fill_between(fit_x, \n",
    "                fit_function(fit_x, *w8_popt) + fit_func_err(fit_x, w8_pcov, *w8_popt), \n",
    "                fit_function(fit_x, *w8_popt) - fit_func_err(fit_x, w8_pcov, *w8_popt), color=sns.xkcd_rgb['pale red'], alpha=0.2)\n",
    "pp.xlim(0.5,8.5)\n",
    "pp.legend(loc='upper left')\n",
    "pp.tick_params(top='off')\n",
    "pp.xlabel('Main Detector')\n",
    "pp.ylabel('Asymmetry [ppm]')\n",
    "pp.savefig('plots/al_trans_leakage_wien8_md_phys_asym.png', bbox_inches='tight')\n",
    "pp.savefig('plots/al_trans_leakage_wien8_md_phys_asym.pdf', bbox_inches='tight')\n",
    "pp.savefig('plots/al_trans_leakage_wien8_md_phys_asym.pgf', bbox_inches='tight')\n",
    "pp.show()"
   ]
  },
  {
   "cell_type": "code",
   "execution_count": 18,
   "metadata": {
    "collapsed": false
   },
   "outputs": [
    {
     "data": {
      "image/png": "[encoded data removed]",
      "text/plain": [
       "<matplotlib.figure.Figure at 0x7f0153475898>"
      ]
     },
     "metadata": {},
     "output_type": "display_data"
    }
   ],
   "source": [
    "pp.figure(figsize=figsize(1.0))\n",
    "pp.errorbar(data.det, data.w9_asym, yerr = data.w9_err, ls='None', marker='d', label='Wien 9', color=sns.xkcd_rgb['denim blue'])\n",
    "pp.plot(fit_x,fit_function(fit_x, *w9_popt), 'r-', label='Fit', color=sns.xkcd_rgb['pale red'])\n",
    "pp.fill_between(fit_x, \n",
    "                fit_function(fit_x, *w9_popt) + fit_func_err(fit_x, w9_pcov, *w9_popt), \n",
    "                fit_function(fit_x, *w9_popt) - fit_func_err(fit_x, w9_pcov, *w9_popt), color=sns.xkcd_rgb['pale red'], alpha=0.2)\n",
    "pp.xlim(0.5,8.5)\n",
    "pp.legend(loc='upper right')\n",
    "pp.tick_params(top='off')\n",
    "pp.xlabel('Main Detector')\n",
    "pp.ylabel('Asymmetry [ppm]')\n",
    "pp.savefig('plots/al_trans_leakage_wien9_md_phys_asym.png', bbox_inches='tight')\n",
    "pp.savefig('plots/al_trans_leakage_wien9_md_phys_asym.pdf', bbox_inches='tight')\n",
    "pp.savefig('plots/al_trans_leakage_wien9_md_phys_asym.pgf', bbox_inches='tight')\n",
    "pp.show()"
   ]
  },
  {
   "cell_type": "code",
   "execution_count": 20,
   "metadata": {
    "collapsed": false
   },
   "outputs": [],
   "source": [
    "fit_params = np.array([w6_popt, w8_popt, w9_popt])\n",
    "fit_params_err = np.array([w6_perr, w8_perr, w9_perr])"
   ]
  },
  {
   "cell_type": "code",
   "execution_count": 21,
   "metadata": {
    "collapsed": false
   },
   "outputs": [
    {
     "data": {
      "text/plain": [
       "array([[-0.05252889, -0.00421551,  1.54285518],\n",
       "       [ 0.0047871 ,  0.03453717,  1.24938076],\n",
       "       [-0.00584664,  0.01530721,  1.45468772]])"
      ]
     },
     "execution_count": 21,
     "metadata": {},
     "output_type": "execute_result"
    }
   ],
   "source": [
    "fit_params[:]"
   ]
  },
  {
   "cell_type": "code",
   "execution_count": 22,
   "metadata": {
    "collapsed": false
   },
   "outputs": [
    {
     "data": {
      "text/plain": [
       "array([[ 0.03133518,  0.0282838 ,  0.18203035],\n",
       "       [ 0.01337653,  0.01207926,  0.07769173],\n",
       "       [ 0.014814  ,  0.01337745,  0.08604389]])"
      ]
     },
     "execution_count": 22,
     "metadata": {},
     "output_type": "execute_result"
    }
   ],
   "source": [
    "fit_params_err"
   ]
  },
  {
   "cell_type": "code",
   "execution_count": 23,
   "metadata": {
    "collapsed": false
   },
   "outputs": [],
   "source": [
    "pv_param = fit_params.transpose()[0][:]\n",
    "pv_param_err = fit_params_err.transpose()[0][:]\n",
    "ph_param = fit_params.transpose()[1][:]\n",
    "ph_param_err = fit_params_err.transpose()[1][:]"
   ]
  },
  {
   "cell_type": "code",
   "execution_count": 24,
   "metadata": {
    "collapsed": false
   },
   "outputs": [],
   "source": [
    "pv_avg, pv_sw = np.average(pv_param, weights=1/np.square(pv_param_err), returned=True)\n",
    "pv_avg_err = 1/np.sqrt(pv_sw)\n",
    "\n",
    "ph_avg, ph_sw = np.average(ph_param, weights=1/np.square(ph_param_err), returned=True)\n",
    "ph_avg_err = 1/np.sqrt(ph_sw)"
   ]
  },
  {
   "cell_type": "code",
   "execution_count": 48,
   "metadata": {
    "collapsed": false
   },
   "outputs": [
    {
     "data": {
      "image/png": "[encoded data removed]",
      "text/plain": [
       "<matplotlib.figure.Figure at 0x7f0153202a58>"
      ]
     },
     "metadata": {},
     "output_type": "display_data"
    }
   ],
   "source": [
    "pp.figure(figsize=figsize(1.0))\n",
    "pp.errorbar([1,2,3],pv_param*100.0, yerr=pv_param_err*100.0, ls='None', marker='d', color=sns.xkcd_rgb['denim blue'], label='Al')\n",
    "pp.plot([0.5,3.5],[pv_avg*100.0, pv_avg*100.0], 'r-', label='Al Avg', color=sns.xkcd_rgb['pale red'])\n",
    "pp.fill_between([0.5,3.5], (pv_avg+pv_avg_err)*100.0, (pv_avg-pv_avg_err)*100.0, color=sns.xkcd_rgb['pale red'], alpha=0.2)\n",
    "pp.xlim(0.5,3.5)\n",
    "pp.xticks([1,2,3],['$6_{L}$','$8_{L}$','$9_{R}$'])\n",
    "pp.tick_params(top='off')\n",
    "pp.xlabel('Wien')\n",
    "pp.ylabel('$P_{V}$ [\\%]')\n",
    "pp.legend(loc='lower right')\n",
    "pp.savefig('plots/al_trans_leakage_wien_pv.png', bbox_inches='tight')\n",
    "pp.savefig('plots/al_trans_leakage_wien_pv.pdf', bbox_inches='tight')\n",
    "pp.savefig('plots/al_trans_leakage_wien_pv.pgf', bbox_inches='tight')\n",
    "pp.show()"
   ]
  },
  {
   "cell_type": "code",
   "execution_count": 49,
   "metadata": {
    "collapsed": false,
    "scrolled": true
   },
   "outputs": [
    {
     "data": {
      "image/png": "[encoded data removed]",
      "text/plain": [
       "<matplotlib.figure.Figure at 0x7f0151fa77b8>"
      ]
     },
     "metadata": {},
     "output_type": "display_data"
    }
   ],
   "source": [
    "pp.figure(figsize=figsize(1.0))\n",
    "pp.errorbar([1,2,3],ph_param*100.0, yerr=ph_param_err*100.0, ls='None', marker='d', color=sns.xkcd_rgb['denim blue'], label='Al')\n",
    "pp.plot([0.5,3.5],[ph_avg*100.0, ph_avg*100.0], 'r-', label='Al Avg', color=sns.xkcd_rgb['pale red'])\n",
    "pp.fill_between([0.5,3.5], (ph_avg+ph_avg_err)*100.0, (ph_avg-ph_avg_err)*100.0, color=sns.xkcd_rgb['pale red'], alpha=0.2)\n",
    "pp.xlim(0.5,3.5)\n",
    "pp.xticks([1,2,3],['$6_{L}$','$8_{L}$','$9_{R}$'])\n",
    "pp.tick_params(top='off')\n",
    "pp.xlabel('Wien')\n",
    "pp.ylabel('$P_{H}$ [\\%]')\n",
    "pp.legend(loc='lower right')\n",
    "pp.savefig('plots/al_trans_leakage_wien_ph.png', bbox_inches='tight')\n",
    "pp.savefig('plots/al_trans_leakage_wien_ph.pdf', bbox_inches='tight')\n",
    "pp.savefig('plots/al_trans_leakage_wien_ph.pgf', bbox_inches='tight')\n",
    "pp.show()"
   ]
  },
  {
   "cell_type": "code",
   "execution_count": 32,
   "metadata": {
    "collapsed": true
   },
   "outputs": [],
   "source": [
    "# Hydrogen P_V and P_H for same wiens (6, 8, 8.5, 9, 9.5). See A&S ELOG 1663, in units of [%]\n",
    "lh2_pv = [-0.3026, -1.3647, -1.6369, -1.5995, -0.4691]\n",
    "lh2_pv_err = [0.6529,  0.5254, 0.5416, 0.4354, 0.4197]\n",
    "lh2_ph = [-5.8870, 1.4373, 0.3290, 1.7305, -0.4754]\n",
    "lh2_ph_err = [0.6523, 0.5260, 0.5422, 0.4363, 0.4197]"
   ]
  },
  {
   "cell_type": "code",
   "execution_count": 50,
   "metadata": {
    "collapsed": false
   },
   "outputs": [
    {
     "data": {
      "image/png": "[encoded data removed]",
      "text/plain": [
       "<matplotlib.figure.Figure at 0x7f01531d43c8>"
      ]
     },
     "metadata": {},
     "output_type": "display_data"
    }
   ],
   "source": [
    "pp.figure(figsize=figsize(1.0))\n",
    "pp.errorbar([1,2,4],pv_param*100.0, yerr=pv_param_err*100.0, ls='None', marker='d', color=sns.xkcd_rgb['denim blue'], label='Al')\n",
    "pp.plot([0.5,5.5],[pv_avg*100.0, pv_avg*100.0], 'r-', label='Al Avg', color=sns.xkcd_rgb['pale red'])\n",
    "pp.fill_between([0.5,5.5], (pv_avg+pv_avg_err)*100.0, (pv_avg-pv_avg_err)*100.0, color=sns.xkcd_rgb['pale red'], alpha=0.2)\n",
    "pp.errorbar([1,2,3,4,5], lh2_pv, yerr=lh2_pv_err, ls='None', marker='s', color=sns.xkcd_rgb['medium green'], label='LH$_{2}$')\n",
    "pp.xlim(0.5,5.5)\n",
    "pp.xticks([1,2,3,4,5],['$6_{L}$','$8_{L}$','$8.5_{L}$','$9_{R}$','$9.5_{R}$'])\n",
    "pp.tick_params(top='off')\n",
    "pp.xlabel('Wien')\n",
    "pp.ylabel('$P_{V}$ [\\%]')\n",
    "pp.legend(loc='lower right')\n",
    "pp.savefig('plots/al_trans_leakage_wien_pv_lh2_compare.png', bbox_inches='tight')\n",
    "pp.savefig('plots/al_trans_leakage_wien_pv_lh2_compare.pdf', bbox_inches='tight')\n",
    "pp.savefig('plots/al_trans_leakage_wien_pv_lh2_compare.pgf', bbox_inches='tight')\n",
    "pp.show()"
   ]
  },
  {
   "cell_type": "code",
   "execution_count": 51,
   "metadata": {
    "collapsed": false
   },
   "outputs": [
    {
     "data": {
      "image/png": "[encoded data removed]",
      "text/plain": [
       "<matplotlib.figure.Figure at 0x7f0152f893c8>"
      ]
     },
     "metadata": {},
     "output_type": "display_data"
    }
   ],
   "source": [
    "pp.figure(figsize=figsize(1.0))\n",
    "pp.errorbar([1,2,4],ph_param*100.0, yerr=ph_param_err*100.0, ls='None', marker='d', color=sns.xkcd_rgb['denim blue'], label='Al')\n",
    "pp.plot([0.5,5.5],[ph_avg*100.0, ph_avg*100.0], 'r-', label='Al Avg', color=sns.xkcd_rgb['pale red'])\n",
    "pp.fill_between([0.5,5.5], (ph_avg+ph_avg_err)*100.0, (ph_avg-ph_avg_err)*100.0, color=sns.xkcd_rgb['pale red'], alpha=0.2)\n",
    "pp.errorbar([1,2,3,4,5], lh2_ph, yerr=lh2_ph_err, ls='None', marker='s', color=sns.xkcd_rgb['medium green'], label='LH$_{2}$')\n",
    "pp.xlim(0.5,5.5)\n",
    "pp.xticks([1,2,3,4,5],['$6_{L}$','$8_{L}$','$8.5_{L}$','$9_{R}$','$9.5_{R}$'])\n",
    "pp.tick_params(top='off')\n",
    "pp.xlabel('Wien')\n",
    "pp.ylabel('$P_{H}$ [\\%]')\n",
    "pp.legend(loc='lower right')\n",
    "pp.savefig('plots/al_trans_leakage_wien_ph_lh2_compare.png', bbox_inches='tight')\n",
    "pp.savefig('plots/al_trans_leakage_wien_ph_lh2_compare.pdf', bbox_inches='tight')\n",
    "pp.savefig('plots/al_trans_leakage_wien_ph_lh2_compare.pgf', bbox_inches='tight')\n",
    "pp.show()"
   ]
  },
  {
   "cell_type": "code",
   "execution_count": 54,
   "metadata": {
    "collapsed": false
   },
   "outputs": [
    {
     "data": {
      "text/plain": [
       "(-0.0047819620811724479, 0.0094643691908413603)"
      ]
     },
     "execution_count": 54,
     "metadata": {},
     "output_type": "execute_result"
    }
   ],
   "source": [
    "pv_avg, pv_avg_err"
   ]
  },
  {
   "cell_type": "code",
   "execution_count": 28,
   "metadata": {
    "collapsed": false
   },
   "outputs": [
    {
     "data": {
      "text/plain": [
       "(0.023150725949723894, 0.0085461936942220155)"
      ]
     },
     "execution_count": 28,
     "metadata": {},
     "output_type": "execute_result"
    }
   ],
   "source": [
    "ph_avg, ph_avg_err"
   ]
  },
  {
   "cell_type": "code",
   "execution_count": 29,
   "metadata": {
    "collapsed": true
   },
   "outputs": [],
   "source": [
    "c_l = c_v*pv_avg + c_h*ph_avg\n",
    "c_l_err = np.sqrt(c_v_err*c_v_err*pv_avg*pv_avg + pv_avg_err*pv_avg_err*c_v*c_v + c_h_err*c_h_err*ph_avg*ph_avg + ph_avg_err*ph_avg_err*c_h*c_h)"
   ]
  },
  {
   "cell_type": "code",
   "execution_count": 30,
   "metadata": {
    "collapsed": false
   },
   "outputs": [
    {
     "data": {
      "text/plain": [
       "(-0.003419204623988174, 0.0087944421090125711)"
      ]
     },
     "execution_count": 30,
     "metadata": {},
     "output_type": "execute_result"
    }
   ],
   "source": [
    "c_l, c_l_err"
   ]
  },
  {
   "cell_type": "code",
   "execution_count": 31,
   "metadata": {
    "collapsed": false
   },
   "outputs": [
    {
     "data": {
      "text/plain": [
       "0.012213646733000745"
      ]
     },
     "execution_count": 31,
     "metadata": {},
     "output_type": "execute_result"
    }
   ],
   "source": [
    "abs(c_l-c_l_err) #dA_trans [ppm]"
   ]
  },
  {
   "cell_type": "code",
   "execution_count": 52,
   "metadata": {
    "collapsed": false
   },
   "outputs": [
    {
     "data": {
      "text/plain": [
       "0.012213646733000745"
      ]
     },
     "execution_count": 52,
     "metadata": {},
     "output_type": "execute_result"
    }
   ],
   "source": [
    "abs(c_l)+abs(c_l_err)"
   ]
  },
  {
   "cell_type": "code",
   "execution_count": null,
   "metadata": {
    "collapsed": true
   },
   "outputs": [],
   "source": []
  }
 ],
 "metadata": {
  "kernelspec": {
   "display_name": "Python 3",
   "language": "python",
   "name": "python3"
  },
  "language_info": {
   "codemirror_mode": {
    "name": "ipython",
    "version": 3
   },
   "file_extension": ".py",
   "mimetype": "text/x-python",
   "name": "python",
   "nbconvert_exporter": "python",
   "pygments_lexer": "ipython3",
   "version": "3.5.3"
  }
 },
 "nbformat": 4,
 "nbformat_minor": 0
}
