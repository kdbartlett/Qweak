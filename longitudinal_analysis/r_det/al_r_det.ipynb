{
 "cells": [
  {
   "cell_type": "code",
   "execution_count": 1,
   "metadata": {},
   "outputs": [],
   "source": [
    "import numpy as np\n",
    "#This following is so that this will work with Latex, see\n",
    "#http://bkanuka.com/articles/native-latex-plots/\n",
    "import matplotlib as mpl\n",
    "mpl.use('pgf')"
   ]
  },
  {
   "cell_type": "code",
   "execution_count": 2,
   "metadata": {},
   "outputs": [],
   "source": [
    "def figsize(scale):                                 # I think scale is the size you want it on the page\n",
    "    fig_width_pt = 433.62001                        # Get this from LaTeX using \\the\\textwidth\n",
    "    inches_per_pt = 1.0/72.0                        # Convert pt to inch\n",
    "    golden_mean = (np.sqrt(5.0)-1.0)/2.0            # Aesthetic ratio (you could change this)\n",
    "    fig_width = fig_width_pt*inches_per_pt*scale    # width in inches\n",
    "    fig_height = fig_width*golden_mean              # height in inches\n",
    "    fig_size = [fig_width,fig_height]\n",
    "    return fig_size\n",
    "\n",
    "pgf_with_lualatex = {                      # Setup matplotlib to use latex for output\n",
    "    \"pgf.texsystem\": \"lualatex\",           # Change this if using xetex or luatex\n",
    "    \"text.usetex\": True,                   # Use LaTeX to write all text\n",
    "    #Fonts\n",
    "    \"font.family\": \"serif\",                # Get from the pdf font function on the doc\n",
    "    \"font.serif\": \"Computer Modern Roman\",      \n",
    "    \"font.sans-serif\": \"Computer Modern Sans serif\",\n",
    "    \"font.monospace\": [], # Blank entries should cause plots to inherit fonts from the document\n",
    "    #Text size\n",
    "    \"font.size\": 11,# Document default is 11pt font.\n",
    "    #\"text.fontsize\": 11,\n",
    "    \"axes.labelsize\": 11,\n",
    "    \"axes.formatter.useoffset\": False,\n",
    "    \"legend.fontsize\": 8,               # Make the legend/label fonts a little smaller\n",
    "    \"xtick.labelsize\": 8,\n",
    "    \"ytick.labelsize\": 8,\n",
    "    ##Axis\n",
    "    #\"axes.labelpad\": 2,     # space between label and axis \n",
    "    \"figure.figsize\": figsize(1.0),     # default fig size of 1.0 textwidth\n",
    "    #Packages\n",
    "    \"pgf.preamble\": [\n",
    "        r\"\\usepackage[utf8x]{inputenc}\",    # use utf8 fonts becasue your computer can handle it :)\n",
    "        r\"\\usepackage[T1]{fontenc}\",        # plots will be generated using this preamble\n",
    "        r\"\\usepackage{amsmath}\",  #need to add math or the ^ won't work\n",
    "        r\"\\usepackage{amssymb}\"]\n",
    "    }\n",
    "\n",
    "mpl.rcParams.update(pgf_with_lualatex)"
   ]
  },
  {
   "cell_type": "code",
   "execution_count": 25,
   "metadata": {},
   "outputs": [],
   "source": [
    "import pandas as pd\n",
    "import matplotlib.pyplot as plt\n",
    "import seaborn as sns\n",
    "from matplotlib.ticker import AutoMinorLocator\n",
    "from scipy.integrate import quad\n",
    "from scipy.special import gamma"
   ]
  },
  {
   "cell_type": "code",
   "execution_count": 4,
   "metadata": {},
   "outputs": [],
   "source": [
    "%matplotlib inline\n",
    "plt.style.use('seaborn-ticks')\n",
    "sns.set_palette(\"muted\")"
   ]
  },
  {
   "cell_type": "code",
   "execution_count": 5,
   "metadata": {},
   "outputs": [],
   "source": [
    "data = pd.read_csv('data/al_lw_octant_revisited.csv')\n",
    "#data.to_csv('data/al_lw_octant_revisited.csv', index=False)"
   ]
  },
  {
   "cell_type": "code",
   "execution_count": 6,
   "metadata": {},
   "outputs": [
    {
     "data": {
      "text/html": [
       "<div>\n",
       "<style scoped>\n",
       "    .dataframe tbody tr th:only-of-type {\n",
       "        vertical-align: middle;\n",
       "    }\n",
       "\n",
       "    .dataframe tbody tr th {\n",
       "        vertical-align: top;\n",
       "    }\n",
       "\n",
       "    .dataframe thead th {\n",
       "        text-align: right;\n",
       "    }\n",
       "</style>\n",
       "<table border=\"1\" class=\"dataframe\">\n",
       "  <thead>\n",
       "    <tr style=\"text-align: right;\">\n",
       "      <th></th>\n",
       "      <th>md</th>\n",
       "      <th>f_lw</th>\n",
       "      <th>f_lw_err</th>\n",
       "    </tr>\n",
       "  </thead>\n",
       "  <tbody>\n",
       "    <tr>\n",
       "      <th>0</th>\n",
       "      <td>1</td>\n",
       "      <td>1.0097</td>\n",
       "      <td>0.0006</td>\n",
       "    </tr>\n",
       "    <tr>\n",
       "      <th>1</th>\n",
       "      <td>2</td>\n",
       "      <td>1.0072</td>\n",
       "      <td>0.0007</td>\n",
       "    </tr>\n",
       "    <tr>\n",
       "      <th>2</th>\n",
       "      <td>3</td>\n",
       "      <td>1.0089</td>\n",
       "      <td>0.0010</td>\n",
       "    </tr>\n",
       "    <tr>\n",
       "      <th>3</th>\n",
       "      <td>4</td>\n",
       "      <td>1.0125</td>\n",
       "      <td>0.0013</td>\n",
       "    </tr>\n",
       "    <tr>\n",
       "      <th>4</th>\n",
       "      <td>5</td>\n",
       "      <td>1.0087</td>\n",
       "      <td>0.0014</td>\n",
       "    </tr>\n",
       "    <tr>\n",
       "      <th>5</th>\n",
       "      <td>6</td>\n",
       "      <td>1.0093</td>\n",
       "      <td>0.0012</td>\n",
       "    </tr>\n",
       "    <tr>\n",
       "      <th>6</th>\n",
       "      <td>7</td>\n",
       "      <td>1.0093</td>\n",
       "      <td>0.0011</td>\n",
       "    </tr>\n",
       "    <tr>\n",
       "      <th>7</th>\n",
       "      <td>8</td>\n",
       "      <td>1.0077</td>\n",
       "      <td>0.0013</td>\n",
       "    </tr>\n",
       "  </tbody>\n",
       "</table>\n",
       "</div>"
      ],
      "text/plain": [
       "   md    f_lw  f_lw_err\n",
       "0   1  1.0097    0.0006\n",
       "1   2  1.0072    0.0007\n",
       "2   3  1.0089    0.0010\n",
       "3   4  1.0125    0.0013\n",
       "4   5  1.0087    0.0014\n",
       "5   6  1.0093    0.0012\n",
       "6   7  1.0093    0.0011\n",
       "7   8  1.0077    0.0013"
      ]
     },
     "execution_count": 6,
     "metadata": {},
     "output_type": "execute_result"
    }
   ],
   "source": [
    "data[:]"
   ]
  },
  {
   "cell_type": "code",
   "execution_count": 7,
   "metadata": {},
   "outputs": [],
   "source": [
    "avg, sow = np.average(data.f_lw, weights=1/np.square(data.f_lw_err), returned=True)"
   ]
  },
  {
   "cell_type": "code",
   "execution_count": 8,
   "metadata": {},
   "outputs": [
    {
     "name": "stdout",
     "output_type": "stream",
     "text": [
      "1.0089751975197043 0.00033272167171258824\n"
     ]
    }
   ],
   "source": [
    "print(avg, 1/np.sqrt(sow))"
   ]
  },
  {
   "cell_type": "code",
   "execution_count": 31,
   "metadata": {},
   "outputs": [
    {
     "data": {
      "text/plain": [
       "1.0089751975197043"
      ]
     },
     "execution_count": 31,
     "metadata": {},
     "output_type": "execute_result"
    }
   ],
   "source": [
    "avg"
   ]
  },
  {
   "cell_type": "code",
   "execution_count": 19,
   "metadata": {},
   "outputs": [],
   "source": [
    "data['r_det'] = np.reciprocal(data.f_lw)\n",
    "data['r_det_err'] = ((data.f_lw_err/data.f_lw)*data.r_det)"
   ]
  },
  {
   "cell_type": "code",
   "execution_count": 20,
   "metadata": {},
   "outputs": [
    {
     "data": {
      "text/html": [
       "<div>\n",
       "<style scoped>\n",
       "    .dataframe tbody tr th:only-of-type {\n",
       "        vertical-align: middle;\n",
       "    }\n",
       "\n",
       "    .dataframe tbody tr th {\n",
       "        vertical-align: top;\n",
       "    }\n",
       "\n",
       "    .dataframe thead th {\n",
       "        text-align: right;\n",
       "    }\n",
       "</style>\n",
       "<table border=\"1\" class=\"dataframe\">\n",
       "  <thead>\n",
       "    <tr style=\"text-align: right;\">\n",
       "      <th></th>\n",
       "      <th>md</th>\n",
       "      <th>f_lw</th>\n",
       "      <th>f_lw_err</th>\n",
       "      <th>r_det</th>\n",
       "      <th>r_det_err</th>\n",
       "    </tr>\n",
       "  </thead>\n",
       "  <tbody>\n",
       "    <tr>\n",
       "      <th>0</th>\n",
       "      <td>1</td>\n",
       "      <td>1.0097</td>\n",
       "      <td>0.0006</td>\n",
       "      <td>0.990393</td>\n",
       "      <td>0.000589</td>\n",
       "    </tr>\n",
       "    <tr>\n",
       "      <th>1</th>\n",
       "      <td>2</td>\n",
       "      <td>1.0072</td>\n",
       "      <td>0.0007</td>\n",
       "      <td>0.992851</td>\n",
       "      <td>0.000690</td>\n",
       "    </tr>\n",
       "    <tr>\n",
       "      <th>2</th>\n",
       "      <td>3</td>\n",
       "      <td>1.0089</td>\n",
       "      <td>0.0010</td>\n",
       "      <td>0.991179</td>\n",
       "      <td>0.000982</td>\n",
       "    </tr>\n",
       "    <tr>\n",
       "      <th>3</th>\n",
       "      <td>4</td>\n",
       "      <td>1.0125</td>\n",
       "      <td>0.0013</td>\n",
       "      <td>0.987654</td>\n",
       "      <td>0.001268</td>\n",
       "    </tr>\n",
       "    <tr>\n",
       "      <th>4</th>\n",
       "      <td>5</td>\n",
       "      <td>1.0087</td>\n",
       "      <td>0.0014</td>\n",
       "      <td>0.991375</td>\n",
       "      <td>0.001376</td>\n",
       "    </tr>\n",
       "    <tr>\n",
       "      <th>5</th>\n",
       "      <td>6</td>\n",
       "      <td>1.0093</td>\n",
       "      <td>0.0012</td>\n",
       "      <td>0.990786</td>\n",
       "      <td>0.001178</td>\n",
       "    </tr>\n",
       "    <tr>\n",
       "      <th>6</th>\n",
       "      <td>7</td>\n",
       "      <td>1.0093</td>\n",
       "      <td>0.0011</td>\n",
       "      <td>0.990786</td>\n",
       "      <td>0.001080</td>\n",
       "    </tr>\n",
       "    <tr>\n",
       "      <th>7</th>\n",
       "      <td>8</td>\n",
       "      <td>1.0077</td>\n",
       "      <td>0.0013</td>\n",
       "      <td>0.992359</td>\n",
       "      <td>0.001280</td>\n",
       "    </tr>\n",
       "  </tbody>\n",
       "</table>\n",
       "</div>"
      ],
      "text/plain": [
       "   md    f_lw  f_lw_err     r_det  r_det_err\n",
       "0   1  1.0097    0.0006  0.990393   0.000589\n",
       "1   2  1.0072    0.0007  0.992851   0.000690\n",
       "2   3  1.0089    0.0010  0.991179   0.000982\n",
       "3   4  1.0125    0.0013  0.987654   0.001268\n",
       "4   5  1.0087    0.0014  0.991375   0.001376\n",
       "5   6  1.0093    0.0012  0.990786   0.001178\n",
       "6   7  1.0093    0.0011  0.990786   0.001080\n",
       "7   8  1.0077    0.0013  0.992359   0.001280"
      ]
     },
     "execution_count": 20,
     "metadata": {},
     "output_type": "execute_result"
    }
   ],
   "source": [
    "data[:]"
   ]
  },
  {
   "cell_type": "code",
   "execution_count": 21,
   "metadata": {},
   "outputs": [
    {
     "name": "stdout",
     "output_type": "stream",
     "text": [
      "0.9910993300221789 0.0003268268905288709\n"
     ]
    }
   ],
   "source": [
    "r_avg, r_sow = np.average(data.r_det, weights=1/np.square(data.r_det_err), returned = True)\n",
    "print(r_avg, 1/np.sqrt(r_sow))"
   ]
  },
  {
   "cell_type": "code",
   "execution_count": 35,
   "metadata": {},
   "outputs": [
    {
     "data": {
      "text/plain": [
       "(0.9914350026483997, 0.0016854395045022793)"
      ]
     },
     "execution_count": 35,
     "metadata": {},
     "output_type": "execute_result"
    }
   ],
   "source": [
    "1/(1+(1-r_avg)*0.9706), (1/(1+(1-r_avg)*0.9706))*0.0017"
   ]
  },
  {
   "cell_type": "code",
   "execution_count": 9,
   "metadata": {},
   "outputs": [],
   "source": [
    "def chi2(avg, val, err):\n",
    "    v_avg = np.ones(len(val))*avg\n",
    "    weights = 1/np.square(err)\n",
    "    return np.sum(weights*np.square(v_avg-val))"
   ]
  },
  {
   "cell_type": "code",
   "execution_count": 10,
   "metadata": {},
   "outputs": [],
   "source": [
    "chi2_val = chi2(avg, data.f_lw, data.f_lw_err)"
   ]
  },
  {
   "cell_type": "code",
   "execution_count": 11,
   "metadata": {},
   "outputs": [
    {
     "data": {
      "text/plain": [
       "0.0005094184778977021"
      ]
     },
     "execution_count": 11,
     "metadata": {},
     "output_type": "execute_result"
    }
   ],
   "source": [
    "np.sqrt(chi2(avg, data.f_lw, data.f_lw_err)/(len(data.f_lw)-1))*(1/np.sqrt(sow))"
   ]
  },
  {
   "cell_type": "code",
   "execution_count": 20,
   "metadata": {},
   "outputs": [
    {
     "data": {
      "image/png": "[encoded data removed]",
      "text/plain": [
       "<matplotlib.figure.Figure at 0x7fcf03a7aeb8>"
      ]
     },
     "metadata": {},
     "output_type": "display_data"
    }
   ],
   "source": [
    "pp.figure(figsize=figsize(1))\n",
    "pp.errorbar(data.md, \n",
    "            data.f_lw, \n",
    "            yerr=data.f_lw_err, \n",
    "            ls='None', \n",
    "            marker='o',\n",
    "            capsize=2.0,\n",
    "            capthick=1.0,\n",
    "            color=sns.xkcd_rgb['dull blue'], \n",
    "            label='$f_{lw} = \\\\frac{<Q^{2}>_{lw}}{<Q^{2}>}$')\n",
    "pp.plot([0.5, 8.5], [avg, avg], color=sns.xkcd_rgb['dull red'], label='AVG')\n",
    "pp.fill_between([0.5, 8.5], 1.0017*np.array([avg, avg]), 0.9983*np.array([avg, avg]), color=sns.xkcd_rgb['dull red'], alpha=0.2)\n",
    "pp.tick_params(top=False)\n",
    "pp.legend(loc='upper left')\n",
    "pp.xlim(0.5, 8.5)\n",
    "pp.xlabel('Main Detector')\n",
    "pp.ylabel('$f_{lw}$')\n",
    "pp.savefig('plots/al_r_det_f_lw.png', bbox_inches='tight')\n",
    "pp.savefig('plots/al_r_det_f_lw.pdf', bbox_inches='tight')\n",
    "pp.savefig('plots/al_r_det_f_lw.pgf', bbox_inches='tight')\n",
    "pp.show()"
   ]
  },
  {
   "cell_type": "code",
   "execution_count": 29,
   "metadata": {
    "collapsed": true
   },
   "outputs": [],
   "source": [
    "def chi2_prob(z, v):\n",
    "    num = np.power(z, 1/(2*(v-2)))*np.exp(-z/2)\n",
    "    dem = np.power(2, (v/2))*gamma(v/2)\n",
    "    return num/dem"
   ]
  },
  {
   "cell_type": "code",
   "execution_count": 30,
   "metadata": {},
   "outputs": [
    {
     "data": {
      "text/plain": [
       "9.6190579805359969e-06"
      ]
     },
     "execution_count": 30,
     "metadata": {},
     "output_type": "execute_result"
    }
   ],
   "source": [
    "chi2_prob(chi2_val, len(data.f_lw)-1)"
   ]
  },
  {
   "cell_type": "code",
   "execution_count": 45,
   "metadata": {},
   "outputs": [
    {
     "data": {
      "text/plain": [
       "(1.945136980750072e-05, 7.88818152328092e-10)"
      ]
     },
     "execution_count": 45,
     "metadata": {},
     "output_type": "execute_result"
    }
   ],
   "source": [
    "quad(chi2_prob, chi2_val, np.inf, len(data.f_lw)-1)"
   ]
  },
  {
   "cell_type": "code",
   "execution_count": 36,
   "metadata": {},
   "outputs": [
    {
     "data": {
      "image/png": "[encoded data removed]",
      "text/plain": [
       "<matplotlib.figure.Figure at 0x7fd1611c16d8>"
      ]
     },
     "metadata": {},
     "output_type": "display_data"
    }
   ],
   "source": [
    "fig, ax = plt.subplots(figsize=figsize(0.9))\n",
    "ax.errorbar(data.md, \n",
    "            data.r_det, \n",
    "            yerr=data.r_det_err, \n",
    "            ls='None', \n",
    "            marker='o',\n",
    "            capsize=2.0,\n",
    "            capthick=1.0,\n",
    "            color=sns.xkcd_rgb['dull blue'], \n",
    "            label='$R_{det}$')\n",
    "ax.plot([0.5, 8.5], [r_avg, r_avg], color=sns.xkcd_rgb['dull red'])\n",
    "ax.fill_between([0.5, 8.5],\n",
    "                1.0017*np.array([r_avg, r_avg]),\n",
    "                0.9983*np.array([r_avg, r_avg]),\n",
    "                color=sns.xkcd_rgb['dull red'],\n",
    "                alpha=0.2)\n",
    "ax.legend(loc='upper left')\n",
    "ax.set_xlim(0.5, 8.5)\n",
    "ax.set_xlabel('Main Detector')\n",
    "ax.yaxis.set_minor_locator(AutoMinorLocator(4))\n",
    "ax.set_ylabel('$R_{det}$')\n",
    "plt.savefig('plots/al_r_det.png', bbox_inches='tight')\n",
    "plt.savefig('plots/al_r_det.pdf', bbox_inches='tight')\n",
    "plt.savefig('plots/al_r_det.pgf', bbox_inches='tight')\n",
    "plt.show()"
   ]
  },
  {
   "cell_type": "code",
   "execution_count": null,
   "metadata": {},
   "outputs": [],
   "source": []
  },
  {
   "cell_type": "code",
   "execution_count": null,
   "metadata": {
    "collapsed": true
   },
   "outputs": [],
   "source": []
  }
 ],
 "metadata": {
  "kernelspec": {
   "display_name": "Python 3",
   "language": "python",
   "name": "python3"
  },
  "language_info": {
   "codemirror_mode": {
    "name": "ipython",
    "version": 3
   },
   "file_extension": ".py",
   "mimetype": "text/x-python",
   "name": "python",
   "nbconvert_exporter": "python",
   "pygments_lexer": "ipython3",
   "version": "3.6.5"
  }
 },
 "nbformat": 4,
 "nbformat_minor": 1
}
