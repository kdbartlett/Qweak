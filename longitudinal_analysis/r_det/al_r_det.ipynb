{
 "cells": [
  {
   "cell_type": "code",
   "execution_count": 1,
   "metadata": {
    "collapsed": true
   },
   "outputs": [],
   "source": [
    "import numpy as np\n",
    "#This following is so that this will work with Latex, see\n",
    "#http://bkanuka.com/articles/native-latex-plots/\n",
    "import matplotlib as mpl\n",
    "mpl.use('pgf')"
   ]
  },
  {
   "cell_type": "code",
   "execution_count": 2,
   "metadata": {
    "collapsed": true
   },
   "outputs": [],
   "source": [
    "def figsize(scale):                                 # I think scale is the size you want it on the page\n",
    "    fig_width_pt = 433.62001                        # Get this from LaTeX using \\the\\textwidth\n",
    "    inches_per_pt = 1.0/72.0                        # Convert pt to inch\n",
    "    golden_mean = (np.sqrt(5.0)-1.0)/2.0            # Aesthetic ratio (you could change this)\n",
    "    fig_width = fig_width_pt*inches_per_pt*scale    # width in inches\n",
    "    fig_height = fig_width*golden_mean              # height in inches\n",
    "    fig_size = [fig_width,fig_height]\n",
    "    return fig_size\n",
    "\n",
    "pgf_with_lualatex = {                      # Setup matplotlib to use latex for output\n",
    "    \"pgf.texsystem\": \"lualatex\",           # Change this if using xetex or luatex\n",
    "    \"text.usetex\": True,                   # Use LaTeX to write all text\n",
    "    #Fonts\n",
    "    \"font.family\": \"serif\",                # Get from the pdf font function on the doc\n",
    "    \"font.serif\": \"Computer Modern Roman\",      \n",
    "    \"font.sans-serif\": \"Computer Modern Sans serif\",\n",
    "    \"font.monospace\": [], # Blank entries should cause plots to inherit fonts from the document\n",
    "    #Text size\n",
    "    \"font.size\": 11,# Document default is 11pt font.\n",
    "    #\"text.fontsize\": 11,\n",
    "    \"axes.labelsize\": 11,\n",
    "    \"axes.formatter.useoffset\": False,\n",
    "    \"legend.fontsize\": 8,               # Make the legend/label fonts a little smaller\n",
    "    \"xtick.labelsize\": 8,\n",
    "    \"ytick.labelsize\": 8,\n",
    "    ##Axis\n",
    "    #\"axes.labelpad\": 2,     # space between label and axis \n",
    "    \"figure.figsize\": figsize(1.0),     # default fig size of 1.0 textwidth\n",
    "    #Packages\n",
    "    \"pgf.preamble\": [\n",
    "        r\"\\usepackage[utf8x]{inputenc}\",    # use utf8 fonts becasue your computer can handle it :)\n",
    "        r\"\\usepackage[T1]{fontenc}\",        # plots will be generated using this preamble\n",
    "        r\"\\usepackage{amsmath}\",  #need to add math or the ^ won't work\n",
    "        r\"\\usepackage{amssymb}\"]\n",
    "    }\n",
    "\n",
    "mpl.rcParams.update(pgf_with_lualatex)"
   ]
  },
  {
   "cell_type": "code",
   "execution_count": 22,
   "metadata": {
    "collapsed": false
   },
   "outputs": [],
   "source": [
    "import pandas as pd\n",
    "import matplotlib.pyplot as pp\n",
    "import seaborn as sns\n",
    "from scipy.integrate import quad\n",
    "from scipy.special import gamma"
   ]
  },
  {
   "cell_type": "code",
   "execution_count": 4,
   "metadata": {
    "collapsed": true
   },
   "outputs": [],
   "source": [
    "%matplotlib inline\n",
    "pp.style.use('seaborn-ticks')\n",
    "sns.set_palette(\"muted\")"
   ]
  },
  {
   "cell_type": "code",
   "execution_count": 5,
   "metadata": {
    "collapsed": true
   },
   "outputs": [],
   "source": [
    "data = pd.read_csv('data/al_lw_octant_revisited.csv')\n",
    "#data.to_csv('data/al_lw_octant_revisited.csv', index=False)"
   ]
  },
  {
   "cell_type": "code",
   "execution_count": 7,
   "metadata": {
    "collapsed": false
   },
   "outputs": [
    {
     "data": {
      "text/html": [
       "<div>\n",
       "<table border=\"1\" class=\"dataframe\">\n",
       "  <thead>\n",
       "    <tr style=\"text-align: right;\">\n",
       "      <th></th>\n",
       "      <th>md</th>\n",
       "      <th>f_lw</th>\n",
       "      <th>f_lw_err</th>\n",
       "    </tr>\n",
       "  </thead>\n",
       "  <tbody>\n",
       "    <tr>\n",
       "      <th>0</th>\n",
       "      <td>1</td>\n",
       "      <td>1.0097</td>\n",
       "      <td>0.0006</td>\n",
       "    </tr>\n",
       "    <tr>\n",
       "      <th>1</th>\n",
       "      <td>2</td>\n",
       "      <td>1.0072</td>\n",
       "      <td>0.0007</td>\n",
       "    </tr>\n",
       "    <tr>\n",
       "      <th>2</th>\n",
       "      <td>3</td>\n",
       "      <td>1.0089</td>\n",
       "      <td>0.0010</td>\n",
       "    </tr>\n",
       "    <tr>\n",
       "      <th>3</th>\n",
       "      <td>4</td>\n",
       "      <td>1.0125</td>\n",
       "      <td>0.0013</td>\n",
       "    </tr>\n",
       "    <tr>\n",
       "      <th>4</th>\n",
       "      <td>5</td>\n",
       "      <td>1.0087</td>\n",
       "      <td>0.0014</td>\n",
       "    </tr>\n",
       "    <tr>\n",
       "      <th>5</th>\n",
       "      <td>6</td>\n",
       "      <td>1.0093</td>\n",
       "      <td>0.0012</td>\n",
       "    </tr>\n",
       "    <tr>\n",
       "      <th>6</th>\n",
       "      <td>7</td>\n",
       "      <td>1.0093</td>\n",
       "      <td>0.0011</td>\n",
       "    </tr>\n",
       "    <tr>\n",
       "      <th>7</th>\n",
       "      <td>8</td>\n",
       "      <td>1.0077</td>\n",
       "      <td>0.0013</td>\n",
       "    </tr>\n",
       "  </tbody>\n",
       "</table>\n",
       "</div>"
      ],
      "text/plain": [
       "   md    f_lw  f_lw_err\n",
       "0   1  1.0097    0.0006\n",
       "1   2  1.0072    0.0007\n",
       "2   3  1.0089    0.0010\n",
       "3   4  1.0125    0.0013\n",
       "4   5  1.0087    0.0014\n",
       "5   6  1.0093    0.0012\n",
       "6   7  1.0093    0.0011\n",
       "7   8  1.0077    0.0013"
      ]
     },
     "execution_count": 7,
     "metadata": {},
     "output_type": "execute_result"
    }
   ],
   "source": [
    "data[:]"
   ]
  },
  {
   "cell_type": "code",
   "execution_count": 10,
   "metadata": {
    "collapsed": false
   },
   "outputs": [],
   "source": [
    "avg, sow = np.average(data.f_lw, weights=1/np.square(data.f_lw_err), returned=True)"
   ]
  },
  {
   "cell_type": "code",
   "execution_count": 11,
   "metadata": {
    "collapsed": false
   },
   "outputs": [
    {
     "name": "stdout",
     "output_type": "stream",
     "text": [
      "1.00897519752 0.000332721671713\n"
     ]
    }
   ],
   "source": [
    "print(avg, 1/np.sqrt(sow))"
   ]
  },
  {
   "cell_type": "code",
   "execution_count": 15,
   "metadata": {
    "collapsed": false
   },
   "outputs": [],
   "source": [
    "def chi2(avg, val, err):\n",
    "    v_avg = np.ones(len(val))*avg\n",
    "    weights = 1/np.square(err)\n",
    "    return np.sum(weights*np.square(v_avg-val))"
   ]
  },
  {
   "cell_type": "code",
   "execution_count": 27,
   "metadata": {
    "collapsed": false
   },
   "outputs": [],
   "source": [
    "chi2_val = chi2(avg, data.f_lw, data.f_lw_err)"
   ]
  },
  {
   "cell_type": "code",
   "execution_count": 18,
   "metadata": {
    "collapsed": false
   },
   "outputs": [
    {
     "data": {
      "text/plain": [
       "0.00050941847789770208"
      ]
     },
     "execution_count": 18,
     "metadata": {},
     "output_type": "execute_result"
    }
   ],
   "source": [
    "np.sqrt(chi2(avg, data.f_lw, data.f_lw_err)/(len(data.f_lw)-1))*(1/np.sqrt(sow))"
   ]
  },
  {
   "cell_type": "code",
   "execution_count": 20,
   "metadata": {
    "collapsed": false
   },
   "outputs": [
    {
     "data": {
      "image/png": "[encoded data removed]",
      "text/plain": [
       "<matplotlib.figure.Figure at 0x7fcf03a7aeb8>"
      ]
     },
     "metadata": {},
     "output_type": "display_data"
    }
   ],
   "source": [
    "pp.figure(figsize=figsize(1))\n",
    "pp.errorbar(data.md, \n",
    "            data.f_lw, \n",
    "            yerr=data.f_lw_err, \n",
    "            ls='None', \n",
    "            marker='o',\n",
    "            capsize=2.0,\n",
    "            capthick=1.0,\n",
    "            color=sns.xkcd_rgb['dull blue'], \n",
    "            label='$f_{lw} = \\\\frac{<Q^{2}>_{lw}}{<Q^{2}>}$')\n",
    "pp.plot([0.5, 8.5], [avg, avg], color=sns.xkcd_rgb['dull red'], label='AVG')\n",
    "pp.fill_between([0.5, 8.5], 1.0017*np.array([avg, avg]), 0.9983*np.array([avg, avg]), color=sns.xkcd_rgb['dull red'], alpha=0.2)\n",
    "pp.tick_params(top=False)\n",
    "pp.legend(loc='upper left')\n",
    "pp.xlim(0.5, 8.5)\n",
    "pp.xlabel('Main Detector')\n",
    "pp.ylabel('$f_{lw}$')\n",
    "pp.savefig('plots/al_r_det_f_lw.png', bbox_inches='tight')\n",
    "pp.savefig('plots/al_r_det_f_lw.pdf', bbox_inches='tight')\n",
    "pp.savefig('plots/al_r_det_f_lw.pgf', bbox_inches='tight')\n",
    "pp.show()"
   ]
  },
  {
   "cell_type": "code",
   "execution_count": 29,
   "metadata": {
    "collapsed": true
   },
   "outputs": [],
   "source": [
    "def chi2_prob(z, v):\n",
    "    num = np.power(z, 1/(2*(v-2)))*np.exp(-z/2)\n",
    "    dem = np.power(2, (v/2))*gamma(v/2)\n",
    "    return num/dem"
   ]
  },
  {
   "cell_type": "code",
   "execution_count": 30,
   "metadata": {
    "collapsed": false
   },
   "outputs": [
    {
     "data": {
      "text/plain": [
       "9.6190579805359969e-06"
      ]
     },
     "execution_count": 30,
     "metadata": {},
     "output_type": "execute_result"
    }
   ],
   "source": [
    "chi2_prob(chi2_val, len(data.f_lw)-1)"
   ]
  },
  {
   "cell_type": "code",
   "execution_count": 45,
   "metadata": {
    "collapsed": false
   },
   "outputs": [
    {
     "data": {
      "text/plain": [
       "(1.945136980750072e-05, 7.88818152328092e-10)"
      ]
     },
     "execution_count": 45,
     "metadata": {},
     "output_type": "execute_result"
    }
   ],
   "source": [
    "quad(chi2_prob, chi2_val, np.inf, len(data.f_lw)-1)"
   ]
  },
  {
   "cell_type": "code",
   "execution_count": null,
   "metadata": {
    "collapsed": false
   },
   "outputs": [],
   "source": []
  },
  {
   "cell_type": "code",
   "execution_count": null,
   "metadata": {
    "collapsed": false
   },
   "outputs": [],
   "source": []
  },
  {
   "cell_type": "code",
   "execution_count": null,
   "metadata": {
    "collapsed": true
   },
   "outputs": [],
   "source": []
  }
 ],
 "metadata": {
  "kernelspec": {
   "display_name": "Python 3",
   "language": "python",
   "name": "python3"
  },
  "language_info": {
   "codemirror_mode": {
    "name": "ipython",
    "version": 3
   },
   "file_extension": ".py",
   "mimetype": "text/x-python",
   "name": "python",
   "nbconvert_exporter": "python",
   "pygments_lexer": "ipython3",
   "version": "3.5.4"
  }
 },
 "nbformat": 4,
 "nbformat_minor": 0
}
