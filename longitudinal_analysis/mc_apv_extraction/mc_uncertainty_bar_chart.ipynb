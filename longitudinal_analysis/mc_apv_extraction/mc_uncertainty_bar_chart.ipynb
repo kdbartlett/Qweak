{
 "cells": [
  {
   "cell_type": "code",
   "execution_count": 1,
   "metadata": {},
   "outputs": [],
   "source": [
    "import numpy as np\n",
    "#This following is so that this will work with Latex, see\n",
    "#http://bkanuka.com/articles/native-latex-plots/\n",
    "import matplotlib as mpl\n",
    "mpl.use('pgf')"
   ]
  },
  {
   "cell_type": "code",
   "execution_count": 2,
   "metadata": {},
   "outputs": [],
   "source": [
    "def figsize(scale):                                 # I think scale is the size you want it on the page\n",
    "    fig_width_pt = 433.62001                        # Get this from LaTeX using \\the\\textwidth\n",
    "    inches_per_pt = 1.0/72.0                        # Convert pt to inch\n",
    "    golden_mean = (np.sqrt(5.0)-1.0)/2.0            # Aesthetic ratio (you could change this)\n",
    "    fig_width = fig_width_pt*inches_per_pt*scale    # width in inches\n",
    "    fig_height = fig_width*golden_mean              # height in inches\n",
    "    fig_size = [fig_width,fig_height]\n",
    "    return fig_size\n",
    "\n",
    "pgf_with_lualatex = {                      # Setup matplotlib to use latex for output\n",
    "    \"pgf.texsystem\": \"lualatex\",           # Change this if using xetex or luatex\n",
    "    \"text.usetex\": True,                   # Use LaTeX to write all text\n",
    "    \"pgf.rcfonts\": False,\n",
    "    #Fonts\n",
    "    \"font.family\": \"serif\",                # Get from the pdf font function on the doc\n",
    "    \"font.serif\": \"Computer Modern Roman\",      \n",
    "    #\"font.sans-serif\": \"Computer Modern Sans serif\",\n",
    "    #\"font.serif\": [],      \n",
    "    \"font.sans-serif\": [],\n",
    "    \"font.monospace\": [], # Blank entries should cause plots to inherit fonts from the document\n",
    "    #Text size\n",
    "    \"font.size\": 11,# Document default is 11pt font.\n",
    "    #\"text.fontsize\": 11,\n",
    "    \"axes.labelsize\": 11,\n",
    "    \"legend.fontsize\": 8,               # Make the legend/label fonts a little smaller\n",
    "    \"xtick.labelsize\": 8,\n",
    "    \"ytick.labelsize\": 8,\n",
    "    ##Axis\n",
    "    #\"axes.labelpad\": 2,     # space between label and axis \n",
    "    \"figure.figsize\": figsize(1.0),     # default fig size of 1.0 textwidth\n",
    "    #Packages\n",
    "    \"pgf.preamble\": [\n",
    "        r\"\\usepackage[utf8x]{inputenc}\",    # use utf8 fonts becasue your computer can handle it :)\n",
    "        r\"\\usepackage[T1]{fontenc}\",        # plots will be generated using this preamble\n",
    "        r\"\\usepackage{amsmath}\",  #need to add math or the ^ won't work\n",
    "        r\"\\usepackage{amssymb}\"]\n",
    "    }\n",
    "\n",
    "mpl.rcParams.update(pgf_with_lualatex)"
   ]
  },
  {
   "cell_type": "code",
   "execution_count": 3,
   "metadata": {},
   "outputs": [],
   "source": [
    "import pandas as pd\n",
    "import matplotlib.pyplot as plt\n",
    "import seaborn as sns\n",
    "from matplotlib.ticker import AutoMinorLocator"
   ]
  },
  {
   "cell_type": "code",
   "execution_count": 4,
   "metadata": {},
   "outputs": [],
   "source": [
    "%matplotlib inline\n",
    "plt.style.use('seaborn-ticks')\n",
    "sns.set_palette(\"muted\")"
   ]
  },
  {
   "cell_type": "code",
   "execution_count": 5,
   "metadata": {},
   "outputs": [],
   "source": [
    "data = pd.read_csv('mc_apv_extraction_output.csv', index_col=0)"
   ]
  },
  {
   "cell_type": "code",
   "execution_count": 6,
   "metadata": {},
   "outputs": [],
   "source": [
    "sdata = data.sort_values(by=['std'], ascending=False)[1:62]"
   ]
  },
  {
   "cell_type": "code",
   "execution_count": 41,
   "metadata": {},
   "outputs": [
    {
     "data": {
      "text/html": [
       "<div>\n",
       "<style scoped>\n",
       "    .dataframe tbody tr th:only-of-type {\n",
       "        vertical-align: middle;\n",
       "    }\n",
       "\n",
       "    .dataframe tbody tr th {\n",
       "        vertical-align: top;\n",
       "    }\n",
       "\n",
       "    .dataframe thead th {\n",
       "        text-align: right;\n",
       "    }\n",
       "</style>\n",
       "<table border=\"1\" class=\"dataframe\">\n",
       "  <thead>\n",
       "    <tr style=\"text-align: right;\">\n",
       "      <th></th>\n",
       "      <th>mean</th>\n",
       "      <th>std</th>\n",
       "    </tr>\n",
       "  </thead>\n",
       "  <tbody>\n",
       "    <tr>\n",
       "      <th>A_inelastic</th>\n",
       "      <td>1.926332</td>\n",
       "      <td>0.120834</td>\n",
       "    </tr>\n",
       "    <tr>\n",
       "      <th>f_quasi</th>\n",
       "      <td>1.927100</td>\n",
       "      <td>0.039732</td>\n",
       "    </tr>\n",
       "    <tr>\n",
       "      <th>A_quasi</th>\n",
       "      <td>1.926465</td>\n",
       "      <td>0.030693</td>\n",
       "    </tr>\n",
       "    <tr>\n",
       "      <th>A_Zn</th>\n",
       "      <td>1.926456</td>\n",
       "      <td>0.030662</td>\n",
       "    </tr>\n",
       "    <tr>\n",
       "      <th>A_Mg</th>\n",
       "      <td>1.926416</td>\n",
       "      <td>0.029928</td>\n",
       "    </tr>\n",
       "  </tbody>\n",
       "</table>\n",
       "</div>"
      ],
      "text/plain": [
       "                 mean       std\n",
       "A_inelastic  1.926332  0.120834\n",
       "f_quasi      1.927100  0.039732\n",
       "A_quasi      1.926465  0.030693\n",
       "A_Zn         1.926456  0.030662\n",
       "A_Mg         1.926416  0.029928"
      ]
     },
     "execution_count": 41,
     "metadata": {},
     "output_type": "execute_result"
    }
   ],
   "source": [
    "sdata.head()"
   ]
  },
  {
   "cell_type": "code",
   "execution_count": 77,
   "metadata": {},
   "outputs": [],
   "source": [
    "names = np.empty(0)"
   ]
  },
  {
   "cell_type": "code",
   "execution_count": 78,
   "metadata": {},
   "outputs": [],
   "source": [
    "for entry in sdata.index:\n",
    "    if (len(entry) > 1):\n",
    "        #names = np.append(names, '$' + entry[:2] + '{' + entry[2:] + '}$')\n",
    "        #names = np.append(names, entry[:1] + ' ' + entry[2:])\n",
    "        names = np.append(names, entry[:1] + '(' + entry[2:] + ')')\n",
    "    else:\n",
    "        names = np.append(names, entry)"
   ]
  },
  {
   "cell_type": "code",
   "execution_count": 79,
   "metadata": {},
   "outputs": [
    {
     "data": {
      "text/plain": [
       "array(['A(inelastic)', 'f(quasi)', 'A(quasi)', 'A(Zn)', 'A(Mg)',\n",
       "       'A(2211keV)', 'A(2990keV)', 'f(GDR)', 'P', 'A(trans)', 'A(nonlin)',\n",
       "       'A(bb)', 'R(acc)', 'R(rc)', 'A(GDR)', 'A(Cu)', 'R(q2)',\n",
       "       'A(1014keV)', 'A(0844keV)', 'A(bias)', 'f(inelastic)',\n",
       "       'A(2735keV)', 'A(7228keV)', 'A(bcm)', 'R(det)', 'A(5430keV)',\n",
       "       'A(beam)', 'A(7477keV)', 'f(beamline)', 'f(pions)', 'f(neutral)',\n",
       "       'A(4812keV)', 'A(5668keV)', 'A(Cr)', 'f(2211keV)', 'A(Si)',\n",
       "       'A(4580keV)', 'f(1014keV)', 'f(7477keV)', 'A(Fe)', 'f(7228keV)',\n",
       "       'f(2990keV)', 'f(Zn)', 'f(844keV)', 'A(Mn)', 'f(5430keV)', 'A(Ti)',\n",
       "       'f(Mg)', 'f(2735keV)', 'f(4812keV)', 'f(5668keV)', 'f(Cu)',\n",
       "       'f(4580keV)', 'f(Mn)', 'f(Ti)', 'f(Fe)', 'f(Cr)', 'f(Si)',\n",
       "       'A(raw)', 'A(neutral)', 'A(pions)'], dtype='<U32')"
      ]
     },
     "execution_count": 79,
     "metadata": {},
     "output_type": "execute_result"
    }
   ],
   "source": [
    "names"
   ]
  },
  {
   "cell_type": "code",
   "execution_count": 53,
   "metadata": {},
   "outputs": [],
   "source": [
    "bar_range = np.arange(0.0, len(sdata['std']))\n",
    "name_range = np.arange(-1.0, len(sdata['std']))"
   ]
  },
  {
   "cell_type": "code",
   "execution_count": 35,
   "metadata": {},
   "outputs": [],
   "source": [
    "asym = 1.9272\n",
    "stat_uncert = 0.0908"
   ]
  },
  {
   "cell_type": "code",
   "execution_count": 80,
   "metadata": {},
   "outputs": [
    {
     "data": {
      "image/png": "[encoded data removed]",
      "text/plain": [
       "<matplotlib.figure.Figure at 0x7fc011906908>"
      ]
     },
     "metadata": {},
     "output_type": "display_data"
    }
   ],
   "source": [
    "fig, ax = plt.subplots(figsize=(9,3.375))\n",
    "ax2 = ax.twinx()\n",
    "ax.bar(bar_range, sdata['std'], color=sns.xkcd_rgb['dull blue'])\n",
    "ax.bar(-1, 0.0908, color=sns.xkcd_rgb['dull red']) #Stats\n",
    "ax.set_xlim(-2,61)\n",
    "ymin, ymax = ax.get_ylim()\n",
    "ax2.set_ylim(0.0, 100.0*(ymax/asym))\n",
    "ax.set_xticks(name_range)\n",
    "ax.set_xticklabels(np.insert(names, 0, 'Stats'), rotation=90, horizontalalignment='center')\n",
    "ax.set_ylabel('Uncertainty Size [ppm]')\n",
    "ax2.set_ylabel('Relative Uncertainty Size [\\%]')\n",
    "ax.yaxis.set_minor_locator(AutoMinorLocator(4))\n",
    "ax2.yaxis.set_minor_locator(AutoMinorLocator(4))\n",
    "ax.grid(True, which='major', axis='y')\n",
    "plt.savefig('plots/uncertainty_chart_ordered.png', bbox_inches='tight')\n",
    "plt.savefig('plots/uncertainty_chart_ordered.pdf', bbox_inches='tight')\n",
    "plt.savefig('plots/uncertainty_chart_ordered.pgf', bbox_inches='tight')\n",
    "plt.show()"
   ]
  },
  {
   "cell_type": "code",
   "execution_count": null,
   "metadata": {},
   "outputs": [],
   "source": []
  },
  {
   "cell_type": "code",
   "execution_count": 57,
   "metadata": {},
   "outputs": [
    {
     "data": {
      "image/png": "[encoded data removed]",
      "text/plain": [
       "<matplotlib.figure.Figure at 0x7fc014642630>"
      ]
     },
     "metadata": {},
     "output_type": "display_data"
    }
   ],
   "source": [
    "fig, ax = plt.subplots(figsize=(6,16))\n",
    "ax.barh(bar_range, sdata['std'])\n",
    "ax.barh(-1, 0.0908, color=sns.xkcd_rgb['dull red']) #Stats\n",
    "ax.set_yticks(bar_range)\n",
    "ax.set_yticklabels(np.insert(names, 0, 'Stats'), horizontalalignment='right')\n",
    "#ax.yticks(bar_range, sdata.index, horizontalalignment='right')\n",
    "ax.set_ylim(-2,61)\n",
    "ax.set_xlabel('Uncertainty Size [ppm]')\n",
    "#pp.savefig('plots/uncertainty_chart_horizontal_ordered.png', bbox_inches='tight')\n",
    "#pp.savefig('plots/uncertainty_chart_horizontal_ordered.pdf', bbox_inches='tight')\n",
    "plt.show()"
   ]
  },
  {
   "cell_type": "code",
   "execution_count": null,
   "metadata": {},
   "outputs": [],
   "source": []
  }
 ],
 "metadata": {
  "kernelspec": {
   "display_name": "Python 3",
   "language": "python",
   "name": "python3"
  },
  "language_info": {
   "codemirror_mode": {
    "name": "ipython",
    "version": 3
   },
   "file_extension": ".py",
   "mimetype": "text/x-python",
   "name": "python",
   "nbconvert_exporter": "python",
   "pygments_lexer": "ipython3",
   "version": "3.6.5"
  }
 },
 "nbformat": 4,
 "nbformat_minor": 2
}
