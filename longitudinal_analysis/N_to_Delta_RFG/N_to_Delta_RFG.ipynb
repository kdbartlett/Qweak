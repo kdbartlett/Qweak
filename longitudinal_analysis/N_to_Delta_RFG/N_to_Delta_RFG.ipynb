{
 "cells": [
  {
   "cell_type": "markdown",
   "metadata": {},
   "source": [
    "# $N\\to \\Delta$ Aluminum Asymmetry Calculation (Relativistic Fermi Gas)\n",
    "***\n",
    "\n",
    "Sources: \n",
    "* P. Amore et al., Nuc. Phys. A 690 509-534 (2001)\n",
    "* L. Alvarez-Ruso et al., Phys. Lett. B 497 214-220 (2001)\n",
    "* J.E. Amaro et al., Nuc. Phys. A 657 161-186 (1999)\n",
    "* T.W. Donnelly et al., Foundations of Nuclear and Particle Physics, Cambridge Press, (Sections 16.2-16.4)"
   ]
  },
  {
   "cell_type": "markdown",
   "metadata": {},
   "source": [
    "## Table of Contents\n",
    "1. [Preamble](#Preamble)\n",
    "1. [Function Definitions](#Function-Definitions)\n",
    "    1. [Constants](#Constants:)\n",
    "    1. [Kinematic Variable Functions](#Kinematic-Variable-Functions:)\n",
    "    1. [Form Factor Parameterizations](#Form-Factor-Parameterizations:)\n",
    "    1. [W Functions](#W-Functions:)\n",
    "    1. [Scaling Functions](#Scaling-Functions:)\n",
    "    1. [D Functions](#D-Functions:)\n",
    "    1. [U Functions](#U-Functions:)\n",
    "    1. [Response Functions](#Response-Functions:)\n",
    "    1. [Width Integration](#Width-Integration:)\n",
    "1. [Plotting](#Plotting)"
   ]
  },
  {
   "cell_type": "markdown",
   "metadata": {},
   "source": [
    "## Preamble\n",
    "Return:[TOC](#Table-of-Contents)"
   ]
  },
  {
   "cell_type": "code",
   "execution_count": 1,
   "metadata": {},
   "outputs": [],
   "source": [
    "# Load packages and modules\n",
    "import numpy as np\n",
    "import matplotlib.pyplot as plt\n",
    "from scipy.integrate import quad\n",
    "# For debug\n",
    "#from IPython.core.debugger import set_trace"
   ]
  },
  {
   "cell_type": "code",
   "execution_count": 2,
   "metadata": {},
   "outputs": [],
   "source": [
    "# Set ploting related commands\n",
    "%matplotlib inline\n",
    "plt.style.use('seaborn-ticks')"
   ]
  },
  {
   "cell_type": "markdown",
   "metadata": {},
   "source": [
    "## Function Definitions\n",
    "Return:[TOC](#Table-of-Contents)"
   ]
  },
  {
   "cell_type": "markdown",
   "metadata": {},
   "source": [
    "### Constants:\n",
    "Return:[TOC](#Table-of-Contents)"
   ]
  },
  {
   "cell_type": "code",
   "execution_count": 3,
   "metadata": {},
   "outputs": [],
   "source": [
    "m_N = 938.0 #[MeV] Nucleon mass (proton)\n",
    "m_pi = 139.57 #[MeV] Pion mass\n",
    "m_delta = 1232.0 #[MeV] Breit-Wigner Delta Mass\n",
    "w_delta = 120.0 #[MeV] Breit-Wigner Delta Width\n",
    "k_f = 220.0 #[MeV] Fermi Momentum (236 MeV for Al, source: Donnelly book)\n",
    "E_f = np.sqrt(k_f*k_f+m_N*m_N) #[MeV] Fermi Energy?????\n",
    "eta_f = k_f/m_N\n",
    "epsilon_f = np.sqrt(1.0+np.square(eta_f))\n",
    "xi_f = epsilon_f-1.0\n",
    "sinthw = 0.23\n",
    "beta_0 = -2.0*sinthw\n",
    "beta_1 = 1.0-2.0*sinthw"
   ]
  },
  {
   "cell_type": "markdown",
   "metadata": {},
   "source": [
    "### Kinematic Variable Functions:\n",
    "Return:[TOC](#Table-of-Contents)"
   ]
  },
  {
   "cell_type": "code",
   "execution_count": 4,
   "metadata": {},
   "outputs": [],
   "source": [
    "def Kappa(q):\n",
    "    return np.divide(q, 2.0*m_N)\n",
    "\n",
    "def Lambda(w):\n",
    "    return np.divide(w, 2.0*m_N)\n",
    "\n",
    "def mu(W):\n",
    "    return np.divide(W, m_N)\n",
    "\n",
    "def Tau(q, w):\n",
    "    return np.square(Kappa(q)) - np.square(Lambda(w))\n",
    "\n",
    "def Rho(W, q, w):\n",
    "    return (1.0+np.divide(np.square(mu(W))-1.0, 4.0*Tau(q, w)))\n",
    "\n",
    "def W_invar(q, w):\n",
    "    return np.sqrt(np.square(m_N + w) - np.square(q))"
   ]
  },
  {
   "cell_type": "markdown",
   "metadata": {},
   "source": [
    "### Form Factor Parameterizations:\n",
    "Return:[TOC](#Table-of-Contents)"
   ]
  },
  {
   "cell_type": "code",
   "execution_count": 5,
   "metadata": {},
   "outputs": [],
   "source": [
    "def delta_dipole(q, w):\n",
    "    l_dipole = 1.0\n",
    "    return np.divide(1.0, np.sqrt(1.0+l_dipole*Tau(q, w)))\n",
    "    \n",
    "def f_dipole(q, w, c_dipole=4.97):\n",
    "    return np.divide(1.0, np.square(1.0 + c_dipole*Tau(q, w)))\n",
    "\n",
    "def G_E_PC(q, w):\n",
    "    g_E_PC = -0.03\n",
    "    return g_E_PC*f_dipole(q, w)*delta_dipole(q, w)\n",
    "\n",
    "def G_M_PC(q, w):\n",
    "    g_M_PC = 2.97\n",
    "    return g_M_PC*f_dipole(q, w)*delta_dipole(q, w)\n",
    "\n",
    "def G_C_PC(q, w):\n",
    "    g_C_PC = -0.44\n",
    "    return g_C_PC*f_dipole(q, w)*delta_dipole(q, w)\n",
    "\n",
    "def G_E_PV(q, w):\n",
    "    return beta_0*G_E_PC(q, w)\n",
    "\n",
    "def G_M_PV(q, w):\n",
    "    return beta_0*G_M_PC(q, w)\n",
    "\n",
    "def G_C_PV(q, w):\n",
    "    return beta_0*G_C_PC(q, w)\n",
    "\n",
    "def G_E_A(q, w):\n",
    "    g_E_A = 2.22\n",
    "    c_E_A = 3.53\n",
    "    return g_E_A*f_dipole(q, w, c_dipole=c_E_A)\n",
    "\n",
    "def G_M_A(q, w):\n",
    "    g_M_A = 0.0\n",
    "    c_M_A = 3.53\n",
    "    return g_M_A*f_dipole(q, w, c_dipole=c_M_A)"
   ]
  },
  {
   "cell_type": "markdown",
   "metadata": {},
   "source": [
    "### W Functions:\n",
    "Return:[TOC](#Table-of-Contents)"
   ]
  },
  {
   "cell_type": "code",
   "execution_count": 6,
   "metadata": {},
   "outputs": [],
   "source": [
    "def w_1_PC(W, q, w):\n",
    "    t1 = 3.0*np.square(G_E_PC(q, w))\n",
    "    t2 = np.square(G_M_PC(q, w))\n",
    "    return (1.0/16.0)*(t1+t2)*np.square(mu(W)+1.0)*(np.square(mu(W)-1.0)+4.0*Tau(q, w))\n",
    "\n",
    "def w_2_PC(W, q, w):\n",
    "    t1 = 3.0*np.square(G_E_PC(q, w))\n",
    "    t2 = np.square(G_M_PC(q, w))\n",
    "    t3 = np.divide(4.0*Tau(q, w), mu(W)*mu(W))*np.square(G_C_PC(q, w))\n",
    "    t0 = (1.0/16.0)*np.divide(4.0*Tau(q,w) + np.square(mu(W) - 1.0), 1.0 + Tau(q, w)*np.square(Rho(W, q, w)))\n",
    "    return t0*np.square(mu(W) + 1.0)*(t1+t2+t3)\n",
    "\n",
    "def w_1_PV(W, q, w):\n",
    "    t1 = 3.0*G_E_PC(q, w)*G_E_PV(q, w)\n",
    "    t2 = G_M_PC(q, w)*G_M_PV(q, w)\n",
    "    return (1.0/16.0)*(t1+t2)*np.square(mu(W)+1.0)*(np.square(mu(W)-1.0)+4.0*Tau(q, w))\n",
    "\n",
    "def w_2_PV(W, q, w):\n",
    "    t1 = 3.0*G_E_PC(q, w)*G_E_PV(q, w)\n",
    "    t2 = G_M_PC(q, w)*G_M_PV(q, w)\n",
    "    t3 = np.divide(4.0*Tau(q, w), mu(W)*mu(W))*G_C_PC(q, w)*G_C_PV(q, w)\n",
    "    t0 = (1.0/16.0)*np.divide(4.0*Tau(q,w) + np.square(mu(W) - 1.0), 1.0 + Tau(q, w)*np.square(Rho(W, q, w)))\n",
    "    return t0*np.square(mu(W) + 1.0)*(t1+t2+t3)\n",
    "\n",
    "def w_3_PV(W, q, w):\n",
    "    t1 = 3.0*G_E_PC(q, w)*G_M_A(q, w)\n",
    "    t2 = G_E_A(q, w)*G_M_PC(q, w)\n",
    "    return (1.0/4.0)*(np.square(mu(W))-1.0)*(t1+t2)"
   ]
  },
  {
   "cell_type": "markdown",
   "metadata": {},
   "source": [
    "### Scaling Functions:\n",
    "Return:[TOC](#Table-of-Contents)"
   ]
  },
  {
   "cell_type": "code",
   "execution_count": 7,
   "metadata": {},
   "outputs": [],
   "source": [
    "def Lambda_0(W, q, w):\n",
    "    t1 = np.sqrt(1.0 + 4.0*np.square(Kappa(q))*Rho(W, q, w))\n",
    "    return (1.0/2.0)*(t1-1.0)\n",
    "\n",
    "def Lambda_0_mod(W, q, w):\n",
    "    '''Source: Donnelly book'''\n",
    "    t1 = np.sqrt(np.square(mu(W)) + 4.0*np.square(Kappa(q)))\n",
    "    return (1.0/2.0)*(t1-1.0)\n",
    "\n",
    "def Psi(W, q, w):\n",
    "    t1 = Kappa(q)*np.sqrt(np.divide(1.0, Tau(q, w))+np.square(Rho(W, q, w)))\n",
    "    t2 = -1.0*Lambda(w)*Rho(W, q, w)-1.0\n",
    "    if (Lambda(w) >= Lambda_0_mod(W, q, w)):\n",
    "        return np.sqrt((1.0/xi_f)*(t1+t2))\n",
    "    elif (Lambda(w) < Lambda_0_mod(W, q, w)):\n",
    "        return -1.0*np.sqrt((1.0/xi_f)*(t1+t2))\n",
    "    else:\n",
    "        return 0.0\n",
    "        #print('Returning NaN')\n",
    "        #return float('nan')"
   ]
  },
  {
   "cell_type": "markdown",
   "metadata": {},
   "source": [
    "### D Functions:\n",
    "Return:[TOC](#Table-of-Contents)"
   ]
  },
  {
   "cell_type": "code",
   "execution_count": 8,
   "metadata": {},
   "outputs": [],
   "source": [
    "def D_L(W, q, w):\n",
    "    t1 = np.square(Lambda(w)*Rho(W, q, w) + 1.0)\n",
    "    t2 = (Lambda(w)*Rho(W, q, w) + 1.0)*(1.0 + np.square(Psi(W, q, w)))*xi_f\n",
    "    t3 = (1.0/3.0)*(1.0 + np.square(Psi(W, q, w)) + np.square(np.square(Psi(W, q, w))))*xi_f*xi_f\n",
    "    return np.divide(Tau(q, w), np.square(Kappa(q)))*(t1+t2+t3)-(1.0 + Tau(q, w)*np.square(Rho(W, q, w)))\n",
    "\n",
    "def D_T(W, q, w):\n",
    "    return D_L(W, q, w)\n",
    "\n",
    "def D_Tp(W, q, w):\n",
    "    t1 = np.divide(1.0, Kappa(q))*np.sqrt(np.divide(Tau(q, w), 1.0 + Tau(q, w)*np.square(Rho(W, q, w))))\n",
    "    t2 = 1.0 + Lambda(w)*Rho(W, q, w)  + xi_f*(1.0 + np.square(Psi(W, q, w)))\n",
    "    return t1*t2 - 1.0"
   ]
  },
  {
   "cell_type": "markdown",
   "metadata": {},
   "source": [
    "### U Functions:\n",
    "Return:[TOC](#Table-of-Contents)"
   ]
  },
  {
   "cell_type": "code",
   "execution_count": 9,
   "metadata": {},
   "outputs": [],
   "source": [
    "def U_L_PC(W, q, w):\n",
    "    t1 = (1.0 + Tau(q, w)*np.square(Rho(W, q, w)))*w_2_PC(W, q, w)\n",
    "    t2 = -1.0*w_1_PC(W, q, w)\n",
    "    t3 = w_2_PC(W, q, w)*D_L(W, q, w)\n",
    "    return np.divide(np.square(Kappa(q)), Tau(q, w))*(t1+t2+t3)\n",
    "\n",
    "def U_T_PC(W, q, w):\n",
    "    return 2.0*w_1_PC(W, q, w) + w_2_PC(W, q, w)*D_T(W, q, w)\n",
    "\n",
    "def U_L_PV(W, q, w):\n",
    "    t1 = (1.0 + Tau(q, w)*np.square(Rho(W, q, w)))*w_2_PV(W, q, w)\n",
    "    t2 = -1.0*w_1_PV(W, q, w)\n",
    "    t3 = w_2_PV(W, q, w)*D_L(W, q, w)\n",
    "    return np.divide(np.square(Kappa(q)), Tau(q, w))*(t1+t2+t3)\n",
    "\n",
    "def U_T_PV(W, q, w):\n",
    "    return 2.0*w_1_PV(W, q, w) + w_2_PV(W, q, w)*D_T(W, q, w)\n",
    "\n",
    "def U_Tp_PV(W, q, w):\n",
    "    t1 = 2.0*np.sqrt(Tau(q, w)*(1.0 + Tau(q, w)*np.square(Rho(W, q, w))))*w_3_PV(W, q, w)\n",
    "    t2 = 1.0 + D_Tp(W, q, w)\n",
    "    return t1*t2"
   ]
  },
  {
   "cell_type": "markdown",
   "metadata": {},
   "source": [
    "### Response Functions:\n",
    "Return:[TOC](#Table-of-Contents)"
   ]
  },
  {
   "cell_type": "code",
   "execution_count": 10,
   "metadata": {},
   "outputs": [],
   "source": [
    "def C(q, w, A):\n",
    "    return np.divide(3.0*A, 4.0*m_N*Kappa(q)*eta_f*eta_f*eta_f)\n",
    "    \n",
    "def heaviside(x):\n",
    "    return 0.5*(np.sign(x) + 1.0)\n",
    "\n",
    "def R_L_PC(W, q, w, A):\n",
    "    return C(q, w, A)*xi_f*(1.0 - np.square(Psi(W, q, w)))*U_L_PC(W, q, w)*heaviside(1.0-np.square(Psi(W, q, w)))\n",
    "\n",
    "def R_T_PC(W, q, w, A):\n",
    "    return C(q, w, A)*xi_f*(1.0 - np.square(Psi(W, q, w)))*U_T_PC(W, q, w)*heaviside(1.0-np.square(Psi(W, q, w)))\n",
    "\n",
    "def R_L_PV(W, q, w, A):\n",
    "    return C(q, w, A)*xi_f*(1.0 - np.square(Psi(W, q, w)))*U_L_PV(W, q, w)*heaviside(1.0-np.square(Psi(W, q, w)))\n",
    "\n",
    "def R_T_PV(W, q, w, A):\n",
    "    return C(q, w, A)*xi_f*(1.0 - np.square(Psi(W, q, w)))*U_T_PV(W, q, w)*heaviside(1.0-np.square(Psi(W, q, w)))\n",
    "\n",
    "def R_Tp_PV(W, q, w, A):\n",
    "    return C(q, w, A)*xi_f*(1.0 - np.square(Psi(W, q, w)))*U_Tp_PV(W, q, w)*heaviside(1.0-np.square(Psi(W, q, w)))"
   ]
  },
  {
   "cell_type": "markdown",
   "metadata": {},
   "source": [
    "### Width Integration:\n",
    "Return:[TOC](#Table-of-Contents)"
   ]
  },
  {
   "cell_type": "code",
   "execution_count": 11,
   "metadata": {},
   "outputs": [],
   "source": [
    "W_min = m_N + m_pi\n",
    "\n",
    "def W_max(q, w):\n",
    "    return np.sqrt(np.square(E_f + w) - np.square(q - k_f))\n",
    "\n",
    "def p_pi(W):\n",
    "    t1 = np.divide(np.square(np.square(W) - m_N*m_N - m_pi*m_pi), 4.0)\n",
    "    t2 = -1.0*m_N*m_N*m_pi*m_pi\n",
    "    return np.divide(1.0, W)*np.sqrt(t1 + t2)\n",
    "\n",
    "def Gamma(W):\n",
    "    return w_delta*np.divide(m_delta, W)*np.power(np.divide(p_pi(W), p_pi(m_delta)), 3.0)\n",
    "\n",
    "def Weighting(W):\n",
    "    nt1 = np.divide(Gamma(W), 2.0)\n",
    "    dt1 = np.square(W - m_delta)\n",
    "    dt2 = np.divide(np.square(Gamma(W)), 4.0)\n",
    "    return (1.0/np.pi)*np.divide(nt1, dt1 + dt2)"
   ]
  },
  {
   "cell_type": "code",
   "execution_count": 12,
   "metadata": {},
   "outputs": [],
   "source": [
    "def R_T_PC_int(q, w, A):\n",
    "    #set_trace()\n",
    "    val, err = quad(R_T_PC, W_min, W_max(q, w), args=(q, w, A))\n",
    "    return val"
   ]
  },
  {
   "cell_type": "markdown",
   "metadata": {},
   "source": [
    "## Plotting\n",
    "Return:[TOC](#Table-of-Contents)"
   ]
  },
  {
   "cell_type": "code",
   "execution_count": 13,
   "metadata": {},
   "outputs": [],
   "source": [
    "w_range = np.arange(0.0, 800.0)"
   ]
  },
  {
   "cell_type": "code",
   "execution_count": 14,
   "metadata": {},
   "outputs": [],
   "source": [
    "dat_R_L_PC = np.array([R_L_PC(m_delta, 1000.0, i, 12.0) for i in w_range])\n",
    "dat_R_T_PC = np.array([R_T_PC(m_delta, 1000.0, i, 12.0) for i in w_range])\n",
    "dat_R_L_PV = np.array([R_L_PV(m_delta, 1000.0, i, 12.0) for i in w_range])\n",
    "dat_R_T_PV = np.array([R_T_PV(m_delta, 1000.0, i, 12.0) for i in w_range])\n",
    "dat_R_Tp_PV = np.array([R_Tp_PV(m_delta, 1000.0, i, 12.0) for i in w_range])"
   ]
  },
  {
   "cell_type": "code",
   "execution_count": 15,
   "metadata": {},
   "outputs": [],
   "source": [
    "#dat_R_T_PC_int = np.array([R_T_PC_int(1000, i, 12) for i in w_range])"
   ]
  },
  {
   "cell_type": "code",
   "execution_count": 16,
   "metadata": {},
   "outputs": [
    {
     "data": {
      "text/plain": [
       "3.217742470571629"
      ]
     },
     "execution_count": 16,
     "metadata": {},
     "output_type": "execute_result"
    }
   ],
   "source": [
    "R_T_PC_int(1000.0, 650.0, 12)"
   ]
  },
  {
   "cell_type": "code",
   "execution_count": 17,
   "metadata": {},
   "outputs": [],
   "source": [
    "#plt.figure()\n",
    "#plt.plot(w_range, dat_R_T_PC_int)\n",
    "#plt.show()"
   ]
  },
  {
   "cell_type": "code",
   "execution_count": 18,
   "metadata": {
    "scrolled": true
   },
   "outputs": [
    {
     "data": {
      "image/png": "[encoded data removed]",
      "text/plain": [
       "<matplotlib.figure.Figure at 0x7f3d2231a8d0>"
      ]
     },
     "metadata": {},
     "output_type": "display_data"
    }
   ],
   "source": [
    "plt.figure()\n",
    "plt.plot(w_range, dat_R_L_PC, label='L')\n",
    "plt.plot(w_range, dat_R_T_PC, label='T')\n",
    "plt.legend(loc='upper left')\n",
    "plt.show()"
   ]
  },
  {
   "cell_type": "code",
   "execution_count": 19,
   "metadata": {},
   "outputs": [
    {
     "data": {
      "image/png": "[encoded data removed]",
      "text/plain": [
       "<matplotlib.figure.Figure at 0x7f3d222bc668>"
      ]
     },
     "metadata": {},
     "output_type": "display_data"
    }
   ],
   "source": [
    "plt.figure()\n",
    "plt.plot(w_range, dat_R_L_PV, label='L')\n",
    "plt.plot(w_range, dat_R_T_PV, label='T')\n",
    "plt.plot(w_range, dat_R_Tp_PV, label='Tp')\n",
    "plt.legend(loc='lower left')\n",
    "plt.show()"
   ]
  },
  {
   "cell_type": "code",
   "execution_count": null,
   "metadata": {},
   "outputs": [],
   "source": []
  }
 ],
 "metadata": {
  "kernelspec": {
   "display_name": "Python 3",
   "language": "python",
   "name": "python3"
  },
  "language_info": {
   "codemirror_mode": {
    "name": "ipython",
    "version": 3
   },
   "file_extension": ".py",
   "mimetype": "text/x-python",
   "name": "python",
   "nbconvert_exporter": "python",
   "pygments_lexer": "ipython3",
   "version": "3.6.5"
  }
 },
 "nbformat": 4,
 "nbformat_minor": 2
}
