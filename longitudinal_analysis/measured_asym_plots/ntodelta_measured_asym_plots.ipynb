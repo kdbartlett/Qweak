{
 "cells": [
  {
   "cell_type": "code",
   "execution_count": 1,
   "metadata": {
    "collapsed": false
   },
   "outputs": [],
   "source": [
    "import numpy as np\n",
    "#This following is so that this will work with Latex, see\n",
    "#http://bkanuka.com/articles/native-latex-plots/\n",
    "import matplotlib as mpl\n",
    "mpl.use('pgf')"
   ]
  },
  {
   "cell_type": "code",
   "execution_count": 2,
   "metadata": {
    "collapsed": true
   },
   "outputs": [],
   "source": [
    "def figsize(scale):                                 # I think scale is the size you want it on the page\n",
    "    fig_width_pt = 433.62001                        # Get this from LaTeX using \\the\\textwidth\n",
    "    inches_per_pt = 1.0/72.0                        # Convert pt to inch\n",
    "    golden_mean = (np.sqrt(5.0)-1.0)/2.0            # Aesthetic ratio (you could change this)\n",
    "    fig_width = fig_width_pt*inches_per_pt*scale    # width in inches\n",
    "    fig_height = fig_width*golden_mean              # height in inches\n",
    "    fig_size = [fig_width,fig_height]\n",
    "    return fig_size\n",
    "\n",
    "pgf_with_lualatex = {                      # Setup matplotlib to use latex for output\n",
    "    \"pgf.texsystem\": \"lualatex\",           # Change this if using xetex or luatex\n",
    "    \"text.usetex\": True,                   # Use LaTeX to write all text\n",
    "    #Fonts\n",
    "    \"font.family\": \"serif\",                # Get from the pdf font function on the doc\n",
    "    \"font.serif\": \"Computer Modern Roman\",      \n",
    "    \"font.sans-serif\": \"Computer Modern Sans serif\",\n",
    "    \"font.monospace\": [], # Blank entries should cause plots to inherit fonts from the document\n",
    "    #Text size\n",
    "    \"font.size\": 11,# Document default is 11pt font.\n",
    "    #\"text.fontsize\": 11,\n",
    "    \"axes.labelsize\": 11,\n",
    "    \"legend.fontsize\": 8,               # Make the legend/label fonts a little smaller\n",
    "    \"xtick.labelsize\": 8,\n",
    "    \"ytick.labelsize\": 8,\n",
    "    ##Axis\n",
    "    #\"axes.labelpad\": 2,     # space between label and axis \n",
    "    \"figure.figsize\": figsize(1.0),     # default fig size of 1.0 textwidth\n",
    "    #Packages\n",
    "    \"pgf.preamble\": [\n",
    "        r\"\\usepackage[utf8x]{inputenc}\",    # use utf8 fonts becasue your computer can handle it :)\n",
    "        r\"\\usepackage[T1]{fontenc}\",        # plots will be generated using this preamble\n",
    "        r\"\\usepackage{amsmath}\",  #need to add math or the ^ won't work\n",
    "        r\"\\usepackage{amssymb}\"]\n",
    "    }\n",
    "\n",
    "mpl.rcParams.update(pgf_with_lualatex)"
   ]
  },
  {
   "cell_type": "code",
   "execution_count": 3,
   "metadata": {
    "collapsed": false
   },
   "outputs": [
    {
     "name": "stderr",
     "output_type": "stream",
     "text": [
      ":0: FutureWarning: IPython widgets are experimental and may change in the future.\n"
     ]
    }
   ],
   "source": [
    "import pandas as pd\n",
    "import matplotlib.pyplot as pp\n",
    "import seaborn as sns\n",
    "from matplotlib.ticker import AutoMinorLocator\n",
    "from scipy.integrate import quad\n",
    "from scipy.special import gamma"
   ]
  },
  {
   "cell_type": "code",
   "execution_count": 4,
   "metadata": {
    "collapsed": true
   },
   "outputs": [],
   "source": [
    "%matplotlib inline\n",
    "pp.style.use('seaborn-ticks')\n",
    "sns.set_palette(\"muted\")"
   ]
  },
  {
   "cell_type": "code",
   "execution_count": 5,
   "metadata": {
    "collapsed": true
   },
   "outputs": [],
   "source": [
    "# Header for loading data\n",
    "col_names = ['run', 'slug', 'wien', 'asym', 'asym_err', 'asym_n', 'precession', 'wien_state', 'ihwp', 'sign_corr']"
   ]
  },
  {
   "cell_type": "code",
   "execution_count": 6,
   "metadata": {
    "collapsed": false
   },
   "outputs": [],
   "source": [
    "# Load data\n",
    "unreg_data = pd.read_csv('data/al_ntodelta_unregressed.csv', header=None, names=col_names)\n",
    "reg_data = pd.read_csv('data/al_ntodelta_regressed.csv', header=None, names=col_names)"
   ]
  },
  {
   "cell_type": "code",
   "execution_count": 7,
   "metadata": {
    "collapsed": false
   },
   "outputs": [
    {
     "data": {
      "text/html": [
       "<div>\n",
       "<table border=\"1\" class=\"dataframe\">\n",
       "  <thead>\n",
       "    <tr style=\"text-align: right;\">\n",
       "      <th></th>\n",
       "      <th>run</th>\n",
       "      <th>slug</th>\n",
       "      <th>wien</th>\n",
       "      <th>asym</th>\n",
       "      <th>asym_err</th>\n",
       "      <th>asym_n</th>\n",
       "      <th>precession</th>\n",
       "      <th>wien_state</th>\n",
       "      <th>ihwp</th>\n",
       "      <th>sign_corr</th>\n",
       "    </tr>\n",
       "  </thead>\n",
       "  <tbody>\n",
       "    <tr>\n",
       "      <th>0</th>\n",
       "      <td>14337</td>\n",
       "      <td>501001</td>\n",
       "      <td>7</td>\n",
       "      <td>0.238844</td>\n",
       "      <td>1.713094</td>\n",
       "      <td>747597</td>\n",
       "      <td>reverse</td>\n",
       "      <td>reverse</td>\n",
       "      <td>in</td>\n",
       "      <td>-1</td>\n",
       "    </tr>\n",
       "    <tr>\n",
       "      <th>1</th>\n",
       "      <td>14338</td>\n",
       "      <td>501002</td>\n",
       "      <td>7</td>\n",
       "      <td>3.084750</td>\n",
       "      <td>1.722954</td>\n",
       "      <td>741990</td>\n",
       "      <td>reverse</td>\n",
       "      <td>reverse</td>\n",
       "      <td>out</td>\n",
       "      <td>1</td>\n",
       "    </tr>\n",
       "    <tr>\n",
       "      <th>2</th>\n",
       "      <td>14364</td>\n",
       "      <td>501001</td>\n",
       "      <td>7</td>\n",
       "      <td>-1.868583</td>\n",
       "      <td>1.667716</td>\n",
       "      <td>792191</td>\n",
       "      <td>reverse</td>\n",
       "      <td>reverse</td>\n",
       "      <td>in</td>\n",
       "      <td>-1</td>\n",
       "    </tr>\n",
       "    <tr>\n",
       "      <th>3</th>\n",
       "      <td>14365</td>\n",
       "      <td>501002</td>\n",
       "      <td>7</td>\n",
       "      <td>-0.017768</td>\n",
       "      <td>1.798774</td>\n",
       "      <td>684693</td>\n",
       "      <td>reverse</td>\n",
       "      <td>reverse</td>\n",
       "      <td>out</td>\n",
       "      <td>1</td>\n",
       "    </tr>\n",
       "  </tbody>\n",
       "</table>\n",
       "</div>"
      ],
      "text/plain": [
       "     run    slug  wien      asym  asym_err  asym_n precession wien_state ihwp  \\\n",
       "0  14337  501001     7  0.238844  1.713094  747597    reverse    reverse   in   \n",
       "1  14338  501002     7  3.084750  1.722954  741990    reverse    reverse  out   \n",
       "2  14364  501001     7 -1.868583  1.667716  792191    reverse    reverse   in   \n",
       "3  14365  501002     7 -0.017768  1.798774  684693    reverse    reverse  out   \n",
       "\n",
       "   sign_corr  \n",
       "0         -1  \n",
       "1          1  \n",
       "2         -1  \n",
       "3          1  "
      ]
     },
     "execution_count": 7,
     "metadata": {},
     "output_type": "execute_result"
    }
   ],
   "source": [
    "reg_data.head()"
   ]
  },
  {
   "cell_type": "code",
   "execution_count": 8,
   "metadata": {
    "collapsed": true
   },
   "outputs": [],
   "source": [
    "def chi2(avg, val, err):\n",
    "    v_avg = np.ones(len(val))*avg\n",
    "    weight = 1/np.square(err)\n",
    "    return np.sum(weight*np.square(v_avg-val)), (len(val)-1)"
   ]
  },
  {
   "cell_type": "code",
   "execution_count": 9,
   "metadata": {
    "collapsed": false
   },
   "outputs": [],
   "source": [
    "def ihwp_plot(df, name, prelim=False):\n",
    "    fig, run_ax = pp.subplots(figsize=figsize(1))\n",
    "    # Allow for Slug top axis\n",
    "    #slug_ax = run_ax.twiny()\n",
    "\n",
    "    run_ax.set_xlim(14320, 14380)\n",
    "    run_ax.set_ylim(-5.0, 5.0)\n",
    "\n",
    "    left_out = '(wien_state == \"reverse\") & ihwp == \"out\"'\n",
    "    left_in = '(wien_state == \"reverse\") & ihwp == \"in\"'\n",
    "    #right_out = '(wien_state == \"normal\") & ihwp == \"out\"'\n",
    "    #right_in = '(wien_state == \"normal\") & ihwp == \"in\"'\n",
    "\n",
    "    # Plot data versus run number\n",
    "    run_ax.errorbar(df.query(left_out).run, \n",
    "                     df.query(left_out).asym, \n",
    "                     yerr=df.query(left_out).asym_err, \n",
    "                     ls='None', \n",
    "                     marker='^',\n",
    "                     capsize=2.0,\n",
    "                     capthick=1.0,\n",
    "                     barsabove=True,\n",
    "                     color=sns.xkcd_rgb['dull purple'], \n",
    "                     label='OUT$_{L}$')\n",
    "\n",
    "    run_ax.errorbar(df.query(left_in).run, \n",
    "                     df.query(left_in).asym, \n",
    "                     yerr=df.query(left_in).asym_err, \n",
    "                     ls='None', \n",
    "                     marker='v',\n",
    "                     capsize=2.0,\n",
    "                     capthick=1.0,\n",
    "                     barsabove=True,\n",
    "                     color=sns.xkcd_rgb['dull orange'], \n",
    "                     label='IN$_{L}$')\n",
    "\n",
    "    #slug_ax.errorbar(df.query(right_out).slug, \n",
    "    #                 df.query(right_out).asym, \n",
    "    #                 yerr=df.query(right_out).asym_err, \n",
    "    #                 ls='None', \n",
    "    #                 marker='s',\n",
    "    #                 capsize=2.0,\n",
    "    #                 capthick=1.0,\n",
    "    #                 barsabove=True,\n",
    "    #                 color=sns.xkcd_rgb['dull red'], \n",
    "    #                 label='OUT$_{R}$')\n",
    "\n",
    "    #slug_ax.errorbar(df.query(right_in).slug, \n",
    "    #                 df.query(right_in).asym, \n",
    "    #                 yerr=df.query(right_in).asym_err, \n",
    "    #                 ls='None', \n",
    "    #                 marker='o',\n",
    "    #                 capsize=2.0,\n",
    "    #                 capthick=1.0,\n",
    "    #                 barsabove=True,\n",
    "    #                 color=sns.xkcd_rgb['dull blue'], \n",
    "    #                 label='IN$_{R}$')\n",
    "\n",
    "    # Calculate & Plot AVGs\n",
    "    out_avg, out_sow = np.average(df[df['ihwp'] == 'out'].asym, \n",
    "                                  weights=1/np.square(df[df['ihwp'] == 'out'].asym_err), \n",
    "                                  returned=True)\n",
    "    out_chi2, out_dof = chi2(out_avg, df[df['ihwp'] == 'out'].asym, df[df['ihwp'] == 'out'].asym_err)\n",
    "    run_ax.plot(run_ax.get_xlim(), \n",
    "                 [out_avg, out_avg], \n",
    "                 ls='-',\n",
    "                 zorder=-10,\n",
    "                 color=sns.xkcd_rgb['grey'])\n",
    "    run_ax.fill_between(run_ax.get_xlim(), \n",
    "                         out_avg+(1/np.sqrt(out_sow)), \n",
    "                         out_avg-(1/np.sqrt(out_sow)), \n",
    "                         color=sns.xkcd_rgb['grey'], \n",
    "                         alpha=0.2)\n",
    "    in_avg, in_sow = np.average(df[df['ihwp'] == 'in'].asym, \n",
    "                                  weights=1/np.square(df[df['ihwp'] == 'in'].asym_err), \n",
    "                                  returned=True)\n",
    "    in_chi2, in_dof = chi2(in_avg, df[df['ihwp'] == 'in'].asym, df[df['ihwp'] == 'in'].asym_err)\n",
    "    run_ax.plot(run_ax.get_xlim(), \n",
    "                 [in_avg, in_avg], \n",
    "                 ls='-',\n",
    "                 zorder=-10,\n",
    "                 color=sns.xkcd_rgb['grey'])\n",
    "    run_ax.fill_between(run_ax.get_xlim(), \n",
    "                         in_avg+(1/np.sqrt(in_sow)), \n",
    "                         in_avg-(1/np.sqrt(in_sow)), \n",
    "                         color=sns.xkcd_rgb['grey'], \n",
    "                         alpha=0.2)\n",
    "    null_avg, null_sow = np.average([out_avg, in_avg], \n",
    "                                    weights=[out_sow, in_sow],\n",
    "                                    returned=True)\n",
    "\n",
    "    print('OUT Avg. {0:.5}+-{1:.5}     Chi2:{2:.5}'.format(out_avg, 1/np.sqrt(out_sow), out_chi2/out_dof))\n",
    "    print('IN Avg. {0:.5}+-{1:.5}     Chi2:{2:.5}'.format(in_avg, 1/np.sqrt(in_sow), in_chi2/in_dof))\n",
    "    print('Null {0:.5}+-{1:.5}'.format((out_avg+in_avg)/2, 1/np.sqrt(null_sow)))\n",
    "\n",
    "\n",
    "    # Labels for slug plot axes\n",
    "    run_ax.set_xlabel('Time (Run)')\n",
    "    run_ax.set_ylabel('Asymmetry [ppm]')\n",
    "    run_ax.ticklabel_format(useOffset=False)\n",
    "    run_ax.tick_params(top=False)\n",
    "    # Increase number of minor ticks\n",
    "    #run_minorlocator = AutoMinorLocator(5)\n",
    "    #asym_minorlocator = AutoMinorLocator(4)\n",
    "    #run_ax.xaxis.set_minor_locator(run_minorlocator)\n",
    "    #run_ax.yaxis.set_minor_locator(asym_minorlocator)\n",
    "    # Configure Slug \"top\" axis\n",
    "    #slug_ax.xaxis.set_ticks_position('top')\n",
    "    #slug_ax.xaxis.set_label_position('top')\n",
    "    #slug_ax.set_frame_on(True)\n",
    "    #slug_ax.set_visible(True)\n",
    "    #slug_ax.spines['left'].set_visible(False)\n",
    "    #slug_ax.spines['right'].set_visible(False)\n",
    "    #slug_ax.spines['bottom'].set_visible(False)\n",
    "    #run_ax.spines['top'].set_visible(False)\n",
    "    #slug_ax.spines['top'].set_visible(True)\n",
    "    # Set Slug axis limits\n",
    "    #slug_ax.set_xlim(run_ax.get_xlim())\n",
    "    # Set Slug axis major tick locations\n",
    "    ##wien_major_pos = [1027.5, 1032.5, 1043.5, 1058.5]\n",
    "    #wien_ax.set_xticks(wien_major_pos)\n",
    "    #wien_ax.set_xticklabels('')\n",
    "    # Set Wien axis minor tick locations with labels\n",
    "    #wien_ax.set_xticks([1030, 1038, 1051], minor=True)\n",
    "    #wien_ax.set_xticklabels(['(g-2 flip)\\n 6', '8', '9'], minor=True)\n",
    "    # Zero length to Wien axis minor ticks\n",
    "    #wien_ax.tick_params(which='minor', length=0)\n",
    "    # Allow grid for Wien axis major ticks\n",
    "    #wien_ax.grid(True, which='major')\n",
    "    #wien_ax.set_xlabel('Time (Wien)')\n",
    "    # Legend\n",
    "    run_ax.legend(bbox_to_anchor=(1.2, 1))\n",
    "    # Preliminary Tag\n",
    "    if prelim == True:\n",
    "        pp.text(14350, \n",
    "                0.0, \n",
    "                'Preliminary', \n",
    "                fontsize=72, \n",
    "                rotation=31.717, \n",
    "                verticalalignment='center', \n",
    "                horizontalalignment='center', \n",
    "                color=sns.xkcd_rgb['dark grey'], \n",
    "                alpha=0.2)\n",
    "    # Save Plots\n",
    "    pp.savefig('plots/' + name + '_ihwp.png', bbox_inches='tight')\n",
    "    pp.savefig('plots/' + name + '_ihwp.pdf', bbox_inches='tight')\n",
    "    pp.savefig('plots/' + name + '_ihwp.pgf', bbox_inches='tight')\n",
    "    return"
   ]
  },
  {
   "cell_type": "code",
   "execution_count": 10,
   "metadata": {
    "collapsed": false
   },
   "outputs": [],
   "source": [
    "def sign_corrected_plot(df, name, prelim=False):\n",
    "    fig, run_ax = pp.subplots(figsize=figsize(1))\n",
    "    # Allow for Wien top axis\n",
    "    #wien_ax = slug_ax.twiny()\n",
    "\n",
    "    run_ax.set_xlim(14320, 14380)\n",
    "    run_ax.set_ylim(-3.0, 5.0)\n",
    "\n",
    "    #left_out = '(wien_state == \"reverse\") & ihwp == \"out\"'\n",
    "    #left_in = '(wien_state == \"reverse\") & ihwp == \"in\"'\n",
    "    left_out_g2 = '(precession == \"reverse\" & wien_state == \"reverse\") & ihwp == \"out\"'\n",
    "    left_in_g2 = '(precession == \"reverse\" & wien_state == \"reverse\") & ihwp == \"in\"'\n",
    "    #right_out = '(precession == \"normal\" & wien_state == \"normal\") & ihwp == \"out\"'\n",
    "    #right_in = '(precession == \"normal\" & wien_state == \"normal\") & ihwp == \"in\"'\n",
    "    #right_out_g2 = '(precession == \"reverse\" & wien_state == \"normal\") & ihwp == \"out\"'\n",
    "    #right_in_g2 = '(precession == \"reverse\" & wien_state == \"normal\") & ihwp == \"in\"'\n",
    "\n",
    "    # Plot data versus slug number\n",
    "    run_ax.errorbar(df.query(left_out_g2).run, \n",
    "                     df.query(left_out_g2).asym, \n",
    "                     yerr=df.query(left_out_g2).asym_err, \n",
    "                     ls='None', \n",
    "                     marker='^',\n",
    "                     capsize=2.0,\n",
    "                     capthick=1.0,\n",
    "                     barsabove=True,\n",
    "                     color=sns.xkcd_rgb['dull purple'], \n",
    "                     label='OUT$_{L}$')\n",
    "\n",
    "    run_ax.errorbar(df.query(left_in_g2).run, \n",
    "                     -1.0*df.query(left_in_g2).asym, \n",
    "                     yerr=df.query(left_in_g2).asym_err, \n",
    "                     ls='None', \n",
    "                     marker='v',\n",
    "                     capsize=2.0,\n",
    "                     capthick=1.0,\n",
    "                     barsabove=True,\n",
    "                     color=sns.xkcd_rgb['dull orange'], \n",
    "                     label='IN$_{L}$')\n",
    "\n",
    "    #slug_ax.errorbar(df.query(right_out).slug, \n",
    "    #                 df.query(right_out).asym, \n",
    "    #                 yerr=df.query(right_out).asym_err, \n",
    "    #                 ls='None', \n",
    "    #                 marker='s',\n",
    "    #                 capsize=2.0,\n",
    "    #                 capthick=1.0,\n",
    "    #                 barsabove=True,\n",
    "    #                 color=sns.xkcd_rgb['dull red'], \n",
    "    #                 label='OUT$_{R}$')\n",
    "\n",
    "    #slug_ax.errorbar(df.query(right_in).slug, \n",
    "    #                 -1.0*df.query(right_in).asym, \n",
    "    #                 yerr=df.query(right_in).asym_err, \n",
    "    #                 ls='None', \n",
    "    #                 marker='o',\n",
    "    #                 capsize=2.0,\n",
    "    #                 capthick=1.0,\n",
    "    #                 barsabove=True,\n",
    "    #                 color=sns.xkcd_rgb['dull blue'], \n",
    "    #                 label='IN$_{R}$')\n",
    "    \n",
    "    #slug_ax.errorbar(df.query(right_out_g2).slug, \n",
    "    #                 -1.0*df.query(right_out_g2).asym, \n",
    "    #                 yerr=df.query(right_out_g2).asym_err, \n",
    "    #                 ls='None', \n",
    "    #                 marker='s',\n",
    "    #                 capsize=2.0,\n",
    "    #                 capthick=1.0,\n",
    "    #                 barsabove=True,\n",
    "    #                 color=sns.xkcd_rgb['dull red'], label=None)\n",
    "    \n",
    "    #slug_ax.errorbar(df.query(right_in_g2).slug, \n",
    "    #                 df.query(right_in_g2).asym, \n",
    "    #                 yerr=df.query(right_in_g2).asym_err, \n",
    "    #                 ls='None', \n",
    "    #                 marker='o',\n",
    "    #                 capsize=2.0,\n",
    "    #                 capthick=1.0,\n",
    "    #                 barsabove=True,\n",
    "    #                 color=sns.xkcd_rgb['dull blue'], label=None)\n",
    "\n",
    "    # Calculate & Plot AVGs\n",
    "    sign_corrected_asym = np.concatenate([df.query(left_out_g2).asym, -1.0*df.query(left_in_g2).asym])\n",
    "    sign_corrected_asym_err = np.concatenate([df.query(left_out_g2).asym_err, df.query(left_in_g2).asym_err])\n",
    "    avg, sow = np.average(sign_corrected_asym, \n",
    "                          weights=1/np.square(sign_corrected_asym_err), \n",
    "                          returned=True)\n",
    "    sc_chi2, dof = chi2(avg, sign_corrected_asym, sign_corrected_asym_err)\n",
    "    run_ax.plot(run_ax.get_xlim(), \n",
    "                 [avg, avg], \n",
    "                 ls='-',\n",
    "                 zorder=-10,\n",
    "                 color=sns.xkcd_rgb['grey'])\n",
    "    run_ax.fill_between(run_ax.get_xlim(), \n",
    "                         avg+(1/np.sqrt(sow)), \n",
    "                         avg-(1/np.sqrt(sow)), \n",
    "                         color=sns.xkcd_rgb['grey'], \n",
    "                         alpha=0.2)\n",
    "\n",
    "    print('Avg. {0:.5}+-{1:.5}     Chi2:{2:.5}'.format(avg, 1/np.sqrt(sow), sc_chi2/dof))\n",
    "\n",
    "    # Labels for slug plot axes\n",
    "    run_ax.set_xlabel('Time (Run)')\n",
    "    run_ax.set_ylabel('Asymmetry [ppm]')\n",
    "    run_ax.ticklabel_format(useOffset=False)\n",
    "    run_ax.tick_params(top=False)\n",
    "    # Increase number of minor ticks\n",
    "    #slug_minorlocator = AutoMinorLocator(5)\n",
    "    #asym_minorlocator = AutoMinorLocator(4)\n",
    "    #slug_ax.xaxis.set_minor_locator(slug_minorlocator)\n",
    "    #slug_ax.yaxis.set_minor_locator(asym_minorlocator)\n",
    "    # Configure Wien \"top\" axis\n",
    "    #wien_ax.xaxis.set_ticks_position('top')\n",
    "    #wien_ax.xaxis.set_label_position('top')\n",
    "    #wien_ax.set_frame_on(True)\n",
    "    #wien_ax.set_visible(True)\n",
    "    #wien_ax.spines['left'].set_visible(False)\n",
    "    #wien_ax.spines['right'].set_visible(False)\n",
    "    #wien_ax.spines['bottom'].set_visible(False)\n",
    "    #slug_ax.spines['top'].set_visible(False)\n",
    "    #wien_ax.spines['top'].set_visible(True)\n",
    "    # Set Wien axis limits\n",
    "    #wien_ax.set_xlim(slug_ax.get_xlim())\n",
    "    # Set Wien axis major tick locations\n",
    "    #wien_major_pos = [1027.5, 1032.5, 1043.5, 1058.5]\n",
    "    #wien_ax.set_xticks(wien_major_pos)\n",
    "    #wien_ax.set_xticklabels('')\n",
    "    # Set Wien axis minor tick locations with labels\n",
    "    #wien_ax.set_xticks([1030, 1038, 1051], minor=True)\n",
    "    #wien_ax.set_xticklabels(['(g-2 flip)\\n 6', '8', '9'], minor=True)\n",
    "    # Zero length to Wien axis minor ticks\n",
    "    #wien_ax.tick_params(which='minor', length=0)\n",
    "    # Allow grid for Wien axis major ticks\n",
    "    #wien_ax.grid(True, which='major')\n",
    "    #wien_ax.set_xlabel('Time (Wien)')\n",
    "    # Legend\n",
    "    run_ax.legend(bbox_to_anchor=(1.2, 1))\n",
    "    # Preliminary Tag\n",
    "    if prelim == True:\n",
    "        pp.text(14350, \n",
    "                avg, \n",
    "                'Preliminary', \n",
    "                fontsize=72, \n",
    "                rotation=31.717, \n",
    "                verticalalignment='center', \n",
    "                horizontalalignment='center', \n",
    "                color=sns.xkcd_rgb['dark grey'], \n",
    "                alpha=0.2)\n",
    "    # Save Plots\n",
    "    pp.savefig('plots/' + name + '_sign_corrected.png', bbox_inches='tight')\n",
    "    pp.savefig('plots/' + name + '_sign_corrected.pdf', bbox_inches='tight')\n",
    "    pp.savefig('plots/' + name + '_sign_corrected.pgf', bbox_inches='tight')\n",
    "    return"
   ]
  },
  {
   "cell_type": "code",
   "execution_count": 11,
   "metadata": {
    "collapsed": false
   },
   "outputs": [
    {
     "name": "stdout",
     "output_type": "stream",
     "text": [
      "OUT Avg. 1.3717+-1.2475     Chi2:1.5703\n",
      "IN Avg. -1.2962+-1.1981     Chi2:0.51769\n",
      "Null 0.037744+-0.86413\n"
     ]
    },
    {
     "data": {
      "image/png": "[encoded data removed]",
      "text/plain": [
       "<matplotlib.figure.Figure at 0x7fa58528f320>"
      ]
     },
     "metadata": {},
     "output_type": "display_data"
    }
   ],
   "source": [
    "ihwp_plot(unreg_data, 'al_ntodelta_unregressed', True)"
   ]
  },
  {
   "cell_type": "code",
   "execution_count": 12,
   "metadata": {
    "collapsed": false
   },
   "outputs": [
    {
     "name": "stdout",
     "output_type": "stream",
     "text": [
      "Avg. 1.3324+-0.86413     Chi2:0.69664\n"
     ]
    },
    {
     "data": {
      "image/png": "[encoded data removed]",
      "text/plain": [
       "<matplotlib.figure.Figure at 0x7fa58528f2e8>"
      ]
     },
     "metadata": {},
     "output_type": "display_data"
    }
   ],
   "source": [
    "sign_corrected_plot(unreg_data, 'al_ntodelta_unregressed', True)"
   ]
  },
  {
   "cell_type": "code",
   "execution_count": 13,
   "metadata": {
    "collapsed": false
   },
   "outputs": [
    {
     "name": "stdout",
     "output_type": "stream",
     "text": [
      "OUT Avg. 1.6003+-1.2443     Chi2:1.5515\n",
      "IN Avg. -0.84315+-1.195     Chi2:0.77699\n",
      "Null 0.37855+-0.86187\n"
     ]
    },
    {
     "data": {
      "image/png": "[encoded data removed]",
      "text/plain": [
       "<matplotlib.figure.Figure at 0x7fa5851e0be0>"
      ]
     },
     "metadata": {},
     "output_type": "display_data"
    }
   ],
   "source": [
    "ihwp_plot(reg_data, 'al_ntodelta_regressed', True)"
   ]
  },
  {
   "cell_type": "code",
   "execution_count": 14,
   "metadata": {
    "collapsed": false
   },
   "outputs": [
    {
     "name": "stdout",
     "output_type": "stream",
     "text": [
      "Avg. 1.2064+-0.86187     Chi2:0.84036\n"
     ]
    },
    {
     "data": {
      "image/png": "[encoded data removed]",
      "text/plain": [
       "<matplotlib.figure.Figure at 0x7fa583d513c8>"
      ]
     },
     "metadata": {},
     "output_type": "display_data"
    }
   ],
   "source": [
    "sign_corrected_plot(reg_data, 'al_ntodelta_regressed', True)"
   ]
  },
  {
   "cell_type": "code",
   "execution_count": null,
   "metadata": {
    "collapsed": false
   },
   "outputs": [],
   "source": []
  }
 ],
 "metadata": {
  "kernelspec": {
   "display_name": "Python 3",
   "language": "python",
   "name": "python3"
  },
  "language_info": {
   "codemirror_mode": {
    "name": "ipython",
    "version": 3
   },
   "file_extension": ".py",
   "mimetype": "text/x-python",
   "name": "python",
   "nbconvert_exporter": "python",
   "pygments_lexer": "ipython3",
   "version": "3.5.4"
  }
 },
 "nbformat": 4,
 "nbformat_minor": 0
}
