{
 "cells": [
  {
   "cell_type": "code",
   "execution_count": 1,
   "metadata": {
    "collapsed": false
   },
   "outputs": [],
   "source": [
    "import numpy as np\n",
    "#This following is so that this will work with Latex, see\n",
    "#http://bkanuka.com/articles/native-latex-plots/\n",
    "import matplotlib as mpl\n",
    "mpl.use('pgf')"
   ]
  },
  {
   "cell_type": "code",
   "execution_count": 2,
   "metadata": {
    "collapsed": true
   },
   "outputs": [],
   "source": [
    "def figsize(scale):                                 # I think scale is the size you want it on the page\n",
    "    fig_width_pt = 433.62001                        # Get this from LaTeX using \\the\\textwidth\n",
    "    inches_per_pt = 1.0/72.0                        # Convert pt to inch\n",
    "    golden_mean = (np.sqrt(5.0)-1.0)/2.0            # Aesthetic ratio (you could change this)\n",
    "    fig_width = fig_width_pt*inches_per_pt*scale    # width in inches\n",
    "    fig_height = fig_width*golden_mean              # height in inches\n",
    "    fig_size = [fig_width,fig_height]\n",
    "    return fig_size\n",
    "\n",
    "pgf_with_lualatex = {                      # Setup matplotlib to use latex for output\n",
    "    \"pgf.texsystem\": \"lualatex\",           # Change this if using xetex or luatex\n",
    "    \"text.usetex\": True,                   # Use LaTeX to write all text\n",
    "    \"pgf.rcfonts\": False,\n",
    "    #Fonts\n",
    "    \"font.family\": \"serif\",                # Get from the pdf font function on the doc\n",
    "    \"font.serif\": \"Computer Modern Roman\",      \n",
    "    #\"font.sans-serif\": \"Computer Modern Sans serif\",\n",
    "    #\"font.serif\": [],      \n",
    "    \"font.sans-serif\": [],\n",
    "    \"font.monospace\": [], # Blank entries should cause plots to inherit fonts from the document\n",
    "    #Text size\n",
    "    \"font.size\": 11,# Document default is 11pt font.\n",
    "    #\"text.fontsize\": 11,\n",
    "    \"axes.labelsize\": 11,\n",
    "    \"legend.fontsize\": 8,               # Make the legend/label fonts a little smaller\n",
    "    \"xtick.labelsize\": 8,\n",
    "    \"ytick.labelsize\": 8,\n",
    "    ##Axis\n",
    "    #\"axes.labelpad\": 2,     # space between label and axis \n",
    "    \"figure.figsize\": figsize(1.0),     # default fig size of 1.0 textwidth\n",
    "    #Packages\n",
    "    \"pgf.preamble\": [\n",
    "        r\"\\usepackage[utf8x]{inputenc}\",    # use utf8 fonts becasue your computer can handle it :)\n",
    "        r\"\\usepackage[T1]{fontenc}\",        # plots will be generated using this preamble\n",
    "        r\"\\usepackage{amsmath}\",  #need to add math or the ^ won't work\n",
    "        r\"\\usepackage{amssymb}\"]\n",
    "    }\n",
    "\n",
    "mpl.rcParams.update(pgf_with_lualatex)"
   ]
  },
  {
   "cell_type": "code",
   "execution_count": 3,
   "metadata": {
    "collapsed": false
   },
   "outputs": [
    {
     "name": "stderr",
     "output_type": "stream",
     "text": [
      ":0: FutureWarning: IPython widgets are experimental and may change in the future.\n"
     ]
    }
   ],
   "source": [
    "import pandas as pd\n",
    "import matplotlib.pyplot as pp\n",
    "import seaborn as sns\n",
    "from matplotlib.ticker import AutoMinorLocator\n",
    "from scipy.integrate import quad\n",
    "from scipy.special import gamma"
   ]
  },
  {
   "cell_type": "code",
   "execution_count": 4,
   "metadata": {
    "collapsed": true
   },
   "outputs": [],
   "source": [
    "%matplotlib inline\n",
    "pp.style.use('seaborn-ticks')\n",
    "sns.set_palette(\"muted\")"
   ]
  },
  {
   "cell_type": "code",
   "execution_count": 5,
   "metadata": {
    "collapsed": true
   },
   "outputs": [],
   "source": [
    "# Header for loading data\n",
    "col_names = ['slug', 'wien', 'asym', 'asym_err', 'asym_n', 'precession', 'wien_state', 'ihwp']"
   ]
  },
  {
   "cell_type": "code",
   "execution_count": 6,
   "metadata": {
    "collapsed": false
   },
   "outputs": [],
   "source": [
    "# Load data\n",
    "unreg_data = pd.read_csv('../database_extraction/data/al_unregressed.csv', header=None, names=col_names)\n",
    "reg_data = pd.read_csv('../database_extraction/data/al_regressed.csv', header=None, names=col_names)"
   ]
  },
  {
   "cell_type": "code",
   "execution_count": 7,
   "metadata": {
    "collapsed": false
   },
   "outputs": [
    {
     "data": {
      "text/html": [
       "<div>\n",
       "<table border=\"1\" class=\"dataframe\">\n",
       "  <thead>\n",
       "    <tr style=\"text-align: right;\">\n",
       "      <th></th>\n",
       "      <th>slug</th>\n",
       "      <th>wien</th>\n",
       "      <th>asym</th>\n",
       "      <th>asym_err</th>\n",
       "      <th>asym_n</th>\n",
       "      <th>precession</th>\n",
       "      <th>wien_state</th>\n",
       "      <th>ihwp</th>\n",
       "    </tr>\n",
       "  </thead>\n",
       "  <tbody>\n",
       "    <tr>\n",
       "      <th>0</th>\n",
       "      <td>1028</td>\n",
       "      <td>6</td>\n",
       "      <td>-1.476105</td>\n",
       "      <td>0.295932</td>\n",
       "      <td>4461770</td>\n",
       "      <td>reverse</td>\n",
       "      <td>normal</td>\n",
       "      <td>out</td>\n",
       "    </tr>\n",
       "    <tr>\n",
       "      <th>1</th>\n",
       "      <td>1029</td>\n",
       "      <td>6</td>\n",
       "      <td>1.818873</td>\n",
       "      <td>0.370497</td>\n",
       "      <td>2796074</td>\n",
       "      <td>reverse</td>\n",
       "      <td>normal</td>\n",
       "      <td>in</td>\n",
       "    </tr>\n",
       "    <tr>\n",
       "      <th>2</th>\n",
       "      <td>1030</td>\n",
       "      <td>6</td>\n",
       "      <td>-1.623430</td>\n",
       "      <td>0.333129</td>\n",
       "      <td>3464036</td>\n",
       "      <td>reverse</td>\n",
       "      <td>normal</td>\n",
       "      <td>out</td>\n",
       "    </tr>\n",
       "    <tr>\n",
       "      <th>3</th>\n",
       "      <td>1031</td>\n",
       "      <td>6</td>\n",
       "      <td>1.635866</td>\n",
       "      <td>0.337508</td>\n",
       "      <td>3365800</td>\n",
       "      <td>reverse</td>\n",
       "      <td>normal</td>\n",
       "      <td>in</td>\n",
       "    </tr>\n",
       "    <tr>\n",
       "      <th>4</th>\n",
       "      <td>1032</td>\n",
       "      <td>6</td>\n",
       "      <td>-0.912987</td>\n",
       "      <td>0.524059</td>\n",
       "      <td>1398803</td>\n",
       "      <td>reverse</td>\n",
       "      <td>normal</td>\n",
       "      <td>out</td>\n",
       "    </tr>\n",
       "  </tbody>\n",
       "</table>\n",
       "</div>"
      ],
      "text/plain": [
       "   slug  wien      asym  asym_err   asym_n precession wien_state ihwp\n",
       "0  1028     6 -1.476105  0.295932  4461770    reverse     normal  out\n",
       "1  1029     6  1.818873  0.370497  2796074    reverse     normal   in\n",
       "2  1030     6 -1.623430  0.333129  3464036    reverse     normal  out\n",
       "3  1031     6  1.635866  0.337508  3365800    reverse     normal   in\n",
       "4  1032     6 -0.912987  0.524059  1398803    reverse     normal  out"
      ]
     },
     "execution_count": 7,
     "metadata": {},
     "output_type": "execute_result"
    }
   ],
   "source": [
    "reg_data.head()"
   ]
  },
  {
   "cell_type": "code",
   "execution_count": 8,
   "metadata": {
    "collapsed": true
   },
   "outputs": [],
   "source": [
    "def calc_chi2(fit, data, err, dof):\n",
    "    chi2 = np.sum(np.square(data-fit)/np.square(err))\n",
    "    return chi2, chi2/dof\n",
    "\n",
    "def chi2probdistribution(chi2, dof):\n",
    "    if chi2 > 0:\n",
    "        num = np.power(chi2,(dof-2.0)/2.0)*np.exp(-chi2/2.0)\n",
    "        dem = np.power(2.0,(dof/2.0))*gamma(dof/2.0)\n",
    "        return num/dem\n",
    "    elif chi2 == 0:\n",
    "        return 0\n",
    "    else:\n",
    "        print('Chi^2 values < 0 not valid!')\n",
    "        \n",
    "def calc_chi2prob(chi2, dof):\n",
    "    return quad(chi2probdistribution, chi2, np.inf, (dof))"
   ]
  },
  {
   "cell_type": "code",
   "execution_count": 9,
   "metadata": {
    "collapsed": false
   },
   "outputs": [],
   "source": [
    "def ihwp_plot(df, name, prelim=False):\n",
    "    fig, slug_ax = pp.subplots(figsize=figsize(1))\n",
    "    # Allow for Wien top axis\n",
    "    wien_ax = slug_ax.twiny()\n",
    "\n",
    "    slug_ax.set_xlim(1025, 1060)\n",
    "    slug_ax.set_ylim(-3.0, 3.0)\n",
    "\n",
    "    left_out = '(wien_state == \"reverse\") & ihwp == \"out\"'\n",
    "    left_in = '(wien_state == \"reverse\") & ihwp == \"in\"'\n",
    "    right_out = '(wien_state == \"normal\") & ihwp == \"out\"'\n",
    "    right_in = '(wien_state == \"normal\") & ihwp == \"in\"'\n",
    "\n",
    "    # Plot data versus slug number\n",
    "    slug_ax.errorbar(df.query(left_out).slug, \n",
    "                     df.query(left_out).asym, \n",
    "                     yerr=df.query(left_out).asym_err, \n",
    "                     ls='None', \n",
    "                     marker='^',\n",
    "                     capsize=2.0,\n",
    "                     capthick=1.0,\n",
    "                     barsabove=True,\n",
    "                     color=sns.xkcd_rgb['dull purple'], \n",
    "                     label='OUT$_{L}$')\n",
    "\n",
    "    slug_ax.errorbar(df.query(left_in).slug, \n",
    "                     df.query(left_in).asym, \n",
    "                     yerr=df.query(left_in).asym_err, \n",
    "                     ls='None', \n",
    "                     marker='v',\n",
    "                     capsize=2.0,\n",
    "                     capthick=1.0,\n",
    "                     barsabove=True,\n",
    "                     color=sns.xkcd_rgb['dull orange'], \n",
    "                     label='IN$_{L}$')\n",
    "\n",
    "    slug_ax.errorbar(df.query(right_out).slug, \n",
    "                     df.query(right_out).asym, \n",
    "                     yerr=df.query(right_out).asym_err, \n",
    "                     ls='None', \n",
    "                     marker='s',\n",
    "                     capsize=2.0,\n",
    "                     capthick=1.0,\n",
    "                     barsabove=True,\n",
    "                     color=sns.xkcd_rgb['dull red'], \n",
    "                     label='OUT$_{R}$')\n",
    "\n",
    "    slug_ax.errorbar(df.query(right_in).slug, \n",
    "                     df.query(right_in).asym, \n",
    "                     yerr=df.query(right_in).asym_err, \n",
    "                     ls='None', \n",
    "                     marker='o',\n",
    "                     capsize=2.0,\n",
    "                     capthick=1.0,\n",
    "                     barsabove=True,\n",
    "                     color=sns.xkcd_rgb['dull blue'], \n",
    "                     label='IN$_{R}$')\n",
    "\n",
    "    # Calculate & Plot AVGs\n",
    "    pos_avg, pos_sow = np.average(df[df['asym'] > 0].asym, \n",
    "                                  weights=1/np.square(df[df['asym'] > 0].asym_err), \n",
    "                                  returned=True)\n",
    "    pos_dof = len(df[df['asym'] > 0].asym) - 1\n",
    "    pos_chi2, pos_rchi2 = calc_chi2(pos_avg, df[df['asym'] > 0].asym, df[df['asym'] > 0].asym_err, pos_dof)\n",
    "    pos_prob = calc_chi2prob(pos_chi2, pos_dof)\n",
    "    slug_ax.plot(slug_ax.get_xlim(), \n",
    "                 [pos_avg, pos_avg], \n",
    "                 ls='-',\n",
    "                 zorder=-10,\n",
    "                 color=sns.xkcd_rgb['grey'])\n",
    "    slug_ax.fill_between(slug_ax.get_xlim(), \n",
    "                         pos_avg+(1/np.sqrt(pos_sow)), \n",
    "                         pos_avg-(1/np.sqrt(pos_sow)), \n",
    "                         color=sns.xkcd_rgb['grey'], \n",
    "                         alpha=0.2)\n",
    "    neg_avg, neg_sow = np.average(df[df['asym'] < 0].asym, \n",
    "                                  weights=1/np.square(df[df['asym'] < 0].asym_err), \n",
    "                                  returned=True)\n",
    "    neg_dof = len(df[df['asym'] < 0].asym) - 1\n",
    "    neg_chi2, neg_rchi2 = calc_chi2(neg_avg, df[df['asym'] < 0].asym, df[df['asym'] < 0].asym_err, neg_dof)\n",
    "    neg_prob = calc_chi2prob(neg_chi2, neg_dof)\n",
    "    slug_ax.plot(slug_ax.get_xlim(), \n",
    "                 [neg_avg, neg_avg], \n",
    "                 ls='-',\n",
    "                 zorder=-10,\n",
    "                 color=sns.xkcd_rgb['grey'])\n",
    "    slug_ax.fill_between(slug_ax.get_xlim(), \n",
    "                         neg_avg+(1/np.sqrt(neg_sow)), \n",
    "                         neg_avg-(1/np.sqrt(neg_sow)), \n",
    "                         color=sns.xkcd_rgb['grey'], \n",
    "                         alpha=0.2)\n",
    "    null_avg, null_sow = np.average([pos_avg, neg_avg], \n",
    "                                    weights=[pos_sow, neg_sow],\n",
    "                                    returned=True)\n",
    "\n",
    "    print('Positive Avg. {0:.5}+-{1:.5}     RChi2:{2:.5}     Prob:{3:.5}'.format(pos_avg, \n",
    "                                                                                 1/np.sqrt(pos_sow),\n",
    "                                                                                 pos_rchi2,\n",
    "                                                                                 pos_prob[0]))\n",
    "    print('Negative Avg. {0:.5}+-{1:.5}     RChi2:{2:.5}     Prob:{3:.5}'.format(neg_avg,\n",
    "                                                                                 1/np.sqrt(neg_sow),\n",
    "                                                                                 neg_rchi2,\n",
    "                                                                                 neg_prob[0]))\n",
    "    print('Null {0:.5}+-{1:.5}'.format((pos_avg+neg_avg)/2, 1/np.sqrt(null_sow)))\n",
    "\n",
    "\n",
    "    # Labels for slug plot axes\n",
    "    slug_ax.set_xlabel('Time (Slug)')\n",
    "    slug_ax.set_ylabel('Asymmetry [ppm]')\n",
    "    # Increase number of minor ticks\n",
    "    slug_minorlocator = AutoMinorLocator(5)\n",
    "    asym_minorlocator = AutoMinorLocator(4)\n",
    "    slug_ax.xaxis.set_minor_locator(slug_minorlocator)\n",
    "    slug_ax.yaxis.set_minor_locator(asym_minorlocator)\n",
    "    # Configure Wien \"top\" axis\n",
    "    wien_ax.xaxis.set_ticks_position('top')\n",
    "    wien_ax.xaxis.set_label_position('top')\n",
    "    wien_ax.set_frame_on(True)\n",
    "    wien_ax.set_visible(True)\n",
    "    wien_ax.spines['left'].set_visible(False)\n",
    "    wien_ax.spines['right'].set_visible(False)\n",
    "    wien_ax.spines['bottom'].set_visible(False)\n",
    "    slug_ax.spines['top'].set_visible(False)\n",
    "    wien_ax.spines['top'].set_visible(True)\n",
    "    # Set Wien axis limits\n",
    "    wien_ax.set_xlim(slug_ax.get_xlim())\n",
    "    # Set Wien axis major tick locations\n",
    "    wien_major_pos = [1027.5, 1032.5, 1043.5, 1058.5]\n",
    "    wien_ax.set_xticks(wien_major_pos)\n",
    "    wien_ax.set_xticklabels('')\n",
    "    # Set Wien axis minor tick locations with labels\n",
    "    wien_ax.set_xticks([1030, 1038, 1051], minor=True)\n",
    "    wien_ax.set_xticklabels(['(g-2 flip)\\n 6', '8', '9'], minor=True)\n",
    "    # Zero length to Wien axis minor ticks\n",
    "    wien_ax.tick_params(which='minor', length=0)\n",
    "    # Allow grid for Wien axis major ticks\n",
    "    wien_ax.grid(True, which='major')\n",
    "    wien_ax.set_xlabel('Time (Wien)')\n",
    "    # Legend\n",
    "    slug_ax.legend(bbox_to_anchor=(1.2, 1))\n",
    "    # Preliminary Tag\n",
    "    if prelim == True:\n",
    "        pp.text(1042.5, \n",
    "                0.0, \n",
    "                'Preliminary', \n",
    "                fontsize=72, \n",
    "                rotation=31.717, \n",
    "                verticalalignment='center', \n",
    "                horizontalalignment='center', \n",
    "                color=sns.xkcd_rgb['dark grey'], \n",
    "                alpha=0.2)\n",
    "    # Save Plots\n",
    "    pp.savefig('plots/' + name + '_ihwp.png', bbox_inches='tight')\n",
    "    pp.savefig('plots/' + name + '_ihwp.pdf', bbox_inches='tight')\n",
    "    pp.savefig('plots/' + name + '_ihwp.pgf', bbox_inches='tight')\n",
    "    return"
   ]
  },
  {
   "cell_type": "code",
   "execution_count": 10,
   "metadata": {
    "collapsed": false
   },
   "outputs": [],
   "source": [
    "def sign_corrected_plot(df, name, prelim=False):\n",
    "    fig, slug_ax = pp.subplots(figsize=figsize(1))\n",
    "    # Allow for Wien top axis\n",
    "    wien_ax = slug_ax.twiny()\n",
    "\n",
    "    slug_ax.set_xlim(1025, 1060)\n",
    "    slug_ax.set_ylim(0.0, 3.0)\n",
    "\n",
    "    left_out = '(wien_state == \"reverse\") & ihwp == \"out\"'\n",
    "    left_in = '(wien_state == \"reverse\") & ihwp == \"in\"'\n",
    "    right_out = '(precession == \"normal\" & wien_state == \"normal\") & ihwp == \"out\"'\n",
    "    right_in = '(precession == \"normal\" & wien_state == \"normal\") & ihwp == \"in\"'\n",
    "    right_out_g2 = '(precession == \"reverse\" & wien_state == \"normal\") & ihwp == \"out\"'\n",
    "    right_in_g2 = '(precession == \"reverse\" & wien_state == \"normal\") & ihwp == \"in\"'\n",
    "\n",
    "    # Plot data versus slug number\n",
    "    slug_ax.errorbar(df.query(left_out).slug, \n",
    "                     -1.0*df.query(left_out).asym, \n",
    "                     yerr=df.query(left_out).asym_err, \n",
    "                     ls='None', \n",
    "                     marker='^',\n",
    "                     capsize=2.0,\n",
    "                     capthick=1.0,\n",
    "                     barsabove=True,\n",
    "                     color=sns.xkcd_rgb['dull purple'], \n",
    "                     label='OUT$_{L}$')\n",
    "\n",
    "    slug_ax.errorbar(df.query(left_in).slug, \n",
    "                     df.query(left_in).asym, \n",
    "                     yerr=df.query(left_in).asym_err, \n",
    "                     ls='None', \n",
    "                     marker='v',\n",
    "                     capsize=2.0,\n",
    "                     capthick=1.0,\n",
    "                     barsabove=True,\n",
    "                     color=sns.xkcd_rgb['dull orange'], \n",
    "                     label='IN$_{L}$')\n",
    "\n",
    "    slug_ax.errorbar(df.query(right_out).slug, \n",
    "                     df.query(right_out).asym, \n",
    "                     yerr=df.query(right_out).asym_err, \n",
    "                     ls='None', \n",
    "                     marker='s',\n",
    "                     capsize=2.0,\n",
    "                     capthick=1.0,\n",
    "                     barsabove=True,\n",
    "                     color=sns.xkcd_rgb['dull red'], \n",
    "                     label='OUT$_{R}$')\n",
    "\n",
    "    slug_ax.errorbar(df.query(right_in).slug, \n",
    "                     -1.0*df.query(right_in).asym, \n",
    "                     yerr=df.query(right_in).asym_err, \n",
    "                     ls='None', \n",
    "                     marker='o',\n",
    "                     capsize=2.0,\n",
    "                     capthick=1.0,\n",
    "                     barsabove=True,\n",
    "                     color=sns.xkcd_rgb['dull blue'], \n",
    "                     label='IN$_{R}$')\n",
    "    \n",
    "    slug_ax.errorbar(df.query(right_out_g2).slug, \n",
    "                     -1.0*df.query(right_out_g2).asym, \n",
    "                     yerr=df.query(right_out_g2).asym_err, \n",
    "                     ls='None', \n",
    "                     marker='s',\n",
    "                     capsize=2.0,\n",
    "                     capthick=1.0,\n",
    "                     barsabove=True,\n",
    "                     color=sns.xkcd_rgb['dull red'], label=None)\n",
    "    \n",
    "    slug_ax.errorbar(df.query(right_in_g2).slug, \n",
    "                     df.query(right_in_g2).asym, \n",
    "                     yerr=df.query(right_in_g2).asym_err, \n",
    "                     ls='None', \n",
    "                     marker='o',\n",
    "                     capsize=2.0,\n",
    "                     capthick=1.0,\n",
    "                     barsabove=True,\n",
    "                     color=sns.xkcd_rgb['dull blue'], label=None)\n",
    "\n",
    "    # Calculate & Plot AVGs\n",
    "    sign_corrected_asym = np.concatenate([df[df['asym'] > 0].asym, -1.0*df[df['asym'] < 0].asym])\n",
    "    sign_corrected_asym_err = np.concatenate([df[df['asym'] > 0].asym_err, df[df['asym'] < 0].asym_err])\n",
    "    avg, sow = np.average(sign_corrected_asym, \n",
    "                          weights=1/np.square(sign_corrected_asym_err), \n",
    "                          returned=True)\n",
    "    sc_dof = len(sign_corrected_asym) - 1\n",
    "    sc_chi2, sc_rchi2 = calc_chi2(avg, sign_corrected_asym, sign_corrected_asym_err, sc_dof)\n",
    "    sc_prob = calc_chi2prob(sc_chi2, sc_dof)\n",
    "    slug_ax.plot(slug_ax.get_xlim(), \n",
    "                 [avg, avg], \n",
    "                 ls='-',\n",
    "                 zorder=-10,\n",
    "                 color=sns.xkcd_rgb['grey'])\n",
    "    slug_ax.fill_between(slug_ax.get_xlim(), \n",
    "                         avg+(1/np.sqrt(sow)), \n",
    "                         avg-(1/np.sqrt(sow)), \n",
    "                         color=sns.xkcd_rgb['grey'], \n",
    "                         alpha=0.2)\n",
    "\n",
    "    print('Avg. {0:.6}+-{1:.5}     Chi2:{2:.5}     Prob:{3:.5}'.format(avg, \n",
    "                                                                       1/np.sqrt(sow),\n",
    "                                                                       sc_rchi2,\n",
    "                                                                       sc_prob[0]))\n",
    "\n",
    "    # Labels for slug plot axes\n",
    "    slug_ax.set_xlabel('Time (Slug)')\n",
    "    slug_ax.set_ylabel('Asymmetry [ppm]')\n",
    "    # Increase number of minor ticks\n",
    "    slug_minorlocator = AutoMinorLocator(5)\n",
    "    asym_minorlocator = AutoMinorLocator(4)\n",
    "    slug_ax.xaxis.set_minor_locator(slug_minorlocator)\n",
    "    slug_ax.yaxis.set_minor_locator(asym_minorlocator)\n",
    "    # Configure Wien \"top\" axis\n",
    "    wien_ax.xaxis.set_ticks_position('top')\n",
    "    wien_ax.xaxis.set_label_position('top')\n",
    "    wien_ax.set_frame_on(True)\n",
    "    wien_ax.set_visible(True)\n",
    "    wien_ax.spines['left'].set_visible(False)\n",
    "    wien_ax.spines['right'].set_visible(False)\n",
    "    wien_ax.spines['bottom'].set_visible(False)\n",
    "    slug_ax.spines['top'].set_visible(False)\n",
    "    wien_ax.spines['top'].set_visible(True)\n",
    "    # Set Wien axis limits\n",
    "    wien_ax.set_xlim(slug_ax.get_xlim())\n",
    "    # Set Wien axis major tick locations\n",
    "    wien_major_pos = [1027.5, 1032.5, 1043.5, 1058.5]\n",
    "    wien_ax.set_xticks(wien_major_pos)\n",
    "    wien_ax.set_xticklabels('')\n",
    "    # Set Wien axis minor tick locations with labels\n",
    "    wien_ax.set_xticks([1030, 1038, 1051], minor=True)\n",
    "    wien_ax.set_xticklabels(['(g-2 flip)\\n 6', '8', '9'], minor=True)\n",
    "    # Zero length to Wien axis minor ticks\n",
    "    wien_ax.tick_params(which='minor', length=0)\n",
    "    # Allow grid for Wien axis major ticks\n",
    "    wien_ax.grid(True, which='major')\n",
    "    wien_ax.set_xlabel('Time (Wien)')\n",
    "    # Legend\n",
    "    slug_ax.legend(bbox_to_anchor=(1.2, 1))\n",
    "    # Preliminary Tag\n",
    "    if prelim == True:\n",
    "        pp.text(1042.5, \n",
    "                1.5, \n",
    "                'Preliminary', \n",
    "                fontsize=72, \n",
    "                rotation=31.717, \n",
    "                verticalalignment='center', \n",
    "                horizontalalignment='center', \n",
    "                color=sns.xkcd_rgb['dark grey'], \n",
    "                alpha=0.2)\n",
    "    # Save Plots\n",
    "    pp.savefig('plots/' + name + '_sign_corrected.png', bbox_inches='tight')\n",
    "    pp.savefig('plots/' + name + '_sign_corrected.pdf', bbox_inches='tight')\n",
    "    pp.savefig('plots/' + name + '_sign_corrected.pgf', bbox_inches='tight')\n",
    "    return"
   ]
  },
  {
   "cell_type": "code",
   "execution_count": 11,
   "metadata": {
    "collapsed": false
   },
   "outputs": [
    {
     "name": "stdout",
     "output_type": "stream",
     "text": [
      "Positive Avg. 1.4796+-0.099055     RChi2:1.6153     Prob:0.07295\n",
      "Negative Avg. -1.4069+-0.092954     RChi2:1.2587     Prob:0.22452\n",
      "Null 0.036375+-0.067782\n"
     ]
    },
    {
     "data": {
      "image/png": "[encoded data removed]",
      "text/plain": [
       "<matplotlib.figure.Figure at 0x7fe8a6d9dc18>"
      ]
     },
     "metadata": {},
     "output_type": "display_data"
    }
   ],
   "source": [
    "ihwp_plot(unreg_data, 'al_unregressed', False)"
   ]
  },
  {
   "cell_type": "code",
   "execution_count": 31,
   "metadata": {
    "collapsed": false
   },
   "outputs": [
    {
     "name": "stdout",
     "output_type": "stream",
     "text": [
      "Avg. 1.44095+-0.067782     Chi2:1.3896     Prob:0.082411\n"
     ]
    },
    {
     "data": {
      "image/png": "[encoded data removed]",
      "text/plain": [
       "<matplotlib.figure.Figure at 0x7f4e6d1bd6d8>"
      ]
     },
     "metadata": {},
     "output_type": "display_data"
    }
   ],
   "source": [
    "sign_corrected_plot(unreg_data, 'al_unregressed', False)"
   ]
  },
  {
   "cell_type": "code",
   "execution_count": 32,
   "metadata": {
    "collapsed": false
   },
   "outputs": [
    {
     "name": "stdout",
     "output_type": "stream",
     "text": [
      "Positive Avg. 1.4693+-0.099011     RChi2:1.6288     Prob:0.069543\n",
      "Negative Avg. -1.4168+-0.092909     RChi2:1.2692     Prob:0.21749\n",
      "Null 0.026251+-0.067751\n"
     ]
    },
    {
     "data": {
      "image/png": "[encoded data removed]",
      "text/plain": [
       "<matplotlib.figure.Figure at 0x7f4e6c716860>"
      ]
     },
     "metadata": {},
     "output_type": "display_data"
    }
   ],
   "source": [
    "ihwp_plot(reg_data, 'al_regressed', False)"
   ]
  },
  {
   "cell_type": "code",
   "execution_count": 33,
   "metadata": {
    "collapsed": false
   },
   "outputs": [
    {
     "name": "stdout",
     "output_type": "stream",
     "text": [
      "Avg. 1.44136+-0.067751     Chi2:1.3962     Prob:0.079429\n"
     ]
    },
    {
     "data": {
      "image/png": "[encoded data removed]",
      "text/plain": [
       "<matplotlib.figure.Figure at 0x7f4e6c0ee080>"
      ]
     },
     "metadata": {},
     "output_type": "display_data"
    }
   ],
   "source": [
    "sign_corrected_plot(reg_data, 'al_regressed', False)"
   ]
  },
  {
   "cell_type": "code",
   "execution_count": null,
   "metadata": {
    "collapsed": false
   },
   "outputs": [],
   "source": []
  }
 ],
 "metadata": {
  "kernelspec": {
   "display_name": "Python 3",
   "language": "python",
   "name": "python3"
  },
  "language_info": {
   "codemirror_mode": {
    "name": "ipython",
    "version": 3
   },
   "file_extension": ".py",
   "mimetype": "text/x-python",
   "name": "python",
   "nbconvert_exporter": "python",
   "pygments_lexer": "ipython3",
   "version": "3.5.4"
  }
 },
 "nbformat": 4,
 "nbformat_minor": 0
}
