{
 "cells": [
  {
   "cell_type": "code",
   "execution_count": 1,
   "metadata": {},
   "outputs": [],
   "source": [
    "import numpy as np\n",
    "#This following is so that this will work with Latex, see\n",
    "#http://bkanuka.com/articles/native-latex-plots/\n",
    "import matplotlib as mpl\n",
    "mpl.use('pgf')"
   ]
  },
  {
   "cell_type": "code",
   "execution_count": 2,
   "metadata": {},
   "outputs": [],
   "source": [
    "def figsize(scale):                                 # I think scale is the size you want it on the page\n",
    "    fig_width_pt = 433.62001                        # Get this from LaTeX using \\the\\textwidth\n",
    "    inches_per_pt = 1.0/72.0                        # Convert pt to inch\n",
    "    golden_mean = (np.sqrt(5.0)-1.0)/2.0            # Aesthetic ratio (you could change this)\n",
    "    fig_width = fig_width_pt*inches_per_pt*scale    # width in inches\n",
    "    fig_height = fig_width*golden_mean              # height in inches\n",
    "    fig_size = [fig_width,fig_height]\n",
    "    return fig_size\n",
    "\n",
    "pgf_with_lualatex = {                      # Setup matplotlib to use latex for output\n",
    "    \"pgf.texsystem\": \"lualatex\",           # Change this if using xetex or luatex\n",
    "    \"text.usetex\": True,                   # Use LaTeX to write all text\n",
    "    #Fonts\n",
    "    \"font.family\": \"serif\",                # Get from the pdf font function on the doc\n",
    "    \"font.serif\": \"Computer Modern Roman\",      \n",
    "    \"font.sans-serif\": \"Computer Modern Sans serif\",\n",
    "    \"font.monospace\": [], # Blank entries should cause plots to inherit fonts from the document\n",
    "    #Text size\n",
    "    \"font.size\": 11,# Document default is 11pt font.\n",
    "    #\"text.fontsize\": 11,\n",
    "    \"axes.labelsize\": 11,\n",
    "    \"legend.fontsize\": 8,               # Make the legend/label fonts a little smaller\n",
    "    \"xtick.labelsize\": 8,\n",
    "    \"ytick.labelsize\": 8,\n",
    "    ##Axis\n",
    "    #\"axes.labelpad\": 2,     # space between label and axis \n",
    "    \"figure.figsize\": figsize(1.0),     # default fig size of 1.0 textwidth\n",
    "    #Packages\n",
    "    \"pgf.preamble\": [\n",
    "        r\"\\usepackage[utf8x]{inputenc}\",    # use utf8 fonts becasue your computer can handle it :)\n",
    "        r\"\\usepackage[T1]{fontenc}\",        # plots will be generated using this preamble\n",
    "        r\"\\usepackage{amsmath}\",  #need to add math or the ^ won't work\n",
    "        r\"\\usepackage{amssymb}\"]\n",
    "    }\n",
    "\n",
    "mpl.rcParams.update(pgf_with_lualatex)"
   ]
  },
  {
   "cell_type": "code",
   "execution_count": 3,
   "metadata": {},
   "outputs": [],
   "source": [
    "import pandas as pd\n",
    "import matplotlib.pyplot as plt\n",
    "import seaborn as sns\n",
    "from scipy import interpolate"
   ]
  },
  {
   "cell_type": "code",
   "execution_count": 5,
   "metadata": {},
   "outputs": [],
   "source": [
    "%matplotlib inline\n",
    "plt.style.use('seaborn-ticks')\n",
    "sns.set_palette(\"muted\")"
   ]
  },
  {
   "cell_type": "code",
   "execution_count": 6,
   "metadata": {},
   "outputs": [],
   "source": [
    "data = pd.read_csv('data/Horowitz_Al_Calculation.csv')"
   ]
  },
  {
   "cell_type": "code",
   "execution_count": 7,
   "metadata": {},
   "outputs": [
    {
     "data": {
      "text/html": [
       "<div>\n",
       "<style scoped>\n",
       "    .dataframe tbody tr th:only-of-type {\n",
       "        vertical-align: middle;\n",
       "    }\n",
       "\n",
       "    .dataframe tbody tr th {\n",
       "        vertical-align: top;\n",
       "    }\n",
       "\n",
       "    .dataframe thead th {\n",
       "        text-align: right;\n",
       "    }\n",
       "</style>\n",
       "<table border=\"1\" class=\"dataframe\">\n",
       "  <thead>\n",
       "    <tr style=\"text-align: right;\">\n",
       "      <th></th>\n",
       "      <th>theta</th>\n",
       "      <th>q</th>\n",
       "      <th>sigDWsig2</th>\n",
       "      <th>apv</th>\n",
       "      <th>apv_xi05</th>\n",
       "      <th>apv_xi15</th>\n",
       "    </tr>\n",
       "  </thead>\n",
       "  <tbody>\n",
       "    <tr>\n",
       "      <th>0</th>\n",
       "      <td>4.0</td>\n",
       "      <td>0.410312</td>\n",
       "      <td>264.05032</td>\n",
       "      <td>5.839673e-07</td>\n",
       "      <td>5.840293e-07</td>\n",
       "      <td>5.838640e-07</td>\n",
       "    </tr>\n",
       "    <tr>\n",
       "      <th>1</th>\n",
       "      <td>4.1</td>\n",
       "      <td>0.420565</td>\n",
       "      <td>232.93959</td>\n",
       "      <td>6.134834e-07</td>\n",
       "      <td>6.135558e-07</td>\n",
       "      <td>6.133625e-07</td>\n",
       "    </tr>\n",
       "    <tr>\n",
       "      <th>2</th>\n",
       "      <td>4.2</td>\n",
       "      <td>0.430818</td>\n",
       "      <td>205.83888</td>\n",
       "      <td>6.437072e-07</td>\n",
       "      <td>6.437918e-07</td>\n",
       "      <td>6.435664e-07</td>\n",
       "    </tr>\n",
       "    <tr>\n",
       "      <th>3</th>\n",
       "      <td>4.3</td>\n",
       "      <td>0.441071</td>\n",
       "      <td>182.17815</td>\n",
       "      <td>6.746490e-07</td>\n",
       "      <td>6.747472e-07</td>\n",
       "      <td>6.744853e-07</td>\n",
       "    </tr>\n",
       "    <tr>\n",
       "      <th>4</th>\n",
       "      <td>4.4</td>\n",
       "      <td>0.451324</td>\n",
       "      <td>161.46741</td>\n",
       "      <td>7.062982e-07</td>\n",
       "      <td>7.064121e-07</td>\n",
       "      <td>7.061085e-07</td>\n",
       "    </tr>\n",
       "  </tbody>\n",
       "</table>\n",
       "</div>"
      ],
      "text/plain": [
       "   theta         q  sigDWsig2           apv      apv_xi05      apv_xi15\n",
       "0    4.0  0.410312  264.05032  5.839673e-07  5.840293e-07  5.838640e-07\n",
       "1    4.1  0.420565  232.93959  6.134834e-07  6.135558e-07  6.133625e-07\n",
       "2    4.2  0.430818  205.83888  6.437072e-07  6.437918e-07  6.435664e-07\n",
       "3    4.3  0.441071  182.17815  6.746490e-07  6.747472e-07  6.744853e-07\n",
       "4    4.4  0.451324  161.46741  7.062982e-07  7.064121e-07  7.061085e-07"
      ]
     },
     "execution_count": 7,
     "metadata": {},
     "output_type": "execute_result"
    }
   ],
   "source": [
    "data.head()"
   ]
  },
  {
   "cell_type": "code",
   "execution_count": 8,
   "metadata": {},
   "outputs": [],
   "source": [
    "# Define constants\n",
    "hbar_c = 0.1973269788 # [GeV fm] PDG 2016"
   ]
  },
  {
   "cell_type": "code",
   "execution_count": 9,
   "metadata": {},
   "outputs": [],
   "source": [
    "data['dapv'] = np.gradient(data.apv)/np.gradient(data.q)\n",
    "data['q2'] = np.square(data.q*hbar_c)"
   ]
  },
  {
   "cell_type": "code",
   "execution_count": 10,
   "metadata": {},
   "outputs": [
    {
     "data": {
      "image/png": "[encoded data removed]",
      "text/plain": [
       "<matplotlib.figure.Figure at 0x7f345ee14898>"
      ]
     },
     "metadata": {},
     "output_type": "display_data"
    }
   ],
   "source": [
    "plt.figure(figsize=figsize(1))\n",
    "plt.plot(data.q2, data.apv*1e6, color=sns.xkcd_rgb['denim blue'])\n",
    "plt.fill_between(data.q2, data.apv_xi05*1e6, data.apv_xi15*1e6, color=sns.xkcd_rgb['denim blue'], alpha=0.2)\n",
    "plt.show()"
   ]
  },
  {
   "cell_type": "code",
   "execution_count": 11,
   "metadata": {},
   "outputs": [
    {
     "data": {
      "image/png": "[encoded data removed]",
      "text/plain": [
       "<matplotlib.figure.Figure at 0x7f345eb6e240>"
      ]
     },
     "metadata": {},
     "output_type": "display_data"
    }
   ],
   "source": [
    "plt.figure(figsize=figsize(1))\n",
    "plt.plot(data.q, ((data.apv-data.apv_xi15)/data.apv))\n",
    "plt.plot(data.q, (np.abs(data.apv-data.apv_xi05)/data.apv))\n",
    "plt.show()"
   ]
  },
  {
   "cell_type": "code",
   "execution_count": 12,
   "metadata": {},
   "outputs": [],
   "source": [
    "apv_fun = interpolate.interp1d(data.q, data.apv)\n",
    "apv_xi05_fun = interpolate.interp1d(data.q, data.apv_xi05)\n",
    "apv_xi15_fun = interpolate.interp1d(data.q, data.apv_xi15)"
   ]
  },
  {
   "cell_type": "code",
   "execution_count": 17,
   "metadata": {},
   "outputs": [],
   "source": [
    "# EWA Avg\n",
    "ewa_r_acc = (apv_fun(np.sqrt(0.02357)/hbar_c)*1e6)/2.0812"
   ]
  },
  {
   "cell_type": "code",
   "execution_count": 24,
   "metadata": {},
   "outputs": [],
   "source": [
    "cv = apv_fun(np.sqrt(0.02357)/hbar_c)*1e6"
   ]
  },
  {
   "cell_type": "code",
   "execution_count": 25,
   "metadata": {},
   "outputs": [],
   "source": [
    "v05 = apv_xi05_fun(np.sqrt(0.02357)/hbar_c)*1e6\n",
    "v15 = apv_xi15_fun(np.sqrt(0.02357)/hbar_c)*1e6 "
   ]
  },
  {
   "cell_type": "code",
   "execution_count": 26,
   "metadata": {},
   "outputs": [
    {
     "data": {
      "text/plain": [
       "-0.23014000517420616"
      ]
     },
     "execution_count": 26,
     "metadata": {},
     "output_type": "execute_result"
    }
   ],
   "source": [
    "100*(cv - v05)/cv"
   ]
  },
  {
   "cell_type": "code",
   "execution_count": 27,
   "metadata": {},
   "outputs": [
    {
     "data": {
      "text/plain": [
       "0.3810533200176975"
      ]
     },
     "execution_count": 27,
     "metadata": {},
     "output_type": "execute_result"
    }
   ],
   "source": [
    "100*(cv - v15)/cv"
   ]
  },
  {
   "cell_type": "code",
   "execution_count": 19,
   "metadata": {},
   "outputs": [],
   "source": [
    "#(ewa_r_acc - 0.9940064293011363)/ewa_r_acc"
   ]
  },
  {
   "cell_type": "code",
   "execution_count": 14,
   "metadata": {},
   "outputs": [],
   "source": [
    "el_data_avg = pd.read_csv('data/Al_Alloy_4p_DS_DWelastic_run2_avg.dat')\n",
    "el_data_md = pd.read_csv('data/Al_Alloy_4p_DS_DWelastic_run2.dat')"
   ]
  },
  {
   "cell_type": "code",
   "execution_count": 15,
   "metadata": {},
   "outputs": [
    {
     "data": {
      "text/html": [
       "<div>\n",
       "<style scoped>\n",
       "    .dataframe tbody tr th:only-of-type {\n",
       "        vertical-align: middle;\n",
       "    }\n",
       "\n",
       "    .dataframe tbody tr th {\n",
       "        vertical-align: top;\n",
       "    }\n",
       "\n",
       "    .dataframe thead th {\n",
       "        text-align: right;\n",
       "    }\n",
       "</style>\n",
       "<table border=\"1\" class=\"dataframe\">\n",
       "  <thead>\n",
       "    <tr style=\"text-align: right;\">\n",
       "      <th></th>\n",
       "      <th>avg</th>\n",
       "      <th>avg_err</th>\n",
       "      <th>chi2</th>\n",
       "      <th>dof</th>\n",
       "      <th>rchi2</th>\n",
       "    </tr>\n",
       "  </thead>\n",
       "  <tbody>\n",
       "    <tr>\n",
       "      <th>rates</th>\n",
       "      <td>1.181200</td>\n",
       "      <td>0.001578</td>\n",
       "      <td>11.420</td>\n",
       "      <td>7</td>\n",
       "      <td>1.6314</td>\n",
       "    </tr>\n",
       "    <tr>\n",
       "      <th>yields</th>\n",
       "      <td>148.730000</td>\n",
       "      <td>0.210790</td>\n",
       "      <td>51.475</td>\n",
       "      <td>7</td>\n",
       "      <td>7.3535</td>\n",
       "    </tr>\n",
       "    <tr>\n",
       "      <th>theta</th>\n",
       "      <td>7.570600</td>\n",
       "      <td>0.001143</td>\n",
       "      <td>14.544</td>\n",
       "      <td>7</td>\n",
       "      <td>2.0777</td>\n",
       "    </tr>\n",
       "    <tr>\n",
       "      <th>q2</th>\n",
       "      <td>0.023522</td>\n",
       "      <td>0.000008</td>\n",
       "      <td>11.149</td>\n",
       "      <td>7</td>\n",
       "      <td>1.5928</td>\n",
       "    </tr>\n",
       "    <tr>\n",
       "      <th>asym</th>\n",
       "      <td>2.081200</td>\n",
       "      <td>0.000613</td>\n",
       "      <td>13.930</td>\n",
       "      <td>7</td>\n",
       "      <td>1.9900</td>\n",
       "    </tr>\n",
       "  </tbody>\n",
       "</table>\n",
       "</div>"
      ],
      "text/plain": [
       "               avg   avg_err    chi2  dof   rchi2\n",
       "rates     1.181200  0.001578  11.420    7  1.6314\n",
       "yields  148.730000  0.210790  51.475    7  7.3535\n",
       "theta     7.570600  0.001143  14.544    7  2.0777\n",
       "q2        0.023522  0.000008  11.149    7  1.5928\n",
       "asym      2.081200  0.000613  13.930    7  1.9900"
      ]
     },
     "execution_count": 15,
     "metadata": {},
     "output_type": "execute_result"
    }
   ],
   "source": [
    "el_data_avg.head()"
   ]
  },
  {
   "cell_type": "code",
   "execution_count": 14,
   "metadata": {},
   "outputs": [
    {
     "data": {
      "text/html": [
       "<div>\n",
       "<table border=\"1\" class=\"dataframe\">\n",
       "  <thead>\n",
       "    <tr style=\"text-align: right;\">\n",
       "      <th></th>\n",
       "      <th>md</th>\n",
       "      <th>rates</th>\n",
       "      <th>rates_err</th>\n",
       "      <th>yields</th>\n",
       "      <th>yields_err</th>\n",
       "      <th>theta</th>\n",
       "      <th>theta_err</th>\n",
       "      <th>q2</th>\n",
       "      <th>q2_err</th>\n",
       "      <th>asym</th>\n",
       "      <th>asym_err</th>\n",
       "    </tr>\n",
       "  </thead>\n",
       "  <tbody>\n",
       "    <tr>\n",
       "      <th>0</th>\n",
       "      <td>1</td>\n",
       "      <td>1.1819</td>\n",
       "      <td>0.004471</td>\n",
       "      <td>149.08</td>\n",
       "      <td>0.60141</td>\n",
       "      <td>7.5705</td>\n",
       "      <td>0.003240</td>\n",
       "      <td>0.023522</td>\n",
       "      <td>0.000021</td>\n",
       "      <td>2.0812</td>\n",
       "      <td>0.001733</td>\n",
       "    </tr>\n",
       "    <tr>\n",
       "      <th>1</th>\n",
       "      <td>2</td>\n",
       "      <td>1.1817</td>\n",
       "      <td>0.004462</td>\n",
       "      <td>149.35</td>\n",
       "      <td>0.59841</td>\n",
       "      <td>7.5689</td>\n",
       "      <td>0.003237</td>\n",
       "      <td>0.023512</td>\n",
       "      <td>0.000021</td>\n",
       "      <td>2.0807</td>\n",
       "      <td>0.001738</td>\n",
       "    </tr>\n",
       "    <tr>\n",
       "      <th>2</th>\n",
       "      <td>3</td>\n",
       "      <td>1.1855</td>\n",
       "      <td>0.004480</td>\n",
       "      <td>148.81</td>\n",
       "      <td>0.59299</td>\n",
       "      <td>7.5718</td>\n",
       "      <td>0.003241</td>\n",
       "      <td>0.023530</td>\n",
       "      <td>0.000021</td>\n",
       "      <td>2.0816</td>\n",
       "      <td>0.001732</td>\n",
       "    </tr>\n",
       "    <tr>\n",
       "      <th>3</th>\n",
       "      <td>4</td>\n",
       "      <td>1.1685</td>\n",
       "      <td>0.004410</td>\n",
       "      <td>144.99</td>\n",
       "      <td>0.58061</td>\n",
       "      <td>7.5810</td>\n",
       "      <td>0.003223</td>\n",
       "      <td>0.023582</td>\n",
       "      <td>0.000021</td>\n",
       "      <td>2.0868</td>\n",
       "      <td>0.001730</td>\n",
       "    </tr>\n",
       "    <tr>\n",
       "      <th>4</th>\n",
       "      <td>5</td>\n",
       "      <td>1.1806</td>\n",
       "      <td>0.004472</td>\n",
       "      <td>148.75</td>\n",
       "      <td>0.59658</td>\n",
       "      <td>7.5677</td>\n",
       "      <td>0.003247</td>\n",
       "      <td>0.023502</td>\n",
       "      <td>0.000021</td>\n",
       "      <td>2.0799</td>\n",
       "      <td>0.001739</td>\n",
       "    </tr>\n",
       "  </tbody>\n",
       "</table>\n",
       "</div>"
      ],
      "text/plain": [
       "   md   rates  rates_err  yields  yields_err   theta  theta_err        q2  \\\n",
       "0   1  1.1819   0.004471  149.08     0.60141  7.5705   0.003240  0.023522   \n",
       "1   2  1.1817   0.004462  149.35     0.59841  7.5689   0.003237  0.023512   \n",
       "2   3  1.1855   0.004480  148.81     0.59299  7.5718   0.003241  0.023530   \n",
       "3   4  1.1685   0.004410  144.99     0.58061  7.5810   0.003223  0.023582   \n",
       "4   5  1.1806   0.004472  148.75     0.59658  7.5677   0.003247  0.023502   \n",
       "\n",
       "     q2_err    asym  asym_err  \n",
       "0  0.000021  2.0812  0.001733  \n",
       "1  0.000021  2.0807  0.001738  \n",
       "2  0.000021  2.0816  0.001732  \n",
       "3  0.000021  2.0868  0.001730  \n",
       "4  0.000021  2.0799  0.001739  "
      ]
     },
     "execution_count": 14,
     "metadata": {},
     "output_type": "execute_result"
    }
   ],
   "source": [
    "el_data_md.head()"
   ]
  },
  {
   "cell_type": "code",
   "execution_count": 17,
   "metadata": {},
   "outputs": [],
   "source": [
    "apv_avg_qq = apv_fun(np.sqrt(el_data_md.q2)/hbar_c)*1e6"
   ]
  },
  {
   "cell_type": "code",
   "execution_count": 48,
   "metadata": {},
   "outputs": [],
   "source": [
    "apv_avg_qq_lwerr = apv_xi05_fun(np.sqrt(el_data_md.q2)/hbar_c)*1e6-apv_avg_qq, \n",
    "apv_avg_qq_herr = apv_avg_qq-apv_xi15_fun(np.sqrt(el_data_md.q2)/hbar_c)*1e6"
   ]
  },
  {
   "cell_type": "code",
   "execution_count": 74,
   "metadata": {},
   "outputs": [
    {
     "data": {
      "text/plain": [
       "array([ 0.00378966,  0.0037853 ,  0.00379315,  0.00381574,  0.00378093,\n",
       "        0.00378311,  0.00378966,  0.00377831])"
      ]
     },
     "execution_count": 74,
     "metadata": {},
     "output_type": "execute_result"
    }
   ],
   "source": [
    "apv_avg_qq_herr/apv_avg_qq"
   ]
  },
  {
   "cell_type": "code",
   "execution_count": 19,
   "metadata": {},
   "outputs": [],
   "source": [
    "r_acc_md = apv_avg_qq/el_data_md.asym"
   ]
  },
  {
   "cell_type": "code",
   "execution_count": 75,
   "metadata": {},
   "outputs": [],
   "source": [
    "r_acc_md_err = np.sqrt(np.square(r_acc_md)*(np.square(apv_avg_qq_herr/apv_avg_qq)+np.square(0.004)))"
   ]
  },
  {
   "cell_type": "code",
   "execution_count": 76,
   "metadata": {},
   "outputs": [
    {
     "data": {
      "text/plain": [
       "0    0.005477\n",
       "1    0.005473\n",
       "2    0.005480\n",
       "3    0.005494\n",
       "4    0.005470\n",
       "5    0.005471\n",
       "6    0.005480\n",
       "7    0.005470\n",
       "Name: asym, dtype: float64"
      ]
     },
     "execution_count": 76,
     "metadata": {},
     "output_type": "execute_result"
    }
   ],
   "source": [
    "r_acc_md_err"
   ]
  },
  {
   "cell_type": "code",
   "execution_count": 90,
   "metadata": {},
   "outputs": [
    {
     "data": {
      "image/png": "[encoded data removed]",
      "text/plain": [
       "<matplotlib.figure.Figure at 0x7fd8bc08a208>"
      ]
     },
     "metadata": {},
     "output_type": "display_data"
    }
   ],
   "source": [
    "pp.figure(figsize=figsize(1))\n",
    "pp.errorbar(el_data_md.md, r_acc_md, ls='None', marker='d', color=sns.xkcd_rgb['denim blue'], label='$R_{acc} = \\\\frac{A(\\langle Q \\\\rangle)}{\\langle A(Q) \\\\rangle}$')\n",
    "pp.plot([0.5, 8.5], [ewa_r_acc, ewa_r_acc], color=sns.xkcd_rgb['pale red'], label='Avg. $\\pm$ Std.')\n",
    "pp.fill_between([0.5, 8.5], (1+np.std(r_acc_md))*ewa_r_acc, (1-np.std(r_acc_md))*ewa_r_acc, color=sns.xkcd_rgb['pale red'], alpha=0.2)\n",
    "pp.tick_params(top=False)\n",
    "pp.xlabel('Main Detector')\n",
    "pp.ylabel('$R_{acc}$')\n",
    "pp.xlim(0.5, 8.5)\n",
    "pp.legend(loc='upper left')\n",
    "pp.savefig('plots/al_r_acc.png', bbox_inches='tight')\n",
    "pp.savefig('plots/al_r_acc.pdf', bbox_inches='tight')\n",
    "pp.savefig('plots/al_r_acc.pgf', bbox_inches='tight')\n",
    "pp.show()"
   ]
  },
  {
   "cell_type": "code",
   "execution_count": null,
   "metadata": {},
   "outputs": [],
   "source": []
  },
  {
   "cell_type": "code",
   "execution_count": 56,
   "metadata": {},
   "outputs": [
    {
     "data": {
      "text/plain": [
       "-0.0038407880016281255"
      ]
     },
     "execution_count": 56,
     "metadata": {},
     "output_type": "execute_result"
    }
   ],
   "source": [
    "(data.loc[36].apv_xi15-data.loc[36].apv)/data.loc[36].apv"
   ]
  },
  {
   "cell_type": "code",
   "execution_count": 58,
   "metadata": {},
   "outputs": [
    {
     "data": {
      "text/plain": [
       "0.00029477224678070346"
      ]
     },
     "execution_count": 58,
     "metadata": {},
     "output_type": "execute_result"
    }
   ],
   "source": [
    "el_data_avg.loc['asym'].avg_err/el_data_avg.loc['asym'].avg"
   ]
  },
  {
   "cell_type": "code",
   "execution_count": 62,
   "metadata": {},
   "outputs": [
    {
     "data": {
      "text/plain": [
       "0    0.006274\n",
       "1    0.006271\n",
       "2    0.006276\n",
       "3    0.006290\n",
       "4    0.006269\n",
       "5    0.006270\n",
       "6    0.006274\n",
       "7    0.006267\n",
       "Name: asym, dtype: float64"
      ]
     },
     "execution_count": 62,
     "metadata": {},
     "output_type": "execute_result"
    }
   ],
   "source": [
    "r_acc_md_err/r_acc_md"
   ]
  },
  {
   "cell_type": "code",
   "execution_count": 64,
   "metadata": {},
   "outputs": [
    {
     "data": {
      "text/plain": [
       "0.99399090645970922"
      ]
     },
     "execution_count": 64,
     "metadata": {},
     "output_type": "execute_result"
    }
   ],
   "source": [
    "np.average(r_acc_md)"
   ]
  },
  {
   "cell_type": "code",
   "execution_count": 65,
   "metadata": {},
   "outputs": [
    {
     "data": {
      "text/plain": [
       "0.00026971633068789886"
      ]
     },
     "execution_count": 65,
     "metadata": {},
     "output_type": "execute_result"
    }
   ],
   "source": [
    "np.std(r_acc_md)"
   ]
  },
  {
   "cell_type": "code",
   "execution_count": 67,
   "metadata": {},
   "outputs": [
    {
     "data": {
      "text/plain": [
       "0.00027134687946849103"
      ]
     },
     "execution_count": 67,
     "metadata": {},
     "output_type": "execute_result"
    }
   ],
   "source": [
    "np.std(r_acc_md)/np.average(r_acc_md)"
   ]
  },
  {
   "cell_type": "code",
   "execution_count": 68,
   "metadata": {},
   "outputs": [
    {
     "data": {
      "text/plain": [
       "0.99400642930113625"
      ]
     },
     "execution_count": 68,
     "metadata": {},
     "output_type": "execute_result"
    }
   ],
   "source": [
    "ewa_r_acc"
   ]
  },
  {
   "cell_type": "code",
   "execution_count": 77,
   "metadata": {},
   "outputs": [
    {
     "data": {
      "text/plain": [
       "0.005510011852431055"
      ]
     },
     "execution_count": 77,
     "metadata": {},
     "output_type": "execute_result"
    }
   ],
   "source": [
    "np.average(r_acc_md_err/r_acc_md)"
   ]
  },
  {
   "cell_type": "code",
   "execution_count": 81,
   "metadata": {},
   "outputs": [
    {
     "data": {
      "text/plain": [
       "0.0054670353611562493"
      ]
     },
     "execution_count": 81,
     "metadata": {},
     "output_type": "execute_result"
    }
   ],
   "source": [
    "0.0055*ewa_r_acc"
   ]
  },
  {
   "cell_type": "code",
   "execution_count": null,
   "metadata": {
    "collapsed": true
   },
   "outputs": [],
   "source": []
  }
 ],
 "metadata": {
  "kernelspec": {
   "display_name": "Python 3",
   "language": "python",
   "name": "python3"
  },
  "language_info": {
   "codemirror_mode": {
    "name": "ipython",
    "version": 3
   },
   "file_extension": ".py",
   "mimetype": "text/x-python",
   "name": "python",
   "nbconvert_exporter": "python",
   "pygments_lexer": "ipython3",
   "version": "3.6.5"
  }
 },
 "nbformat": 4,
 "nbformat_minor": 1
}
