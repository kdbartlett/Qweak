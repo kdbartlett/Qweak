{
 "cells": [
  {
   "cell_type": "markdown",
   "metadata": {},
   "source": [
    "# Al Charge Radius Plot\n",
    "\n",
    "Kurtis Bartlett\n",
    "\n",
    "2017/3/3\n",
    "\n",
    "Ipython notebook for generating plot of extracted and theoretically predicted <sup>27</sup>Al charge radii."
   ]
  },
  {
   "cell_type": "code",
   "execution_count": 1,
   "metadata": {},
   "outputs": [],
   "source": [
    "import numpy as np\n",
    "#This following is so that this will work with Latex, see\n",
    "#http://bkanuka.com/articles/native-latex-plots/\n",
    "import matplotlib as mpl\n",
    "mpl.use('pgf')"
   ]
  },
  {
   "cell_type": "code",
   "execution_count": 2,
   "metadata": {},
   "outputs": [],
   "source": [
    "def figsize(scale):                                 # I think scale is the size you want it on the page\n",
    "    fig_width_pt = 433.62001                        # Get this from LaTeX using \\the\\textwidth\n",
    "    inches_per_pt = 1.0/72.0                        # Convert pt to inch\n",
    "    golden_mean = (np.sqrt(5.0)-1.0)/2.0            # Aesthetic ratio (you could change this)\n",
    "    fig_width = fig_width_pt*inches_per_pt*scale    # width in inches\n",
    "    fig_height = fig_width*golden_mean              # height in inches\n",
    "    fig_size = [fig_width,fig_height]\n",
    "    return fig_size\n",
    "\n",
    "pgf_with_lualatex = {                      # Setup matplotlib to use latex for output\n",
    "    \"pgf.texsystem\": \"lualatex\",           # Change this if using xetex or luatex\n",
    "    \"text.usetex\": True,                   # Use LaTeX to write all text\n",
    "    \"pgf.rcfonts\": False,\n",
    "    #Fonts\n",
    "    \"font.family\": \"serif\",                # Get from the pdf font function on the doc\n",
    "    \"font.serif\": \"Computer Modern Roman\",      \n",
    "    #\"font.sans-serif\": \"Computer Modern Sans serif\",\n",
    "    #\"font.serif\": [],      \n",
    "    \"font.sans-serif\": [],\n",
    "    \"font.monospace\": [], # Blank entries should cause plots to inherit fonts from the document\n",
    "    #Text size\n",
    "    \"font.size\": 11,# Document default is 11pt font.\n",
    "    #\"text.fontsize\": 11,\n",
    "    \"axes.labelsize\": 11,\n",
    "    \"legend.fontsize\": 8,               # Make the legend/label fonts a little smaller\n",
    "    \"xtick.labelsize\": 8,\n",
    "    \"ytick.labelsize\": 8,\n",
    "    ##Axis\n",
    "    #\"axes.labelpad\": 2,     # space between label and axis \n",
    "    \"figure.figsize\": figsize(1.0),     # default fig size of 1.0 textwidth\n",
    "    #Packages\n",
    "    \"pgf.preamble\": [\n",
    "        r\"\\usepackage[utf8x]{inputenc}\",    # use utf8 fonts becasue your computer can handle it :)\n",
    "        r\"\\usepackage[T1]{fontenc}\",        # plots will be generated using this preamble\n",
    "        r\"\\usepackage{amsmath}\",  #need to add math or the ^ won't work\n",
    "        r\"\\usepackage{amssymb}\"]\n",
    "    }\n",
    "\n",
    "mpl.rcParams.update(pgf_with_lualatex)"
   ]
  },
  {
   "cell_type": "code",
   "execution_count": 3,
   "metadata": {},
   "outputs": [],
   "source": [
    "import pandas as pd\n",
    "import matplotlib.pyplot as plt\n",
    "import seaborn as sns\n",
    "from matplotlib.ticker import AutoMinorLocator\n",
    "from scipy.integrate import quad\n",
    "from scipy.special import gamma"
   ]
  },
  {
   "cell_type": "code",
   "execution_count": 4,
   "metadata": {},
   "outputs": [],
   "source": [
    "%matplotlib inline\n",
    "plt.style.use('seaborn-ticks')\n",
    "sns.set_palette(\"muted\")"
   ]
  },
  {
   "cell_type": "code",
   "execution_count": 5,
   "metadata": {},
   "outputs": [],
   "source": [
    "def calc_chi2(fit, data, err, dof):\n",
    "    chi2 = np.sum(np.square(data-fit)/np.square(err))\n",
    "    return chi2, chi2/dof\n",
    "\n",
    "def chi2probdistribution(chi2, dof):\n",
    "    if chi2 > 0:\n",
    "        num = np.power(chi2,(dof-2.0)/2.0)*np.exp(-chi2/2.0)\n",
    "        dem = np.power(2.0,(dof/2.0))*gamma(dof/2.0)\n",
    "        return num/dem\n",
    "    elif chi2 == 0:\n",
    "        return 0\n",
    "    else:\n",
    "        print('Chi^2 values < 0 not valid!')\n",
    "        \n",
    "def calc_chi2prob(chi2, dof):\n",
    "    return quad(chi2probdistribution, chi2, np.inf, (dof))"
   ]
  },
  {
   "cell_type": "code",
   "execution_count": 6,
   "metadata": {},
   "outputs": [],
   "source": [
    "# Theoretical Calculation\n",
    "theory_cal = np.array([3.013]) #[fm]\n",
    "theory_cal_err = np.array([0.000]) #[fm]\n",
    "\n",
    "# Electron Scattering Data\n",
    "e_scattering_data = np.array([3.06, 3.05, 3.035]) #[fm]\n",
    "#Using Springer Materials Reference.\n",
    "#e_scattering_data_err = np.array([0.09, 0.05, 0.040]) #[fm]\n",
    "#Using Atomic Data and Nuclear Data Tables (1987)\n",
    "e_scattering_data_err = np.array([0.09, 0.05, 0.002]) #[fm]\n",
    "\n",
    "# Muonic Atomic Data\n",
    "muon_atom_data = np.array([3.062]) #[fm]\n",
    "muon_atom_data_err = np.array([0.003]) #[fm]"
   ]
  },
  {
   "cell_type": "code",
   "execution_count": 7,
   "metadata": {},
   "outputs": [],
   "source": [
    "measurements = np.concatenate((e_scattering_data,muon_atom_data))\n",
    "measurements_err = np.concatenate((e_scattering_data_err,muon_atom_data_err))"
   ]
  },
  {
   "cell_type": "code",
   "execution_count": 8,
   "metadata": {},
   "outputs": [],
   "source": [
    "# Calculate Error Weight Average\n",
    "weight_factor=1/(measurements_err*measurements_err)\n",
    "[ewa,sum_weights]=np.average(measurements, weights=weight_factor,returned=True)\n",
    "ewa_err=np.sqrt((1/sum_weights))\n",
    "# Calculate Chi^2 and degrees of freedom\n",
    "chi_sq=(weight_factor*np.square(ewa*np.ones(len(measurements))-measurements)).sum()\n",
    "dof=len(measurements)-1\n",
    "scale_val=np.sqrt(chi_sq/dof)\n",
    "scaled_err=ewa_err*scale_val\n",
    "avg_text='Measurement\\nAVG: {0:.3f}$\\pm${1:.3f} fm'.format(ewa, scaled_err)"
   ]
  },
  {
   "cell_type": "code",
   "execution_count": 9,
   "metadata": {},
   "outputs": [
    {
     "name": "stdout",
     "output_type": "stream",
     "text": [
      "EWA:         3.043 fm\n",
      "EWA_Err:     0.002 fm\n",
      "Chi^2:       56.129\n",
      "DOF:         3\n",
      "Chi^2/DOF:   18.710\n",
      "Scale Value: 4.325\n",
      "Scaled_Err:  0.007 fm\n"
     ]
    }
   ],
   "source": [
    "print('EWA:         {0:.3f} fm\\n'.format(ewa)+\n",
    "      'EWA_Err:     {0:.3f} fm\\n'.format(ewa_err)+\n",
    "      'Chi^2:       {0:.3f}\\n'.format(chi_sq)+\n",
    "      'DOF:         {0:d}\\n'.format(dof)+\n",
    "      'Chi^2/DOF:   {0:.3f}\\n'.format(chi_sq/dof)+\n",
    "      'Scale Value: {0:.3f}\\n'.format(scale_val)+\n",
    "      'Scaled_Err:  {0:.3f} fm'.format(scaled_err))"
   ]
  },
  {
   "cell_type": "code",
   "execution_count": 10,
   "metadata": {},
   "outputs": [],
   "source": [
    "# Vertical Axis Names\n",
    "y_axis_position = [0.5, 1.0, 1.5, 2.0, 2.5]\n",
    "y_axis_labels = ['', '', '', '','']"
   ]
  },
  {
   "cell_type": "code",
   "execution_count": 40,
   "metadata": {},
   "outputs": [
    {
     "data": {
      "image/png": "[encoded data removed]",
      "text/plain": [
       "<matplotlib.figure.Figure at 0x7f3e0df94ef0>"
      ]
     },
     "metadata": {},
     "output_type": "display_data"
    }
   ],
   "source": [
    "fig, ax = plt.subplots(figsize=figsize(0.9))\n",
    "#pp.errorbar(theory_cal,\n",
    "#            [2.5],\n",
    "#            xerr=theory_cal_err,\n",
    "#            label='FSUgold RMF',\n",
    "#            ls='none',\n",
    "#            marker='o',\n",
    "#            color=sns.xkcd_rgb['medium green'])\n",
    "ax.errorbar(muon_atom_data,\n",
    "            [2.0], \n",
    "            xerr=muon_atom_data_err,\n",
    "            label='Muonic Atom\\n 2p$\\\\rightarrow$1s',\n",
    "            ls='none',\n",
    "            marker='+',\n",
    "            capsize=2,\n",
    "            capthick=1,\n",
    "            color=sns.xkcd_rgb['dull blue'])\n",
    "ax.errorbar(e_scattering_data,\n",
    "            [0.5, 1.0, 1.5], \n",
    "            xerr=e_scattering_data_err, \n",
    "            label='e$^{-}$ Scattering', \n",
    "            ls='none', \n",
    "            marker='.',\n",
    "            capsize=2,\n",
    "            capthick=1,\n",
    "            color=sns.xkcd_rgb['dull red'])\n",
    "ax.plot([ewa,ewa],[0.0,2.5],\n",
    "        #label=avg_text,\n",
    "        ls='-',\n",
    "        color=sns.xkcd_rgb['steel grey'])\n",
    "ax.fill_between([ewa-ewa_err,ewa+ewa_err],0.0,2.5,\n",
    "                color=sns.xkcd_rgb['steel grey'],\n",
    "                alpha=0.2)\n",
    "ax.fill_between([ewa-scaled_err,ewa+scaled_err],0.0,2.5,\n",
    "                color=sns.xkcd_rgb['steel grey'],\n",
    "                alpha=0.2)\n",
    "ax.text(ewa,2.85,\n",
    "        avg_text,\n",
    "        fontsize=11,\n",
    "        color=sns.xkcd_rgb['steel grey'],\n",
    "        verticalalignment='top',\n",
    "        horizontalalignment='center')\n",
    "#ax.text(3.16, 2.5,\n",
    "#        'C.J. Horowitz\\n(2014)',\n",
    "#        fontsize=11,\n",
    "#        verticalalignment='center',\n",
    "#        color=sns.xkcd_rgb['medium green'])\n",
    "ax.text(3.155, 2.0, \n",
    "        'G. Fricke \\\\textit{et al.}\\n(1992)',\n",
    "        fontsize=11,\n",
    "        verticalalignment='center',\n",
    "        color=sns.xkcd_rgb['dull blue'])\n",
    "ax.text(3.155, 1.5,\n",
    "        'H. Rothhaas\\n(1986)',\n",
    "        fontsize=11,\n",
    "        verticalalignment='center',\n",
    "        color=sns.xkcd_rgb['dull red'])\n",
    "ax.text(3.155, 1.0,\n",
    "        'G. Fey \\\\textit{et al.}\\n(1973)',\n",
    "        fontsize=11,\n",
    "        verticalalignment='center',\n",
    "        color=sns.xkcd_rgb['dull red'])\n",
    "ax.text(3.155, 0.5,\n",
    "        'R.M. Lombard \\\\textit{et al.}\\n(1967)',\n",
    "        fontsize=11,\n",
    "        verticalalignment='center',\n",
    "        color=sns.xkcd_rgb['dull red'])\n",
    "#pp.text(3.25, -0.5,\n",
    "#        'Measurement Sources: G. Fricke, K. Heilig, Nuclear Charge Radii 13-Al Aluminum: Datasheet from Landolt-Bornstein, Springer Materials (2004)',\n",
    "#        fontsize=8,\n",
    "#        verticalalignment='center',\n",
    "#        horizontalalignment='center')\n",
    "ax.set_xlabel('$R_{ch}$ [fm]')\n",
    "ax.legend(loc='upper right')\n",
    "ax.tick_params(left=False)\n",
    "ax.set_yticks(y_axis_position)\n",
    "ax.set_yticklabels(y_axis_labels)\n",
    "ax.xaxis.set_minor_locator(AutoMinorLocator(4))\n",
    "#pp.xlim(2.5,3.5)\n",
    "ax.set_xlim(2.95,3.25)\n",
    "ax.set_ylim(0.0,3.0)\n",
    "plt.savefig('al_charge_radius_plot.png', bbox_inches='tight')\n",
    "plt.savefig('al_charge_radius_plot.pdf', bbox_inches='tight')\n",
    "plt.savefig('al_charge_radius_plot.pgf', bbox_inches='tight')\n",
    "plt.show()"
   ]
  },
  {
   "cell_type": "code",
   "execution_count": null,
   "metadata": {
    "collapsed": true
   },
   "outputs": [],
   "source": []
  }
 ],
 "metadata": {
  "kernelspec": {
   "display_name": "Python 3",
   "language": "python",
   "name": "python3"
  },
  "language_info": {
   "codemirror_mode": {
    "name": "ipython",
    "version": 3
   },
   "file_extension": ".py",
   "mimetype": "text/x-python",
   "name": "python",
   "nbconvert_exporter": "python",
   "pygments_lexer": "ipython3",
   "version": "3.6.5"
  }
 },
 "nbformat": 4,
 "nbformat_minor": 1
}
