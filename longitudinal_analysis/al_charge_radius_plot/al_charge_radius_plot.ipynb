{
 "cells": [
  {
   "cell_type": "markdown",
   "metadata": {},
   "source": [
    "# Al Charge Radius Plot\n",
    "\n",
    "Kurtis Bartlett\n",
    "\n",
    "2017/3/3\n",
    "\n",
    "Ipython notebook for generating plot of extracted and theoretically predicted <sup>27</sup>Al charge radii."
   ]
  },
  {
   "cell_type": "code",
   "execution_count": 1,
   "metadata": {
    "collapsed": false
   },
   "outputs": [
    {
     "name": "stderr",
     "output_type": "stream",
     "text": [
      ":0: FutureWarning: IPython widgets are experimental and may change in the future.\n"
     ]
    }
   ],
   "source": [
    "# Import the necessary packages and modules\n",
    "import numpy as np\n",
    "import matplotlib as mpl\n",
    "import matplotlib.pyplot as pp\n",
    "import seaborn as sns"
   ]
  },
  {
   "cell_type": "code",
   "execution_count": 2,
   "metadata": {
    "collapsed": false
   },
   "outputs": [],
   "source": [
    "pp.rcParams[\"text.usetex\"] = \"True\"\n",
    "pp.rcParams[\"font.family\"] = \"serif\"\n",
    "pp.rcParams[\"font.serif\"] = \"Computer Modern Roman\"\n",
    "pp.rcParams[\"font.sans-serif\"] = \"Computer Modern Sans serif\""
   ]
  },
  {
   "cell_type": "code",
   "execution_count": 3,
   "metadata": {
    "collapsed": true
   },
   "outputs": [],
   "source": [
    "# Keep matplotlib plot inline\n",
    "%matplotlib inline"
   ]
  },
  {
   "cell_type": "code",
   "execution_count": 4,
   "metadata": {
    "collapsed": true
   },
   "outputs": [],
   "source": [
    "pp.style.use('seaborn-white')\n",
    "sns.set_palette(\"muted\")\n",
    "plot_size = 6*np.array([1.0,(2.0/(1.0+np.sqrt(5.0)))]) #Use Golden ratio as aspect ratio for plots"
   ]
  },
  {
   "cell_type": "code",
   "execution_count": 45,
   "metadata": {
    "collapsed": true
   },
   "outputs": [],
   "source": [
    "# Theoretical Calculation\n",
    "theory_cal = np.array([3.013]) #[fm]\n",
    "theory_cal_err = np.array([0.000]) #[fm]\n",
    "\n",
    "# Electron Scattering Data\n",
    "e_scattering_data = np.array([3.06, 3.05, 3.035]) #[fm]\n",
    "#Using Springer Materials Reference.\n",
    "#e_scattering_data_err = np.array([0.09, 0.05, 0.040]) #[fm]\n",
    "#Using Atomic Data and Nuclear Data Tables (1987)\n",
    "e_scattering_data_err = np.array([0.09, 0.05, 0.002]) #[fm]\n",
    "\n",
    "# Muonic Atomic Data\n",
    "muon_atom_data = np.array([3.062]) #[fm]\n",
    "muon_atom_data_err = np.array([0.003]) #[fm]"
   ]
  },
  {
   "cell_type": "code",
   "execution_count": 46,
   "metadata": {
    "collapsed": false
   },
   "outputs": [],
   "source": [
    "measurements = np.concatenate((e_scattering_data,muon_atom_data))\n",
    "measurements_err = np.concatenate((e_scattering_data_err,muon_atom_data_err))"
   ]
  },
  {
   "cell_type": "code",
   "execution_count": 126,
   "metadata": {
    "collapsed": false
   },
   "outputs": [],
   "source": [
    "# Calculate Error Weight Average\n",
    "weight_factor=1/(measurements_err*measurements_err)\n",
    "[ewa,sum_weights]=np.average(measurements, weights=weight_factor,returned=True)\n",
    "ewa_err=np.sqrt((1/sum_weights))\n",
    "# Calculate Chi^2 and degrees of freedom\n",
    "chi_sq=(weight_factor*np.square(ewa*np.ones(len(measurements))-measurements)).sum()\n",
    "dof=len(measurements)-1\n",
    "scale_val=np.sqrt(chi_sq/dof)\n",
    "scaled_err=ewa_err*scale_val\n",
    "avg_text='Measurement\\nAVG: {0:.3f}$\\pm${1:.3f} fm'.format(ewa, scaled_err)"
   ]
  },
  {
   "cell_type": "code",
   "execution_count": 127,
   "metadata": {
    "collapsed": false
   },
   "outputs": [
    {
     "name": "stdout",
     "output_type": "stream",
     "text": [
      "EWA:         3.043 fm\n",
      "EWA_Err:     0.002 fm\n",
      "Chi^2:       56.129\n",
      "DOF:         3\n",
      "Chi^2/DOF:   18.710\n",
      "Scale Value: 4.325\n",
      "Scaled_Err:  0.007 fm\n"
     ]
    }
   ],
   "source": [
    "print('EWA:         {0:.3f} fm\\n'.format(ewa)+\n",
    "      'EWA_Err:     {0:.3f} fm\\n'.format(ewa_err)+\n",
    "      'Chi^2:       {0:.3f}\\n'.format(chi_sq)+\n",
    "      'DOF:         {0:d}\\n'.format(dof)+\n",
    "      'Chi^2/DOF:   {0:.3f}\\n'.format(chi_sq/dof)+\n",
    "      'Scale Value: {0:.3f}\\n'.format(scale_val)+\n",
    "      'Scaled_Err:  {0:.3f} fm'.format(scaled_err))"
   ]
  },
  {
   "cell_type": "code",
   "execution_count": 21,
   "metadata": {
    "collapsed": true
   },
   "outputs": [],
   "source": [
    "# Vertical Axis Names\n",
    "y_axis_position = [0.5, 1.0, 1.5, 2.0, 2.5]\n",
    "y_axis_labels = ['', '', '', '','']"
   ]
  },
  {
   "cell_type": "code",
   "execution_count": 133,
   "metadata": {
    "collapsed": false
   },
   "outputs": [
    {
     "data": {
      "image/png": "[encoded data removed]",
      "text/plain": [
       "<matplotlib.figure.Figure at 0x7f0b28c65668>"
      ]
     },
     "metadata": {},
     "output_type": "display_data"
    }
   ],
   "source": [
    "pp.figure(figsize=plot_size)\n",
    "pp.errorbar(theory_cal,\n",
    "            [2.5],\n",
    "            xerr=theory_cal_err,\n",
    "            label='FSUgold RMF',\n",
    "            ls='none',\n",
    "            marker='o',\n",
    "            color=sns.xkcd_rgb['medium green'])\n",
    "pp.errorbar(muon_atom_data,\n",
    "            [2.0], \n",
    "            xerr=muon_atom_data_err,\n",
    "            label='Muonic Atom\\n 2p$\\\\rightarrow$1s',\n",
    "            ls='none',\n",
    "            marker='s',\n",
    "            color=sns.xkcd_rgb['denim blue'])\n",
    "pp.errorbar(e_scattering_data,\n",
    "            [0.5, 1.0, 1.5], \n",
    "            xerr=e_scattering_data_err, \n",
    "            label='e$^{-}$ Scattering', \n",
    "            ls='none', \n",
    "            marker='D', \n",
    "            color=sns.xkcd_rgb['pale red'])\n",
    "pp.plot([ewa,ewa],[0.0,3.0],\n",
    "        #label=avg_text,\n",
    "        ls='-',\n",
    "        color=sns.xkcd_rgb['steel grey'])\n",
    "pp.fill_between([ewa-ewa_err,ewa+ewa_err],0.0,3.0,\n",
    "                color=sns.xkcd_rgb['steel grey'],\n",
    "                alpha=0.2)\n",
    "pp.fill_between([ewa-scaled_err,ewa+scaled_err],0.0,3.0,\n",
    "                color=sns.xkcd_rgb['steel grey'],\n",
    "                alpha=0.2)\n",
    "pp.text(ewa,3.5,\n",
    "        avg_text,\n",
    "        fontsize=11,\n",
    "        color=sns.xkcd_rgb['steel grey'],\n",
    "        verticalalignment='top',\n",
    "        horizontalalignment='center')\n",
    "pp.text(3.16, 2.5,\n",
    "        'C.J. Horowitz\\n(2014)',\n",
    "        fontsize=11,\n",
    "        verticalalignment='center',\n",
    "        color=sns.xkcd_rgb['medium green'])\n",
    "pp.text(3.16, 2.0, \n",
    "        'G. Fricke et al.\\n(1992)',\n",
    "        fontsize=11,\n",
    "        verticalalignment='center',\n",
    "        color=sns.xkcd_rgb['denim blue'])\n",
    "pp.text(3.16, 1.5,\n",
    "        'H. Rothhaas\\n(1986)',\n",
    "        fontsize=11,\n",
    "        verticalalignment='center',\n",
    "        color=sns.xkcd_rgb['pale red'])\n",
    "pp.text(3.16, 1.0,\n",
    "        'G. Fey et al.\\n(1973)',\n",
    "        fontsize=11,\n",
    "        verticalalignment='center',\n",
    "        color=sns.xkcd_rgb['pale red'])\n",
    "pp.text(3.16, 0.5,\n",
    "        'R.M. Lombard et al.\\n(1967)',\n",
    "        fontsize=11,\n",
    "        verticalalignment='center',\n",
    "        color=sns.xkcd_rgb['pale red'])\n",
    "#pp.text(3.25, -0.5,\n",
    "#        'Measurement Sources: G. Fricke, K. Heilig, Nuclear Charge Radii 13-Al Aluminum: Datasheet from Landolt-Bornstein, Springer Materials (2004)',\n",
    "#        fontsize=8,\n",
    "#        verticalalignment='center',\n",
    "#        horizontalalignment='center')\n",
    "pp.xlabel('R$_{ch}$ [fm]', fontsize=14)\n",
    "#pp.ylabel('', fontsize=12)\n",
    "pp.legend(loc='upper right', fontsize=11)\n",
    "pp.xticks(fontsize=12)\n",
    "pp.yticks(y_axis_position,y_axis_labels, fontsize=12)\n",
    "#pp.xlim(2.5,3.5)\n",
    "pp.xlim(2.95,3.25)\n",
    "pp.ylim(0.0,4.0)\n",
    "pp.savefig('al_charge_radius_plot.png', bbox_inches='tight')\n",
    "pp.savefig('al_charge_radius_plot.pdf', bbox_inches='tight')\n",
    "pp.show()"
   ]
  },
  {
   "cell_type": "code",
   "execution_count": null,
   "metadata": {
    "collapsed": true
   },
   "outputs": [],
   "source": []
  }
 ],
 "metadata": {
  "kernelspec": {
   "display_name": "Python 3",
   "language": "python",
   "name": "python3"
  },
  "language_info": {
   "codemirror_mode": {
    "name": "ipython",
    "version": 3
   },
   "file_extension": ".py",
   "mimetype": "text/x-python",
   "name": "python",
   "nbconvert_exporter": "python",
   "pygments_lexer": "ipython3",
   "version": "3.5.2"
  }
 },
 "nbformat": 4,
 "nbformat_minor": 0
}
