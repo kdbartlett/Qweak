{
 "cells": [
  {
   "cell_type": "code",
   "execution_count": 1,
   "metadata": {},
   "outputs": [],
   "source": [
    "import numpy as np\n",
    "#This following is so that this will work with Latex, see\n",
    "#http://bkanuka.com/articles/native-latex-plots/\n",
    "import matplotlib as mpl\n",
    "mpl.use('pgf')"
   ]
  },
  {
   "cell_type": "code",
   "execution_count": 2,
   "metadata": {},
   "outputs": [],
   "source": [
    "def figsize(scale):                                 # I think scale is the size you want it on the page\n",
    "    fig_width_pt = 433.62001                        # Get this from LaTeX using \\the\\textwidth\n",
    "    inches_per_pt = 1.0/72.0                        # Convert pt to inch\n",
    "    golden_mean = (np.sqrt(5.0)-1.0)/2.0            # Aesthetic ratio (you could change this)\n",
    "    fig_width = fig_width_pt*inches_per_pt*scale    # width in inches\n",
    "    fig_height = fig_width*golden_mean              # height in inches\n",
    "    fig_size = [fig_width,fig_height]\n",
    "    return fig_size\n",
    "\n",
    "pgf_with_lualatex = {                      # Setup matplotlib to use latex for output\n",
    "    \"pgf.texsystem\": \"lualatex\",           # Change this if using xetex or luatex\n",
    "    \"text.usetex\": True,                   # Use LaTeX to write all text\n",
    "    \"pgf.rcfonts\": False,\n",
    "    #Fonts\n",
    "    \"font.family\": \"serif\",                # Get from the pdf font function on the doc\n",
    "    \"font.serif\": \"Computer Modern Roman\",      \n",
    "    #\"font.sans-serif\": \"Computer Modern Sans serif\",\n",
    "    #\"font.serif\": [],      \n",
    "    \"font.sans-serif\": [],\n",
    "    \"font.monospace\": [], # Blank entries should cause plots to inherit fonts from the document\n",
    "    #Text size\n",
    "    \"font.size\": 11,# Document default is 11pt font.\n",
    "    #\"text.fontsize\": 11,\n",
    "    \"axes.labelsize\": 11,\n",
    "    \"legend.fontsize\": 8,               # Make the legend/label fonts a little smaller\n",
    "    \"xtick.labelsize\": 8,\n",
    "    \"ytick.labelsize\": 8,\n",
    "    ##Axis\n",
    "    #\"axes.labelpad\": 2,     # space between label and axis \n",
    "    \"figure.figsize\": figsize(1.0),     # default fig size of 1.0 textwidth\n",
    "    #Packages\n",
    "    \"pgf.preamble\": [\n",
    "        r\"\\usepackage[utf8x]{inputenc}\",    # use utf8 fonts becasue your computer can handle it :)\n",
    "        r\"\\usepackage[T1]{fontenc}\",        # plots will be generated using this preamble\n",
    "        r\"\\usepackage{amsmath}\",  #need to add math or the ^ won't work\n",
    "        r\"\\usepackage{amssymb}\"]\n",
    "    }\n",
    "\n",
    "mpl.rcParams.update(pgf_with_lualatex)"
   ]
  },
  {
   "cell_type": "code",
   "execution_count": 3,
   "metadata": {},
   "outputs": [],
   "source": [
    "import pandas as pd\n",
    "import matplotlib.pyplot as plt\n",
    "import seaborn as sns\n",
    "from matplotlib.ticker import AutoMinorLocator\n",
    "from scipy.integrate import quad\n",
    "from scipy.special import gamma\n",
    "from scipy.optimize import curve_fit\n",
    "from scipy.odr import ODR, Model, Data, RealData"
   ]
  },
  {
   "cell_type": "code",
   "execution_count": 5,
   "metadata": {},
   "outputs": [],
   "source": [
    "%matplotlib inline\n",
    "plt.style.use('seaborn-ticks')\n",
    "sns.set_palette(\"muted\")"
   ]
  },
  {
   "cell_type": "code",
   "execution_count": 6,
   "metadata": {},
   "outputs": [],
   "source": [
    "# Header for loading data\n",
    "col_names = ['slug', 'wien', 'md_asym', 'md_asym_err', 'lumi_asym', 'lumi_asym_err', 'precession', 'wien_state', 'ihwp', 'sc']"
   ]
  },
  {
   "cell_type": "code",
   "execution_count": 7,
   "metadata": {},
   "outputs": [],
   "source": [
    "df = pd.read_csv('data/al_md_uslumi_asymmetries.csv', header=None, names=col_names)"
   ]
  },
  {
   "cell_type": "code",
   "execution_count": 8,
   "metadata": {},
   "outputs": [
    {
     "data": {
      "text/html": [
       "<div>\n",
       "<style scoped>\n",
       "    .dataframe tbody tr th:only-of-type {\n",
       "        vertical-align: middle;\n",
       "    }\n",
       "\n",
       "    .dataframe tbody tr th {\n",
       "        vertical-align: top;\n",
       "    }\n",
       "\n",
       "    .dataframe thead th {\n",
       "        text-align: right;\n",
       "    }\n",
       "</style>\n",
       "<table border=\"1\" class=\"dataframe\">\n",
       "  <thead>\n",
       "    <tr style=\"text-align: right;\">\n",
       "      <th></th>\n",
       "      <th>slug</th>\n",
       "      <th>wien</th>\n",
       "      <th>md_asym</th>\n",
       "      <th>md_asym_err</th>\n",
       "      <th>lumi_asym</th>\n",
       "      <th>lumi_asym_err</th>\n",
       "      <th>precession</th>\n",
       "      <th>wien_state</th>\n",
       "      <th>ihwp</th>\n",
       "      <th>sc</th>\n",
       "    </tr>\n",
       "  </thead>\n",
       "  <tbody>\n",
       "    <tr>\n",
       "      <th>0</th>\n",
       "      <td>1028</td>\n",
       "      <td>6</td>\n",
       "      <td>-1.476105</td>\n",
       "      <td>0.295932</td>\n",
       "      <td>-10.29040</td>\n",
       "      <td>0.295932</td>\n",
       "      <td>reverse</td>\n",
       "      <td>normal</td>\n",
       "      <td>out</td>\n",
       "      <td>-1</td>\n",
       "    </tr>\n",
       "    <tr>\n",
       "      <th>1</th>\n",
       "      <td>1029</td>\n",
       "      <td>6</td>\n",
       "      <td>1.818873</td>\n",
       "      <td>0.370497</td>\n",
       "      <td>-9.56512</td>\n",
       "      <td>0.370497</td>\n",
       "      <td>reverse</td>\n",
       "      <td>normal</td>\n",
       "      <td>in</td>\n",
       "      <td>1</td>\n",
       "    </tr>\n",
       "    <tr>\n",
       "      <th>2</th>\n",
       "      <td>1030</td>\n",
       "      <td>6</td>\n",
       "      <td>-1.623430</td>\n",
       "      <td>0.333129</td>\n",
       "      <td>-9.18098</td>\n",
       "      <td>0.333129</td>\n",
       "      <td>reverse</td>\n",
       "      <td>normal</td>\n",
       "      <td>out</td>\n",
       "      <td>-1</td>\n",
       "    </tr>\n",
       "    <tr>\n",
       "      <th>3</th>\n",
       "      <td>1031</td>\n",
       "      <td>6</td>\n",
       "      <td>1.635866</td>\n",
       "      <td>0.337508</td>\n",
       "      <td>-7.38128</td>\n",
       "      <td>0.337508</td>\n",
       "      <td>reverse</td>\n",
       "      <td>normal</td>\n",
       "      <td>in</td>\n",
       "      <td>1</td>\n",
       "    </tr>\n",
       "    <tr>\n",
       "      <th>4</th>\n",
       "      <td>1032</td>\n",
       "      <td>6</td>\n",
       "      <td>-0.912987</td>\n",
       "      <td>0.524059</td>\n",
       "      <td>-6.23302</td>\n",
       "      <td>0.524059</td>\n",
       "      <td>reverse</td>\n",
       "      <td>normal</td>\n",
       "      <td>out</td>\n",
       "      <td>-1</td>\n",
       "    </tr>\n",
       "  </tbody>\n",
       "</table>\n",
       "</div>"
      ],
      "text/plain": [
       "   slug  wien   md_asym  md_asym_err  lumi_asym  lumi_asym_err precession  \\\n",
       "0  1028     6 -1.476105     0.295932  -10.29040       0.295932    reverse   \n",
       "1  1029     6  1.818873     0.370497   -9.56512       0.370497    reverse   \n",
       "2  1030     6 -1.623430     0.333129   -9.18098       0.333129    reverse   \n",
       "3  1031     6  1.635866     0.337508   -7.38128       0.337508    reverse   \n",
       "4  1032     6 -0.912987     0.524059   -6.23302       0.524059    reverse   \n",
       "\n",
       "  wien_state ihwp  sc  \n",
       "0     normal  out  -1  \n",
       "1     normal   in   1  \n",
       "2     normal  out  -1  \n",
       "3     normal   in   1  \n",
       "4     normal  out  -1  "
      ]
     },
     "execution_count": 8,
     "metadata": {},
     "output_type": "execute_result"
    }
   ],
   "source": [
    "df.head()"
   ]
  },
  {
   "cell_type": "code",
   "execution_count": 9,
   "metadata": {},
   "outputs": [],
   "source": [
    "def calc_chi2(fit, data, err, dof):\n",
    "    chi2 = np.sum(np.square(data-fit)/np.square(err))\n",
    "    return chi2, chi2/dof\n",
    "\n",
    "def chi2probdistribution(chi2, dof):\n",
    "    if chi2 > 0:\n",
    "        num = np.power(chi2,(dof-2.0)/2.0)*np.exp(-chi2/2.0)\n",
    "        dem = np.power(2.0,(dof/2.0))*gamma(dof/2.0)\n",
    "        return num/dem\n",
    "    elif chi2 == 0:\n",
    "        return 0\n",
    "    else:\n",
    "        print('Chi^2 values < 0 not valid!')\n",
    "        \n",
    "def calc_chi2prob(chi2, dof):\n",
    "    return quad(chi2probdistribution, chi2, np.inf, (dof))"
   ]
  },
  {
   "cell_type": "code",
   "execution_count": 10,
   "metadata": {},
   "outputs": [],
   "source": [
    "def flinear(x, m, b):\n",
    "    return m*x + b"
   ]
  },
  {
   "cell_type": "code",
   "execution_count": 11,
   "metadata": {},
   "outputs": [],
   "source": [
    "def line(B, x):\n",
    "    '''Linear function y = m*x + b'''\n",
    "    # B is a vector of the parameters.\n",
    "    # x is an array of the current x values.\n",
    "    # x is in the same format as the x passed to Data or RealData.\n",
    "    #\n",
    "    # Return an array in the same format as y passed to Data or RealData.\n",
    "    return B[0]*x + B[1]"
   ]
  },
  {
   "cell_type": "code",
   "execution_count": 12,
   "metadata": {},
   "outputs": [],
   "source": [
    "linear = Model(line)"
   ]
  },
  {
   "cell_type": "code",
   "execution_count": 13,
   "metadata": {},
   "outputs": [],
   "source": [
    "data = RealData(df.sc*df.lumi_asym, df.sc*df.md_asym, sx=df.lumi_asym_err, sy=df.md_asym_err)"
   ]
  },
  {
   "cell_type": "code",
   "execution_count": 14,
   "metadata": {},
   "outputs": [],
   "source": [
    "odr = ODR(data, linear, beta0=[0.5, 1.4])\n",
    "odr.set_job(fit_type=0)"
   ]
  },
  {
   "cell_type": "code",
   "execution_count": 15,
   "metadata": {},
   "outputs": [],
   "source": [
    "output = odr.run()"
   ]
  },
  {
   "cell_type": "code",
   "execution_count": 16,
   "metadata": {},
   "outputs": [
    {
     "name": "stdout",
     "output_type": "stream",
     "text": [
      "Beta: [0.00658051 1.43670857]\n",
      "Beta Std Error: [0.00699525 0.08037616]\n",
      "Beta Covariance: [[ 3.49021706e-05 -2.46911193e-05]\n",
      " [-2.46911193e-05  4.60787913e-03]]\n",
      "Residual Variance: 1.402017596667818\n",
      "Inverse Condition #: 0.09317317255169232\n",
      "Reason(s) for Halting:\n",
      "  Sum of squares convergence\n"
     ]
    }
   ],
   "source": [
    "output.pprint()"
   ]
  },
  {
   "cell_type": "code",
   "execution_count": 17,
   "metadata": {},
   "outputs": [],
   "source": [
    "popt, pcov = curve_fit(flinear, df.sc*df.lumi_asym, df.sc*df.md_asym, sigma=df.md_asym_err)"
   ]
  },
  {
   "cell_type": "code",
   "execution_count": 18,
   "metadata": {},
   "outputs": [
    {
     "data": {
      "text/plain": [
       "(array([0.00657182, 1.43671472]), array([0.00699524, 0.08037616]))"
      ]
     },
     "execution_count": 18,
     "metadata": {},
     "output_type": "execute_result"
    }
   ],
   "source": [
    "popt, np.sqrt(np.diag(pcov))"
   ]
  },
  {
   "cell_type": "code",
   "execution_count": 19,
   "metadata": {},
   "outputs": [
    {
     "data": {
      "text/plain": [
       "(6.627949530062278e-192, 7.86358309827593e-193)"
      ]
     },
     "execution_count": 19,
     "metadata": {},
     "output_type": "execute_result"
    }
   ],
   "source": [
    "chi2, rchi2 = calc_chi2(line(output.beta, df.lumi_asym), df.md_asym, df.md_asym_err, 27)\n",
    "calc_chi2prob(chi2, 27)"
   ]
  },
  {
   "cell_type": "code",
   "execution_count": 20,
   "metadata": {},
   "outputs": [],
   "source": [
    "x = np.linspace(-30.0, 30.0, 100)"
   ]
  },
  {
   "cell_type": "code",
   "execution_count": 90,
   "metadata": {},
   "outputs": [
    {
     "data": {
      "image/png": "[encoded data removed]",
      "text/plain": [
       "<matplotlib.figure.Figure at 0x7f7a0f640d30>"
      ]
     },
     "metadata": {},
     "output_type": "display_data"
    }
   ],
   "source": [
    "fig, ax = plt.subplots(figsize=figsize(0.9))\n",
    "plt.errorbar(df.sc*df.lumi_asym,\n",
    "             df.sc*df.md_asym,\n",
    "             xerr=df.lumi_asym_err,\n",
    "             yerr=df.md_asym_err,\n",
    "             ls='None',\n",
    "             marker='d',\n",
    "             capsize=2.0,\n",
    "             capthick=1.0,\n",
    "             barsabove=True,\n",
    "             color=sns.xkcd_rgb['dull blue'])\n",
    "plt.plot(x, \n",
    "         line(output.beta, x), \n",
    "         ls='-', \n",
    "         color=sns.xkcd_rgb['dull red'],\n",
    "         label='Correlation', zorder=-1)\n",
    "ax.xaxis.set_minor_locator(AutoMinorLocator(4))\n",
    "ax.yaxis.set_minor_locator(AutoMinorLocator(4))\n",
    "ax.set_xlim(-30, 30)\n",
    "ax.set_ylim(0.0, 3.0)\n",
    "ax.set_xlabel('US Lumi Asymmetry [ppm]')\n",
    "ax.set_ylabel('Main Detector Asymmetry [ppm]')\n",
    "ax.legend(loc='upper left')\n",
    "plt.savefig('plots/al_md_lumi_correlation.pdf', bbox_inches='tight')\n",
    "plt.savefig('plots/al_md_lumi_correlation.png', bbox_inches='tight')\n",
    "plt.savefig('plots/al_md_lumi_correlation.pgf', bbox_inches='tight')\n",
    "plt.show()"
   ]
  },
  {
   "cell_type": "code",
   "execution_count": null,
   "metadata": {},
   "outputs": [],
   "source": []
  }
 ],
 "metadata": {
  "kernelspec": {
   "display_name": "Python 3",
   "language": "python",
   "name": "python3"
  },
  "language_info": {
   "codemirror_mode": {
    "name": "ipython",
    "version": 3
   },
   "file_extension": ".py",
   "mimetype": "text/x-python",
   "name": "python",
   "nbconvert_exporter": "python",
   "pygments_lexer": "ipython3",
   "version": "3.6.5"
  }
 },
 "nbformat": 4,
 "nbformat_minor": 2
}
