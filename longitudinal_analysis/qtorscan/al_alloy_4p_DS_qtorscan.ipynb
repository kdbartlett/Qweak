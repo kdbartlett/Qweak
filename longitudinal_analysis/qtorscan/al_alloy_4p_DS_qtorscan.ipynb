{
 "cells": [
  {
   "cell_type": "code",
   "execution_count": 1,
   "metadata": {
    "collapsed": true
   },
   "outputs": [],
   "source": [
    "# See A&S ELOG 1581: https://qweak.jlab.org/elog/Analysis+%26+Simulation/1581\n",
    "# Also see Katherine's Tracking ELOG 48 https://qweak.jlab.org/elog/Tracking/48"
   ]
  },
  {
   "cell_type": "code",
   "execution_count": 2,
   "metadata": {
    "collapsed": true
   },
   "outputs": [],
   "source": [
    "import numpy as np\n",
    "#This following is so that this will work with Latex, see\n",
    "#http://bkanuka.com/articles/native-latex-plots/\n",
    "import matplotlib as mpl\n",
    "mpl.use('pgf')"
   ]
  },
  {
   "cell_type": "code",
   "execution_count": 3,
   "metadata": {
    "collapsed": false
   },
   "outputs": [],
   "source": [
    "def figsize(scale):                                 # I think scale is the size you want it on the page\n",
    "    fig_width_pt = 433.62001                        # Get this from LaTeX using \\the\\textwidth\n",
    "    inches_per_pt = 1.0/72.0                        # Convert pt to inch\n",
    "    golden_mean = (np.sqrt(5.0)-1.0)/2.0            # Aesthetic ratio (you could change this)\n",
    "    fig_width = fig_width_pt*inches_per_pt*scale    # width in inches\n",
    "    fig_height = fig_width*golden_mean              # height in inches\n",
    "    fig_size = [fig_width,fig_height]\n",
    "    return fig_size\n",
    "\n",
    "pgf_with_lualatex = {                      # Setup matplotlib to use latex for output\n",
    "    \"pgf.texsystem\": \"lualatex\",           # Change this if using xetex or luatex\n",
    "    \"text.usetex\": True,                   # Use LaTeX to write all text\n",
    "    #Fonts\n",
    "    \"font.family\": \"serif\",                # Get from the pdf font function on the doc\n",
    "    \"font.serif\": \"Computer Modern Roman\",      \n",
    "    \"font.sans-serif\": \"Computer Modern Sans serif\",\n",
    "    \"font.monospace\": [], # Blank entries should cause plots to inherit fonts from the document\n",
    "    #Text size\n",
    "    \"font.size\": 11,# Document default is 11pt font.\n",
    "    #\"text.fontsize\": 11,\n",
    "    \"axes.labelsize\": 11,\n",
    "    \"legend.fontsize\": 8,               # Make the legend/label fonts a little smaller\n",
    "    \"xtick.labelsize\": 8,\n",
    "    \"ytick.labelsize\": 8,\n",
    "    ##Axis\n",
    "    #\"axes.labelpad\": 2,     # space between label and axis \n",
    "    \"figure.figsize\": figsize(1.0),     # default fig size of 1.0 textwidth\n",
    "    #Packages\n",
    "    \"pgf.preamble\": [\n",
    "        r\"\\usepackage[utf8x]{inputenc}\",    # use utf8 fonts becasue your computer can handle it :)\n",
    "        r\"\\usepackage[T1]{fontenc}\",        # plots will be generated using this preamble\n",
    "        r\"\\usepackage{amsmath}\",  #need to add math or the ^ won't work\n",
    "        r\"\\usepackage{amssymb}\"]\n",
    "    }\n",
    "\n",
    "mpl.rcParams.update(pgf_with_lualatex)"
   ]
  },
  {
   "cell_type": "code",
   "execution_count": 4,
   "metadata": {
    "collapsed": false
   },
   "outputs": [
    {
     "name": "stderr",
     "output_type": "stream",
     "text": [
      ":0: FutureWarning: IPython widgets are experimental and may change in the future.\n"
     ]
    }
   ],
   "source": [
    "import pandas as pd\n",
    "import matplotlib.pyplot as pp\n",
    "import seaborn as sns"
   ]
  },
  {
   "cell_type": "code",
   "execution_count": 5,
   "metadata": {
    "collapsed": true
   },
   "outputs": [],
   "source": [
    "%matplotlib inline\n",
    "pp.style.use('seaborn-ticks')\n",
    "sns.set_palette(\"muted\")"
   ]
  },
  {
   "cell_type": "code",
   "execution_count": 49,
   "metadata": {
    "collapsed": false
   },
   "outputs": [],
   "source": [
    "# Average of MD rates without MD 2\n",
    "data = pd.read_csv('data/al_4p_ds_run1_hybrid_qtorscan_rates.csv')\n",
    "# MD rates\n",
    "md_data = pd.read_csv('data/al_4p_ds_run1_hybrid_qtorscan_rates_md.csv')\n",
    "# MD scalar rates (old)\n",
    "#scalar_header=['md1', 'md1_err', 'md2', 'md2_err', 'md3', 'md3_err', 'md4', 'md4_err', 'md5', 'md5_err', 'md6', 'md6_err', 'md7', 'md7_err', 'md8', 'md8_err']\n",
    "scalar_data = pd.read_csv('data/al_4p_ds_run1_scalar_qtorscan_rates_md.csv', )\n",
    "#scalar_data.to_csv('data/al_4p_ds_run1_scalar_qtorscan_rates_md.csv')"
   ]
  },
  {
   "cell_type": "code",
   "execution_count": 7,
   "metadata": {
    "collapsed": false
   },
   "outputs": [
    {
     "data": {
      "text/html": [
       "<div>\n",
       "<table border=\"1\" class=\"dataframe\">\n",
       "  <thead>\n",
       "    <tr style=\"text-align: right;\">\n",
       "      <th></th>\n",
       "      <th>qtor</th>\n",
       "      <th>rate</th>\n",
       "      <th>ss_err</th>\n",
       "      <th>model_err</th>\n",
       "      <th>bcm_err</th>\n",
       "      <th>total_err</th>\n",
       "    </tr>\n",
       "  </thead>\n",
       "  <tbody>\n",
       "    <tr>\n",
       "      <th>0</th>\n",
       "      <td>8653</td>\n",
       "      <td>1.4512</td>\n",
       "      <td>0.0025</td>\n",
       "      <td>0.0109</td>\n",
       "      <td>0.0218</td>\n",
       "      <td>0.0246</td>\n",
       "    </tr>\n",
       "    <tr>\n",
       "      <th>1</th>\n",
       "      <td>8700</td>\n",
       "      <td>1.5725</td>\n",
       "      <td>0.0029</td>\n",
       "      <td>0.0118</td>\n",
       "      <td>0.0236</td>\n",
       "      <td>0.0268</td>\n",
       "    </tr>\n",
       "    <tr>\n",
       "      <th>2</th>\n",
       "      <td>8743</td>\n",
       "      <td>1.6588</td>\n",
       "      <td>0.0033</td>\n",
       "      <td>0.0124</td>\n",
       "      <td>0.0249</td>\n",
       "      <td>0.0283</td>\n",
       "    </tr>\n",
       "    <tr>\n",
       "      <th>3</th>\n",
       "      <td>8832</td>\n",
       "      <td>1.7581</td>\n",
       "      <td>0.0037</td>\n",
       "      <td>0.0132</td>\n",
       "      <td>0.0264</td>\n",
       "      <td>0.0302</td>\n",
       "    </tr>\n",
       "    <tr>\n",
       "      <th>4</th>\n",
       "      <td>8899</td>\n",
       "      <td>1.7692</td>\n",
       "      <td>0.0037</td>\n",
       "      <td>0.0133</td>\n",
       "      <td>0.0265</td>\n",
       "      <td>0.0304</td>\n",
       "    </tr>\n",
       "  </tbody>\n",
       "</table>\n",
       "</div>"
      ],
      "text/plain": [
       "   qtor    rate  ss_err  model_err  bcm_err  total_err\n",
       "0  8653  1.4512  0.0025     0.0109   0.0218     0.0246\n",
       "1  8700  1.5725  0.0029     0.0118   0.0236     0.0268\n",
       "2  8743  1.6588  0.0033     0.0124   0.0249     0.0283\n",
       "3  8832  1.7581  0.0037     0.0132   0.0264     0.0302\n",
       "4  8899  1.7692  0.0037     0.0133   0.0265     0.0304"
      ]
     },
     "execution_count": 7,
     "metadata": {},
     "output_type": "execute_result"
    }
   ],
   "source": [
    "data.head()"
   ]
  },
  {
   "cell_type": "code",
   "execution_count": 8,
   "metadata": {
    "collapsed": false
   },
   "outputs": [
    {
     "data": {
      "text/html": [
       "<div>\n",
       "<table border=\"1\" class=\"dataframe\">\n",
       "  <thead>\n",
       "    <tr style=\"text-align: right;\">\n",
       "      <th></th>\n",
       "      <th>qtor</th>\n",
       "      <th>one</th>\n",
       "      <th>two</th>\n",
       "      <th>three</th>\n",
       "      <th>four</th>\n",
       "      <th>five</th>\n",
       "      <th>six</th>\n",
       "      <th>seven</th>\n",
       "      <th>eight</th>\n",
       "      <th>one_err</th>\n",
       "      <th>two_err</th>\n",
       "      <th>three_err</th>\n",
       "      <th>four_err</th>\n",
       "      <th>five_err</th>\n",
       "      <th>six_err</th>\n",
       "      <th>seven_err</th>\n",
       "      <th>eight_err</th>\n",
       "    </tr>\n",
       "  </thead>\n",
       "  <tbody>\n",
       "    <tr>\n",
       "      <th>0</th>\n",
       "      <td>8653</td>\n",
       "      <td>1.496153</td>\n",
       "      <td>1.460984</td>\n",
       "      <td>1.382779</td>\n",
       "      <td>1.354449</td>\n",
       "      <td>1.471395</td>\n",
       "      <td>1.416258</td>\n",
       "      <td>1.535829</td>\n",
       "      <td>1.501414</td>\n",
       "      <td>0.002583</td>\n",
       "      <td>0.002445</td>\n",
       "      <td>0.002470</td>\n",
       "      <td>0.002321</td>\n",
       "      <td>0.002546</td>\n",
       "      <td>0.002323</td>\n",
       "      <td>0.002731</td>\n",
       "      <td>0.002605</td>\n",
       "    </tr>\n",
       "    <tr>\n",
       "      <th>1</th>\n",
       "      <td>8700</td>\n",
       "      <td>1.626087</td>\n",
       "      <td>1.542752</td>\n",
       "      <td>1.472000</td>\n",
       "      <td>1.468352</td>\n",
       "      <td>1.602023</td>\n",
       "      <td>1.556683</td>\n",
       "      <td>1.664012</td>\n",
       "      <td>1.618055</td>\n",
       "      <td>0.003049</td>\n",
       "      <td>0.002732</td>\n",
       "      <td>0.002787</td>\n",
       "      <td>0.002734</td>\n",
       "      <td>0.003013</td>\n",
       "      <td>0.002802</td>\n",
       "      <td>0.003203</td>\n",
       "      <td>0.003025</td>\n",
       "    </tr>\n",
       "    <tr>\n",
       "      <th>2</th>\n",
       "      <td>8743</td>\n",
       "      <td>1.720887</td>\n",
       "      <td>1.597566</td>\n",
       "      <td>1.535449</td>\n",
       "      <td>1.554072</td>\n",
       "      <td>1.694164</td>\n",
       "      <td>1.657426</td>\n",
       "      <td>1.750499</td>\n",
       "      <td>1.699225</td>\n",
       "      <td>0.003420</td>\n",
       "      <td>0.002922</td>\n",
       "      <td>0.003032</td>\n",
       "      <td>0.003040</td>\n",
       "      <td>0.003356</td>\n",
       "      <td>0.003162</td>\n",
       "      <td>0.003534</td>\n",
       "      <td>0.003327</td>\n",
       "    </tr>\n",
       "    <tr>\n",
       "      <th>3</th>\n",
       "      <td>8832</td>\n",
       "      <td>1.831864</td>\n",
       "      <td>1.640932</td>\n",
       "      <td>1.600799</td>\n",
       "      <td>1.654792</td>\n",
       "      <td>1.804985</td>\n",
       "      <td>1.781865</td>\n",
       "      <td>1.846394</td>\n",
       "      <td>1.786346</td>\n",
       "      <td>0.003845</td>\n",
       "      <td>0.003077</td>\n",
       "      <td>0.003257</td>\n",
       "      <td>0.003426</td>\n",
       "      <td>0.003811</td>\n",
       "      <td>0.003655</td>\n",
       "      <td>0.003936</td>\n",
       "      <td>0.003667</td>\n",
       "    </tr>\n",
       "    <tr>\n",
       "      <th>4</th>\n",
       "      <td>8899</td>\n",
       "      <td>1.847324</td>\n",
       "      <td>1.631558</td>\n",
       "      <td>1.605230</td>\n",
       "      <td>1.671588</td>\n",
       "      <td>1.817320</td>\n",
       "      <td>1.801075</td>\n",
       "      <td>1.853194</td>\n",
       "      <td>1.788973</td>\n",
       "      <td>0.003922</td>\n",
       "      <td>0.003042</td>\n",
       "      <td>0.003292</td>\n",
       "      <td>0.003492</td>\n",
       "      <td>0.003860</td>\n",
       "      <td>0.003715</td>\n",
       "      <td>0.003962</td>\n",
       "      <td>0.003691</td>\n",
       "    </tr>\n",
       "  </tbody>\n",
       "</table>\n",
       "</div>"
      ],
      "text/plain": [
       "   qtor       one       two     three      four      five       six     seven  \\\n",
       "0  8653  1.496153  1.460984  1.382779  1.354449  1.471395  1.416258  1.535829   \n",
       "1  8700  1.626087  1.542752  1.472000  1.468352  1.602023  1.556683  1.664012   \n",
       "2  8743  1.720887  1.597566  1.535449  1.554072  1.694164  1.657426  1.750499   \n",
       "3  8832  1.831864  1.640932  1.600799  1.654792  1.804985  1.781865  1.846394   \n",
       "4  8899  1.847324  1.631558  1.605230  1.671588  1.817320  1.801075  1.853194   \n",
       "\n",
       "      eight   one_err   two_err  three_err  four_err  five_err   six_err  \\\n",
       "0  1.501414  0.002583  0.002445   0.002470  0.002321  0.002546  0.002323   \n",
       "1  1.618055  0.003049  0.002732   0.002787  0.002734  0.003013  0.002802   \n",
       "2  1.699225  0.003420  0.002922   0.003032  0.003040  0.003356  0.003162   \n",
       "3  1.786346  0.003845  0.003077   0.003257  0.003426  0.003811  0.003655   \n",
       "4  1.788973  0.003922  0.003042   0.003292  0.003492  0.003860  0.003715   \n",
       "\n",
       "   seven_err  eight_err  \n",
       "0   0.002731   0.002605  \n",
       "1   0.003203   0.003025  \n",
       "2   0.003534   0.003327  \n",
       "3   0.003936   0.003667  \n",
       "4   0.003962   0.003691  "
      ]
     },
     "execution_count": 8,
     "metadata": {},
     "output_type": "execute_result"
    }
   ],
   "source": [
    "md_data.head()"
   ]
  },
  {
   "cell_type": "code",
   "execution_count": 52,
   "metadata": {
    "collapsed": false
   },
   "outputs": [
    {
     "data": {
      "text/html": [
       "<div>\n",
       "<table border=\"1\" class=\"dataframe\">\n",
       "  <thead>\n",
       "    <tr style=\"text-align: right;\">\n",
       "      <th></th>\n",
       "      <th>qtor</th>\n",
       "      <th>md1</th>\n",
       "      <th>md1_err</th>\n",
       "      <th>md2</th>\n",
       "      <th>md2_err</th>\n",
       "      <th>md3</th>\n",
       "      <th>md3_err</th>\n",
       "      <th>md4</th>\n",
       "      <th>md4_err</th>\n",
       "      <th>md5</th>\n",
       "      <th>md5_err</th>\n",
       "      <th>md6</th>\n",
       "      <th>md6_err</th>\n",
       "      <th>md7</th>\n",
       "      <th>md7_err</th>\n",
       "      <th>md8</th>\n",
       "      <th>md8_err</th>\n",
       "      <th>avg</th>\n",
       "    </tr>\n",
       "  </thead>\n",
       "  <tbody>\n",
       "    <tr>\n",
       "      <th>0</th>\n",
       "      <td>8653</td>\n",
       "      <td>1.499794</td>\n",
       "      <td>0.008088</td>\n",
       "      <td>1.486819</td>\n",
       "      <td>0.011049</td>\n",
       "      <td>1.386148</td>\n",
       "      <td>0.027294</td>\n",
       "      <td>1.361868</td>\n",
       "      <td>0.021411</td>\n",
       "      <td>1.477712</td>\n",
       "      <td>0.011454</td>\n",
       "      <td>1.427341</td>\n",
       "      <td>0.008664</td>\n",
       "      <td>1.543257</td>\n",
       "      <td>0.010416</td>\n",
       "      <td>1.509221</td>\n",
       "      <td>0.008900</td>\n",
       "      <td>1.461520</td>\n",
       "    </tr>\n",
       "    <tr>\n",
       "      <th>1</th>\n",
       "      <td>8700</td>\n",
       "      <td>1.630124</td>\n",
       "      <td>0.009254</td>\n",
       "      <td>1.570733</td>\n",
       "      <td>0.012275</td>\n",
       "      <td>1.474839</td>\n",
       "      <td>0.027971</td>\n",
       "      <td>1.477749</td>\n",
       "      <td>0.022157</td>\n",
       "      <td>1.609514</td>\n",
       "      <td>0.012747</td>\n",
       "      <td>1.571045</td>\n",
       "      <td>0.010189</td>\n",
       "      <td>1.671630</td>\n",
       "      <td>0.011817</td>\n",
       "      <td>1.626622</td>\n",
       "      <td>0.010032</td>\n",
       "      <td>1.579032</td>\n",
       "    </tr>\n",
       "    <tr>\n",
       "      <th>2</th>\n",
       "      <td>8743</td>\n",
       "      <td>1.727153</td>\n",
       "      <td>0.010218</td>\n",
       "      <td>1.628345</td>\n",
       "      <td>0.013157</td>\n",
       "      <td>1.540965</td>\n",
       "      <td>0.028541</td>\n",
       "      <td>1.563430</td>\n",
       "      <td>0.023004</td>\n",
       "      <td>1.703341</td>\n",
       "      <td>0.013786</td>\n",
       "      <td>1.673046</td>\n",
       "      <td>0.011367</td>\n",
       "      <td>1.759916</td>\n",
       "      <td>0.012848</td>\n",
       "      <td>1.709468</td>\n",
       "      <td>0.010909</td>\n",
       "      <td>1.663208</td>\n",
       "    </tr>\n",
       "    <tr>\n",
       "      <th>3</th>\n",
       "      <td>8832</td>\n",
       "      <td>1.836387</td>\n",
       "      <td>0.011386</td>\n",
       "      <td>1.673605</td>\n",
       "      <td>0.013885</td>\n",
       "      <td>1.605553</td>\n",
       "      <td>0.029302</td>\n",
       "      <td>1.665867</td>\n",
       "      <td>0.023729</td>\n",
       "      <td>1.813522</td>\n",
       "      <td>0.015162</td>\n",
       "      <td>1.799456</td>\n",
       "      <td>0.012965</td>\n",
       "      <td>1.857162</td>\n",
       "      <td>0.014109</td>\n",
       "      <td>1.797276</td>\n",
       "      <td>0.011910</td>\n",
       "      <td>1.756104</td>\n",
       "    </tr>\n",
       "    <tr>\n",
       "      <th>4</th>\n",
       "      <td>8899</td>\n",
       "      <td>1.851188</td>\n",
       "      <td>0.011569</td>\n",
       "      <td>1.662969</td>\n",
       "      <td>0.013710</td>\n",
       "      <td>1.610789</td>\n",
       "      <td>0.029520</td>\n",
       "      <td>1.682836</td>\n",
       "      <td>0.023728</td>\n",
       "      <td>1.826579</td>\n",
       "      <td>0.015370</td>\n",
       "      <td>1.818483</td>\n",
       "      <td>0.013230</td>\n",
       "      <td>1.863473</td>\n",
       "      <td>0.014226</td>\n",
       "      <td>1.802017</td>\n",
       "      <td>0.011988</td>\n",
       "      <td>1.764792</td>\n",
       "    </tr>\n",
       "  </tbody>\n",
       "</table>\n",
       "</div>"
      ],
      "text/plain": [
       "   qtor       md1   md1_err       md2   md2_err       md3   md3_err       md4  \\\n",
       "0  8653  1.499794  0.008088  1.486819  0.011049  1.386148  0.027294  1.361868   \n",
       "1  8700  1.630124  0.009254  1.570733  0.012275  1.474839  0.027971  1.477749   \n",
       "2  8743  1.727153  0.010218  1.628345  0.013157  1.540965  0.028541  1.563430   \n",
       "3  8832  1.836387  0.011386  1.673605  0.013885  1.605553  0.029302  1.665867   \n",
       "4  8899  1.851188  0.011569  1.662969  0.013710  1.610789  0.029520  1.682836   \n",
       "\n",
       "    md4_err       md5   md5_err       md6   md6_err       md7   md7_err  \\\n",
       "0  0.021411  1.477712  0.011454  1.427341  0.008664  1.543257  0.010416   \n",
       "1  0.022157  1.609514  0.012747  1.571045  0.010189  1.671630  0.011817   \n",
       "2  0.023004  1.703341  0.013786  1.673046  0.011367  1.759916  0.012848   \n",
       "3  0.023729  1.813522  0.015162  1.799456  0.012965  1.857162  0.014109   \n",
       "4  0.023728  1.826579  0.015370  1.818483  0.013230  1.863473  0.014226   \n",
       "\n",
       "        md8   md8_err       avg  \n",
       "0  1.509221  0.008900  1.461520  \n",
       "1  1.626622  0.010032  1.579032  \n",
       "2  1.709468  0.010909  1.663208  \n",
       "3  1.797276  0.011910  1.756104  \n",
       "4  1.802017  0.011988  1.764792  "
      ]
     },
     "execution_count": 52,
     "metadata": {},
     "output_type": "execute_result"
    }
   ],
   "source": [
    "scalar_data.head()"
   ]
  },
  {
   "cell_type": "code",
   "execution_count": 51,
   "metadata": {
    "collapsed": true
   },
   "outputs": [],
   "source": [
    "#Calculate old scalar main detector average\n",
    "scalar_data['avg'] = (scalar_data.md1 + scalar_data.md2 + scalar_data.md3 + scalar_data.md4 + scalar_data.md5 + scalar_data.md6 + scalar_data.md7 + scalar_data.md8)/8.0"
   ]
  },
  {
   "cell_type": "code",
   "execution_count": 30,
   "metadata": {
    "collapsed": false
   },
   "outputs": [],
   "source": [
    "# Read in simulation averages\n",
    "qtor = [8653, 8700, 8743, 8832, 8899, 8921, 8943, 8967, 8988, 9000, 9010, 9032, 9054, 9200]\n",
    "header = ['rate', 'err', 'chi2', 'dof', 'rchi2']\n",
    "cols = [1, 2, 3, 4, 5]\n",
    "sim_DWelastic = pd.read_csv('data/Al_Alloy_4p_DS_DWelastic_run1_sim_avg.csv', usecols=cols, header=None, names=header)\n",
    "sim_DWelastic['qtor'] = qtor\n",
    "sim_DWelastic['serr'] = np.sqrt(sim_DWelastic.rchi2)*sim_DWelastic.err\n",
    "sim_DWelastic['merr'] = 0.0104*sim_DWelastic.rate\n",
    "sim_DWelastic['terr'] = np.sqrt(np.square(sim_DWelastic.serr) + np.square(sim_DWelastic.merr))\n",
    "\n",
    "sim_quasi = pd.read_csv('data/Al_Alloy_4p_DS_quasi_run1_sim_avg.csv', usecols=cols, header=None, names=header)\n",
    "sim_quasi['qtor'] = qtor\n",
    "sim_quasi['serr'] = np.sqrt(sim_quasi.rchi2)*sim_quasi.err\n",
    "sim_quasi['merr'] = 0.101*sim_quasi.rate\n",
    "sim_quasi['terr'] = np.sqrt(np.square(sim_quasi.serr) + np.square(sim_quasi.merr))\n",
    "\n",
    "sim_inelastic = pd.read_csv('data/Al_Alloy_4p_DS_inelastic_run1_sim_avg.csv', usecols=cols, header=None, names=header)\n",
    "sim_inelastic['qtor'] = qtor\n",
    "sim_inelastic['serr'] = np.sqrt(sim_inelastic.rchi2)*sim_inelastic.err\n",
    "sim_inelastic['merr'] = 0.101*sim_inelastic.rate\n",
    "sim_inelastic['terr'] = np.sqrt(np.square(sim_inelastic.serr) + np.square(sim_inelastic.merr))\n",
    "\n",
    "sim_GDR = pd.read_csv('data/Al_Alloy_4p_DS_GDR_run1_sim_avg.csv', usecols=cols, header=None, names=header)\n",
    "sim_GDR['qtor'] = qtor\n",
    "sim_GDR['serr'] = np.sqrt(sim_GDR.rchi2)*sim_GDR.err\n",
    "sim_GDR['merr'] = 0.50*sim_GDR.rate\n",
    "sim_GDR['terr'] = np.sqrt(np.square(sim_GDR.serr) + np.square(sim_GDR.merr))\n",
    "\n",
    "sim_DWZn = pd.read_csv('data/Al_Alloy_4p_DS_DWZn_run1_sim_avg.csv', usecols=cols, header=None, names=header)\n",
    "sim_DWZn['qtor'] = qtor\n",
    "sim_DWZn['serr'] = np.sqrt(sim_DWZn.rchi2)*sim_DWZn.err\n",
    "sim_DWZn['merr'] = 0.10*sim_DWZn.rate\n",
    "sim_DWZn['terr'] = np.sqrt(np.square(sim_DWZn.serr) + np.square(sim_DWZn.merr))\n",
    "\n",
    "sim_DWMg = pd.read_csv('data/Al_Alloy_4p_DS_DWMg_run1_sim_avg.csv', usecols=cols, header=None, names=header)\n",
    "sim_DWMg['qtor'] = qtor\n",
    "sim_DWMg['serr'] = np.sqrt(sim_DWMg.rchi2)*sim_DWMg.err\n",
    "sim_DWMg['merr'] = 0.10*sim_DWMg.rate\n",
    "sim_DWMg['terr'] = np.sqrt(np.square(sim_DWMg.serr) + np.square(sim_DWMg.merr))\n",
    "\n",
    "sim_DWCu = pd.read_csv('data/Al_Alloy_4p_DS_DWCu_run1_sim_avg.csv', usecols=cols, header=None, names=header)\n",
    "sim_DWCu['qtor'] = qtor\n",
    "sim_DWCu['serr'] = np.sqrt(sim_DWCu.rchi2)*sim_DWCu.err\n",
    "sim_DWCu['merr'] = 0.10*sim_DWCu.rate\n",
    "sim_DWCu['terr'] = np.sqrt(np.square(sim_DWCu.serr) + np.square(sim_DWCu.merr))\n",
    "\n",
    "sim_DWCr = pd.read_csv('data/Al_Alloy_4p_DS_DWCr_run1_sim_avg.csv', usecols=cols, header=None, names=header)\n",
    "sim_DWCr['qtor'] = qtor\n",
    "sim_DWCr['serr'] = np.sqrt(sim_DWCr.rchi2)*sim_DWCr.err\n",
    "sim_DWCr['merr'] = 0.10*sim_DWCr.rate\n",
    "sim_DWCr['terr'] = np.sqrt(np.square(sim_DWCr.serr) + np.square(sim_DWCr.merr))\n",
    "\n",
    "sim_DWFe = pd.read_csv('data/Al_Alloy_4p_DS_DWFe_run1_sim_avg.csv', usecols=cols, header=None, names=header)\n",
    "sim_DWFe['qtor'] = qtor\n",
    "sim_DWFe['serr'] = np.sqrt(sim_DWFe.rchi2)*sim_DWFe.err\n",
    "sim_DWFe['merr'] = 0.10*sim_DWFe.rate\n",
    "sim_DWFe['terr'] = np.sqrt(np.square(sim_DWFe.serr) + np.square(sim_DWFe.merr))\n",
    "\n",
    "sim_DWSi = pd.read_csv('data/Al_Alloy_4p_DS_DWSi_run1_sim_avg.csv', usecols=cols, header=None, names=header)\n",
    "sim_DWSi['qtor'] = qtor\n",
    "sim_DWSi['serr'] = np.sqrt(sim_DWSi.rchi2)*sim_DWSi.err\n",
    "sim_DWSi['merr'] = 0.10*sim_DWSi.rate\n",
    "sim_DWSi['terr'] = np.sqrt(np.square(sim_DWSi.serr) + np.square(sim_DWSi.merr))\n",
    "\n",
    "sim_Mn = pd.read_csv('data/Al_Alloy_4p_DS_Mn_run1_sim_avg.csv', usecols=cols, header=None, names=header)\n",
    "sim_Mn['qtor'] = qtor\n",
    "sim_Mn['serr'] = np.sqrt(sim_Mn.rchi2)*sim_Mn.err\n",
    "sim_Mn['merr'] = 0.50*sim_Mn.rate\n",
    "sim_Mn['terr'] = np.sqrt(np.square(sim_Mn.serr) + np.square(sim_Mn.merr))\n",
    "\n",
    "sim_Ti = pd.read_csv('data/Al_Alloy_4p_DS_Ti_run1_sim_avg.csv', usecols=cols, header=None, names=header)\n",
    "sim_Ti['qtor'] = qtor\n",
    "sim_Ti['serr'] = np.sqrt(sim_Ti.rchi2)*sim_Ti.err\n",
    "sim_Ti['merr'] = 0.50*sim_Ti.rate\n",
    "sim_Ti['terr'] = np.sqrt(np.square(sim_Ti.serr) + np.square(sim_Ti.merr))\n",
    "\n",
    "sim_0844keV = pd.read_csv('data/Al_Alloy_4p_DS_0844keV_run1_sim_avg.csv', usecols=cols, header=None, names=header)\n",
    "sim_0844keV['qtor'] = qtor\n",
    "sim_0844keV['serr'] = np.sqrt(sim_0844keV.rchi2)*sim_0844keV.err\n",
    "sim_0844keV['merr'] = 0.134*sim_0844keV.rate\n",
    "sim_0844keV['terr'] = np.sqrt(np.square(sim_0844keV.serr) + np.square(sim_0844keV.merr))\n",
    "\n",
    "sim_1014keV = pd.read_csv('data/Al_Alloy_4p_DS_1014keV_run1_sim_avg.csv', usecols=cols, header=None, names=header)\n",
    "sim_1014keV['qtor'] = qtor\n",
    "sim_1014keV['serr'] = np.sqrt(sim_1014keV.rchi2)*sim_1014keV.err\n",
    "sim_1014keV['merr'] = 0.2073*sim_1014keV.rate\n",
    "sim_1014keV['terr'] = np.sqrt(np.square(sim_1014keV.serr) + np.square(sim_1014keV.merr))\n",
    "\n",
    "sim_2211keV = pd.read_csv('data/Al_Alloy_4p_DS_2211keV_run1_sim_avg.csv', usecols=cols, header=None, names=header)\n",
    "sim_2211keV['qtor'] = qtor\n",
    "sim_2211keV['serr'] = np.sqrt(sim_2211keV.rchi2)*sim_2211keV.err\n",
    "sim_2211keV['merr'] = 0.1078*sim_2211keV.rate\n",
    "sim_2211keV['terr'] = np.sqrt(np.square(sim_2211keV.serr) + np.square(sim_2211keV.merr))\n",
    "\n",
    "sim_2735keV = pd.read_csv('data/Al_Alloy_4p_DS_2735keV_run1_sim_avg.csv', usecols=cols, header=None, names=header)\n",
    "sim_2735keV['qtor'] = qtor\n",
    "sim_2735keV['serr'] = np.sqrt(sim_2735keV.rchi2)*sim_2735keV.err\n",
    "sim_2735keV['merr'] = 0.0752*sim_2735keV.rate\n",
    "sim_2735keV['terr'] = np.sqrt(np.square(sim_2735keV.serr) + np.square(sim_2735keV.merr))\n",
    "\n",
    "sim_2990keV = pd.read_csv('data/Al_Alloy_4p_DS_2990keV_run1_sim_avg.csv', usecols=cols, header=None, names=header)\n",
    "sim_2990keV['qtor'] = qtor\n",
    "sim_2990keV['serr'] = np.sqrt(sim_2990keV.rchi2)*sim_2990keV.err\n",
    "sim_2990keV['merr'] = 0.0593*sim_2990keV.rate\n",
    "sim_2990keV['terr'] = np.sqrt(np.square(sim_2990keV.serr) + np.square(sim_2990keV.merr))\n",
    "\n",
    "sim_4580keV = pd.read_csv('data/Al_Alloy_4p_DS_4580keV_run1_sim_avg.csv', usecols=cols, header=None, names=header)\n",
    "sim_4580keV['qtor'] = qtor\n",
    "sim_4580keV['serr'] = np.sqrt(sim_4580keV.rchi2)*sim_4580keV.err\n",
    "sim_4580keV['merr'] = 0.1029*sim_4580keV.rate\n",
    "sim_4580keV['terr'] = np.sqrt(np.square(sim_4580keV.serr) + np.square(sim_4580keV.merr))\n",
    "\n",
    "sim_4812keV = pd.read_csv('data/Al_Alloy_4p_DS_4812keV_run1_sim_avg.csv', usecols=cols, header=None, names=header)\n",
    "sim_4812keV['qtor'] = qtor\n",
    "sim_4812keV['serr'] = np.sqrt(sim_4812keV.rchi2)*sim_4812keV.err\n",
    "sim_4812keV['merr'] = 0.1489*sim_4812keV.rate\n",
    "sim_4812keV['terr'] = np.sqrt(np.square(sim_4812keV.serr) + np.square(sim_4812keV.merr))\n",
    "\n",
    "sim_5430keV = pd.read_csv('data/Al_Alloy_4p_DS_5430keV_run1_sim_avg.csv', usecols=cols, header=None, names=header)\n",
    "sim_5430keV['qtor'] = qtor\n",
    "sim_5430keV['serr'] = np.sqrt(sim_5430keV.rchi2)*sim_5430keV.err\n",
    "sim_5430keV['merr'] = 0.1511*sim_5430keV.rate\n",
    "sim_5430keV['terr'] = np.sqrt(np.square(sim_5430keV.serr) + np.square(sim_5430keV.merr))\n",
    "\n",
    "sim_5668keV = pd.read_csv('data/Al_Alloy_4p_DS_5668keV_run1_sim_avg.csv', usecols=cols, header=None, names=header)\n",
    "sim_5668keV['qtor'] = qtor\n",
    "sim_5668keV['serr'] = np.sqrt(sim_5668keV.rchi2)*sim_5668keV.err\n",
    "sim_5668keV['merr'] = 0.1457*sim_5668keV.rate\n",
    "sim_5668keV['terr'] = np.sqrt(np.square(sim_5668keV.serr) + np.square(sim_5668keV.merr))\n",
    "\n",
    "sim_7228keV = pd.read_csv('data/Al_Alloy_4p_DS_7228keV_run1_sim_avg.csv', usecols=cols, header=None, names=header)\n",
    "sim_7228keV['qtor'] = qtor\n",
    "sim_7228keV['serr'] = np.sqrt(sim_7228keV.rchi2)*sim_7228keV.err\n",
    "sim_7228keV['merr'] = 0.2728*sim_7228keV.rate\n",
    "sim_7228keV['terr'] = np.sqrt(np.square(sim_7228keV.serr) + np.square(sim_7228keV.merr))\n",
    "\n",
    "sim_7477keV = pd.read_csv('data/Al_Alloy_4p_DS_7477keV_run1_sim_avg.csv', usecols=cols, header=None, names=header)\n",
    "sim_7477keV['qtor'] = qtor\n",
    "sim_7477keV['serr'] = np.sqrt(sim_7477keV.rchi2)*sim_7477keV.err\n",
    "sim_7477keV['merr'] = 0.4262*sim_7477keV.rate\n",
    "sim_7477keV['terr'] = np.sqrt(np.square(sim_7477keV.serr) + np.square(sim_7477keV.merr))\n",
    "\n",
    "sim_pions = pd.read_csv('data/Al_Alloy_4p_DS_pions_run1_sim_avg.csv', usecols=cols, header=None, names=header)\n",
    "sim_pions['qtor'] = qtor\n",
    "sim_pions['serr'] = np.sqrt(sim_pions.rchi2)*sim_pions.err\n",
    "sim_pions['merr'] = 1.0*sim_pions.rate\n",
    "sim_pions['terr'] = np.sqrt(np.square(sim_pions.serr) + np.square(sim_pions.merr))\n",
    "\n",
    "sim_total = pd.DataFrame()\n",
    "sim_total['qtor'] = qtor\n",
    "sim_total['rate'] = (sim_DWelastic.rate + \n",
    "                     sim_quasi.rate + \n",
    "                     sim_inelastic.rate +\n",
    "                     sim_GDR.rate +\n",
    "                     sim_DWZn.rate + \n",
    "                     sim_DWMg.rate +\n",
    "                     sim_DWCu.rate + \n",
    "                     sim_DWCr.rate + \n",
    "                     sim_DWFe.rate + \n",
    "                     sim_DWSi.rate + \n",
    "                     sim_Mn.rate + \n",
    "                     sim_Ti.rate + \n",
    "                     sim_0844keV.rate + \n",
    "                     sim_1014keV.rate + \n",
    "                     sim_2211keV.rate + \n",
    "                     sim_2735keV.rate + \n",
    "                     sim_2990keV.rate + \n",
    "                     sim_4580keV.rate + \n",
    "                     sim_4812keV.rate + \n",
    "                     sim_5430keV.rate + \n",
    "                     sim_5668keV.rate + \n",
    "                     sim_7228keV.rate + \n",
    "                     sim_7477keV.rate + \n",
    "                     sim_pions.rate)\n",
    "sim_total['terr'] = np.sqrt(np.square(sim_DWelastic.terr) +\n",
    "                            np.square(sim_quasi.terr) + \n",
    "                            np.square(sim_inelastic.terr) + \n",
    "                            np.square(sim_GDR.terr) +\n",
    "                            np.square(sim_DWZn.terr) + \n",
    "                            np.square(sim_DWMg.terr) + \n",
    "                            np.square(sim_DWCu.terr) + \n",
    "                            np.square(sim_DWCr.terr) + \n",
    "                            np.square(sim_DWFe.terr) + \n",
    "                            np.square(sim_DWSi.terr) + \n",
    "                            np.square(sim_Mn.terr) + \n",
    "                            np.square(sim_Ti.terr) + \n",
    "                            np.square(sim_0844keV.terr) + \n",
    "                            np.square(sim_1014keV.terr) + \n",
    "                            np.square(sim_2211keV.terr) + \n",
    "                            np.square(sim_2735keV.terr) + \n",
    "                            np.square(sim_2990keV.terr) + \n",
    "                            np.square(sim_4580keV.terr) + \n",
    "                            np.square(sim_4812keV.terr) + \n",
    "                            np.square(sim_5430keV.terr) + \n",
    "                            np.square(sim_5668keV.terr) + \n",
    "                            np.square(sim_7228keV.terr) + \n",
    "                            np.square(sim_7477keV.terr) + \n",
    "                            np.square(sim_pions.terr))"
   ]
  },
  {
   "cell_type": "code",
   "execution_count": 31,
   "metadata": {
    "collapsed": false
   },
   "outputs": [],
   "source": [
    "pdiff = 100.0*(np.array(data[data.index != 6].rate) - np.array(sim_total.rate))/np.array(data[data.index != 6].rate)"
   ]
  },
  {
   "cell_type": "code",
   "execution_count": 32,
   "metadata": {
    "collapsed": false
   },
   "outputs": [
    {
     "data": {
      "text/plain": [
       "array([ 20.79354327,  16.26091701,  12.89142694,   7.80589784,\n",
       "         5.43155551,   4.74490707,   5.07380712,   4.87567195,\n",
       "         4.69506859,   4.82149507,   4.40570212,   4.08389216,\n",
       "         3.7033343 ,   3.72550643])"
      ]
     },
     "execution_count": 32,
     "metadata": {},
     "output_type": "execute_result"
    }
   ],
   "source": [
    "pdiff"
   ]
  },
  {
   "cell_type": "code",
   "execution_count": null,
   "metadata": {
    "collapsed": true
   },
   "outputs": [],
   "source": []
  },
  {
   "cell_type": "code",
   "execution_count": 39,
   "metadata": {
    "collapsed": false
   },
   "outputs": [
    {
     "data": {
      "image/png": "[encoded data removed]",
      "text/plain": [
       "<matplotlib.figure.Figure at 0x7f25313029b0>"
      ]
     },
     "metadata": {},
     "output_type": "display_data"
    }
   ],
   "source": [
    "pp.figure(figsize=figsize(1))\n",
    "pp.errorbar(sim_total.qtor, sim_total.rate, yerr=sim_total.terr, ls='None', marker='s', label='Total')\n",
    "pp.errorbar(sim_DWelastic.qtor, sim_DWelastic.rate, yerr=sim_DWelastic.terr, ls='None', marker='d', label='Elastic')\n",
    "pp.errorbar(sim_quasi.qtor, sim_quasi.rate, yerr=sim_quasi.serr, ls='None', marker='o', label='Quasi')\n",
    "pp.errorbar(sim_inelastic.qtor, sim_inelastic.rate, yerr=sim_inelastic.terr, ls='None', marker='p', label='N$\\\\rightarrow \\Delta$')\n",
    "pp.errorbar(sim_GDR.qtor, sim_GDR.rate, yerr=sim_GDR.terr, ls='None', marker='D', label='GDR')\n",
    "pp.errorbar(sim_DWZn.qtor, sim_DWZn.rate, yerr=sim_DWZn.terr, ls='None', marker='v', label='Zn')\n",
    "pp.errorbar(sim_DWMg.qtor, sim_DWMg.rate, yerr=sim_DWMg.terr, ls='None', marker='<', label='Mg')\n",
    "pp.errorbar(sim_DWCu.qtor, sim_DWCu.rate, yerr=sim_DWCu.terr, ls='None', marker='>', label='Cu')\n",
    "pp.errorbar(sim_DWCr.qtor, sim_DWCr.rate, yerr=sim_DWCr.terr, ls='None', marker='^', label='Cr')\n",
    "pp.errorbar(sim_DWFe.qtor, sim_DWFe.rate, yerr=sim_DWFe.terr, ls='None', marker='*', label='Fe')\n",
    "pp.errorbar(sim_DWSi.qtor, sim_DWSi.rate, yerr=sim_DWSi.terr, ls='None', marker='s', label='Si')\n",
    "pp.errorbar(sim_Mn.qtor, sim_Mn.rate, yerr=sim_Mn.terr, ls='None', marker='d', label='Mn')\n",
    "pp.errorbar(sim_Ti.qtor, sim_Ti.rate, yerr=sim_Ti.terr, ls='None', marker='o', label='Ti')\n",
    "pp.errorbar(sim_0844keV.qtor, sim_0844keV.rate, yerr=sim_0844keV.terr, ls='None', marker='p', label='0.844 MeV')\n",
    "pp.errorbar(sim_1014keV.qtor, sim_1014keV.rate, yerr=sim_1014keV.terr, ls='None', marker='D', label='1.014 MeV')\n",
    "pp.errorbar(sim_2211keV.qtor, sim_2211keV.rate, yerr=sim_2211keV.terr, ls='None', marker='v', label='2.211 MeV')\n",
    "pp.errorbar(sim_2735keV.qtor, sim_2735keV.rate, yerr=sim_2735keV.terr, ls='None', marker='<', label='2.735 MeV')\n",
    "pp.errorbar(sim_2990keV.qtor, sim_2990keV.rate, yerr=sim_2990keV.terr, ls='None', marker='>', label='2.990 MeV')\n",
    "pp.errorbar(sim_4580keV.qtor, sim_4580keV.rate, yerr=sim_4580keV.terr, ls='None', marker='^', label='4.580 MeV')\n",
    "pp.errorbar(sim_4812keV.qtor, sim_4812keV.rate, yerr=sim_4812keV.terr, ls='None', marker='*', label='4.812 MeV')\n",
    "pp.errorbar(sim_5430keV.qtor, sim_5430keV.rate, yerr=sim_5430keV.terr, ls='None', marker='s', label='5.430 MeV')\n",
    "pp.errorbar(sim_5668keV.qtor, sim_5668keV.rate, yerr=sim_5668keV.terr, ls='None', marker='d', label='5.668 MeV')\n",
    "pp.errorbar(sim_7228keV.qtor, sim_7228keV.rate, yerr=sim_7228keV.terr, ls='None', marker='o', label='7.228 MeV')\n",
    "pp.errorbar(sim_7477keV.qtor, sim_7477keV.rate, yerr=sim_7477keV.terr, ls='None', marker='p', label='7.477 MeV')\n",
    "pp.errorbar(sim_pions.qtor, sim_pions.rate, yerr=sim_pions.terr, ls='None', marker='D', label='Pions')\n",
    "pp.xlabel('QTor Current [A]')\n",
    "pp.xlim(8600, 9300)\n",
    "pp.ylim(0.0, 2.0)\n",
    "pp.ylabel('Rate [MHz/$\\mu$A]')\n",
    "#pp.yscale('log')\n",
    "pp.legend(loc='upper right', bbox_to_anchor=(1.5, 1.0), ncol=2)\n",
    "pp.tick_params(top=False)\n",
    "pp.savefig('plots/al_alloy_4p_DS_qtorscan_sim_processes.png', bbox_inches='tight')\n",
    "pp.savefig('plots/al_alloy_4p_DS_qtorscan_sim_processes.pdf', bbox_inches='tight')\n",
    "pp.savefig('plots/al_alloy_4p_DS_qtorscan_sim_processes.pgf', bbox_inches='tight')\n",
    "pp.show()"
   ]
  },
  {
   "cell_type": "code",
   "execution_count": 53,
   "metadata": {
    "collapsed": false
   },
   "outputs": [
    {
     "data": {
      "image/png": "[encoded data removed]",
      "text/plain": [
       "<matplotlib.figure.Figure at 0x7f25310176d8>"
      ]
     },
     "metadata": {},
     "output_type": "display_data"
    }
   ],
   "source": [
    "# Absolute Rates\n",
    "pp.figure(figsize=figsize(1))\n",
    "pp.errorbar(data.qtor, data.rate, yerr=data.total_err, ls='None', marker='o', color=sns.xkcd_rgb['denim blue'], label='Data')\n",
    "pp.plot(scalar_data.qtor, scalar_data.avg, ls='None', marker='o', color=sns.xkcd_rgb['medium green'], label='Old\\nScalar')\n",
    "pp.errorbar(sim_total.qtor, sim_total.rate, yerr=sim_total.terr, ls='None', marker='s',color=sns.xkcd_rgb['pale red'], label='Sim.')\n",
    "pp.xlabel('QTor Current [A]')\n",
    "pp.xlim(8600, 9300)\n",
    "pp.ylabel('Rate [MHz/$\\mu$A]')\n",
    "pp.legend(loc='lower right')\n",
    "pp.tick_params(top=False)\n",
    "pp.savefig('plots/al_alloy_4p_DS_qtorscan_rates.png', bbox_inches='tight')\n",
    "pp.savefig('plots/al_alloy_4p_DS_qtorscan_rates.pdf', bbox_inches='tight')\n",
    "pp.savefig('plots/al_alloy_4p_DS_qtorscan_rates.pgf', bbox_inches='tight')\n",
    "pp.show()"
   ]
  },
  {
   "cell_type": "code",
   "execution_count": 23,
   "metadata": {
    "collapsed": false
   },
   "outputs": [
    {
     "data": {
      "image/png": "[encoded data removed]",
      "text/plain": [
       "<matplotlib.figure.Figure at 0x7f2531a2b0b8>"
      ]
     },
     "metadata": {},
     "output_type": "display_data"
    }
   ],
   "source": [
    "# Absolute Normalized Residuals\n",
    "pp.figure(figsize=figsize(1))\n",
    "pp.plot(np.array(sim_total.qtor), pdiff, ls='None', marker='d', color=sns.xkcd_rgb['medium green'])\n",
    "pp.xlabel('QTor Current [A]')\n",
    "pp.xlim(8600, 9300)\n",
    "pp.ylim(0.0, 30.0)\n",
    "pp.ylabel('$\\\\frac{Data - Sim.}{Data}$ [\\%]')\n",
    "pp.tick_params(top=False)\n",
    "pp.savefig('plots/al_alloy_4p_DS_qtorscan_pdiff.png', bbox_inches='tight')\n",
    "pp.savefig('plots/al_alloy_4p_DS_qtorscan_pdiff.pdf', bbox_inches='tight')\n",
    "pp.savefig('plots/al_alloy_4p_DS_qtorscan_pdiff.pgf', bbox_inches='tight')\n",
    "pp.show()"
   ]
  },
  {
   "cell_type": "code",
   "execution_count": 12,
   "metadata": {
    "collapsed": false
   },
   "outputs": [
    {
     "name": "stdout",
     "output_type": "stream",
     "text": [
      "1.76285\n"
     ]
    }
   ],
   "source": [
    "data_8921_avg_rate = np.average(data[data.qtor == 8921].rate)\n",
    "print(data_8921_avg_rate)"
   ]
  },
  {
   "cell_type": "code",
   "execution_count": 13,
   "metadata": {
    "collapsed": false
   },
   "outputs": [
    {
     "name": "stdout",
     "output_type": "stream",
     "text": [
      "[ 1.04865265  1.04865265  1.04865265  1.04865265  1.04865265  1.04865265\n",
      "  1.04865265  1.04865265  1.04865265  1.04865265  1.04865265  1.04865265\n",
      "  1.04865265  1.04865265]\n"
     ]
    }
   ],
   "source": [
    "sfactor = np.ones(len(sim_total.rate))*(data_8921_avg_rate/sim_total.loc[5].rate)\n",
    "print(sfactor)"
   ]
  },
  {
   "cell_type": "code",
   "execution_count": 14,
   "metadata": {
    "collapsed": false
   },
   "outputs": [],
   "source": [
    "spdiff = 100.0*(np.array(data[data.index != 6].rate) - np.array(sim_total.rate*sfactor))/np.array(data[data.index != 6].rate)"
   ]
  },
  {
   "cell_type": "code",
   "execution_count": 18,
   "metadata": {
    "collapsed": false
   },
   "outputs": [
    {
     "data": {
      "image/png": "[encoded data removed]",
      "text/plain": [
       "<matplotlib.figure.Figure at 0x7f591e2abf28>"
      ]
     },
     "metadata": {},
     "output_type": "display_data"
    }
   ],
   "source": [
    "# Simulation Scaled to Data Rates\n",
    "pp.figure(figsize=figsize(1))\n",
    "pp.errorbar(data.qtor, data.rate, yerr=data.total_err, ls='None', marker='o', color=sns.xkcd_rgb['denim blue'], label='Data')\n",
    "pp.errorbar(sim_total.qtor, sim_total.rate*sfactor, yerr=sim_total.terr*sfactor, ls='None', marker='s',color=sns.xkcd_rgb['pale red'], label='Sim.\\nScaled')\n",
    "pp.xlabel('QTor Current [A]')\n",
    "pp.xlim(8600, 9300)\n",
    "pp.ylabel('Sim. Scaled Rate [MHz/$\\mu$A]')\n",
    "pp.legend(loc='lower right')\n",
    "pp.tick_params(top=False)\n",
    "pp.savefig('plots/al_alloy_4p_DS_qtorscan_scaled_rates.png', bbox_inches='tight')\n",
    "pp.savefig('plots/al_alloy_4p_DS_qtorscan_scaled_rates.pdf', bbox_inches='tight')\n",
    "pp.savefig('plots/al_alloy_4p_DS_qtorscan_scaled_rates.pgf', bbox_inches='tight')\n",
    "pp.show()"
   ]
  },
  {
   "cell_type": "code",
   "execution_count": 19,
   "metadata": {
    "collapsed": false
   },
   "outputs": [
    {
     "data": {
      "image/png": "[encoded data removed]",
      "text/plain": [
       "<matplotlib.figure.Figure at 0x7f591e914828>"
      ]
     },
     "metadata": {},
     "output_type": "display_data"
    }
   ],
   "source": [
    "# Scaled Normalized Residuals\n",
    "pp.figure(figsize=figsize(1))\n",
    "pp.plot(np.array(sim_total.qtor), spdiff, ls='None', marker='d', color=sns.xkcd_rgb['medium green'])\n",
    "pp.xlabel('QTor Current [A]')\n",
    "pp.xlim(8600, 9300)\n",
    "pp.ylabel('$\\\\frac{Data - Sim. Scaled}{Data}$ [\\%]')\n",
    "pp.tick_params(top=False)\n",
    "pp.savefig('plots/al_alloy_4p_DS_qtorscan_scaled_pdiff.png', bbox_inches='tight')\n",
    "pp.savefig('plots/al_alloy_4p_DS_qtorscan_scaled_pdiff.pdf', bbox_inches='tight')\n",
    "pp.savefig('plots/al_alloy_4p_DS_qtorscan_scaled_pdiff.pgf', bbox_inches='tight')\n",
    "pp.show()"
   ]
  },
  {
   "cell_type": "code",
   "execution_count": 20,
   "metadata": {
    "collapsed": false
   },
   "outputs": [
    {
     "data": {
      "image/png": "[encoded data removed]",
      "text/plain": [
       "<matplotlib.figure.Figure at 0x7f591d80f748>"
      ]
     },
     "metadata": {},
     "output_type": "display_data"
    }
   ],
   "source": [
    "pp.figure(figsize=figsize(1))\n",
    "pp.errorbar(data.qtor, \n",
    "            data.rate, \n",
    "            yerr=data.total_err, ls='None', marker='s', label='AVG', color=sns.xkcd_rgb['steel grey'])\n",
    "pp.errorbar(md_data.qtor, \n",
    "            md_data.one, \n",
    "            yerr=md_data.one_err, \n",
    "            ls='None', \n",
    "            marker='d', \n",
    "            label='MD 1')\n",
    "pp.errorbar(md_data.qtor, \n",
    "            md_data.two, \n",
    "            yerr=md_data.two_err, \n",
    "            ls='None', \n",
    "            marker='d', \n",
    "            label='MD 2')\n",
    "pp.errorbar(md_data.qtor, \n",
    "            md_data.three, \n",
    "            yerr=md_data.three_err, \n",
    "            ls='None', \n",
    "            marker='d', \n",
    "            label='MD 3')\n",
    "pp.errorbar(md_data.qtor, \n",
    "            md_data.four, \n",
    "            yerr=md_data.four_err, \n",
    "            ls='None', \n",
    "            marker='d', \n",
    "            label='MD 4')\n",
    "pp.errorbar(md_data.qtor, \n",
    "            md_data.five, \n",
    "            yerr=md_data.five_err, \n",
    "            ls='None', \n",
    "            marker='d', \n",
    "            label='MD 5')\n",
    "pp.errorbar(md_data.qtor, \n",
    "            md_data.six, \n",
    "            yerr=md_data.six_err, \n",
    "            ls='None', \n",
    "            marker='d', \n",
    "            label='MD 6')\n",
    "pp.errorbar(md_data.qtor, \n",
    "            md_data.seven, \n",
    "            yerr=md_data.seven_err, \n",
    "            ls='None', \n",
    "            marker='d', \n",
    "            label='MD 7')\n",
    "pp.errorbar(md_data.qtor, \n",
    "            md_data.eight, \n",
    "            yerr=md_data.eight_err, \n",
    "            ls='None', \n",
    "            marker='d', \n",
    "            label='MD 8')\n",
    "pp.xlabel('QTor Current [A]')\n",
    "pp.xlim(8600, 9300)\n",
    "pp.ylabel('Rate [MHz/$\\mu$A]')\n",
    "pp.legend(loc='upper right', bbox_to_anchor=(1.2,1.0))\n",
    "pp.tick_params(top=False)\n",
    "pp.show()"
   ]
  },
  {
   "cell_type": "code",
   "execution_count": 51,
   "metadata": {
    "collapsed": false
   },
   "outputs": [
    {
     "data": {
      "image/png": "[encoded data removed]",
      "text/plain": [
       "<matplotlib.figure.Figure at 0x7f0899062278>"
      ]
     },
     "metadata": {},
     "output_type": "display_data"
    }
   ],
   "source": [
    "# Main Detector 1\n",
    "pp.figure(figsize=figsize(1))\n",
    "pp.errorbar(md_data.qtor, \n",
    "            md_data.one, \n",
    "            yerr=md_data.one_err, \n",
    "            ls='None', \n",
    "            marker='d', \n",
    "            color=sns.xkcd_rgb['denim blue'], \n",
    "            label='Data')\n",
    "pp.xlabel('QTor Current [A]')\n",
    "pp.xlim(8600, 9300)\n",
    "pp.ylabel('Rate [MHz/$\\mu$A]')\n",
    "pp.legend(loc='upper left')\n",
    "pp.tick_params(top=False)\n",
    "pp.show()"
   ]
  },
  {
   "cell_type": "code",
   "execution_count": 52,
   "metadata": {
    "collapsed": false
   },
   "outputs": [
    {
     "data": {
      "image/png": "[encoded data removed]",
      "text/plain": [
       "<matplotlib.figure.Figure at 0x7f08993de3c8>"
      ]
     },
     "metadata": {},
     "output_type": "display_data"
    }
   ],
   "source": [
    "# Main Detector 2\n",
    "pp.figure(figsize=figsize(1))\n",
    "pp.errorbar(md_data.qtor, \n",
    "            md_data.two, \n",
    "            yerr=md_data.two_err, \n",
    "            ls='None', \n",
    "            marker='d', \n",
    "            color=sns.xkcd_rgb['denim blue'], \n",
    "            label='Data')\n",
    "pp.xlabel('QTor Current [A]')\n",
    "pp.xlim(8600, 9300)\n",
    "pp.ylabel('Rate [MHz/$\\mu$A]')\n",
    "pp.legend(loc='upper left')\n",
    "pp.tick_params(top=False)\n",
    "pp.show()"
   ]
  },
  {
   "cell_type": "code",
   "execution_count": 54,
   "metadata": {
    "collapsed": false
   },
   "outputs": [
    {
     "data": {
      "image/png": "[encoded data removed]",
      "text/plain": [
       "<matplotlib.figure.Figure at 0x7f08995bd0b8>"
      ]
     },
     "metadata": {},
     "output_type": "display_data"
    }
   ],
   "source": [
    "# Main Detector 3\n",
    "pp.figure(figsize=figsize(1))\n",
    "pp.errorbar(md_data.qtor, \n",
    "            md_data.three, \n",
    "            yerr=md_data.three_err, \n",
    "            ls='None', \n",
    "            marker='d', \n",
    "            color=sns.xkcd_rgb['denim blue'], \n",
    "            label='Data')\n",
    "pp.xlabel('QTor Current [A]')\n",
    "pp.xlim(8600, 9300)\n",
    "pp.ylabel('Rate [MHz/$\\mu$A]')\n",
    "pp.legend(loc='upper left')\n",
    "pp.tick_params(top=False)\n",
    "pp.show()"
   ]
  },
  {
   "cell_type": "code",
   "execution_count": 55,
   "metadata": {
    "collapsed": false
   },
   "outputs": [
    {
     "data": {
      "image/png": "[encoded data removed]",
      "text/plain": [
       "<matplotlib.figure.Figure at 0x7f089935c438>"
      ]
     },
     "metadata": {},
     "output_type": "display_data"
    }
   ],
   "source": [
    "# Main Detector 4\n",
    "pp.figure(figsize=figsize(1))\n",
    "pp.errorbar(md_data.qtor, \n",
    "            md_data.four, \n",
    "            yerr=md_data.four_err, \n",
    "            ls='None', \n",
    "            marker='d', \n",
    "            color=sns.xkcd_rgb['denim blue'], \n",
    "            label='Data')\n",
    "pp.xlabel('QTor Current [A]')\n",
    "pp.xlim(8600, 9300)\n",
    "pp.ylabel('Rate [MHz/$\\mu$A]')\n",
    "pp.legend(loc='upper left')\n",
    "pp.tick_params(top=False)\n",
    "pp.show()"
   ]
  },
  {
   "cell_type": "code",
   "execution_count": 56,
   "metadata": {
    "collapsed": false
   },
   "outputs": [
    {
     "data": {
      "image/png": "[encoded data removed]",
      "text/plain": [
       "<matplotlib.figure.Figure at 0x7f08992b0cf8>"
      ]
     },
     "metadata": {},
     "output_type": "display_data"
    }
   ],
   "source": [
    "# Main Detector 5\n",
    "pp.figure(figsize=figsize(1))\n",
    "pp.errorbar(md_data.qtor, \n",
    "            md_data.five, \n",
    "            yerr=md_data.five_err, \n",
    "            ls='None', \n",
    "            marker='d', \n",
    "            color=sns.xkcd_rgb['denim blue'], \n",
    "            label='Data')\n",
    "pp.xlabel('QTor Current [A]')\n",
    "pp.xlim(8600, 9300)\n",
    "pp.ylabel('Rate [MHz/$\\mu$A]')\n",
    "pp.legend(loc='upper left')\n",
    "pp.tick_params(top=False)\n",
    "pp.show()"
   ]
  },
  {
   "cell_type": "code",
   "execution_count": 57,
   "metadata": {
    "collapsed": false
   },
   "outputs": [
    {
     "data": {
      "image/png": "[encoded data removed]",
      "text/plain": [
       "<matplotlib.figure.Figure at 0x7f0899303f98>"
      ]
     },
     "metadata": {},
     "output_type": "display_data"
    }
   ],
   "source": [
    "# Main Detector 6\n",
    "pp.figure(figsize=figsize(1))\n",
    "pp.errorbar(md_data.qtor, \n",
    "            md_data.six, \n",
    "            yerr=md_data.six_err, \n",
    "            ls='None', \n",
    "            marker='d', \n",
    "            color=sns.xkcd_rgb['denim blue'], \n",
    "            label='Data')\n",
    "pp.xlabel('QTor Current [A]')\n",
    "pp.xlim(8600, 9300)\n",
    "pp.ylabel('Rate [MHz/$\\mu$A]')\n",
    "pp.legend(loc='upper left')\n",
    "pp.tick_params(top=False)\n",
    "pp.show()"
   ]
  },
  {
   "cell_type": "code",
   "execution_count": 58,
   "metadata": {
    "collapsed": false
   },
   "outputs": [
    {
     "data": {
      "image/png": "[encoded data removed]",
      "text/plain": [
       "<matplotlib.figure.Figure at 0x7f089939e320>"
      ]
     },
     "metadata": {},
     "output_type": "display_data"
    }
   ],
   "source": [
    "# Main Detector 7\n",
    "pp.figure(figsize=figsize(1))\n",
    "pp.errorbar(md_data.qtor, \n",
    "            md_data.seven, \n",
    "            yerr=md_data.seven_err, \n",
    "            ls='None', \n",
    "            marker='d', \n",
    "            color=sns.xkcd_rgb['denim blue'], \n",
    "            label='Data')\n",
    "pp.xlabel('QTor Current [A]')\n",
    "pp.xlim(8600, 9300)\n",
    "pp.ylabel('Rate [MHz/$\\mu$A]')\n",
    "pp.legend(loc='upper left')\n",
    "pp.tick_params(top=False)\n",
    "pp.show()"
   ]
  },
  {
   "cell_type": "code",
   "execution_count": 59,
   "metadata": {
    "collapsed": false
   },
   "outputs": [
    {
     "data": {
      "image/png": "[encoded data removed]",
      "text/plain": [
       "<matplotlib.figure.Figure at 0x7f08991d7cf8>"
      ]
     },
     "metadata": {},
     "output_type": "display_data"
    }
   ],
   "source": [
    "# Main Detector 8\n",
    "pp.figure(figsize=figsize(1))\n",
    "pp.errorbar(md_data.qtor, \n",
    "            md_data.eight, \n",
    "            yerr=md_data.eight_err, \n",
    "            ls='None', \n",
    "            marker='d', \n",
    "            color=sns.xkcd_rgb['denim blue'], \n",
    "            label='Data')\n",
    "pp.xlabel('QTor Current [A]')\n",
    "pp.xlim(8600, 9300)\n",
    "pp.ylabel('Rate [MHz/$\\mu$A]')\n",
    "pp.legend(loc='upper left')\n",
    "pp.tick_params(top=False)\n",
    "pp.show()"
   ]
  },
  {
   "cell_type": "code",
   "execution_count": 15,
   "metadata": {
    "collapsed": true
   },
   "outputs": [],
   "source": [
    "from scipy.special import spence"
   ]
  },
  {
   "cell_type": "code",
   "execution_count": 16,
   "metadata": {
    "collapsed": false
   },
   "outputs": [],
   "source": [
    "sim_DWelastic_q2 = pd.read_csv('data/Al_Alloy_4p_DS_DWelastic_run1_sim_q2_avg.csv',  usecols=cols, header=None, names=['q2'] + header[1:])\n",
    "sim_DWelastic_q2['qtor'] = qtor\n",
    "sim_DWelastic_th = pd.read_csv('data/Al_Alloy_4p_DS_DWelastic_run1_sim_theta_avg.csv',  usecols=cols, header=None, names=['theta'] + header[1:])\n",
    "sim_DWelastic_th['qtor'] = qtor"
   ]
  },
  {
   "cell_type": "code",
   "execution_count": 17,
   "metadata": {
    "collapsed": false
   },
   "outputs": [
    {
     "data": {
      "text/plain": [
       "0     0.136761\n",
       "1     0.135591\n",
       "2     0.134633\n",
       "3     0.132980\n",
       "4     0.132394\n",
       "5     0.132228\n",
       "6     0.132341\n",
       "7     0.132254\n",
       "8     0.132172\n",
       "9     0.132231\n",
       "10    0.132270\n",
       "11    0.132189\n",
       "12    0.132261\n",
       "13    0.132392\n",
       "Name: theta, dtype: float64"
      ]
     },
     "execution_count": 17,
     "metadata": {},
     "output_type": "execute_result"
    }
   ],
   "source": [
    "np.deg2rad(sim_DWelastic_th.theta)"
   ]
  },
  {
   "cell_type": "code",
   "execution_count": 18,
   "metadata": {
    "collapsed": false
   },
   "outputs": [],
   "source": [
    "def schwinger(e, q2, th):\n",
    "    alpha = 1/137.035999139 # 2016 PDG\n",
    "    m_e = 0.5109989461 # [MeV] 2016 PDG\n",
    "    deltaE = 20.0 # [MeV]\n",
    "    t1 = (np.log(e/deltaE) - (13.0/12.0))*(np.log(q2/np.square(m_e))-1.0)\n",
    "    t2 = (17.0/36.0)\n",
    "    t3 = 0.5*((1/6.0)*np.square(np.pi)-spence(1-np.square(np.cos(th/2))))\n",
    "    return (2.0*alpha/np.pi)*(t1+t2+t3)"
   ]
  },
  {
   "cell_type": "code",
   "execution_count": 19,
   "metadata": {
    "collapsed": false
   },
   "outputs": [],
   "source": [
    "DWelastic_schwinger = schwinger(1161.09, sim_DWelastic_q2.q2*np.square(1000.0), np.deg2rad(sim_DWelastic_th.theta))"
   ]
  },
  {
   "cell_type": "code",
   "execution_count": 20,
   "metadata": {
    "collapsed": false
   },
   "outputs": [
    {
     "data": {
      "image/png": "[encoded data removed]",
      "text/plain": [
       "<matplotlib.figure.Figure at 0x7f8f07df9d68>"
      ]
     },
     "metadata": {},
     "output_type": "display_data"
    }
   ],
   "source": [
    "pp.figure(figsize=figsize(1))\n",
    "pp.plot(qtor, \n",
    "        DWelastic_schwinger, \n",
    "        ls='None', \n",
    "        marker='d', \n",
    "        color=sns.xkcd_rgb['denim blue'], \n",
    "        label='Schwinger')\n",
    "pp.xlabel('QTor Current [A]')\n",
    "pp.xlim(8600, 9300)\n",
    "pp.ylabel('$\\partial_{S}$')\n",
    "pp.legend(loc='upper right')\n",
    "pp.tick_params(top=False)\n",
    "pp.savefig('plots/al_alloy_4p_DS_qtorscan_elastic_Schwinger.png', bbox_inches='tight')\n",
    "pp.savefig('plots/al_alloy_4p_DS_qtorscan_elastic_Schwinger.pdf', bbox_inches='tight')\n",
    "pp.savefig('plots/al_alloy_4p_DS_qtorscan_elastic_Schwinger.pgf', bbox_inches='tight')\n",
    "pp.show()"
   ]
  },
  {
   "cell_type": "code",
   "execution_count": 63,
   "metadata": {
    "collapsed": false
   },
   "outputs": [
    {
     "data": {
      "image/png": "[encoded data removed]",
      "text/plain": [
       "<matplotlib.figure.Figure at 0x7f591dc9c7f0>"
      ]
     },
     "metadata": {},
     "output_type": "display_data"
    }
   ],
   "source": [
    "pp.figure(figsize=figsize(1))\n",
    "pp.plot(sim_DWelastic_q2.qtor, \n",
    "        sim_DWelastic_q2.q2,\n",
    "        ls='None', \n",
    "        marker='d', \n",
    "        color=sns.xkcd_rgb['denim blue'], \n",
    "        label='Q$^{2}$')\n",
    "pp.xlabel('QTor Current [A]')\n",
    "pp.xlim(8600, 9300)\n",
    "pp.ylabel('Q$^{2}$ [GeV$^{2}$]')\n",
    "pp.legend(loc='upper right')\n",
    "pp.tick_params(top=False)\n",
    "pp.savefig('plots/al_alloy_4p_DS_qtorscan_elastic_q2.png', bbox_inches='tight')\n",
    "pp.savefig('plots/al_alloy_4p_DS_qtorscan_elastic_q2.pdf', bbox_inches='tight')\n",
    "pp.savefig('plots/al_alloy_4p_DS_qtorscan_elastic_q2.pgf', bbox_inches='tight')\n",
    "pp.show()"
   ]
  },
  {
   "cell_type": "code",
   "execution_count": 64,
   "metadata": {
    "collapsed": false
   },
   "outputs": [
    {
     "data": {
      "image/png": "[encoded data removed]",
      "text/plain": [
       "<matplotlib.figure.Figure at 0x7f591dbc38d0>"
      ]
     },
     "metadata": {},
     "output_type": "display_data"
    }
   ],
   "source": [
    "pp.figure(figsize=figsize(1))\n",
    "pp.plot(sim_DWelastic_th.qtor, \n",
    "        sim_DWelastic_th.theta,\n",
    "        ls='None', \n",
    "        marker='d', \n",
    "        color=sns.xkcd_rgb['denim blue'], \n",
    "        label='$\\\\theta_{Lab}$')\n",
    "pp.xlabel('QTor Current [A]')\n",
    "pp.xlim(8600, 9300)\n",
    "pp.ylabel('$\\\\theta_{Lab}$ [$^{\\circ}$]')\n",
    "pp.legend(loc='upper right')\n",
    "pp.tick_params(top=False)\n",
    "pp.savefig('plots/al_alloy_4p_DS_qtorscan_elastic_th.png', bbox_inches='tight')\n",
    "pp.savefig('plots/al_alloy_4p_DS_qtorscan_elastic_th.pdf', bbox_inches='tight')\n",
    "pp.savefig('plots/al_alloy_4p_DS_qtorscan_elastic_th.pgf', bbox_inches='tight')\n",
    "pp.show()"
   ]
  },
  {
   "cell_type": "code",
   "execution_count": null,
   "metadata": {
    "collapsed": false
   },
   "outputs": [],
   "source": []
  },
  {
   "cell_type": "code",
   "execution_count": null,
   "metadata": {
    "collapsed": false,
    "scrolled": true
   },
   "outputs": [],
   "source": []
  },
  {
   "cell_type": "code",
   "execution_count": null,
   "metadata": {
    "collapsed": false,
    "scrolled": true
   },
   "outputs": [],
   "source": []
  },
  {
   "cell_type": "code",
   "execution_count": null,
   "metadata": {
    "collapsed": true
   },
   "outputs": [],
   "source": []
  }
 ],
 "metadata": {
  "kernelspec": {
   "display_name": "Python 3",
   "language": "python",
   "name": "python3"
  },
  "language_info": {
   "codemirror_mode": {
    "name": "ipython",
    "version": 3
   },
   "file_extension": ".py",
   "mimetype": "text/x-python",
   "name": "python",
   "nbconvert_exporter": "python",
   "pygments_lexer": "ipython3",
   "version": "3.5.4"
  }
 },
 "nbformat": 4,
 "nbformat_minor": 0
}
