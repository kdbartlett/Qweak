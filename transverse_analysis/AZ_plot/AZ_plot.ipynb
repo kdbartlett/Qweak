{
 "cells": [
  {
   "cell_type": "code",
   "execution_count": 1,
   "metadata": {},
   "outputs": [],
   "source": [
    "import numpy as np\n",
    "#This following is so that this will work with Latex, see\n",
    "#http://bkanuka.com/articles/native-latex-plots/\n",
    "import matplotlib as mpl\n",
    "mpl.use('pgf')"
   ]
  },
  {
   "cell_type": "code",
   "execution_count": 2,
   "metadata": {},
   "outputs": [],
   "source": [
    "def figsize(scale):                                 # I think scale is the size you want it on the page\n",
    "    fig_width_pt = 433.62001                        # Get this from LaTeX using \\the\\textwidth\n",
    "    inches_per_pt = 1.0/72.0                        # Convert pt to inch\n",
    "    golden_mean = (np.sqrt(5.0)-1.0)/2.0            # Aesthetic ratio (you could change this)\n",
    "    fig_width = fig_width_pt*inches_per_pt*scale    # width in inches\n",
    "    fig_height = fig_width*golden_mean              # height in inches\n",
    "    fig_size = [fig_width,fig_height]\n",
    "    return fig_size\n",
    "\n",
    "pgf_with_lualatex = {                      # Setup matplotlib to use latex for output\n",
    "    \"pgf.texsystem\": \"lualatex\",           # Change this if using xetex or luatex\n",
    "    \"text.usetex\": True,                   # Use LaTeX to write all text\n",
    "    #Fonts\n",
    "    \"font.family\": \"serif\",                # Get from the pdf font function on the doc\n",
    "    \"font.serif\": \"Computer Modern Roman\",      \n",
    "    \"font.sans-serif\": \"Computer Modern Sans serif\",\n",
    "    \"font.monospace\": [], # Blank entries should cause plots to inherit fonts from the document\n",
    "    #Text size\n",
    "    \"font.size\": 11,# Document default is 11pt font.\n",
    "    #\"text.fontsize\": 11,\n",
    "    \"axes.labelsize\": 11,\n",
    "    \"legend.fontsize\": 8,               # Make the legend/label fonts a little smaller\n",
    "    \"xtick.labelsize\": 8,\n",
    "    \"ytick.labelsize\": 8,\n",
    "    ##Axis\n",
    "    #\"axes.labelpad\": 2,     # space between label and axis \n",
    "    \"figure.figsize\": figsize(1.0),     # default fig size of 1.0 textwidth\n",
    "    #Packages\n",
    "    \"pgf.preamble\": [\n",
    "        r\"\\usepackage[utf8x]{inputenc}\",    # use utf8 fonts becasue your computer can handle it :)\n",
    "        r\"\\usepackage[T1]{fontenc}\",        # plots will be generated using this preamble\n",
    "        r\"\\usepackage{amsmath}\",  #need to add math or the ^ won't work\n",
    "        r\"\\usepackage{amssymb}\"]\n",
    "    }\n",
    "\n",
    "mpl.rcParams.update(pgf_with_lualatex)"
   ]
  },
  {
   "cell_type": "code",
   "execution_count": 3,
   "metadata": {},
   "outputs": [],
   "source": [
    "import pandas as pd\n",
    "import matplotlib.pyplot as plt\n",
    "import seaborn as sns\n",
    "import uproot\n",
    "from scipy.optimize import curve_fit\n",
    "from scipy.integrate import quad\n",
    "from scipy.special import gamma\n",
    "from matplotlib.ticker import AutoMinorLocator"
   ]
  },
  {
   "cell_type": "code",
   "execution_count": 4,
   "metadata": {},
   "outputs": [
    {
     "name": "stdout",
     "output_type": "stream",
     "text": [
      "Requirements:\n",
      "     Numpy:1.14.3\n",
      "Matplotlib:2.1.1\n",
      "    Pandas:0.22.0\n",
      "   Seaborn:0.8.1\n"
     ]
    }
   ],
   "source": [
    "print('Requirements:')\n",
    "print('     Numpy:'+np.__version__)\n",
    "print('Matplotlib:'+mpl.__version__)\n",
    "print('    Pandas:'+pd.__version__)\n",
    "print('   Seaborn:'+sns.__version__)"
   ]
  },
  {
   "cell_type": "code",
   "execution_count": 5,
   "metadata": {},
   "outputs": [],
   "source": [
    "%matplotlib inline\n",
    "plt.style.use('seaborn-ticks')\n",
    "sns.set_palette(\"muted\")"
   ]
  },
  {
   "cell_type": "code",
   "execution_count": 6,
   "metadata": {},
   "outputs": [],
   "source": [
    "#nuclei_data = pd.read_fwf('data/nuclear_wallet_cards_z_1_83_stable.csv', widths=[11,11,11,11,11,11,11])\n",
    "nuclei_data = pd.read_csv('data/nuclei_stable_z_ordered.csv', index_col=0)"
   ]
  },
  {
   "cell_type": "code",
   "execution_count": 7,
   "metadata": {},
   "outputs": [],
   "source": [
    "#nuclei_data.sort_values('Z').to_csv('data/nuclei_stable_z_ordered.csv')"
   ]
  },
  {
   "cell_type": "code",
   "execution_count": 8,
   "metadata": {},
   "outputs": [
    {
     "data": {
      "text/html": [
       "<div>\n",
       "<style scoped>\n",
       "    .dataframe tbody tr th:only-of-type {\n",
       "        vertical-align: middle;\n",
       "    }\n",
       "\n",
       "    .dataframe tbody tr th {\n",
       "        vertical-align: top;\n",
       "    }\n",
       "\n",
       "    .dataframe thead th {\n",
       "        text-align: right;\n",
       "    }\n",
       "</style>\n",
       "<table border=\"1\" class=\"dataframe\">\n",
       "  <thead>\n",
       "    <tr style=\"text-align: right;\">\n",
       "      <th></th>\n",
       "      <th>A</th>\n",
       "      <th>Z</th>\n",
       "      <th>N</th>\n",
       "      <th>JPi</th>\n",
       "      <th>T1/2</th>\n",
       "      <th>Abund.</th>\n",
       "      <th>Unc</th>\n",
       "    </tr>\n",
       "  </thead>\n",
       "  <tbody>\n",
       "    <tr>\n",
       "      <th>228</th>\n",
       "      <td>203</td>\n",
       "      <td>81</td>\n",
       "      <td>122</td>\n",
       "      <td>1/2+</td>\n",
       "      <td>STABLE</td>\n",
       "      <td>29.52%</td>\n",
       "      <td>0.001</td>\n",
       "    </tr>\n",
       "    <tr>\n",
       "      <th>231</th>\n",
       "      <td>207</td>\n",
       "      <td>82</td>\n",
       "      <td>125</td>\n",
       "      <td>1/2-</td>\n",
       "      <td>STABLE</td>\n",
       "      <td>22.10%</td>\n",
       "      <td>0.100</td>\n",
       "    </tr>\n",
       "    <tr>\n",
       "      <th>232</th>\n",
       "      <td>208</td>\n",
       "      <td>82</td>\n",
       "      <td>126</td>\n",
       "      <td>0</td>\n",
       "      <td>STABLE</td>\n",
       "      <td>52.40%</td>\n",
       "      <td>0.100</td>\n",
       "    </tr>\n",
       "    <tr>\n",
       "      <th>230</th>\n",
       "      <td>206</td>\n",
       "      <td>82</td>\n",
       "      <td>124</td>\n",
       "      <td>0</td>\n",
       "      <td>STABLE</td>\n",
       "      <td>24.10%</td>\n",
       "      <td>0.100</td>\n",
       "    </tr>\n",
       "    <tr>\n",
       "      <th>233</th>\n",
       "      <td>209</td>\n",
       "      <td>83</td>\n",
       "      <td>126</td>\n",
       "      <td>9/2-</td>\n",
       "      <td>STABLE</td>\n",
       "      <td>100.00%</td>\n",
       "      <td>NaN</td>\n",
       "    </tr>\n",
       "  </tbody>\n",
       "</table>\n",
       "</div>"
      ],
      "text/plain": [
       "       A   Z    N   JPi    T1/2   Abund.    Unc\n",
       "228  203  81  122  1/2+  STABLE   29.52%  0.001\n",
       "231  207  82  125  1/2-  STABLE   22.10%  0.100\n",
       "232  208  82  126     0  STABLE   52.40%  0.100\n",
       "230  206  82  124     0  STABLE   24.10%  0.100\n",
       "233  209  83  126  9/2-  STABLE  100.00%    NaN"
      ]
     },
     "execution_count": 8,
     "metadata": {},
     "output_type": "execute_result"
    }
   ],
   "source": [
    "nuclei_data.tail()"
   ]
  },
  {
   "cell_type": "code",
   "execution_count": 9,
   "metadata": {},
   "outputs": [],
   "source": [
    "# Clean and convert to numerical values\n",
    "nuclei_data['Abund.'] = nuclei_data['Abund.'].str.replace('%','').apply(pd.to_numeric)\n",
    "nuclei_data['Spin'] = nuclei_data['JPi'].str.replace('+','').str.replace('-','').apply(pd.to_numeric, errors='coerce')"
   ]
  },
  {
   "cell_type": "code",
   "execution_count": 10,
   "metadata": {},
   "outputs": [],
   "source": [
    "#test = pd.read_csv('data/Asymmetry_vs_A_noerr.txt', sep=' ', names=['A', 'Asym'])\n",
    "measured = pd.read_csv('data/measured_vsA_scaled.csv')"
   ]
  },
  {
   "cell_type": "code",
   "execution_count": 11,
   "metadata": {},
   "outputs": [
    {
     "data": {
      "text/html": [
       "<div>\n",
       "<style scoped>\n",
       "    .dataframe tbody tr th:only-of-type {\n",
       "        vertical-align: middle;\n",
       "    }\n",
       "\n",
       "    .dataframe tbody tr th {\n",
       "        vertical-align: top;\n",
       "    }\n",
       "\n",
       "    .dataframe thead th {\n",
       "        text-align: right;\n",
       "    }\n",
       "</style>\n",
       "<table border=\"1\" class=\"dataframe\">\n",
       "  <thead>\n",
       "    <tr style=\"text-align: right;\">\n",
       "      <th></th>\n",
       "      <th>A</th>\n",
       "      <th>asym</th>\n",
       "      <th>asym_err</th>\n",
       "      <th>label</th>\n",
       "    </tr>\n",
       "  </thead>\n",
       "  <tbody>\n",
       "    <tr>\n",
       "      <th>0</th>\n",
       "      <td>1</td>\n",
       "      <td>-3.38</td>\n",
       "      <td>0.78</td>\n",
       "      <td>HAPPEX $^{1}$H</td>\n",
       "    </tr>\n",
       "    <tr>\n",
       "      <th>1</th>\n",
       "      <td>4</td>\n",
       "      <td>-7.68</td>\n",
       "      <td>0.77</td>\n",
       "      <td>HAPPEX $^{4}$He</td>\n",
       "    </tr>\n",
       "    <tr>\n",
       "      <th>2</th>\n",
       "      <td>12</td>\n",
       "      <td>-10.10</td>\n",
       "      <td>0.60</td>\n",
       "      <td>PREX $^{12}$C</td>\n",
       "    </tr>\n",
       "    <tr>\n",
       "      <th>3</th>\n",
       "      <td>208</td>\n",
       "      <td>0.46</td>\n",
       "      <td>0.41</td>\n",
       "      <td>PREX $^{208}$Pb</td>\n",
       "    </tr>\n",
       "  </tbody>\n",
       "</table>\n",
       "</div>"
      ],
      "text/plain": [
       "     A   asym  asym_err             label\n",
       "0    1  -3.38      0.78   HAPPEX $^{1}$H \n",
       "1    4  -7.68      0.77   HAPPEX $^{4}$He\n",
       "2   12 -10.10      0.60     PREX $^{12}$C\n",
       "3  208   0.46      0.41   PREX $^{208}$Pb"
      ]
     },
     "execution_count": 11,
     "metadata": {},
     "output_type": "execute_result"
    }
   ],
   "source": [
    "measured"
   ]
  },
  {
   "cell_type": "code",
   "execution_count": 12,
   "metadata": {},
   "outputs": [],
   "source": [
    "markers=['o', '8', 'v', '^']\n",
    "colors=['dull pink', 'dull orange', 'dull brown', 'dull red']"
   ]
  },
  {
   "cell_type": "code",
   "execution_count": 13,
   "metadata": {},
   "outputs": [
    {
     "data": {
      "image/png": "[encoded data removed]",
      "text/plain": [
       "<matplotlib.figure.Figure at 0x7f92ceee9ef0>"
      ]
     },
     "metadata": {},
     "output_type": "display_data"
    }
   ],
   "source": [
    "fig, ax = plt.subplots(figsize=figsize(0.9))\n",
    "ax.plot(nuclei_data.A,\n",
    "        (-30.0*0.154)*nuclei_data.A/nuclei_data.Z,\n",
    "        ls='--',\n",
    "        marker='.',\n",
    "        color=sns.xkcd_rgb['steel grey'], label='A/Z($\\hat{B}_{n} = -30$)')\n",
    "for i in measured.index:\n",
    "    ax.errorbar(measured.A[i],\n",
    "                measured.asym[i],\n",
    "                yerr=measured.asym_err[i],\n",
    "                marker=markers[i],\n",
    "                color=sns.xkcd_rgb[colors[i]],\n",
    "                label=measured.label[i])\n",
    "ax.set_xscale('log')\n",
    "ax.set_ylim(-14.0, 2.0)\n",
    "ax.set_xlabel('Atomic Mass (A)')\n",
    "ax.set_ylabel('$B_{n}$ ($Q = 0.154$ GeV) [ppm]')\n",
    "ax.yaxis.set_minor_locator(AutoMinorLocator(4))\n",
    "ax.legend(loc='upper center', ncol=2)\n",
    "ax.set_title('Forward-angle Beam-normal Single-Spin Asymmetries - World Data')\n",
    "plt.savefig('plots/bnssa_world_data.png', bbox_inches='tight')\n",
    "plt.savefig('plots/bnssa_world_data.pdf', bbox_inches='tight')\n",
    "plt.savefig('plots/bnssa_world_data.pgf', bbox_inches='tight')\n",
    "plt.show()"
   ]
  },
  {
   "cell_type": "code",
   "execution_count": 15,
   "metadata": {},
   "outputs": [],
   "source": [
    "qweak = pd.read_csv('data/qweak_bnssa.csv')"
   ]
  },
  {
   "cell_type": "code",
   "execution_count": 16,
   "metadata": {},
   "outputs": [
    {
     "data": {
      "text/html": [
       "<div>\n",
       "<style scoped>\n",
       "    .dataframe tbody tr th:only-of-type {\n",
       "        vertical-align: middle;\n",
       "    }\n",
       "\n",
       "    .dataframe tbody tr th {\n",
       "        vertical-align: top;\n",
       "    }\n",
       "\n",
       "    .dataframe thead th {\n",
       "        text-align: right;\n",
       "    }\n",
       "</style>\n",
       "<table border=\"1\" class=\"dataframe\">\n",
       "  <thead>\n",
       "    <tr style=\"text-align: right;\">\n",
       "      <th></th>\n",
       "      <th>A</th>\n",
       "      <th>asym</th>\n",
       "      <th>asym_err</th>\n",
       "      <th>label</th>\n",
       "    </tr>\n",
       "  </thead>\n",
       "  <tbody>\n",
       "    <tr>\n",
       "      <th>0</th>\n",
       "      <td>1</td>\n",
       "      <td>-5.215</td>\n",
       "      <td>0.146</td>\n",
       "      <td>Qweak $^{1}$H</td>\n",
       "    </tr>\n",
       "    <tr>\n",
       "      <th>1</th>\n",
       "      <td>12</td>\n",
       "      <td>-10.412</td>\n",
       "      <td>1.948</td>\n",
       "      <td>Qweak $^{12}$C</td>\n",
       "    </tr>\n",
       "    <tr>\n",
       "      <th>2</th>\n",
       "      <td>27</td>\n",
       "      <td>-16.322</td>\n",
       "      <td>2.679</td>\n",
       "      <td>Qweak $^{27}$Al</td>\n",
       "    </tr>\n",
       "  </tbody>\n",
       "</table>\n",
       "</div>"
      ],
      "text/plain": [
       "    A    asym  asym_err             label\n",
       "0   1  -5.215     0.146     Qweak $^{1}$H\n",
       "1  12 -10.412     1.948    Qweak $^{12}$C\n",
       "2  27 -16.322     2.679   Qweak $^{27}$Al"
      ]
     },
     "execution_count": 16,
     "metadata": {},
     "output_type": "execute_result"
    }
   ],
   "source": [
    "qweak"
   ]
  },
  {
   "cell_type": "code",
   "execution_count": 17,
   "metadata": {},
   "outputs": [],
   "source": [
    "qmarkers = ['s', 'P', 'd']\n",
    "qcolors = ['dull purple', 'dull blue', 'dull green']"
   ]
  },
  {
   "cell_type": "code",
   "execution_count": 18,
   "metadata": {},
   "outputs": [
    {
     "data": {
      "image/png": "[encoded data removed]",
      "text/plain": [
       "<matplotlib.figure.Figure at 0x7f4a8a3904a8>"
      ]
     },
     "metadata": {},
     "output_type": "display_data"
    }
   ],
   "source": [
    "fig, ax = plt.subplots(figsize=figsize(0.9))\n",
    "ax.plot(nuclei_data.A,\n",
    "        (-30.0*0.154)*nuclei_data.A/nuclei_data.Z,\n",
    "        ls='--',\n",
    "        marker='.',\n",
    "        color=sns.xkcd_rgb['steel grey'], label='A/Z($\\hat{B}_{n} = -30$)', zorder=1)\n",
    "for i in measured.index:\n",
    "    ax.errorbar(measured.A[i],\n",
    "                measured.asym[i],\n",
    "                yerr=measured.asym_err[i],\n",
    "                marker=markers[i],\n",
    "                color=sns.xkcd_rgb[colors[i]],\n",
    "                label=measured.label[i])\n",
    "    \n",
    "for j in qweak.index:\n",
    "    ax.errorbar(qweak.A[j],\n",
    "                qweak.asym[j],\n",
    "                yerr=qweak.asym_err[j],\n",
    "                marker=qmarkers[j],\n",
    "                color=sns.xkcd_rgb[qcolors[j]],\n",
    "                label=qweak.label[j])\n",
    "#Test\n",
    "#ax.errorbar(27, -16.273, yerr=1.883, ls='None', marker='d', color='k')\n",
    "\n",
    "\n",
    "ax.set_xscale('log')\n",
    "#ax.set_ylim(-14.0, 2.0)\n",
    "ax.set_xlabel('Atomic Mass (A)')\n",
    "ax.set_ylabel('$B_{n}$ ($Q = 0.154$ GeV) [ppm]')\n",
    "ax.yaxis.set_minor_locator(AutoMinorLocator(4))\n",
    "ax.legend(loc='upper center', ncol=2)\n",
    "ax.set_title('Forward-angle Beam-normal Single-Spin Asymmetries - World Data')\n",
    "plt.savefig('plots/bnssa_world_data_qweak.png', bbox_inches='tight')\n",
    "plt.savefig('plots/bnssa_world_data_qweak.pdf', bbox_inches='tight')\n",
    "plt.savefig('plots/bnssa_world_data_qweak.pgf', bbox_inches='tight')\n",
    "plt.show()"
   ]
  },
  {
   "cell_type": "code",
   "execution_count": null,
   "metadata": {},
   "outputs": [],
   "source": []
  }
 ],
 "metadata": {
  "kernelspec": {
   "display_name": "Python 3",
   "language": "python",
   "name": "python3"
  },
  "language_info": {
   "codemirror_mode": {
    "name": "ipython",
    "version": 3
   },
   "file_extension": ".py",
   "mimetype": "text/x-python",
   "name": "python",
   "nbconvert_exporter": "python",
   "pygments_lexer": "ipython3",
   "version": "3.6.5"
  }
 },
 "nbformat": 4,
 "nbformat_minor": 2
}
