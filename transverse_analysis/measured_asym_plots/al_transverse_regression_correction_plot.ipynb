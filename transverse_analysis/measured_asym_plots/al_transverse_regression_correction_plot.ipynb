{
 "cells": [
  {
   "cell_type": "code",
   "execution_count": 1,
   "metadata": {},
   "outputs": [],
   "source": [
    "import numpy as np\n",
    "#This following is so that this will work with Latex, see\n",
    "#http://bkanuka.com/articles/native-latex-plots/\n",
    "import matplotlib as mpl\n",
    "mpl.use('pgf')"
   ]
  },
  {
   "cell_type": "code",
   "execution_count": 2,
   "metadata": {},
   "outputs": [],
   "source": [
    "def figsize(scale):                                 # I think scale is the size you want it on the page\n",
    "    fig_width_pt = 433.62001                        # Get this from LaTeX using \\the\\textwidth\n",
    "    inches_per_pt = 1.0/72.0                        # Convert pt to inch\n",
    "    golden_mean = (np.sqrt(5.0)-1.0)/2.0            # Aesthetic ratio (you could change this)\n",
    "    fig_width = fig_width_pt*inches_per_pt*scale    # width in inches\n",
    "    fig_height = fig_width*golden_mean              # height in inches\n",
    "    fig_size = [fig_width,fig_height]\n",
    "    return fig_size\n",
    "\n",
    "pgf_with_lualatex = {                      # Setup matplotlib to use latex for output\n",
    "    \"pgf.texsystem\": \"lualatex\",           # Change this if using xetex or luatex\n",
    "    \"text.usetex\": True,                   # Use LaTeX to write all text\n",
    "    #Fonts\n",
    "    \"font.family\": \"serif\",                # Get from the pdf font function on the doc\n",
    "    \"font.serif\": \"Computer Modern Roman\",      \n",
    "    \"font.sans-serif\": \"Computer Modern Sans serif\",\n",
    "    \"font.monospace\": [], # Blank entries should cause plots to inherit fonts from the document\n",
    "    #Text size\n",
    "    \"font.size\": 11,# Document default is 11pt font.\n",
    "    #\"text.fontsize\": 11,\n",
    "    \"axes.labelsize\": 11,\n",
    "    \"legend.fontsize\": 8,               # Make the legend/label fonts a little smaller\n",
    "    \"xtick.labelsize\": 8,\n",
    "    \"ytick.labelsize\": 8,\n",
    "    ##Axis\n",
    "    #\"axes.labelpad\": 2,     # space between label and axis \n",
    "    \"figure.figsize\": figsize(1.0),     # default fig size of 1.0 textwidth\n",
    "    #Packages\n",
    "    \"pgf.preamble\": [\n",
    "        r\"\\usepackage[utf8x]{inputenc}\",    # use utf8 fonts becasue your computer can handle it :)\n",
    "        r\"\\usepackage[T1]{fontenc}\",        # plots will be generated using this preamble\n",
    "        r\"\\usepackage{amsmath}\",  #need to add math or the ^ won't work\n",
    "        r\"\\usepackage{amssymb}\"]\n",
    "    }\n",
    "\n",
    "mpl.rcParams.update(pgf_with_lualatex)"
   ]
  },
  {
   "cell_type": "code",
   "execution_count": 3,
   "metadata": {},
   "outputs": [],
   "source": [
    "import pandas as pd\n",
    "import matplotlib.pyplot as plt\n",
    "import seaborn as sns\n",
    "from scipy.optimize import curve_fit\n",
    "from scipy.integrate import quad\n",
    "from scipy.special import gamma\n",
    "from matplotlib.ticker import AutoMinorLocator"
   ]
  },
  {
   "cell_type": "code",
   "execution_count": 4,
   "metadata": {},
   "outputs": [],
   "source": [
    "%matplotlib inline\n",
    "plt.style.use('seaborn-ticks')\n",
    "sns.set_palette(\"muted\")"
   ]
  },
  {
   "cell_type": "code",
   "execution_count": 5,
   "metadata": {},
   "outputs": [],
   "source": [
    "def calc_chi2(data, fit, err, dof):\n",
    "    chi2 = np.sum(np.square(data-fit)/np.square(err))\n",
    "    return chi2, chi2/dof\n",
    "\n",
    "def chi2probdistribution(chi2, dof):\n",
    "    if chi2 > 0:\n",
    "        num = np.power(chi2,(dof-2.0)/2.0)*np.exp(-chi2/2.0)\n",
    "        dem = np.power(2.0,(dof/2.0))*gamma(dof/2.0)\n",
    "        return num/dem\n",
    "    elif chi2 == 0:\n",
    "        return 0\n",
    "    else:\n",
    "        print('Chi^2 values < 0 not valid!')\n",
    "                   \n",
    "def calc_chi2prob(chi2, dof):\n",
    "    return quad(chi2probdistribution, chi2, np.inf, (dof))"
   ]
  },
  {
   "cell_type": "code",
   "execution_count": 6,
   "metadata": {},
   "outputs": [],
   "source": [
    "unreg_data = pd.read_csv('data/trans_al_unregressed.csv', index_col=0)\n",
    "reg_data = pd.read_csv('data/trans_al_regressed.csv', index_col=0)"
   ]
  },
  {
   "cell_type": "code",
   "execution_count": 7,
   "metadata": {},
   "outputs": [
    {
     "data": {
      "text/html": [
       "<div>\n",
       "<style scoped>\n",
       "    .dataframe tbody tr th:only-of-type {\n",
       "        vertical-align: middle;\n",
       "    }\n",
       "\n",
       "    .dataframe tbody tr th {\n",
       "        vertical-align: top;\n",
       "    }\n",
       "\n",
       "    .dataframe thead th {\n",
       "        text-align: right;\n",
       "    }\n",
       "</style>\n",
       "<table border=\"1\" class=\"dataframe\">\n",
       "  <thead>\n",
       "    <tr style=\"text-align: right;\">\n",
       "      <th></th>\n",
       "      <th>r1_v_avg</th>\n",
       "      <th>r1_v_err</th>\n",
       "      <th>r2_h_avg</th>\n",
       "      <th>r2_h_err</th>\n",
       "      <th>r2_v_avg</th>\n",
       "      <th>r2_v_err</th>\n",
       "    </tr>\n",
       "  </thead>\n",
       "  <tbody>\n",
       "    <tr>\n",
       "      <th>0</th>\n",
       "      <td>-9.002047</td>\n",
       "      <td>1.195183</td>\n",
       "      <td>-1.153025</td>\n",
       "      <td>1.005392</td>\n",
       "      <td>-7.483198</td>\n",
       "      <td>1.464045</td>\n",
       "    </tr>\n",
       "    <tr>\n",
       "      <th>1</th>\n",
       "      <td>-3.613179</td>\n",
       "      <td>1.216529</td>\n",
       "      <td>-5.126757</td>\n",
       "      <td>1.006610</td>\n",
       "      <td>-5.063603</td>\n",
       "      <td>1.465977</td>\n",
       "    </tr>\n",
       "    <tr>\n",
       "      <th>2</th>\n",
       "      <td>0.231989</td>\n",
       "      <td>1.222184</td>\n",
       "      <td>-9.810435</td>\n",
       "      <td>1.006470</td>\n",
       "      <td>0.705789</td>\n",
       "      <td>1.464384</td>\n",
       "    </tr>\n",
       "    <tr>\n",
       "      <th>3</th>\n",
       "      <td>7.358702</td>\n",
       "      <td>1.235699</td>\n",
       "      <td>-4.806368</td>\n",
       "      <td>1.022078</td>\n",
       "      <td>4.411487</td>\n",
       "      <td>1.485367</td>\n",
       "    </tr>\n",
       "    <tr>\n",
       "      <th>4</th>\n",
       "      <td>11.105761</td>\n",
       "      <td>1.218335</td>\n",
       "      <td>-0.208437</td>\n",
       "      <td>1.027497</td>\n",
       "      <td>7.617870</td>\n",
       "      <td>1.493204</td>\n",
       "    </tr>\n",
       "  </tbody>\n",
       "</table>\n",
       "</div>"
      ],
      "text/plain": [
       "    r1_v_avg  r1_v_err  r2_h_avg  r2_h_err  r2_v_avg  r2_v_err\n",
       "0  -9.002047  1.195183 -1.153025  1.005392 -7.483198  1.464045\n",
       "1  -3.613179  1.216529 -5.126757  1.006610 -5.063603  1.465977\n",
       "2   0.231989  1.222184 -9.810435  1.006470  0.705789  1.464384\n",
       "3   7.358702  1.235699 -4.806368  1.022078  4.411487  1.485367\n",
       "4  11.105761  1.218335 -0.208437  1.027497  7.617870  1.493204"
      ]
     },
     "execution_count": 7,
     "metadata": {},
     "output_type": "execute_result"
    }
   ],
   "source": [
    "unreg_data.head()"
   ]
  },
  {
   "cell_type": "code",
   "execution_count": 8,
   "metadata": {},
   "outputs": [],
   "source": [
    "md_num = np.arange(1,9,1)"
   ]
  },
  {
   "cell_type": "code",
   "execution_count": 15,
   "metadata": {},
   "outputs": [
    {
     "data": {
      "image/png": "[encoded data removed]",
      "text/plain": [
       "<matplotlib.figure.Figure at 0x7f783f2a7ac8>"
      ]
     },
     "metadata": {},
     "output_type": "display_data"
    }
   ],
   "source": [
    "fig, ax = plt.subplots(figsize=figsize(0.9))\n",
    "ax.plot(md_num, (reg_data.r1_v_avg-unreg_data.r1_v_avg), ls='None', marker='d', color=sns.xkcd_rgb['dull blue'], label='Run 1 Vertical')\n",
    "ax.plot(md_num, (reg_data.r2_h_avg-unreg_data.r2_h_avg), ls='None', marker='o', color=sns.xkcd_rgb['dull red'], label='Run 2 Horizontal')\n",
    "ax.plot(md_num, (reg_data.r2_v_avg-unreg_data.r2_v_avg), ls='None', marker='s', color=sns.xkcd_rgb['dull green'], label='Run 2 Vertical')\n",
    "ax.plot([0.5, 8.5], [0.0, 0.0], ls='--', color=sns.xkcd_rgb['grey'])\n",
    "ax.set_xlim(0.5, 8.5)\n",
    "ax.set_ylim(-0.8, 0.8)\n",
    "ax.yaxis.set_minor_locator(AutoMinorLocator(4))\n",
    "ax.set_xlabel('Main Detector')\n",
    "ax.set_ylabel('Correction Size [ppm]')\n",
    "ax.legend(loc='best')\n",
    "plt.savefig('plots/trans_al_regression_correction_sizes.png', bbox_inches='tight')\n",
    "plt.savefig('plots/trans_al_regression_correction_sizes.pgf', bbox_inches='tight')\n",
    "plt.savefig('plots/trans_al_regression_correction_sizes.pdf', bbox_inches='tight')\n",
    "plt.show()"
   ]
  },
  {
   "cell_type": "code",
   "execution_count": null,
   "metadata": {},
   "outputs": [],
   "source": []
  }
 ],
 "metadata": {
  "kernelspec": {
   "display_name": "Python 3",
   "language": "python",
   "name": "python3"
  },
  "language_info": {
   "codemirror_mode": {
    "name": "ipython",
    "version": 3
   },
   "file_extension": ".py",
   "mimetype": "text/x-python",
   "name": "python",
   "nbconvert_exporter": "python",
   "pygments_lexer": "ipython3",
   "version": "3.6.5"
  }
 },
 "nbformat": 4,
 "nbformat_minor": 2
}
