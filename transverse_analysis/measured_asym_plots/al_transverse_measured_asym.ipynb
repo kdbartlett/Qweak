{
 "cells": [
  {
   "cell_type": "markdown",
   "metadata": {},
   "source": [
    "# Qweak Aluminum Transverse Asymmetry Analysis"
   ]
  },
  {
   "cell_type": "markdown",
   "metadata": {},
   "source": [
    "To do list (as of 2018/11/21):\n",
    "* Adopt functionality to allow sine fit of horizontial data and a cosine fit of vertical."
   ]
  },
  {
   "cell_type": "code",
   "execution_count": 1,
   "metadata": {},
   "outputs": [],
   "source": [
    "import numpy as np\n",
    "#This following is so that this will work with Latex, see\n",
    "#http://bkanuka.com/articles/native-latex-plots/\n",
    "import matplotlib as mpl\n",
    "mpl.use('pgf')"
   ]
  },
  {
   "cell_type": "code",
   "execution_count": 2,
   "metadata": {},
   "outputs": [],
   "source": [
    "def figsize(scale):                                 # I think scale is the size you want it on the page\n",
    "    fig_width_pt = 433.62001                        # Get this from LaTeX using \\the\\textwidth\n",
    "    inches_per_pt = 1.0/72.0                        # Convert pt to inch\n",
    "    golden_mean = (np.sqrt(5.0)-1.0)/2.0            # Aesthetic ratio (you could change this)\n",
    "    fig_width = fig_width_pt*inches_per_pt*scale    # width in inches\n",
    "    fig_height = fig_width*golden_mean              # height in inches\n",
    "    fig_size = [fig_width,fig_height]\n",
    "    return fig_size\n",
    "\n",
    "pgf_with_lualatex = {                      # Setup matplotlib to use latex for output\n",
    "    \"pgf.texsystem\": \"lualatex\",           # Change this if using xetex or luatex\n",
    "    \"text.usetex\": True,                   # Use LaTeX to write all text\n",
    "    #Fonts\n",
    "    \"font.family\": \"serif\",                # Get from the pdf font function on the doc\n",
    "    \"font.serif\": \"Computer Modern Roman\",      \n",
    "    \"font.sans-serif\": \"Computer Modern Sans serif\",\n",
    "    \"font.monospace\": [], # Blank entries should cause plots to inherit fonts from the document\n",
    "    #Text size\n",
    "    \"font.size\": 11,# Document default is 11pt font.\n",
    "    #\"text.fontsize\": 11,\n",
    "    \"axes.labelsize\": 11,\n",
    "    \"legend.fontsize\": 8,               # Make the legend/label fonts a little smaller\n",
    "    \"xtick.labelsize\": 8,\n",
    "    \"ytick.labelsize\": 8,\n",
    "    ##Axis\n",
    "    #\"axes.labelpad\": 2,     # space between label and axis \n",
    "    \"figure.figsize\": figsize(1.0),     # default fig size of 1.0 textwidth\n",
    "    #Packages\n",
    "    \"pgf.preamble\": [\n",
    "        r\"\\usepackage[utf8x]{inputenc}\",    # use utf8 fonts becasue your computer can handle it :)\n",
    "        r\"\\usepackage[T1]{fontenc}\",        # plots will be generated using this preamble\n",
    "        r\"\\usepackage{amsmath}\",  #need to add math or the ^ won't work\n",
    "        r\"\\usepackage{amssymb}\"]\n",
    "    }\n",
    "\n",
    "mpl.rcParams.update(pgf_with_lualatex)"
   ]
  },
  {
   "cell_type": "code",
   "execution_count": 3,
   "metadata": {},
   "outputs": [],
   "source": [
    "import pandas as pd\n",
    "import matplotlib.pyplot as pp\n",
    "import seaborn as sns\n",
    "import uproot\n",
    "from scipy.optimize import curve_fit\n",
    "from scipy.integrate import quad\n",
    "from scipy.special import gamma\n",
    "from matplotlib.ticker import AutoMinorLocator"
   ]
  },
  {
   "cell_type": "code",
   "execution_count": 4,
   "metadata": {},
   "outputs": [
    {
     "name": "stdout",
     "output_type": "stream",
     "text": [
      "Requirements:\n",
      "     Numpy:1.14.3\n",
      "Matplotlib:2.1.1\n",
      "    Pandas:0.22.0\n",
      "   Seaborn:0.8.1\n"
     ]
    }
   ],
   "source": [
    "print('Requirements:')\n",
    "print('     Numpy:'+np.__version__)\n",
    "print('Matplotlib:'+mpl.__version__)\n",
    "print('    Pandas:'+pd.__version__)\n",
    "print('   Seaborn:'+sns.__version__)"
   ]
  },
  {
   "cell_type": "code",
   "execution_count": 5,
   "metadata": {},
   "outputs": [],
   "source": [
    "%matplotlib inline\n",
    "pp.style.use('seaborn-ticks')\n",
    "sns.set_palette(\"muted\")"
   ]
  },
  {
   "cell_type": "code",
   "execution_count": 126,
   "metadata": {},
   "outputs": [],
   "source": [
    "# Off (Unregressed)\n",
    "#r1_v_tfile = uproot.open('/home/kbartlett/Documents/Qweak/ElasticTransverseAluminum/db_rootfiles/run1_al_vertical_elastic/DS-4%-Aluminum_off_tree.root')\n",
    "#r2_h_tfile = uproot.open('/home/kbartlett/Documents/Qweak/ElasticTransverseAluminum/db_rootfiles/run2_al_horizontal_elastic/DS-4%-Aluminum_off_tree.root')\n",
    "#r2_v_tfile = uproot.open('/home/kbartlett/Documents/Qweak/ElasticTransverseAluminum/db_rootfiles/run2_al_vertical_elastic/DS-4%-Aluminum_off_tree.root')\n",
    "\n",
    "# On regression set\n",
    "r1_v_tfile = uproot.open('/home/kbartlett/Documents/Qweak/ElasticTransverseAluminum/db_rootfiles/run1_al_vertical_elastic/DS-4%-Aluminum_on_set13_tree.root')\n",
    "r2_h_tfile = uproot.open('/home/kbartlett/Documents/Qweak/ElasticTransverseAluminum/db_rootfiles/run2_al_horizontal_elastic/DS-4%-Aluminum_on_set13_tree.root')\n",
    "r2_v_tfile = uproot.open('/home/kbartlett/Documents/Qweak/ElasticTransverseAluminum/db_rootfiles/run2_al_vertical_elastic/DS-4%-Aluminum_on_set13_tree.root')"
   ]
  },
  {
   "cell_type": "code",
   "execution_count": 127,
   "metadata": {},
   "outputs": [],
   "source": [
    "r1_v_tree = r1_v_tfile.get('tree')\n",
    "r2_h_tree = r2_h_tfile.get('tree')\n",
    "r2_v_tree = r2_v_tfile.get('tree')"
   ]
  },
  {
   "cell_type": "code",
   "execution_count": 128,
   "metadata": {},
   "outputs": [
    {
     "data": {
      "text/plain": [
       "[<TBranch b'runlet_id' at 0x7fa774899be0>,\n",
       " <TBranch b'run_number' at 0x7fa774899780>,\n",
       " <TBranch b'run_number_decimal' at 0x7fa7749356a0>,\n",
       " <TBranch b'slug' at 0x7fa774935ef0>,\n",
       " <TBranch b'wien_slug' at 0x7fa774935208>,\n",
       " <TBranch b'ihwp_setting' at 0x7fa774c6e9b0>,\n",
       " <TBranch b'phwp_setting' at 0x7fa774899828>,\n",
       " <TBranch b'wien_reversal' at 0x7fa7749355c0>,\n",
       " <TBranch b'precession_reversal' at 0x7fa774935a58>,\n",
       " <TBranch b'sign_correction' at 0x7fa7749355f8>,\n",
       " <TBranch b'qtor_current' at 0x7fa7749353c8>,\n",
       " <TBranch b'runlet_quality_id' at 0x7fa7747ae198>,\n",
       " <TBranch b'raster_size' at 0x7fa774860438>]"
      ]
     },
     "execution_count": 128,
     "metadata": {},
     "output_type": "execute_result"
    }
   ],
   "source": [
    "r1_v_tree.fBranches[:13]"
   ]
  },
  {
   "cell_type": "code",
   "execution_count": 129,
   "metadata": {},
   "outputs": [],
   "source": [
    "def extract_mds_asym(tree):\n",
    "    df = pd.DataFrame({'run':tree.get('run_number').array(),\n",
    "                       'sign_correction':tree.get('sign_correction').array(), \n",
    "                       'quality_id':tree.get('runlet_quality_id').array(), \n",
    "                       'ihwp':tree.get('ihwp_setting').array()}) \n",
    "    for i in np.arange(1,9,1):\n",
    "        temp_df = pd.DataFrame(tree.get('asym_md{0}pmtavg'.format(i)).array())\n",
    "        temp_df.columns = pd.Index(['md{0}_'.format(i)+label for label in temp_df.columns])\n",
    "        df = pd.concat([df,temp_df],axis=1)\n",
    "    return df\n",
    "\n",
    "def extract_pmt_asym(tree):\n",
    "    df = pd.DataFrame({'run':tree.get('run_number').array(),\n",
    "                       'sign_correction':tree.get('sign_correction').array(), \n",
    "                       'quality_id':tree.get('runlet_quality_id').array(), \n",
    "                       'ihwp':tree.get('ihwp_setting').array()}) \n",
    "    for i in np.arange(1,9,1):\n",
    "        neg_temp_df = pd.DataFrame(tree.get('asym_qwk_md{0}neg'.format(i)).array())\n",
    "        neg_temp_df.columns = pd.Index(['md{0}neg_'.format(i)+label for label in neg_temp_df.columns])\n",
    "        pos_temp_df = pd.DataFrame(tree.get('asym_qwk_md{0}pos'.format(i)).array())\n",
    "        pos_temp_df.columns = pd.Index(['md{0}pos_'.format(i)+label for label in pos_temp_df.columns])\n",
    "        df = pd.concat([df,neg_temp_df, pos_temp_df],axis=1)\n",
    "    return df"
   ]
  },
  {
   "cell_type": "code",
   "execution_count": 130,
   "metadata": {},
   "outputs": [],
   "source": [
    "def h_fit_function(x, amp, phase, const):\n",
    "    return amp*np.sin((np.pi/4.0)*x - (np.pi/4.0) + phase) + const\n",
    "\n",
    "def v_fit_function(x, amp, phase, const):\n",
    "    return amp*np.cos((np.pi/4.0)*x - (np.pi/4.0) + phase) + const\n",
    "\n",
    "def h_fit_function_err(x, amp, phase, const, pcov):\n",
    "    dfdA = h_fit_function(x, 1.0, phase, const)\n",
    "    dfdP = v_fit_function(x, amp, phase, const)\n",
    "    dfdC = 1.0\n",
    "    \n",
    "    termA = np.diag(pcov)[0]*np.square(dfdA)\n",
    "    termP = np.diag(pcov)[1]*np.square(dfdP)\n",
    "    termC = np.diag(pcov)[2]*np.square(dfdC)\n",
    "    \n",
    "    termAP = 2.0*pcov[0,1]*dfdA*dfdP\n",
    "    termAC = 2.0*pcov[0,2]*dfdA*dfdC\n",
    "    termPC = 2.0*pcov[1,2]*dfdP*dfdC\n",
    "    \n",
    "    return np.sqrt(termA + termP + termC + termAP + termAC + termPC)\n",
    "\n",
    "def v_fit_function_err(x, amp, phase, const, pcov):\n",
    "    dfdA = v_fit_function(x, 1.0, phase, const)\n",
    "    dfdP = -1.0*h_fit_function(x, amp, phase, const)\n",
    "    dfdC = 1.0\n",
    "    \n",
    "    termA = np.diag(pcov)[0]*np.square(dfdA)\n",
    "    termP = np.diag(pcov)[1]*np.square(dfdP)\n",
    "    termC = np.diag(pcov)[2]*np.square(dfdC)\n",
    "    \n",
    "    termAP = 2.0*pcov[0,1]*dfdA*dfdP\n",
    "    termAC = 2.0*pcov[0,2]*dfdA*dfdC\n",
    "    termPC = 2.0*pcov[1,2]*dfdP*dfdC\n",
    "    \n",
    "    return np.sqrt(termA + termP + termC + termAP + termAC + termPC)"
   ]
  },
  {
   "cell_type": "code",
   "execution_count": 131,
   "metadata": {},
   "outputs": [],
   "source": [
    "def extract_avgs(df, label=''):\n",
    "    return np.array([np.average(df['md{0}{1}_value'.format(i, label)],\n",
    "                     weights=1/np.square(df['md{0}{1}_err'.format(i, label)]), \n",
    "                     returned=True) for i in np.arange(1,9,1)])\n",
    "\n",
    "def extract_sc_avgs(df):\n",
    "    return np.array([np.average(df['sign_correction']*df['md{0}_value'.format(i)],\n",
    "                     weights=1/np.square(df['md{0}_err'.format(i)]), \n",
    "                     returned=True) for i in np.arange(1,9,1)])\n",
    "\n",
    "def format_avgs(avgs):\n",
    "    cv = avgs[:,0]\n",
    "    err = 1/np.sqrt(avgs[:,1])\n",
    "    return cv, err"
   ]
  },
  {
   "cell_type": "code",
   "execution_count": 132,
   "metadata": {},
   "outputs": [],
   "source": [
    "def calc_chi2(data, fit, err, dof):\n",
    "    chi2 = np.sum(np.square(data-fit)/np.square(err))\n",
    "    return chi2, chi2/dof\n",
    "\n",
    "def chi2probdistribution(chi2, dof):\n",
    "    if chi2 > 0:\n",
    "        num = np.power(chi2,(dof-2.0)/2.0)*np.exp(-chi2/2.0)\n",
    "        dem = np.power(2.0,(dof/2.0))*gamma(dof/2.0)\n",
    "        return num/dem\n",
    "    elif chi2 == 0:\n",
    "        return 0\n",
    "    else:\n",
    "        print('Chi^2 values < 0 not valid!')\n",
    "                   \n",
    "def calc_chi2prob(chi2, dof):\n",
    "    return quad(chi2probdistribution, chi2, np.inf, (dof))"
   ]
  },
  {
   "cell_type": "code",
   "execution_count": 133,
   "metadata": {},
   "outputs": [],
   "source": [
    "# Extract MD Asym Data\n",
    "r1_v_data = extract_mds_asym(r1_v_tree)\n",
    "r2_h_data = extract_mds_asym(r2_h_tree)\n",
    "r2_v_data = extract_mds_asym(r2_v_tree)"
   ]
  },
  {
   "cell_type": "code",
   "execution_count": 134,
   "metadata": {},
   "outputs": [],
   "source": [
    "# Extract POS/NEG PMT Asym Data\n",
    "r1_v_pmt_data = extract_pmt_asym(r1_v_tree)\n",
    "r2_h_pmt_data = extract_pmt_asym(r2_h_tree)\n",
    "r2_v_pmt_data = extract_pmt_asym(r2_v_tree)"
   ]
  },
  {
   "cell_type": "code",
   "execution_count": null,
   "metadata": {},
   "outputs": [],
   "source": []
  },
  {
   "cell_type": "code",
   "execution_count": 135,
   "metadata": {},
   "outputs": [],
   "source": [
    "# Data cuts (Pandas Dataframe query)\n",
    "query = 'quality_id == 1'\n",
    "in_query = 'ihwp == 1 and quality_id ==1'\n",
    "out_query = 'ihwp == 0 and quality_id ==1'"
   ]
  },
  {
   "cell_type": "code",
   "execution_count": 136,
   "metadata": {},
   "outputs": [],
   "source": [
    "# Apply cuts to data\n",
    "r1_v_data_cut = r1_v_data.query(query)\n",
    "r2_h_data_cut = r2_h_data.query(query)\n",
    "r2_v_data_cut = r2_v_data.query(query)\n",
    "\n",
    "# Apply cuts to get ihwp IN and OUT states\n",
    "r1_v_in_data = r1_v_data.query(in_query)\n",
    "r1_v_out_data = r1_v_data.query(out_query)\n",
    "r2_h_in_data = r2_h_data.query(in_query)\n",
    "r2_h_out_data = r2_h_data.query(out_query)\n",
    "r2_v_in_data = r2_v_data.query(in_query)\n",
    "r2_v_out_data = r2_v_data.query(out_query)\n",
    "\n",
    "# Apply cuts to PMT data\n",
    "r1_v_pmt_data_cut = r1_v_pmt_data.query(query)\n",
    "r2_h_pmt_data_cut = r2_h_pmt_data.query(query)\n",
    "r2_v_pmt_data_cut = r2_v_pmt_data.query(query)"
   ]
  },
  {
   "cell_type": "code",
   "execution_count": 137,
   "metadata": {},
   "outputs": [
    {
     "data": {
      "text/plain": [
       "(70, 71)"
      ]
     },
     "execution_count": 137,
     "metadata": {},
     "output_type": "execute_result"
    }
   ],
   "source": [
    "len(r1_v_pmt_data_cut), len(r1_v_pmt_data)"
   ]
  },
  {
   "cell_type": "code",
   "execution_count": null,
   "metadata": {},
   "outputs": [],
   "source": []
  },
  {
   "cell_type": "code",
   "execution_count": 138,
   "metadata": {},
   "outputs": [],
   "source": [
    "# Calculated Error Weighted Averages\n",
    "r1_v_avg, r1_v_avg_err = format_avgs(extract_sc_avgs(r1_v_data_cut))\n",
    "r2_h_avg, r2_h_avg_err = format_avgs(extract_sc_avgs(r2_h_data_cut))\n",
    "r2_v_avg, r2_v_avg_err = format_avgs(extract_sc_avgs(r2_v_data_cut))\n",
    "\n",
    "r1_v_in_avg, r1_v_in_avg_err = format_avgs(extract_avgs(r1_v_in_data))\n",
    "r1_v_out_avg, r1_v_out_avg_err = format_avgs(extract_avgs(r1_v_out_data))\n",
    "r2_h_in_avg, r2_h_in_avg_err = format_avgs(extract_avgs(r2_h_in_data))\n",
    "r2_h_out_avg, r2_h_out_avg_err = format_avgs(extract_avgs(r2_h_out_data))\n",
    "r2_v_in_avg, r2_v_in_avg_err = format_avgs(extract_avgs(r2_v_in_data))\n",
    "r2_v_out_avg, r2_v_out_avg_err = format_avgs(extract_avgs(r2_v_out_data))\n",
    "\n",
    "r1_v_neg_avg, r1_v_neg_avg_err = format_avgs(extract_avgs(r1_v_pmt_data_cut, 'neg'))\n",
    "r1_v_pos_avg, r1_v_pos_avg_err = format_avgs(extract_avgs(r1_v_pmt_data_cut, 'pos'))\n",
    "r2_h_neg_avg, r2_h_neg_avg_err = format_avgs(extract_avgs(r2_h_pmt_data_cut, 'neg'))\n",
    "r2_h_pos_avg, r2_h_pos_avg_err = format_avgs(extract_avgs(r2_h_pmt_data_cut, 'pos'))\n",
    "r2_v_neg_avg, r2_v_neg_avg_err = format_avgs(extract_avgs(r2_v_pmt_data_cut, 'neg'))\n",
    "r2_v_pos_avg, r2_v_pos_avg_err = format_avgs(extract_avgs(r2_v_pmt_data_cut, 'pos'))"
   ]
  },
  {
   "cell_type": "code",
   "execution_count": 139,
   "metadata": {},
   "outputs": [],
   "source": [
    "#md_avgs = pd.DataFrame()"
   ]
  },
  {
   "cell_type": "code",
   "execution_count": 140,
   "metadata": {},
   "outputs": [],
   "source": [
    "#md_avgs['r1_v_avg'] = r1_v_avg\n",
    "#md_avgs['r1_v_err'] = r1_v_avg_err\n",
    "#md_avgs['r2_h_avg'] = r2_h_avg\n",
    "#md_avgs['r2_h_err'] = r2_h_avg_err\n",
    "#md_avgs['r2_v_avg'] = r2_v_avg\n",
    "#md_avgs['r2_v_err'] = r2_v_avg_err"
   ]
  },
  {
   "cell_type": "code",
   "execution_count": 141,
   "metadata": {},
   "outputs": [],
   "source": [
    "#md_avgs.head()"
   ]
  },
  {
   "cell_type": "code",
   "execution_count": 142,
   "metadata": {},
   "outputs": [],
   "source": [
    "#md_avgs.to_csv('data/trans_al_unregressed.csv')"
   ]
  },
  {
   "cell_type": "code",
   "execution_count": 143,
   "metadata": {},
   "outputs": [],
   "source": [
    "md_label = np.arange(1,9,1)\n",
    "\n",
    "def fit_data(label, avg, avg_err):\n",
    "    if label[3:] == 'v':\n",
    "        popt, pcov = curve_fit(v_fit_function, \n",
    "                               md_label, \n",
    "                               avg, \n",
    "                               sigma=avg_err, \n",
    "                               absolute_sigma=True, method = 'trf', bounds=([-np.inf, -np.pi/8.0, -np.inf],[np.inf, np.pi/8.0, np.inf]))\n",
    "        dof = len(md_label)-len(popt)\n",
    "        chi2, rchi2 = calc_chi2(avg, v_fit_function(md_label, *popt), avg_err, dof)\n",
    "        prob = calc_chi2prob(chi2, dof)\n",
    "    elif label[3:] == 'h':\n",
    "        popt, pcov = curve_fit(h_fit_function, \n",
    "                               md_label, \n",
    "                               avg, \n",
    "                               sigma=avg_err, \n",
    "                               absolute_sigma=True, method = 'trf', bounds=([-np.inf, -np.pi/8.0, -np.inf],[np.inf, np.pi/8.0, np.inf]))\n",
    "        dof = len(md_label)-len(popt)\n",
    "        chi2, rchi2 = calc_chi2(avg, h_fit_function(md_label, *popt), avg_err, dof)\n",
    "        prob = calc_chi2prob(chi2, dof)\n",
    "    else:\n",
    "        print('Use correct label!')\n",
    "    \n",
    "    return popt, pcov, chi2, dof, rchi2, prob\n",
    "\n",
    "def calc_null(in_avg, in_avg_err, out_avg, out_avg_err):\n",
    "    null = (in_avg+out_avg)/2.0\n",
    "    null_err = np.sqrt(0.25*np.square(in_avg_err) + 0.25*np.square(out_avg_err))\n",
    "    return null, null_err\n",
    "    \n",
    "def calc_ewavg(value, value_err):\n",
    "    avg, sow = np.average(value, weights=1/np.square(value_err), returned=True)\n",
    "    avg_err = 1/np.sqrt(sow)\n",
    "    dof = len(value)-1\n",
    "    chi2, rchi2 = calc_chi2(value, avg, value_err, dof)\n",
    "    prob = calc_chi2prob(chi2, dof)\n",
    "    return avg, avg_err, chi2, dof, rchi2, prob\n",
    "\n",
    "def calc_pmtdd(neg_avg, neg_avg_err, pos_avg, pos_avg_err):\n",
    "    dd = neg_avg - pos_avg\n",
    "    dd_err = np.sqrt(np.square(neg_avg_err)+np.square(pos_avg_err))\n",
    "    return dd, dd_err\n",
    "\n",
    "def print_fit_stats(label, popt, pcov, rchi2, prob):\n",
    "    if label == 'NULL' or label == 'PMTDD':\n",
    "        print('----------{0}----------'.format(label))\n",
    "        print('    Constant: {0:.5}+-{1:.5} [ppm]'.format(np.round(popt, 4), np.round(pcov,4)))\n",
    "        print('       RChi2: {0:.5}'.format(np.round(rchi2, 4)))\n",
    "        print('        Prob: {0:.5}'.format(np.round(prob[0], 4)))\n",
    "    else:\n",
    "        print('----------{0}----------'.format(label))\n",
    "        print('   Amplitude: {0:.5}+-{1:.5} [ppm]'.format(np.round(popt[0], 4), np.round(np.sqrt(np.diag(pcov))[0], 4)))\n",
    "        print('Phase Offset: {0:.5}+-{1:.5} [rad]'.format(np.round(popt[1], 4), np.round(np.sqrt(np.diag(pcov))[1], 4)))\n",
    "        print('    Constant: {0:.5}+-{1:.5} [ppm]'.format(np.round(popt[2], 4), np.round(np.sqrt(np.diag(pcov))[2], 4)))\n",
    "        print('       RChi2: {0:.5}'.format(np.round(rchi2, 4)))\n",
    "        print('        Prob: {0:.5}'.format(np.round(prob[0], 4)))"
   ]
  },
  {
   "cell_type": "code",
   "execution_count": 144,
   "metadata": {},
   "outputs": [],
   "source": [
    "# Fit transverse MD asymmetries\n",
    "r1_v_popt, r1_v_pcov, r1_v_chi2, r1_v_dof, r1_v_rchi2, r1_v_fit_prob = fit_data('r1_v', r1_v_avg, r1_v_avg_err)\n",
    "r2_h_popt, r2_h_pcov, r2_h_chi2, r2_h_dof, r2_h_rchi2, r2_h_fit_prob = fit_data('r2_h', r2_h_avg, r2_h_avg_err)\n",
    "r2_v_popt, r2_v_pcov, r2_v_chi2, r2_v_dof, r2_v_rchi2, r2_v_fit_prob = fit_data('r2_v', r2_v_avg, r2_v_avg_err)\n",
    "\n",
    "# Fit transverse MD IN/OUT asymmetries\n",
    "r1_v_in_popt, r1_v_in_pcov, r1_v_in_chi2, r1_v_in_dof, r1_v_in_rchi2, r1_v_in_fit_prob = fit_data('r1_v', r1_v_in_avg, r1_v_in_avg_err)\n",
    "r1_v_out_popt, r1_v_out_pcov, r1_v_out_chi2, r1_v_out_dof, r1_v_out_rchi2, r1_v_out_fit_prob = fit_data('r1_v', r1_v_out_avg, r1_v_out_avg_err)\n",
    "r2_h_in_popt, r2_h_in_pcov, r2_h_in_chi2, r2_h_in_dof, r2_h_in_rchi2, r2_h_in_fit_prob = fit_data('r2_h', r2_h_in_avg, r2_h_in_avg_err)\n",
    "r2_h_out_popt, r2_h_out_pcov, r2_h_out_chi2, r2_h_out_dof, r2_h_out_rchi2, r2_h_out_fit_prob = fit_data('r2_h', r2_h_out_avg, r2_h_out_avg_err)\n",
    "r2_v_in_popt, r2_v_in_pcov, r2_v_in_chi2, r2_v_in_dof, r2_v_in_rchi2, r2_v_in_fit_prob = fit_data('r2_v', r2_v_in_avg, r2_v_in_avg_err)\n",
    "r2_v_out_popt, r2_v_out_pcov, r2_v_out_chi2, r2_v_out_dof, r2_v_out_rchi2, r2_v_out_fit_prob = fit_data('r2_v', r2_v_out_avg, r2_v_out_avg_err)"
   ]
  },
  {
   "cell_type": "code",
   "execution_count": 145,
   "metadata": {},
   "outputs": [],
   "source": [
    "md_fit_range = np.linspace(0.5,8.5,1000)"
   ]
  },
  {
   "cell_type": "code",
   "execution_count": 146,
   "metadata": {},
   "outputs": [],
   "source": [
    "def plot(label, avg, avg_err, popt, pcov, rchi2, prob):\n",
    "    fig, ax = pp.subplots(figsize=figsize(0.9))\n",
    "    ax.errorbar(md_label, \n",
    "                avg, \n",
    "                yerr=avg_err, \n",
    "                ls='None', \n",
    "                marker='d', \n",
    "                capsize=2.0, \n",
    "                capthick=1.0, \n",
    "                barsabove=True, \n",
    "                color=sns.xkcd_rgb['dull blue'])\n",
    "    if label[3:] == 'v':\n",
    "        ax.plot(md_fit_range, v_fit_function(md_fit_range, *popt), zorder=-10, color=sns.xkcd_rgb['dull red'])\n",
    "        ax.fill_between(md_fit_range, \n",
    "                        v_fit_function(md_fit_range, *popt)-v_fit_function_err(md_fit_range, *popt, pcov), \n",
    "                        v_fit_function(md_fit_range, *popt)+v_fit_function_err(md_fit_range, *popt, pcov), \n",
    "                        color=sns.xkcd_rgb['dull red'], \n",
    "                        alpha=0.2)\n",
    "    elif label[3:] == 'h':\n",
    "        ax.plot(md_fit_range, h_fit_function(md_fit_range, *popt), zorder=-10, color=sns.xkcd_rgb['dull red'])\n",
    "        ax.fill_between(md_fit_range, \n",
    "                        h_fit_function(md_fit_range, *popt)-h_fit_function_err(md_fit_range, *popt, pcov), \n",
    "                        h_fit_function(md_fit_range, *popt)+h_fit_function_err(md_fit_range, *popt, pcov), \n",
    "                        color=sns.xkcd_rgb['dull red'], \n",
    "                        alpha=0.2)\n",
    "    ax.set_xlim(0.5, 8.5)\n",
    "    ax.set_xlabel('Main Detector')\n",
    "    ax.set_ylabel('Asymmetry [ppm]')\n",
    "    ax.yaxis.set_minor_locator(AutoMinorLocator(4))\n",
    "    print_fit_stats('PHYS', popt, pcov, rchi2, prob)\n",
    "    #pp.savefig('plots/al_trans_{0}_phys_asym_on.png'.format(label), bbox_inches='tight')\n",
    "    #pp.savefig('plots/al_trans_{0}_phys_asym_on.pdf'.format(label), bbox_inches='tight')\n",
    "    #pp.savefig('plots/al_trans_{0}_phys_asym_on.pgf'.format(label), bbox_inches='tight')\n",
    "    pp.show()"
   ]
  },
  {
   "cell_type": "code",
   "execution_count": 147,
   "metadata": {},
   "outputs": [],
   "source": [
    "def null_plot(label, in_avg, in_avg_err, in_popt, in_pcov, in_rchi2, in_prob, out_avg, out_avg_err, out_popt, out_pcov, out_rchi2, out_prob):\n",
    "    fig, ax = pp.subplots(figsize=figsize(0.9))\n",
    "    # Plot In states \n",
    "    ax.errorbar(md_label, \n",
    "                in_avg, \n",
    "                yerr=in_avg_err, \n",
    "                ls='None', \n",
    "                marker='s', \n",
    "                capsize=2.0, \n",
    "                capthick=1.0, \n",
    "                barsabove=True,\n",
    "                color=sns.xkcd_rgb['dull purple'], \n",
    "                label='In')\n",
    "    if label[3:] == 'v':\n",
    "        ax.plot(md_fit_range, v_fit_function(md_fit_range, *in_popt), zorder=-10, color=sns.xkcd_rgb['dull purple'], label='In Fit')\n",
    "        ax.fill_between(md_fit_range, \n",
    "                        v_fit_function(md_fit_range, *in_popt)-v_fit_function_err(md_fit_range, *in_popt, in_pcov), \n",
    "                        v_fit_function(md_fit_range, *in_popt)+v_fit_function_err(md_fit_range, *in_popt, in_pcov), \n",
    "                        color=sns.xkcd_rgb['dull purple'], \n",
    "                        alpha=0.2 )\n",
    "    elif label[3:] == 'h':\n",
    "        ax.plot(md_fit_range, h_fit_function(md_fit_range, *in_popt), zorder=-10, color=sns.xkcd_rgb['dull purple'], label='In Fit')\n",
    "        ax.fill_between(md_fit_range, \n",
    "                        h_fit_function(md_fit_range, *in_popt)-h_fit_function_err(md_fit_range, *in_popt, in_pcov), \n",
    "                        h_fit_function(md_fit_range, *in_popt)+h_fit_function_err(md_fit_range, *in_popt, in_pcov), \n",
    "                        color=sns.xkcd_rgb['dull purple'], \n",
    "                        alpha=0.2 )\n",
    "    # Plot Out states\n",
    "    ax.errorbar(md_label, \n",
    "                out_avg, \n",
    "                yerr=out_avg_err, \n",
    "                ls='None', \n",
    "                marker='o', \n",
    "                capsize=2.0, \n",
    "                capthick=1.0, \n",
    "                barsabove=True, \n",
    "                color=sns.xkcd_rgb['dull orange'], \n",
    "                label='Out')\n",
    "    if label[3:] == 'v':\n",
    "        ax.plot(md_fit_range, v_fit_function(md_fit_range, *out_popt), zorder=-10, color=sns.xkcd_rgb['dull orange'], label='Out Fit')\n",
    "        ax.fill_between(md_fit_range, \n",
    "                        v_fit_function(md_fit_range, *out_popt)-v_fit_function_err(md_fit_range, *out_popt, out_pcov), \n",
    "                        v_fit_function(md_fit_range, *out_popt)+v_fit_function_err(md_fit_range, *out_popt, out_pcov), \n",
    "                        color=sns.xkcd_rgb['dull orange'], \n",
    "                        alpha=0.2 )\n",
    "    elif label[3:] == 'h':\n",
    "        ax.plot(md_fit_range, h_fit_function(md_fit_range, *out_popt), zorder=-10, color=sns.xkcd_rgb['dull orange'], label='Out Fit')\n",
    "        ax.fill_between(md_fit_range, \n",
    "                        h_fit_function(md_fit_range, *out_popt)-h_fit_function_err(md_fit_range, *out_popt, out_pcov), \n",
    "                        h_fit_function(md_fit_range, *out_popt)+h_fit_function_err(md_fit_range, *out_popt, out_pcov), \n",
    "                        color=sns.xkcd_rgb['dull orange'], \n",
    "                        alpha=0.2 )\n",
    "    # Plot NULL\n",
    "    null, null_err = calc_null(in_avg, in_avg_err, out_avg, out_avg_err)\n",
    "    null_avg, null_avg_err, null_chi2, null_dof, null_rchi2, null_prob = calc_ewavg(null, null_err)\n",
    "    ax.errorbar(md_label, \n",
    "                null, \n",
    "                yerr=null_err, \n",
    "                ls='None', \n",
    "                marker='d', \n",
    "                capsize=2.0, \n",
    "                capthick=1.0, \n",
    "                barsabove=True, \n",
    "                color=sns.xkcd_rgb['dull green'], \n",
    "                label='Null')\n",
    "    ax.plot([0.5, 8.5], [null_avg, null_avg], zorder=-10, color=sns.xkcd_rgb['dull green'], label='Null Avg')\n",
    "    ax.fill_between([0.5, 8.5], \n",
    "                    null_avg-null_avg_err, \n",
    "                    null_avg+null_avg_err, \n",
    "                    color=sns.xkcd_rgb['dull green'], \n",
    "                    alpha=0.2)\n",
    "    ax.set_xlim(0.5, 8.5)\n",
    "    ax.set_xlabel('Main Detector')\n",
    "    ax.set_ylabel('Asymmetry [ppm]')\n",
    "    ax.yaxis.set_minor_locator(AutoMinorLocator(4))\n",
    "    ax.legend(loc='upper left', bbox_to_anchor=(1.02,1.0))\n",
    "    print_fit_stats('IN', in_popt, in_pcov, in_rchi2, in_prob)\n",
    "    print_fit_stats('OUT', out_popt, out_pcov, out_rchi2, out_prob)\n",
    "    print_fit_stats('NULL', null_avg, null_avg_err, null_rchi2, null_prob)\n",
    "    #pp.savefig('plots/al_trans_{0}_null_asym_on.png'.format(label), bbox_inches='tight')\n",
    "    #pp.savefig('plots/al_trans_{0}_null_asym_on.pdf'.format(label), bbox_inches='tight')\n",
    "    #pp.savefig('plots/al_trans_{0}_null_asym_on.pgf'.format(label), bbox_inches='tight')\n",
    "    pp.show()"
   ]
  },
  {
   "cell_type": "code",
   "execution_count": 148,
   "metadata": {},
   "outputs": [
    {
     "name": "stdout",
     "output_type": "stream",
     "text": [
      "----------PHYS----------\n",
      "   Amplitude: 0.0+-5.977e+04 [ppm]\n",
      "Phase Offset: -0.0388+-0.0 [rad]\n",
      "    Constant: -5.7143e+04+-4.2258e+04 [ppm]\n",
      "       RChi2: 0.0\n",
      "        Prob: 1.0\n"
     ]
    },
    {
     "data": {
      "image/png": "[encoded data removed]",
      "text/plain": [
       "<matplotlib.figure.Figure at 0x7fa774690518>"
      ]
     },
     "metadata": {},
     "output_type": "display_data"
    }
   ],
   "source": [
    "plot('r1_v', r1_v_avg, r1_v_avg_err, r1_v_popt, r1_v_pcov, r1_v_rchi2, r1_v_fit_prob)"
   ]
  },
  {
   "cell_type": "code",
   "execution_count": 149,
   "metadata": {},
   "outputs": [
    {
     "name": "stdout",
     "output_type": "stream",
     "text": [
      "----------PHYS----------\n",
      "   Amplitude: -8.4895+-0.4992 [ppm]\n",
      "Phase Offset: 0.0519+-0.0588 [rad]\n",
      "    Constant: -0.0988+-0.353 [ppm]\n",
      "       RChi2: 1.1717\n",
      "        Prob: 0.3202\n"
     ]
    },
    {
     "data": {
      "image/png": "[encoded data removed]",
      "text/plain": [
       "<matplotlib.figure.Figure at 0x7fa7787c00f0>"
      ]
     },
     "metadata": {},
     "output_type": "display_data"
    }
   ],
   "source": [
    "plot('r2_h', r2_h_avg, r2_h_avg_err, r2_h_popt, r2_h_pcov, r2_h_rchi2, r2_h_fit_prob)"
   ]
  },
  {
   "cell_type": "code",
   "execution_count": 150,
   "metadata": {},
   "outputs": [
    {
     "name": "stdout",
     "output_type": "stream",
     "text": [
      "----------PHYS----------\n",
      "   Amplitude: -8.6329+-0.7271 [ppm]\n",
      "Phase Offset: -0.011+-0.0842 [rad]\n",
      "    Constant: 0.1928+-0.514 [ppm]\n",
      "       RChi2: 0.6205\n",
      "        Prob: 0.6842\n"
     ]
    },
    {
     "data": {
      "image/png": "[encoded data removed]",
      "text/plain": [
       "<matplotlib.figure.Figure at 0x7fa7745d57f0>"
      ]
     },
     "metadata": {},
     "output_type": "display_data"
    }
   ],
   "source": [
    "plot('r2_v', r2_v_avg, r2_v_avg_err, r2_v_popt, r2_v_pcov, r2_v_rchi2, r2_v_fit_prob)"
   ]
  },
  {
   "cell_type": "code",
   "execution_count": null,
   "metadata": {},
   "outputs": [],
   "source": [
    "def calc_combined_phys_asym(r1_v_asym, r1_v_asym_err, r2_h_asym, r2_h_asym_err, r2_v_asym, r2_v_asym_err):\n",
    "    asym = [r1_v_asym, r2_h_asym, r2_v_asym]\n",
    "    err = [r1_v_asym_err, r2_h_asym_err, r2_v_asym_err]\n",
    "    avg, sow = np.average(asym, weights=1/np.square(err), returned=True)\n",
    "    avg_err = 1/np.sqrt(sow)\n",
    "    print(' Combined Phys. Asym: {0:.5}+-{1:.5} [ppm]'.format(avg, avg_err))\n",
    "    print('Relative Uncertainty: {0:.5}%'.format(100.0*np.abs(avg_err/avg)))"
   ]
  },
  {
   "cell_type": "code",
   "execution_count": null,
   "metadata": {},
   "outputs": [],
   "source": [
    "fig, ax = pp.subplots(figsize=figsize(0.9))\n",
    "ax.errorbar([0,1,2], \n",
    "            [r1_v_popt[0], r2_h_popt[0], r2_v_popt[0]],\n",
    "            yerr=[np.sqrt(np.diag(r1_v_pcov)[0]), np.sqrt(np.diag(r2_h_pcov)[0]), np.sqrt(np.diag(r2_v_pcov)[0])],\n",
    "            ls='None', marker='d', color=sns.xkcd_rgb['dull blue'])\n",
    "ax.set_xticks([0,1,2])\n",
    "ax.set_xticklabels(['Run 1 Vertical', 'Run2 Horizontal.', 'Run2 Vertical'])\n",
    "ax.set_ylim(-10.0, -7.0)\n",
    "ax.set_ylabel('Asymmetry [ppm]')\n",
    "ax.yaxis.set_minor_locator(AutoMinorLocator(4))\n",
    "pp.show()"
   ]
  },
  {
   "cell_type": "code",
   "execution_count": null,
   "metadata": {},
   "outputs": [],
   "source": [
    "calc_combined_phys_asym(r1_v_popt[0], \n",
    "                        np.sqrt(np.diag(r1_v_pcov)[0]), \n",
    "                        r2_h_popt[0], \n",
    "                        np.sqrt(np.diag(r2_h_pcov)[0]), \n",
    "                        r2_v_popt[0], \n",
    "                        np.sqrt(np.diag(r2_v_pcov)[0]))"
   ]
  },
  {
   "cell_type": "code",
   "execution_count": null,
   "metadata": {},
   "outputs": [],
   "source": [
    "null_plot('r1_v',\n",
    "          r1_v_in_avg, \n",
    "          r1_v_in_avg_err, \n",
    "          r1_v_in_popt, \n",
    "          r1_v_in_pcov, \n",
    "          r1_v_in_rchi2, \n",
    "          r1_v_in_fit_prob, \n",
    "          r1_v_out_avg, \n",
    "          r1_v_out_avg_err, \n",
    "          r1_v_out_popt, \n",
    "          r1_v_out_pcov, \n",
    "          r1_v_out_rchi2, \n",
    "          r1_v_out_fit_prob)"
   ]
  },
  {
   "cell_type": "code",
   "execution_count": null,
   "metadata": {},
   "outputs": [],
   "source": [
    "null_plot('r2_h',\n",
    "          r2_h_in_avg, \n",
    "          r2_h_in_avg_err, \n",
    "          r2_h_in_popt, \n",
    "          r2_h_in_pcov, \n",
    "          r2_h_in_rchi2, \n",
    "          r2_h_in_fit_prob, \n",
    "          r2_h_out_avg, \n",
    "          r2_h_out_avg_err, \n",
    "          r2_h_out_popt, \n",
    "          r2_h_out_pcov, \n",
    "          r2_h_out_rchi2, \n",
    "          r2_h_out_fit_prob)"
   ]
  },
  {
   "cell_type": "code",
   "execution_count": null,
   "metadata": {},
   "outputs": [],
   "source": [
    "null_plot('r2_v',\n",
    "          r2_v_in_avg, \n",
    "          r2_v_in_avg_err, \n",
    "          r2_v_in_popt, \n",
    "          r2_v_in_pcov, \n",
    "          r2_v_in_rchi2, \n",
    "          r2_v_in_fit_prob, \n",
    "          r2_v_out_avg, \n",
    "          r2_v_out_avg_err, \n",
    "          r2_v_out_popt, \n",
    "          r2_v_out_pcov, \n",
    "          r2_v_out_rchi2, \n",
    "          r2_v_out_fit_prob)"
   ]
  },
  {
   "cell_type": "code",
   "execution_count": null,
   "metadata": {},
   "outputs": [],
   "source": [
    "# Calculate PMT DD for the transverse datasets\n",
    "r1_v_pmtdd, r1_v_pmtdd_err = calc_pmtdd(r1_v_neg_avg, r1_v_neg_avg_err, r1_v_pos_avg, r1_v_pos_avg_err)\n",
    "r2_h_pmtdd, r2_h_pmtdd_err = calc_pmtdd(r2_h_neg_avg, r2_h_neg_avg_err, r2_h_pos_avg, r2_h_pos_avg_err)\n",
    "r2_v_pmtdd, r2_v_pmtdd_err = calc_pmtdd(r2_v_neg_avg, r2_v_neg_avg_err, r2_v_pos_avg, r2_v_pos_avg_err)"
   ]
  },
  {
   "cell_type": "code",
   "execution_count": null,
   "metadata": {},
   "outputs": [],
   "source": [
    "def pmtdd_plot(label, dd, dd_err):\n",
    "    pp.figure(figsize=figsize(1))\n",
    "    dd_avg, dd_avg_err, dd_chi2, dd_dof, dd_rchi2, dd_prob = calc_ewavg(dd, dd_err)\n",
    "    pp.errorbar(md_label, dd, yerr=dd_err, ls='None', marker='d', color=sns.xkcd_rgb['dull blue'])\n",
    "    pp.plot([0.5, 8.5], [dd_avg, dd_avg], color=sns.xkcd_rgb['dull red'])\n",
    "    pp.fill_between([0.5, 8.5], dd_avg-dd_avg_err, dd_avg+dd_avg_err, color=sns.xkcd_rgb['dull red'], alpha=0.2)\n",
    "    pp.tick_params(top=False)\n",
    "    pp.xlim(0.5, 8.5)\n",
    "    pp.xlabel('Main Detector')\n",
    "    pp.ylabel('PMT Double Difference Asymmetry [ppm]')\n",
    "    #pp.legend(loc='upper left', bbox_to_anchor=(1.02,1))\n",
    "    print_fit_stats('PMTDD', dd_avg, dd_avg_err, dd_rchi2, dd_prob)\n",
    "    pp.savefig('plots/al_trans_{0}_pmtdd_asym.png'.format(label), bbox_inches='tight')\n",
    "    pp.savefig('plots/al_trans_{0}_pmtdd_asym.pdf'.format(label), bbox_inches='tight')\n",
    "    pp.savefig('plots/al_trans_{0}_pmtdd_asym.pgf'.format(label), bbox_inches='tight')\n",
    "    pp.show()"
   ]
  },
  {
   "cell_type": "code",
   "execution_count": null,
   "metadata": {},
   "outputs": [],
   "source": [
    "pmtdd_plot('r1_v', r1_v_pmtdd, r1_v_pmtdd_err)"
   ]
  },
  {
   "cell_type": "code",
   "execution_count": null,
   "metadata": {},
   "outputs": [],
   "source": [
    "pmtdd_plot('r2_h',r2_h_pmtdd, r2_h_pmtdd_err)"
   ]
  },
  {
   "cell_type": "code",
   "execution_count": null,
   "metadata": {},
   "outputs": [],
   "source": [
    "pmtdd_plot('r2_v', r2_v_pmtdd, r2_v_pmtdd_err)"
   ]
  },
  {
   "cell_type": "code",
   "execution_count": null,
   "metadata": {},
   "outputs": [],
   "source": []
  },
  {
   "cell_type": "code",
   "execution_count": null,
   "metadata": {},
   "outputs": [],
   "source": []
  }
 ],
 "metadata": {
  "kernelspec": {
   "display_name": "Python 3",
   "language": "python",
   "name": "python3"
  },
  "language_info": {
   "codemirror_mode": {
    "name": "ipython",
    "version": 3
   },
   "file_extension": ".py",
   "mimetype": "text/x-python",
   "name": "python",
   "nbconvert_exporter": "python",
   "pygments_lexer": "ipython3",
   "version": "3.6.5"
  }
 },
 "nbformat": 4,
 "nbformat_minor": 1
}
