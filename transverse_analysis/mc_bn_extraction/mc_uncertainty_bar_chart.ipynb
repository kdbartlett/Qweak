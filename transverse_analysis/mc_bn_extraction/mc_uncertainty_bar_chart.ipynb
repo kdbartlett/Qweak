{
 "cells": [
  {
   "cell_type": "code",
   "execution_count": 1,
   "metadata": {},
   "outputs": [],
   "source": [
    "import numpy as np\n",
    "#This following is so that this will work with Latex, see\n",
    "#http://bkanuka.com/articles/native-latex-plots/\n",
    "import matplotlib as mpl\n",
    "mpl.use('pgf')"
   ]
  },
  {
   "cell_type": "code",
   "execution_count": 2,
   "metadata": {},
   "outputs": [],
   "source": [
    "def figsize(scale):                                 # I think scale is the size you want it on the page\n",
    "    fig_width_pt = 433.62001                        # Get this from LaTeX using \\the\\textwidth\n",
    "    inches_per_pt = 1.0/72.0                        # Convert pt to inch\n",
    "    golden_mean = (np.sqrt(5.0)-1.0)/2.0            # Aesthetic ratio (you could change this)\n",
    "    fig_width = fig_width_pt*inches_per_pt*scale    # width in inches\n",
    "    fig_height = fig_width*golden_mean              # height in inches\n",
    "    fig_size = [fig_width,fig_height]\n",
    "    return fig_size\n",
    "\n",
    "pgf_with_lualatex = {                      # Setup matplotlib to use latex for output\n",
    "    \"pgf.texsystem\": \"lualatex\",           # Change this if using xetex or luatex\n",
    "    \"text.usetex\": True,                   # Use LaTeX to write all text\n",
    "    \"pgf.rcfonts\": False,\n",
    "    #Fonts\n",
    "    \"font.family\": \"serif\",                # Get from the pdf font function on the doc\n",
    "    \"font.serif\": \"Computer Modern Roman\",      \n",
    "    #\"font.sans-serif\": \"Computer Modern Sans serif\",\n",
    "    #\"font.serif\": [],      \n",
    "    \"font.sans-serif\": [],\n",
    "    \"font.monospace\": [], # Blank entries should cause plots to inherit fonts from the document\n",
    "    #Text size\n",
    "    \"font.size\": 11,# Document default is 11pt font.\n",
    "    #\"text.fontsize\": 11,\n",
    "    \"axes.labelsize\": 11,\n",
    "    \"legend.fontsize\": 8,               # Make the legend/label fonts a little smaller\n",
    "    \"xtick.labelsize\": 8,\n",
    "    \"ytick.labelsize\": 8,\n",
    "    ##Axis\n",
    "    #\"axes.labelpad\": 2,     # space between label and axis \n",
    "    \"figure.figsize\": figsize(1.0),     # default fig size of 1.0 textwidth\n",
    "    #Packages\n",
    "    \"pgf.preamble\": [\n",
    "        r\"\\usepackage[utf8x]{inputenc}\",    # use utf8 fonts becasue your computer can handle it :)\n",
    "        r\"\\usepackage[T1]{fontenc}\",        # plots will be generated using this preamble\n",
    "        r\"\\usepackage{amsmath}\",  #need to add math or the ^ won't work\n",
    "        r\"\\usepackage{amssymb}\"]\n",
    "    }\n",
    "\n",
    "mpl.rcParams.update(pgf_with_lualatex)"
   ]
  },
  {
   "cell_type": "code",
   "execution_count": 3,
   "metadata": {},
   "outputs": [],
   "source": [
    "import pandas as pd\n",
    "import matplotlib.pyplot as plt\n",
    "import seaborn as sns\n",
    "from matplotlib.ticker import AutoMinorLocator"
   ]
  },
  {
   "cell_type": "code",
   "execution_count": 4,
   "metadata": {},
   "outputs": [],
   "source": [
    "%matplotlib inline\n",
    "plt.style.use('seaborn-ticks')\n",
    "sns.set_palette(\"muted\")"
   ]
  },
  {
   "cell_type": "code",
   "execution_count": 5,
   "metadata": {},
   "outputs": [],
   "source": [
    "data = pd.read_csv('mc_apv_extraction_output.csv', index_col=0)"
   ]
  },
  {
   "cell_type": "code",
   "execution_count": 6,
   "metadata": {},
   "outputs": [],
   "source": [
    "sdata = data.sort_values(by=['std'], ascending=False)[1:35]"
   ]
  },
  {
   "cell_type": "code",
   "execution_count": 7,
   "metadata": {},
   "outputs": [
    {
     "data": {
      "text/html": [
       "<div>\n",
       "<style scoped>\n",
       "    .dataframe tbody tr th:only-of-type {\n",
       "        vertical-align: middle;\n",
       "    }\n",
       "\n",
       "    .dataframe tbody tr th {\n",
       "        vertical-align: top;\n",
       "    }\n",
       "\n",
       "    .dataframe thead th {\n",
       "        text-align: right;\n",
       "    }\n",
       "</style>\n",
       "<table border=\"1\" class=\"dataframe\">\n",
       "  <thead>\n",
       "    <tr style=\"text-align: right;\">\n",
       "      <th></th>\n",
       "      <th>mean</th>\n",
       "      <th>std</th>\n",
       "    </tr>\n",
       "  </thead>\n",
       "  <tbody>\n",
       "    <tr>\n",
       "      <th>B_inelastic</th>\n",
       "      <td>-16.307624</td>\n",
       "      <td>1.597041e+00</td>\n",
       "    </tr>\n",
       "    <tr>\n",
       "      <th>f_inelastic</th>\n",
       "      <td>-16.315232</td>\n",
       "      <td>5.969939e-01</td>\n",
       "    </tr>\n",
       "    <tr>\n",
       "      <th>P</th>\n",
       "      <td>-16.312072</td>\n",
       "      <td>2.023340e-01</td>\n",
       "    </tr>\n",
       "    <tr>\n",
       "      <th>f_quasi</th>\n",
       "      <td>-16.312179</td>\n",
       "      <td>1.803725e-01</td>\n",
       "    </tr>\n",
       "    <tr>\n",
       "      <th>B_quasi</th>\n",
       "      <td>-16.309414</td>\n",
       "      <td>1.723673e-01</td>\n",
       "    </tr>\n",
       "    <tr>\n",
       "      <th>R_rc</th>\n",
       "      <td>-16.309176</td>\n",
       "      <td>1.629609e-01</td>\n",
       "    </tr>\n",
       "    <tr>\n",
       "      <th>B_bias</th>\n",
       "      <td>-16.309283</td>\n",
       "      <td>1.524092e-01</td>\n",
       "    </tr>\n",
       "    <tr>\n",
       "      <th>B_Zn</th>\n",
       "      <td>-16.309142</td>\n",
       "      <td>1.391271e-01</td>\n",
       "    </tr>\n",
       "    <tr>\n",
       "      <th>f_neutral</th>\n",
       "      <td>-16.309863</td>\n",
       "      <td>9.946003e-02</td>\n",
       "    </tr>\n",
       "    <tr>\n",
       "      <th>B_beamline</th>\n",
       "      <td>-16.309095</td>\n",
       "      <td>9.329313e-02</td>\n",
       "    </tr>\n",
       "    <tr>\n",
       "      <th>B_fit</th>\n",
       "      <td>-16.308983</td>\n",
       "      <td>7.621596e-02</td>\n",
       "    </tr>\n",
       "    <tr>\n",
       "      <th>B_nonlin</th>\n",
       "      <td>-16.309215</td>\n",
       "      <td>7.019283e-02</td>\n",
       "    </tr>\n",
       "    <tr>\n",
       "      <th>B_acc</th>\n",
       "      <td>-16.309297</td>\n",
       "      <td>5.040142e-02</td>\n",
       "    </tr>\n",
       "    <tr>\n",
       "      <th>B_Cu</th>\n",
       "      <td>-16.309114</td>\n",
       "      <td>3.967244e-02</td>\n",
       "    </tr>\n",
       "    <tr>\n",
       "      <th>R_q2</th>\n",
       "      <td>-16.309092</td>\n",
       "      <td>3.591622e-02</td>\n",
       "    </tr>\n",
       "    <tr>\n",
       "      <th>B_Mg</th>\n",
       "      <td>-16.309154</td>\n",
       "      <td>3.487406e-02</td>\n",
       "    </tr>\n",
       "    <tr>\n",
       "      <th>B_reg</th>\n",
       "      <td>-16.309085</td>\n",
       "      <td>2.999561e-02</td>\n",
       "    </tr>\n",
       "    <tr>\n",
       "      <th>R_det</th>\n",
       "      <td>-16.309092</td>\n",
       "      <td>2.783222e-02</td>\n",
       "    </tr>\n",
       "    <tr>\n",
       "      <th>f_Mg</th>\n",
       "      <td>-16.309198</td>\n",
       "      <td>1.622238e-02</td>\n",
       "    </tr>\n",
       "    <tr>\n",
       "      <th>f_Zn</th>\n",
       "      <td>-16.309159</td>\n",
       "      <td>1.566291e-02</td>\n",
       "    </tr>\n",
       "    <tr>\n",
       "      <th>f_beamline</th>\n",
       "      <td>-16.309121</td>\n",
       "      <td>1.325726e-02</td>\n",
       "    </tr>\n",
       "    <tr>\n",
       "      <th>B_Cr</th>\n",
       "      <td>-16.309127</td>\n",
       "      <td>4.765700e-03</td>\n",
       "    </tr>\n",
       "    <tr>\n",
       "      <th>f_Cu</th>\n",
       "      <td>-16.309118</td>\n",
       "      <td>4.530551e-03</td>\n",
       "    </tr>\n",
       "    <tr>\n",
       "      <th>B_Fe</th>\n",
       "      <td>-16.309108</td>\n",
       "      <td>2.656119e-03</td>\n",
       "    </tr>\n",
       "    <tr>\n",
       "      <th>B_Si</th>\n",
       "      <td>-16.309114</td>\n",
       "      <td>1.452006e-03</td>\n",
       "    </tr>\n",
       "    <tr>\n",
       "      <th>B_Mn</th>\n",
       "      <td>-16.309116</td>\n",
       "      <td>9.375656e-04</td>\n",
       "    </tr>\n",
       "    <tr>\n",
       "      <th>f_Cr</th>\n",
       "      <td>-16.309114</td>\n",
       "      <td>7.019422e-04</td>\n",
       "    </tr>\n",
       "    <tr>\n",
       "      <th>f_Si</th>\n",
       "      <td>-16.309114</td>\n",
       "      <td>6.796176e-04</td>\n",
       "    </tr>\n",
       "    <tr>\n",
       "      <th>B_Ti</th>\n",
       "      <td>-16.309116</td>\n",
       "      <td>6.338960e-04</td>\n",
       "    </tr>\n",
       "    <tr>\n",
       "      <th>f_Mn</th>\n",
       "      <td>-16.309116</td>\n",
       "      <td>5.542401e-04</td>\n",
       "    </tr>\n",
       "    <tr>\n",
       "      <th>f_Ti</th>\n",
       "      <td>-16.309115</td>\n",
       "      <td>4.425302e-04</td>\n",
       "    </tr>\n",
       "    <tr>\n",
       "      <th>f_Fe</th>\n",
       "      <td>-16.309115</td>\n",
       "      <td>3.915401e-04</td>\n",
       "    </tr>\n",
       "    <tr>\n",
       "      <th>B_raw</th>\n",
       "      <td>-16.309115</td>\n",
       "      <td>2.221121e-10</td>\n",
       "    </tr>\n",
       "    <tr>\n",
       "      <th>B_neutral</th>\n",
       "      <td>-16.309115</td>\n",
       "      <td>2.221121e-10</td>\n",
       "    </tr>\n",
       "  </tbody>\n",
       "</table>\n",
       "</div>"
      ],
      "text/plain": [
       "                  mean           std\n",
       "B_inelastic -16.307624  1.597041e+00\n",
       "f_inelastic -16.315232  5.969939e-01\n",
       "P           -16.312072  2.023340e-01\n",
       "f_quasi     -16.312179  1.803725e-01\n",
       "B_quasi     -16.309414  1.723673e-01\n",
       "R_rc        -16.309176  1.629609e-01\n",
       "B_bias      -16.309283  1.524092e-01\n",
       "B_Zn        -16.309142  1.391271e-01\n",
       "f_neutral   -16.309863  9.946003e-02\n",
       "B_beamline  -16.309095  9.329313e-02\n",
       "B_fit       -16.308983  7.621596e-02\n",
       "B_nonlin    -16.309215  7.019283e-02\n",
       "B_acc       -16.309297  5.040142e-02\n",
       "B_Cu        -16.309114  3.967244e-02\n",
       "R_q2        -16.309092  3.591622e-02\n",
       "B_Mg        -16.309154  3.487406e-02\n",
       "B_reg       -16.309085  2.999561e-02\n",
       "R_det       -16.309092  2.783222e-02\n",
       "f_Mg        -16.309198  1.622238e-02\n",
       "f_Zn        -16.309159  1.566291e-02\n",
       "f_beamline  -16.309121  1.325726e-02\n",
       "B_Cr        -16.309127  4.765700e-03\n",
       "f_Cu        -16.309118  4.530551e-03\n",
       "B_Fe        -16.309108  2.656119e-03\n",
       "B_Si        -16.309114  1.452006e-03\n",
       "B_Mn        -16.309116  9.375656e-04\n",
       "f_Cr        -16.309114  7.019422e-04\n",
       "f_Si        -16.309114  6.796176e-04\n",
       "B_Ti        -16.309116  6.338960e-04\n",
       "f_Mn        -16.309116  5.542401e-04\n",
       "f_Ti        -16.309115  4.425302e-04\n",
       "f_Fe        -16.309115  3.915401e-04\n",
       "B_raw       -16.309115  2.221121e-10\n",
       "B_neutral   -16.309115  2.221121e-10"
      ]
     },
     "execution_count": 7,
     "metadata": {},
     "output_type": "execute_result"
    }
   ],
   "source": [
    "sdata"
   ]
  },
  {
   "cell_type": "code",
   "execution_count": 8,
   "metadata": {},
   "outputs": [],
   "source": [
    "names = np.empty(0)"
   ]
  },
  {
   "cell_type": "code",
   "execution_count": 9,
   "metadata": {},
   "outputs": [],
   "source": [
    "for entry in sdata.index:\n",
    "    if (len(entry) > 1):\n",
    "        #names = np.append(names, '$' + entry[:2] + '{' + entry[2:] + '}$')\n",
    "        #names = np.append(names, entry[:1] + ' ' + entry[2:])\n",
    "        names = np.append(names, entry[:1] + '(' + entry[2:] + ')')\n",
    "    else:\n",
    "        names = np.append(names, entry)"
   ]
  },
  {
   "cell_type": "code",
   "execution_count": 10,
   "metadata": {},
   "outputs": [
    {
     "data": {
      "text/plain": [
       "array(['B(inelastic)', 'f(inelastic)', 'P', 'f(quasi)', 'B(quasi)',\n",
       "       'R(rc)', 'B(bias)', 'B(Zn)', 'f(neutral)', 'B(beamline)', 'B(fit)',\n",
       "       'B(nonlin)', 'B(acc)', 'B(Cu)', 'R(q2)', 'B(Mg)', 'B(reg)',\n",
       "       'R(det)', 'f(Mg)', 'f(Zn)', 'f(beamline)', 'B(Cr)', 'f(Cu)',\n",
       "       'B(Fe)', 'B(Si)', 'B(Mn)', 'f(Cr)', 'f(Si)', 'B(Ti)', 'f(Mn)',\n",
       "       'f(Ti)', 'f(Fe)', 'B(raw)', 'B(neutral)'], dtype='<U32')"
      ]
     },
     "execution_count": 10,
     "metadata": {},
     "output_type": "execute_result"
    }
   ],
   "source": [
    "names"
   ]
  },
  {
   "cell_type": "code",
   "execution_count": 11,
   "metadata": {},
   "outputs": [],
   "source": [
    "bar_range = np.arange(0.0, len(sdata['std']))\n",
    "name_range = np.arange(-1.0, len(sdata['std']))"
   ]
  },
  {
   "cell_type": "code",
   "execution_count": 12,
   "metadata": {},
   "outputs": [],
   "source": [
    "asym = -16.322\n",
    "stat_uncert = 0.620"
   ]
  },
  {
   "cell_type": "code",
   "execution_count": 13,
   "metadata": {},
   "outputs": [
    {
     "data": {
      "image/png": "[encoded data removed]",
      "text/plain": [
       "<matplotlib.figure.Figure at 0x7fedfa004c88>"
      ]
     },
     "metadata": {},
     "output_type": "display_data"
    }
   ],
   "source": [
    "fig, ax = plt.subplots(figsize=(9,3.375))\n",
    "ax2 = ax.twinx()\n",
    "ax.bar(bar_range, sdata['std'], color=sns.xkcd_rgb['dull blue'])\n",
    "ax.bar(-1, stat_uncert, color=sns.xkcd_rgb['dull red']) #Stats\n",
    "ax.set_xlim(-2,34)\n",
    "ymin, ymax = ax.get_ylim()\n",
    "ax2.set_ylim(0.0, 100.0*(ymax/asym))\n",
    "ax.set_xticks(name_range)\n",
    "ax.set_xticklabels(np.insert(names, 0, 'Stats'), rotation=90, horizontalalignment='center')\n",
    "ax.set_ylabel('Uncertainty Size [ppm]')\n",
    "ax2.set_ylabel('Relative Uncertainty Size [\\%]')\n",
    "ax.yaxis.set_minor_locator(AutoMinorLocator(4))\n",
    "ax2.yaxis.set_minor_locator(AutoMinorLocator(4))\n",
    "ax.grid(True, which='major', axis='y')\n",
    "plt.savefig('plots/uncertainty_chart_ordered.png', bbox_inches='tight')\n",
    "plt.savefig('plots/uncertainty_chart_ordered.pdf', bbox_inches='tight')\n",
    "plt.savefig('plots/uncertainty_chart_ordered.pgf', bbox_inches='tight')\n",
    "plt.show()"
   ]
  },
  {
   "cell_type": "code",
   "execution_count": null,
   "metadata": {},
   "outputs": [],
   "source": []
  },
  {
   "cell_type": "code",
   "execution_count": 57,
   "metadata": {},
   "outputs": [
    {
     "data": {
      "image/png": "[encoded data removed]",
      "text/plain": [
       "<matplotlib.figure.Figure at 0x7fc014642630>"
      ]
     },
     "metadata": {},
     "output_type": "display_data"
    }
   ],
   "source": [
    "fig, ax = plt.subplots(figsize=(6,16))\n",
    "ax.barh(bar_range, sdata['std'])\n",
    "ax.barh(-1, 0.0908, color=sns.xkcd_rgb['dull red']) #Stats\n",
    "ax.set_yticks(bar_range)\n",
    "ax.set_yticklabels(np.insert(names, 0, 'Stats'), horizontalalignment='right')\n",
    "#ax.yticks(bar_range, sdata.index, horizontalalignment='right')\n",
    "ax.set_ylim(-2,61)\n",
    "ax.set_xlabel('Uncertainty Size [ppm]')\n",
    "#pp.savefig('plots/uncertainty_chart_horizontal_ordered.png', bbox_inches='tight')\n",
    "#pp.savefig('plots/uncertainty_chart_horizontal_ordered.pdf', bbox_inches='tight')\n",
    "plt.show()"
   ]
  },
  {
   "cell_type": "code",
   "execution_count": null,
   "metadata": {},
   "outputs": [],
   "source": []
  }
 ],
 "metadata": {
  "kernelspec": {
   "display_name": "Python 3",
   "language": "python",
   "name": "python3"
  },
  "language_info": {
   "codemirror_mode": {
    "name": "ipython",
    "version": 3
   },
   "file_extension": ".py",
   "mimetype": "text/x-python",
   "name": "python",
   "nbconvert_exporter": "python",
   "pygments_lexer": "ipython3",
   "version": "3.6.5"
  }
 },
 "nbformat": 4,
 "nbformat_minor": 2
}
