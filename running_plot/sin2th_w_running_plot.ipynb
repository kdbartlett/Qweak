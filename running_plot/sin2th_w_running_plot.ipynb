{
 "cells": [
  {
   "cell_type": "markdown",
   "metadata": {},
   "source": [
    "# $\\sin^{2}(\\theta_{W})$ Running Plot\n",
    "\n",
    "Kurtis Bartlett\n",
    "\n",
    "2017/3/15\n",
    "\n",
    "Ipython notebook for generating the Marciano $\\sin^{2}(\\theta_{W})$ running with $Q^{2}$ plot.\n",
    "\n",
    "Ref: A. Czarnecki and W. J. Marciano, Polarized Moller Scattering Asymmetries, Int. J. Modern Phys. A15, 2365 (2000)"
   ]
  },
  {
   "cell_type": "code",
   "execution_count": 1,
   "metadata": {
    "collapsed": false
   },
   "outputs": [
    {
     "name": "stderr",
     "output_type": "stream",
     "text": [
      ":0: FutureWarning: IPython widgets are experimental and may change in the future.\n"
     ]
    }
   ],
   "source": [
    "# Import necessary packages and modules\n",
    "import numpy as np\n",
    "import pandas as pd\n",
    "import matplotlib.pyplot as pp\n",
    "import seaborn as sns"
   ]
  },
  {
   "cell_type": "code",
   "execution_count": 2,
   "metadata": {
    "collapsed": true
   },
   "outputs": [],
   "source": [
    "# Use text and computer modern for text formating\n",
    "pp.rcParams[\"text.usetex\"] = \"True\"\n",
    "pp.rcParams[\"font.family\"] = \"serif\"\n",
    "pp.rcParams[\"font.serif\"] = \"Computer Modern Roman\"\n",
    "pp.rcParams[\"font.sans-serif\"] = \"Computer Modern Sans serif\""
   ]
  },
  {
   "cell_type": "code",
   "execution_count": 3,
   "metadata": {
    "collapsed": true
   },
   "outputs": [],
   "source": [
    "# Keep matplotlib plots inline\n",
    "%matplotlib inline"
   ]
  },
  {
   "cell_type": "code",
   "execution_count": 4,
   "metadata": {
    "collapsed": true
   },
   "outputs": [],
   "source": [
    "pp.style.use('seaborn-white')\n",
    "sns.set_palette(\"muted\")\n",
    "plot_size = 6*np.array([1.0,(2.0/(1.0+np.sqrt(5.0)))]) #Use Golden ratio as aspect ratio for plots"
   ]
  },
  {
   "cell_type": "code",
   "execution_count": 5,
   "metadata": {
    "collapsed": true
   },
   "outputs": [],
   "source": [
    "# Constants\n",
    "pi = np.pi\n",
    "alpha = (1.0/137.035999139) # Fine structure constant Ref: PDG 2016\n",
    "sin2thetaw = 0.22336 # On-shell (tree level) SM value of sin^2(theta_w) Ref: PDG 2016\n",
    "cos2thetaw = 0.77664 # On-shell (tree level) SM value of cos^2(theta_w) calculated from sin2theta_w\n",
    "sin2thetawmzmsb = 0.23129 # Value of sin^2(theta_w) evaluated at the Z-pole. Ref: PDG 2016\n",
    "\n",
    "mw = 80.385 # Mass of W^{+-} boson [GeV/c^2] Ref: PDG 2016\n",
    "mz = 91.1876 # Mass of Z boson [GeV/c^2] Ref: PDG 2016\n",
    "\n",
    "# Fermion mass and charge\n",
    "m_f = np.array([0.5109989461, # Electron\n",
    "                2.2, # Up\n",
    "                4.7, # Down\n",
    "                96.0, # Strange\n",
    "                105.6583745, # Muon\n",
    "                1270.0, # Charm\n",
    "                1776.86, # Tau\n",
    "                4180.0, # Bottom\n",
    "               ])/1000.0 # [MeV/c^2]->[GeV/c^2]\n",
    "\n",
    "Q_f = np.array([-1.0, # Electron\n",
    "              (2.0/3.0), # Up\n",
    "              (-1.0/3.0), # Down\n",
    "              (-1.0/3.0), # Strange\n",
    "              -1.0, # Muon\n",
    "              (2.0/3.0), # Charm\n",
    "              (-1.0/3.0), # Bottom\n",
    "              (2.0/3.0)]) # Top\n",
    "\n",
    "T_f = np.array([-0,5, # Electron\n",
    "                0.5, # Up\n",
    "                -0.5, # Down\n",
    "                -0.5, # Strange\n",
    "                -0.5, # Muon\n",
    "                0.5, # Charm\n",
    "                -0.5, # Tau\n",
    "                -0.5]) # Bottom"
   ]
  },
  {
   "cell_type": "code",
   "execution_count": 6,
   "metadata": {
    "collapsed": false
   },
   "outputs": [],
   "source": [
    "# Define functions\n",
    "def kappa_f(qq):\n",
    "    'Fermion Loop Function'\n",
    "    \n",
    "    sum_f = 0.0\n",
    "    fterm_one = 0.0\n",
    "    fterm_two = 0.0\n",
    "    for i in range(len(m_f)):\n",
    "        'Loop over fermion masses'\n",
    "        z_f = (m_f[i]*m_f[i])/qq\n",
    "        \n",
    "        p_f = np.sqrt(1.0 + 4.0*z_f)\n",
    "        \n",
    "        fterm_one = (T_f[i]*Q_f[i] - 2.0*sin2thetaw*Q_f[i]*Q_f[i])\n",
    "        \n",
    "        fterm_two = np.log((m_f[i]*m_f[i])/(mz*mz)) - (5.0/3.0)+ 4.0*z_f + (1.0 - 2.0*z_f)*p_f*np.log((p_f + 1.0)/(p_f - 1.0))\n",
    "        \n",
    "        sum_f = sum_f + fterm_one*fterm_two\n",
    "        \n",
    "    kappa = 1.0 - ((alpha)/(2.0*pi*sin2thetaw))*(sum_f/3.0)\n",
    "    return kappa\n",
    "\n",
    "def kappa_b(qq):\n",
    "    'Boson Loop Function'\n",
    "\n",
    "    z = (mw*mw)/qq\n",
    "    p = np.sqrt(1.0 + 4.0*z)\n",
    "    \n",
    "    term_one = ((-42.0*cos2thetaw + 1.0)/12.0)*np.log(cos2thetaw)\n",
    "    \n",
    "    term_two = (1.0/18.0)\n",
    "    \n",
    "    term_three = (-0.5*p*np.log((p + 1.0)/(p - 1.0))-1.0)*(cos2thetaw*(7.0-4.0*z) + (1.0/6.0)*(1.0 + 4.0*z))\n",
    "    \n",
    "    term_four = -1.0*z*((3.0/4.0) - z + (z - (3.0/2.0))*p*np.log((p+1.0)/(p-1.0)) + z*(2.0 - z)*np.log((p + 1.0)/(p - 1.0))*np.log((p + 1.0)/(p - 1.0)))\n",
    "    \n",
    "    kappa = 1.0 - (alpha/(2.0*pi*sin2thetaw))*(term_one + term_two + term_three + term_four)\n",
    "    return kappa\n",
    "\n",
    "def sin2theta_w(qq):\n",
    "    'Combination of Fermion and Boson Term'\n",
    "    total = (kappa_f(qq) + kappa_b(qq))*sin2thetawmzmsb\n",
    "    return total"
   ]
  },
  {
   "cell_type": "code",
   "execution_count": 7,
   "metadata": {
    "collapsed": false
   },
   "outputs": [],
   "source": [
    "q = np.linspace(1e-1,1e4, 1e4)\n",
    "qq = np.square(q)"
   ]
  },
  {
   "cell_type": "code",
   "execution_count": 8,
   "metadata": {
    "collapsed": false
   },
   "outputs": [],
   "source": [
    "fermion = np.zeros(len(q))\n",
    "boson = np.zeros(len(q))\n",
    "total = np.zeros(len(q))\n",
    "for i in range(len(q)):\n",
    "    fermion[i] = kappa_f(qq[i])*sin2thetawmzmsb\n",
    "    boson[i] = kappa_b(qq[i])*sin2thetawmzmsb\n",
    "    total[i] = sin2theta_w(qq[i])"
   ]
  },
  {
   "cell_type": "code",
   "execution_count": 9,
   "metadata": {
    "collapsed": false
   },
   "outputs": [
    {
     "data": {
      "text/plain": [
       "array([ -3.79192676e+03,  -3.10919982e+01,  -8.35442984e+00,\n",
       "        -3.70225784e+00,  -2.01238304e+00,  -1.21458592e+00,\n",
       "        -7.75822078e-01,  -5.09006543e-01,  -3.34756938e-01,\n",
       "        -2.14726103e-01])"
      ]
     },
     "execution_count": 9,
     "metadata": {},
     "output_type": "execute_result"
    }
   ],
   "source": [
    "boson[:10]"
   ]
  },
  {
   "cell_type": "code",
   "execution_count": 10,
   "metadata": {
    "collapsed": false
   },
   "outputs": [
    {
     "data": {
      "image/png": "[encoded data removed]",
      "text/plain": [
       "<matplotlib.figure.Figure at 0x7fe99cf20b70>"
      ]
     },
     "metadata": {},
     "output_type": "display_data"
    }
   ],
   "source": [
    "pp.figure(figsize=plot_size)\n",
    "pp.plot(q,fermion, color=sns.xkcd_rgb['medium green'])\n",
    "pp.plot(q,boson, color=sns.xkcd_rgb['pale red'])\n",
    "pp.plot(q,total, color=sns.xkcd_rgb['denim blue'])\n",
    "#pp.legend(loc='lower left', fontsize=11)\n",
    "pp.xscale('log')\n",
    "pp.xlim(1e-4,1e4)\n",
    "pp.ylim(0.225,0.245)\n",
    "pp.xlabel('$Q [GeV]$')\n",
    "pp.ylabel('$\\\\sin^{2}\\\\theta_{W}(Q^{2})$')\n",
    "pp.show()"
   ]
  },
  {
   "cell_type": "code",
   "execution_count": null,
   "metadata": {
    "collapsed": false
   },
   "outputs": [],
   "source": []
  }
 ],
 "metadata": {
  "kernelspec": {
   "display_name": "Python 3",
   "language": "python",
   "name": "python3"
  },
  "language_info": {
   "codemirror_mode": {
    "name": "ipython",
    "version": 3
   },
   "file_extension": ".py",
   "mimetype": "text/x-python",
   "name": "python",
   "nbconvert_exporter": "python",
   "pygments_lexer": "ipython3",
   "version": "3.5.3"
  }
 },
 "nbformat": 4,
 "nbformat_minor": 0
}
