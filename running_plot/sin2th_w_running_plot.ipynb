{
 "cells": [
  {
   "cell_type": "markdown",
   "metadata": {},
   "source": [
    "# $\\sin^{2}(\\theta_{W})$ Running Plot\n",
    "\n",
    "Kurtis Bartlett\n",
    "\n",
    "2017/3/15\n",
    "\n",
    "Ipython notebook for generating the Marciano $\\sin^{2}(\\theta_{W})$ running with $Q^{2}$ plot.\n",
    "\n",
    "Ref: A. Czarnecki and W. J. Marciano, Polarized Moller Scattering Asymmetries, Int. J. Modern Phys. A15, 2365 (2000)"
   ]
  },
  {
   "cell_type": "code",
   "execution_count": 1,
   "metadata": {
    "collapsed": false
   },
   "outputs": [
    {
     "name": "stderr",
     "output_type": "stream",
     "text": [
      ":0: FutureWarning: IPython widgets are experimental and may change in the future.\n"
     ]
    }
   ],
   "source": [
    "# Import necessary packages and modules\n",
    "import numpy as np\n",
    "import pandas as pd\n",
    "import matplotlib.pyplot as pp\n",
    "import seaborn as sns"
   ]
  },
  {
   "cell_type": "code",
   "execution_count": 3,
   "metadata": {
    "collapsed": true
   },
   "outputs": [],
   "source": [
    "# Use text and computer modern for text formating\n",
    "pp.rcParams[\"text.usetex\"] = \"True\"\n",
    "pp.rcParams[\"font.family\"] = \"serif\"\n",
    "pp.rcParams[\"font.serif\"] = \"Computer Modern Roman\"\n",
    "pp.rcParams[\"font.sans-serif\"] = \"Computer Modern Sans serif\""
   ]
  },
  {
   "cell_type": "code",
   "execution_count": 4,
   "metadata": {
    "collapsed": true
   },
   "outputs": [],
   "source": [
    "# Keep matplotlib plots inline\n",
    "%matplotlib inline"
   ]
  },
  {
   "cell_type": "code",
   "execution_count": 5,
   "metadata": {
    "collapsed": true
   },
   "outputs": [],
   "source": [
    "pp.style.use('seaborn-white')\n",
    "sns.set_palette(\"muted\")\n",
    "plot_size = 6*np.array([1.0,(2.0/(1.0+np.sqrt(5.0)))]) #Use Golden ratio as aspect ratio for plots"
   ]
  },
  {
   "cell_type": "code",
   "execution_count": 40,
   "metadata": {
    "collapsed": true
   },
   "outputs": [],
   "source": [
    "# Constants\n",
    "pi = np.pi\n",
    "alpha = 1/137.035999139 # Fine structure constant Ref: PDG 2016\n",
    "sin2thetaw = 0.22336 # On-shell (tree level) SM value of sin^2(theta_w) Ref: PDG 2016\n",
    "cos2thetaw = 0.77664 # On-shell (tree level) SM value of cos^2(theta_w) calculated from sin2theta_w\n",
    "sin2thetawmzmsb = 0.23129 # Value of sin^2(theta_w) evaluated at the Z-pole. Ref: PDG 2016\n",
    "\n",
    "mw = 80.385 # Mass of W^{+-} boson [GeV/c^2] Ref: PDG 2016"
   ]
  },
  {
   "cell_type": "code",
   "execution_count": 41,
   "metadata": {
    "collapsed": false
   },
   "outputs": [],
   "source": [
    "# Define functions\n",
    "def kappa_f(qq):\n",
    "    'Fermion Loop Function'\n",
    "    return 1.0\n",
    "\n",
    "def kappa_b(qq):\n",
    "    'Boson Loop Function'\n",
    "    one_vec = np.ones(len(qq))\n",
    "    \n",
    "    z = (mw*mw*one_vec)/qq\n",
    "    p = np.sqrt(one_vec + 4.0*z)\n",
    "    \n",
    "    term_one = ((-42.0*cos2thetaw + 1.0)/(12.0))*np.log(cos2thetaw)*one_vec\n",
    "    \n",
    "    term_two = (1.0/18.0)*one_vec\n",
    "    \n",
    "    term_three = (-0.5*one_vec*p*np.log((p + one_vec)/(p - one_vec))-one_vec)*(cos2thetaw*(7.0*one_vec-4.0*z) + (1.0/6.0)*one_vec*(one_vec + 4.0*z))\n",
    "    \n",
    "    term_four = -1.0*one_vec*z*((3.0/4.0)*one_vec - z + (z - (3.0/2.0)*one_vec)*p*np.log((p+one_vec)/(p-one_vec)) + z*(2.0*one_vec - z)*np.log((p + one_vec)/(p - one_vec))*np.log((p + one_vec)/(p - one_vec)))\n",
    "    \n",
    "    kappa = one_vec - ((alpha)/(2.0*pi*sin2thetaw))*one_vec*(term_one + term_two + term_three + term_four)\n",
    "    return kappa\n",
    "\n",
    "def sin2theta_w(qq):\n",
    "    return 1.0"
   ]
  },
  {
   "cell_type": "code",
   "execution_count": 53,
   "metadata": {
    "collapsed": false
   },
   "outputs": [],
   "source": [
    "q = np.arange(1e-4,1e4)"
   ]
  },
  {
   "cell_type": "code",
   "execution_count": null,
   "metadata": {
    "collapsed": false
   },
   "outputs": [],
   "source": []
  },
  {
   "cell_type": "code",
   "execution_count": 54,
   "metadata": {
    "collapsed": false
   },
   "outputs": [],
   "source": [
    "boson = kappa_b(q*q)*sin2thetawmzmsb"
   ]
  },
  {
   "cell_type": "code",
   "execution_count": 57,
   "metadata": {
    "collapsed": false
   },
   "outputs": [
    {
     "data": {
      "image/png": "[encoded data removed]",
      "text/plain": [
       "<matplotlib.figure.Figure at 0x7fbba3cb7940>"
      ]
     },
     "metadata": {},
     "output_type": "display_data"
    }
   ],
   "source": [
    "pp.figure(figsize=plot_size)\n",
    "pp.plot(q, boson)\n",
    "pp.xscale('log')\n",
    "pp.xlabel('Q [GeV]')\n",
    "pp.ylabel('$\\\\sin^{2}\\\\theta_{W}(Q^{2})$')\n",
    "pp.show()"
   ]
  },
  {
   "cell_type": "code",
   "execution_count": null,
   "metadata": {
    "collapsed": true
   },
   "outputs": [],
   "source": []
  }
 ],
 "metadata": {
  "kernelspec": {
   "display_name": "Python 3",
   "language": "python",
   "name": "python3"
  },
  "language_info": {
   "codemirror_mode": {
    "name": "ipython",
    "version": 3
   },
   "file_extension": ".py",
   "mimetype": "text/x-python",
   "name": "python",
   "nbconvert_exporter": "python",
   "pygments_lexer": "ipython3",
   "version": "3.5.2"
  }
 },
 "nbformat": 4,
 "nbformat_minor": 0
}
